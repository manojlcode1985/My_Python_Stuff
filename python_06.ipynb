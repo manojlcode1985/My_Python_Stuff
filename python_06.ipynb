{
 "cells": [
  {
   "cell_type": "code",
   "execution_count": null,
   "metadata": {},
   "outputs": [],
   "source": [
    "# Topics\n",
    "\n",
    "# What Object Oriented Programming is?\n",
    "# Abstraction\n",
    "# Encapsulation\n",
    "# Create classess and instances\n",
    "# Attach methods and properties to each\n",
    "# We will learn to define our own types\n"
   ]
  },
  {
   "cell_type": "code",
   "execution_count": null,
   "metadata": {},
   "outputs": [],
   "source": [
    "# Note: Everything in this section is important\n",
    "\n",
    "# OOP is not just rote memorization\n",
    "# Its a new way of thinking on how we write our code"
   ]
  },
  {
   "cell_type": "code",
   "execution_count": null,
   "metadata": {},
   "outputs": [],
   "source": [
    "# Object Oriented Programming is a method of programming\n",
    "# that attempts to model some process or thing in the world as\n",
    "# a class or object\n",
    "\n",
    "# Class - Its a blueprint for objects\n",
    "# Class can contain methods (functions) and attributes (similar to keys in dict)\n",
    "\n",
    "# Instance - Objects that are constructed from a class blueprint\n",
    "# that contain their class's methods and properties"
   ]
  },
  {
   "cell_type": "code",
   "execution_count": 1,
   "metadata": {},
   "outputs": [
    {
     "name": "stdout",
     "output_type": "stream",
     "text": [
      "Help on class int in module builtins:\n",
      "\n",
      "class int(object)\n",
      " |  int([x]) -> integer\n",
      " |  int(x, base=10) -> integer\n",
      " |  \n",
      " |  Convert a number or string to an integer, or return 0 if no arguments\n",
      " |  are given.  If x is a number, return x.__int__().  For floating point\n",
      " |  numbers, this truncates towards zero.\n",
      " |  \n",
      " |  If x is not a number or if base is given, then x must be a string,\n",
      " |  bytes, or bytearray instance representing an integer literal in the\n",
      " |  given base.  The literal can be preceded by '+' or '-' and be surrounded\n",
      " |  by whitespace.  The base defaults to 10.  Valid bases are 0 and 2-36.\n",
      " |  Base 0 means to interpret the base from the string as an integer literal.\n",
      " |  >>> int('0b100', base=0)\n",
      " |  4\n",
      " |  \n",
      " |  Methods defined here:\n",
      " |  \n",
      " |  __abs__(self, /)\n",
      " |      abs(self)\n",
      " |  \n",
      " |  __add__(self, value, /)\n",
      " |      Return self+value.\n",
      " |  \n",
      " |  __and__(self, value, /)\n",
      " |      Return self&value.\n",
      " |  \n",
      " |  __bool__(self, /)\n",
      " |      self != 0\n",
      " |  \n",
      " |  __ceil__(...)\n",
      " |      Ceiling of an Integral returns itself.\n",
      " |  \n",
      " |  __divmod__(self, value, /)\n",
      " |      Return divmod(self, value).\n",
      " |  \n",
      " |  __eq__(self, value, /)\n",
      " |      Return self==value.\n",
      " |  \n",
      " |  __float__(self, /)\n",
      " |      float(self)\n",
      " |  \n",
      " |  __floor__(...)\n",
      " |      Flooring an Integral returns itself.\n",
      " |  \n",
      " |  __floordiv__(self, value, /)\n",
      " |      Return self//value.\n",
      " |  \n",
      " |  __format__(self, format_spec, /)\n",
      " |      Default object formatter.\n",
      " |  \n",
      " |  __ge__(self, value, /)\n",
      " |      Return self>=value.\n",
      " |  \n",
      " |  __getattribute__(self, name, /)\n",
      " |      Return getattr(self, name).\n",
      " |  \n",
      " |  __getnewargs__(self, /)\n",
      " |  \n",
      " |  __gt__(self, value, /)\n",
      " |      Return self>value.\n",
      " |  \n",
      " |  __hash__(self, /)\n",
      " |      Return hash(self).\n",
      " |  \n",
      " |  __index__(self, /)\n",
      " |      Return self converted to an integer, if self is suitable for use as an index into a list.\n",
      " |  \n",
      " |  __int__(self, /)\n",
      " |      int(self)\n",
      " |  \n",
      " |  __invert__(self, /)\n",
      " |      ~self\n",
      " |  \n",
      " |  __le__(self, value, /)\n",
      " |      Return self<=value.\n",
      " |  \n",
      " |  __lshift__(self, value, /)\n",
      " |      Return self<<value.\n",
      " |  \n",
      " |  __lt__(self, value, /)\n",
      " |      Return self<value.\n",
      " |  \n",
      " |  __mod__(self, value, /)\n",
      " |      Return self%value.\n",
      " |  \n",
      " |  __mul__(self, value, /)\n",
      " |      Return self*value.\n",
      " |  \n",
      " |  __ne__(self, value, /)\n",
      " |      Return self!=value.\n",
      " |  \n",
      " |  __neg__(self, /)\n",
      " |      -self\n",
      " |  \n",
      " |  __or__(self, value, /)\n",
      " |      Return self|value.\n",
      " |  \n",
      " |  __pos__(self, /)\n",
      " |      +self\n",
      " |  \n",
      " |  __pow__(self, value, mod=None, /)\n",
      " |      Return pow(self, value, mod).\n",
      " |  \n",
      " |  __radd__(self, value, /)\n",
      " |      Return value+self.\n",
      " |  \n",
      " |  __rand__(self, value, /)\n",
      " |      Return value&self.\n",
      " |  \n",
      " |  __rdivmod__(self, value, /)\n",
      " |      Return divmod(value, self).\n",
      " |  \n",
      " |  __repr__(self, /)\n",
      " |      Return repr(self).\n",
      " |  \n",
      " |  __rfloordiv__(self, value, /)\n",
      " |      Return value//self.\n",
      " |  \n",
      " |  __rlshift__(self, value, /)\n",
      " |      Return value<<self.\n",
      " |  \n",
      " |  __rmod__(self, value, /)\n",
      " |      Return value%self.\n",
      " |  \n",
      " |  __rmul__(self, value, /)\n",
      " |      Return value*self.\n",
      " |  \n",
      " |  __ror__(self, value, /)\n",
      " |      Return value|self.\n",
      " |  \n",
      " |  __round__(...)\n",
      " |      Rounding an Integral returns itself.\n",
      " |      Rounding with an ndigits argument also returns an integer.\n",
      " |  \n",
      " |  __rpow__(self, value, mod=None, /)\n",
      " |      Return pow(value, self, mod).\n",
      " |  \n",
      " |  __rrshift__(self, value, /)\n",
      " |      Return value>>self.\n",
      " |  \n",
      " |  __rshift__(self, value, /)\n",
      " |      Return self>>value.\n",
      " |  \n",
      " |  __rsub__(self, value, /)\n",
      " |      Return value-self.\n",
      " |  \n",
      " |  __rtruediv__(self, value, /)\n",
      " |      Return value/self.\n",
      " |  \n",
      " |  __rxor__(self, value, /)\n",
      " |      Return value^self.\n",
      " |  \n",
      " |  __sizeof__(self, /)\n",
      " |      Returns size in memory, in bytes.\n",
      " |  \n",
      " |  __str__(self, /)\n",
      " |      Return str(self).\n",
      " |  \n",
      " |  __sub__(self, value, /)\n",
      " |      Return self-value.\n",
      " |  \n",
      " |  __truediv__(self, value, /)\n",
      " |      Return self/value.\n",
      " |  \n",
      " |  __trunc__(...)\n",
      " |      Truncating an Integral returns itself.\n",
      " |  \n",
      " |  __xor__(self, value, /)\n",
      " |      Return self^value.\n",
      " |  \n",
      " |  bit_length(self, /)\n",
      " |      Number of bits necessary to represent self in binary.\n",
      " |      \n",
      " |      >>> bin(37)\n",
      " |      '0b100101'\n",
      " |      >>> (37).bit_length()\n",
      " |      6\n",
      " |  \n",
      " |  conjugate(...)\n",
      " |      Returns self, the complex conjugate of any int.\n",
      " |  \n",
      " |  to_bytes(self, /, length, byteorder, *, signed=False)\n",
      " |      Return an array of bytes representing an integer.\n",
      " |      \n",
      " |      length\n",
      " |        Length of bytes object to use.  An OverflowError is raised if the\n",
      " |        integer is not representable with the given number of bytes.\n",
      " |      byteorder\n",
      " |        The byte order used to represent the integer.  If byteorder is 'big',\n",
      " |        the most significant byte is at the beginning of the byte array.  If\n",
      " |        byteorder is 'little', the most significant byte is at the end of the\n",
      " |        byte array.  To request the native byte order of the host system, use\n",
      " |        `sys.byteorder' as the byte order value.\n",
      " |      signed\n",
      " |        Determines whether two's complement is used to represent the integer.\n",
      " |        If signed is False and a negative integer is given, an OverflowError\n",
      " |        is raised.\n",
      " |  \n",
      " |  ----------------------------------------------------------------------\n",
      " |  Class methods defined here:\n",
      " |  \n",
      " |  from_bytes(bytes, byteorder, *, signed=False) from builtins.type\n",
      " |      Return the integer represented by the given array of bytes.\n",
      " |      \n",
      " |      bytes\n",
      " |        Holds the array of bytes to convert.  The argument must either\n",
      " |        support the buffer protocol or be an iterable object producing bytes.\n",
      " |        Bytes and bytearray are examples of built-in objects that support the\n",
      " |        buffer protocol.\n",
      " |      byteorder\n",
      " |        The byte order used to represent the integer.  If byteorder is 'big',\n",
      " |        the most significant byte is at the beginning of the byte array.  If\n",
      " |        byteorder is 'little', the most significant byte is at the end of the\n",
      " |        byte array.  To request the native byte order of the host system, use\n",
      " |        `sys.byteorder' as the byte order value.\n",
      " |      signed\n",
      " |        Indicates whether two's complement is used to represent the integer.\n",
      " |  \n",
      " |  ----------------------------------------------------------------------\n",
      " |  Static methods defined here:\n",
      " |  \n",
      " |  __new__(*args, **kwargs) from builtins.type\n",
      " |      Create and return a new object.  See help(type) for accurate signature.\n",
      " |  \n",
      " |  ----------------------------------------------------------------------\n",
      " |  Data descriptors defined here:\n",
      " |  \n",
      " |  denominator\n",
      " |      the denominator of a rational number in lowest terms\n",
      " |  \n",
      " |  imag\n",
      " |      the imaginary part of a complex number\n",
      " |  \n",
      " |  numerator\n",
      " |      the numerator of a rational number in lowest terms\n",
      " |  \n",
      " |  real\n",
      " |      the real part of a complex number\n",
      "\n"
     ]
    }
   ],
   "source": [
    "# eg.\n",
    "# Every int or list or dict etc\n",
    "# comes with a list of methods\n",
    "\n",
    "help(int)\n",
    "\n"
   ]
  },
  {
   "cell_type": "code",
   "execution_count": 2,
   "metadata": {
    "scrolled": true
   },
   "outputs": [
    {
     "name": "stdout",
     "output_type": "stream",
     "text": [
      "<class 'int'>\n",
      "<class 'list'>\n"
     ]
    }
   ],
   "source": [
    "# eg.int or list are the classes or blueprint\n",
    "# From this blueprint we create many instances\n",
    "# a, b are instances of that blue print\n",
    "\n",
    "a = 5\n",
    "b = [1,2,3,4,5]\n",
    "\n",
    "print(type(a))\n",
    "print(type(b))"
   ]
  },
  {
   "cell_type": "code",
   "execution_count": 7,
   "metadata": {},
   "outputs": [
    {
     "name": "stdout",
     "output_type": "stream",
     "text": [
      "True\n",
      "False\n",
      "True\n"
     ]
    }
   ],
   "source": [
    "print(isinstance(a,int))\n",
    "print(isinstance(int,int))\n",
    "print(isinstance(int,type))"
   ]
  },
  {
   "cell_type": "code",
   "execution_count": null,
   "metadata": {},
   "outputs": [],
   "source": [
    "# Why OOP?\n",
    "\n",
    "# OOP is just about how we structure things and organise\n",
    "# Its really a human way of thinking and classifing things\n",
    "\n",
    "# With OOP, the goal is to encapsulate your code into \n",
    "# Logical, Hierarchical groupings using classes\n",
    "# So that you can reason about your code at higher level\n",
    "\n",
    "# eg. Animal classification\n",
    "# Domain\n",
    "# Kingdom\n",
    "# Phylum\n",
    "# Class\n",
    "# Order\n",
    "# Family\n",
    "# Genus\n",
    "# Species\n",
    "\n",
    "# Here out of million of species, we classify them into \n",
    "# smaller and more manageable groups\n",
    "# This can be achived through Inheritance\n",
    "# We can link classes to other classes that are related\n",
    "\n",
    "# another eg.\n",
    "# Model of game of Poker\n",
    "# Game\n",
    "# Player\n",
    "# Card\n",
    "# Deck\n",
    "# Hand\n",
    "# Chip\n",
    "# Bet"
   ]
  },
  {
   "cell_type": "code",
   "execution_count": null,
   "metadata": {},
   "outputs": [],
   "source": [
    "# Encapsulation (Grouping)\n",
    "# It refers to grouping of public and private attributes and methods\n",
    "# into a programatic class, making Abstraction possible\n",
    "\n",
    "# Abstraction is related to Encapsulation\n",
    "# Abstraction is exposing only 'relevant' data in a class interface\n",
    "# hiding private attributes and methods from users\n",
    "# We should hide the inner workings from user\n",
    "# In other words, expose minimum to outside world\n",
    "\n",
    "# eg. Steering Wheel\n",
    "# User doesnt know the inner workings of the wheel\n",
    "# He just knows, to turn left or right\n",
    "\n",
    "\n",
    "# When we are modeling a Deck of cards\n",
    "# We need to think about,\n",
    "# 1. What are the possibile things a Deck should have (attributes)\n",
    "# 2. What are the things it should be able to do (methods)\n",
    "\n",
    "# Python doesnt support true private attributes or methods\n",
    "# In python everything is Public\n",
    "# We indicate private fields with and _ eg. _cards, _count()\n",
    "# So anything that is indicated as private (with an underscore)\n",
    "# It is supposed to be used inside of that class and not outside\n"
   ]
  },
  {
   "cell_type": "code",
   "execution_count": 3,
   "metadata": {},
   "outputs": [
    {
     "name": "stdout",
     "output_type": "stream",
     "text": [
      "<__main__.User object at 0x000002181D58FC88>\n",
      "<class '__main__.User'>\n"
     ]
    }
   ],
   "source": [
    "# Creating Classes and Instances\n",
    "# class names are singluar and we use CamelCase (snake_case for variables)\n",
    "\n",
    "# This is a simple class\n",
    "class User:\n",
    "    pass\n",
    "\n",
    "# Instance of the User\n",
    "user1 = User()\n",
    "\n",
    "print(user1)  # This is empty\n",
    "print(type(user1))  # Type of User"
   ]
  },
  {
   "cell_type": "code",
   "execution_count": null,
   "metadata": {},
   "outputs": [],
   "source": [
    "# The __init__ method\n",
    "\n",
    "# In the above eg, we created a User class\n",
    "# Now how to give user its attibutes\n",
    "# For initialization, we use __init__ method\n",
    "\n",
    "# There are few cases where we define a class\n",
    "# that holds only methods and no data\n",
    "# You would'nt need an __init__ method in that case(rare!!)\n"
   ]
  },
  {
   "cell_type": "code",
   "execution_count": 8,
   "metadata": {},
   "outputs": [
    {
     "name": "stdout",
     "output_type": "stream",
     "text": [
      "New user created <__main__.User object at 0x000002181D6CC6D8>\n",
      "New user created <__main__.User object at 0x000002181D6CC390>\n",
      "New user created <__main__.User object at 0x000002181D62EF28>\n"
     ]
    }
   ],
   "source": [
    "# What is __init__ method\n",
    "\n",
    "# These __init__ methods are special\n",
    "# It gets called everytime you create an instance of class(instantiate)\n",
    "\n",
    "# eg.\n",
    "\n",
    "class User:\n",
    "    def __init__(self):\n",
    "        print('New user created',self)\n",
    "        \n",
    "user1 = User()\n",
    "user2 = User()\n",
    "user3 = User()\n",
    "\n",
    "# Here we are not calling __init__ method\n",
    "# Still the print statements are executed\n",
    "# each self is created in new address space"
   ]
  },
  {
   "cell_type": "code",
   "execution_count": 11,
   "metadata": {},
   "outputs": [
    {
     "ename": "TypeError",
     "evalue": "display() takes 0 positional arguments but 1 was given",
     "output_type": "error",
     "traceback": [
      "\u001b[1;31m---------------------------------------------------------------------------\u001b[0m",
      "\u001b[1;31mTypeError\u001b[0m                                 Traceback (most recent call last)",
      "\u001b[1;32m<ipython-input-11-c6f33b71b9a7>\u001b[0m in \u001b[0;36m<module>\u001b[1;34m\u001b[0m\n\u001b[0;32m     19\u001b[0m \u001b[0muser3\u001b[0m \u001b[1;33m=\u001b[0m \u001b[0mUser\u001b[0m\u001b[1;33m(\u001b[0m\u001b[1;34m'Kushaal'\u001b[0m\u001b[1;33m,\u001b[0m \u001b[1;34m'Manoj'\u001b[0m\u001b[1;33m)\u001b[0m\u001b[1;33m\u001b[0m\u001b[1;33m\u001b[0m\u001b[0m\n\u001b[0;32m     20\u001b[0m \u001b[1;33m\u001b[0m\u001b[0m\n\u001b[1;32m---> 21\u001b[1;33m \u001b[0muser1\u001b[0m\u001b[1;33m.\u001b[0m\u001b[0mdisplay\u001b[0m\u001b[1;33m(\u001b[0m\u001b[1;33m)\u001b[0m\u001b[1;33m\u001b[0m\u001b[1;33m\u001b[0m\u001b[0m\n\u001b[0m\u001b[0;32m     22\u001b[0m \u001b[0muser2\u001b[0m\u001b[1;33m.\u001b[0m\u001b[0mdisplay\u001b[0m\u001b[1;33m(\u001b[0m\u001b[1;33m)\u001b[0m\u001b[1;33m\u001b[0m\u001b[1;33m\u001b[0m\u001b[0m\n\u001b[0;32m     23\u001b[0m \u001b[0muser3\u001b[0m\u001b[1;33m.\u001b[0m\u001b[0mdisplay\u001b[0m\u001b[1;33m(\u001b[0m\u001b[1;33m)\u001b[0m\u001b[1;33m\u001b[0m\u001b[1;33m\u001b[0m\u001b[0m\n",
      "\u001b[1;31mTypeError\u001b[0m: display() takes 0 positional arguments but 1 was given"
     ]
    }
   ],
   "source": [
    "# Usually we will not use __init__ to print statements\n",
    "# Its is basically used to intilialize the object\n",
    "# Self: refers to the specific instance ot the User class\n",
    "# It helps us to distingush between user1, user2 and user3\n",
    "\n",
    "class User:\n",
    "    def __init__(self, first, last, age=''):\n",
    "        self.first = first\n",
    "        self.last = last\n",
    "        self.age = age\n",
    "        \n",
    "    def display():\n",
    "        print(f'First Name = {first}')\n",
    "        print(f'Last Name = {last}')\n",
    "        print(f'Age = {age}')\n",
    "        \n",
    "user1 = User('Manoj', 'Lingaiah', '33')\n",
    "user2 = User('Neeraj', 'Lingaiah', '30')\n",
    "user3 = User('Kushaal', 'Manoj')\n",
    "\n",
    "user1.display()\n",
    "user2.display()\n",
    "user3.display()"
   ]
  },
  {
   "cell_type": "code",
   "execution_count": 1,
   "metadata": {},
   "outputs": [
    {
     "ename": "NameError",
     "evalue": "name 'first' is not defined",
     "output_type": "error",
     "traceback": [
      "\u001b[1;31m---------------------------------------------------------------------------\u001b[0m",
      "\u001b[1;31mNameError\u001b[0m                                 Traceback (most recent call last)",
      "\u001b[1;32m<ipython-input-1-325a57dfe421>\u001b[0m in \u001b[0;36m<module>\u001b[1;34m\u001b[0m\n\u001b[0;32m     16\u001b[0m \u001b[0muser3\u001b[0m \u001b[1;33m=\u001b[0m \u001b[0mUser\u001b[0m\u001b[1;33m(\u001b[0m\u001b[1;34m'Kushaal'\u001b[0m\u001b[1;33m,\u001b[0m \u001b[1;34m'Manoj'\u001b[0m\u001b[1;33m)\u001b[0m\u001b[1;33m\u001b[0m\u001b[1;33m\u001b[0m\u001b[0m\n\u001b[0;32m     17\u001b[0m \u001b[1;33m\u001b[0m\u001b[0m\n\u001b[1;32m---> 18\u001b[1;33m \u001b[0muser1\u001b[0m\u001b[1;33m.\u001b[0m\u001b[0mdisplay\u001b[0m\u001b[1;33m(\u001b[0m\u001b[1;33m)\u001b[0m\u001b[1;33m\u001b[0m\u001b[1;33m\u001b[0m\u001b[0m\n\u001b[0m\u001b[0;32m     19\u001b[0m \u001b[0muser2\u001b[0m\u001b[1;33m.\u001b[0m\u001b[0mdisplay\u001b[0m\u001b[1;33m(\u001b[0m\u001b[1;33m)\u001b[0m\u001b[1;33m\u001b[0m\u001b[1;33m\u001b[0m\u001b[0m\n\u001b[0;32m     20\u001b[0m \u001b[0muser3\u001b[0m\u001b[1;33m.\u001b[0m\u001b[0mdisplay\u001b[0m\u001b[1;33m(\u001b[0m\u001b[1;33m)\u001b[0m\u001b[1;33m\u001b[0m\u001b[1;33m\u001b[0m\u001b[0m\n",
      "\u001b[1;32m<ipython-input-1-325a57dfe421>\u001b[0m in \u001b[0;36mdisplay\u001b[1;34m(self)\u001b[0m\n\u001b[0;32m      8\u001b[0m \u001b[1;33m\u001b[0m\u001b[0m\n\u001b[0;32m      9\u001b[0m     \u001b[1;32mdef\u001b[0m \u001b[0mdisplay\u001b[0m\u001b[1;33m(\u001b[0m\u001b[0mself\u001b[0m\u001b[1;33m)\u001b[0m\u001b[1;33m:\u001b[0m   \u001b[1;31m# added self\u001b[0m\u001b[1;33m\u001b[0m\u001b[1;33m\u001b[0m\u001b[0m\n\u001b[1;32m---> 10\u001b[1;33m         \u001b[0mprint\u001b[0m\u001b[1;33m(\u001b[0m\u001b[1;34mf'First Name = {first}'\u001b[0m\u001b[1;33m)\u001b[0m\u001b[1;33m\u001b[0m\u001b[1;33m\u001b[0m\u001b[0m\n\u001b[0m\u001b[0;32m     11\u001b[0m         \u001b[0mprint\u001b[0m\u001b[1;33m(\u001b[0m\u001b[1;34mf'Last Name = {last}'\u001b[0m\u001b[1;33m)\u001b[0m\u001b[1;33m\u001b[0m\u001b[1;33m\u001b[0m\u001b[0m\n\u001b[0;32m     12\u001b[0m         \u001b[0mprint\u001b[0m\u001b[1;33m(\u001b[0m\u001b[1;34mf'Age = {age}'\u001b[0m\u001b[1;33m)\u001b[0m\u001b[1;33m\u001b[0m\u001b[1;33m\u001b[0m\u001b[0m\n",
      "\u001b[1;31mNameError\u001b[0m: name 'first' is not defined"
     ]
    }
   ],
   "source": [
    "# In the above error, we see that display is expecting self argument\n",
    "\n",
    "class User:\n",
    "    def __init__(self, first, last, age=''):\n",
    "        self.first = first\n",
    "        self.last = last\n",
    "        self.age = age\n",
    "        \n",
    "    def display(self):   # added self\n",
    "        print(f'First Name = {first}')\n",
    "        print(f'Last Name = {last}')\n",
    "        print(f'Age = {age}')\n",
    "        \n",
    "user1 = User('Manoj', 'Lingaiah', '33')\n",
    "user2 = User('Neeraj', 'Lingaiah', '30')\n",
    "user3 = User('Kushaal', 'Manoj')\n",
    "\n",
    "user1.display()\n",
    "user2.display()\n",
    "user3.display()"
   ]
  },
  {
   "cell_type": "code",
   "execution_count": 23,
   "metadata": {},
   "outputs": [
    {
     "name": "stdout",
     "output_type": "stream",
     "text": [
      "Address of self =  <__main__.User object at 0x000002181D601160>\n",
      "Address of self =  <__main__.User object at 0x000002181D601048>\n",
      "Address of self =  <__main__.User object at 0x000002181D6B41D0>\n",
      "First Name = Manoj\n",
      "Last Name = Lingaiah\n",
      "Age = 33\n",
      "First Name = Neeraj\n",
      "Last Name = Lingaiah\n",
      "Age = 30\n",
      "First Name = Kushaal\n",
      "Last Name = Manoj\n",
      "Age = \n"
     ]
    }
   ],
   "source": [
    "# Now we got first not defined.\n",
    "# We need to access first using 'self'\n",
    "\n",
    "\n",
    "class User:\n",
    "    def __init__(self, first, last, age=''):\n",
    "        self.first = first\n",
    "        self.last = last\n",
    "        self.age = age\n",
    "        print('Address of self = ',self)\n",
    "        \n",
    "    def display(self):\n",
    "        print(f'First Name = {self.first}')  # added self\n",
    "        print(f'Last Name = {self.last}')\n",
    "        print(f'Age = {self.age}')\n",
    "        \n",
    "user1 = User('Manoj', 'Lingaiah', '33')\n",
    "user2 = User('Neeraj', 'Lingaiah', '30')\n",
    "user3 = User('Kushaal', 'Manoj')\n",
    "\n",
    "user1.display()\n",
    "user2.display()\n",
    "user3.display()\n",
    "\n",
    "# Now its working"
   ]
  },
  {
   "cell_type": "code",
   "execution_count": 24,
   "metadata": {},
   "outputs": [
    {
     "name": "stdout",
     "output_type": "stream",
     "text": [
      "Manoj\n",
      "30\n",
      "Lingaiah\n"
     ]
    }
   ],
   "source": [
    "# We can also direclty access first name, last name using objects\n",
    "print(user1.first)\n",
    "print(user2.age)\n",
    "print(user2.last)"
   ]
  },
  {
   "cell_type": "code",
   "execution_count": 25,
   "metadata": {},
   "outputs": [
    {
     "name": "stdout",
     "output_type": "stream",
     "text": [
      "<__main__.User object at 0x000002181D601160>\n",
      "<__main__.User object at 0x000002181D601048>\n",
      "<__main__.User object at 0x000002181D6B41D0>\n"
     ]
    }
   ],
   "source": [
    "print(user1)\n",
    "print(user2)\n",
    "print(user3)"
   ]
  },
  {
   "cell_type": "code",
   "execution_count": null,
   "metadata": {},
   "outputs": [],
   "source": [
    "# Note: If you see the above memory addresses of objects and its self\n",
    "# Both are same\n",
    "\n",
    "# Therefore self refers to the current instance of the class\n",
    "# And self must be the first parameter in __init__\n",
    "# and also it should be the first parameter in all\n",
    "# methods and properties on class instances.\n"
   ]
  },
  {
   "cell_type": "code",
   "execution_count": null,
   "metadata": {},
   "outputs": [],
   "source": [
    "# Underscores, Dunder Methods, Name Mangling\n",
    "\n",
    "# What is the difference between\n",
    "# _name\n",
    "# __name\n",
    "# __name__"
   ]
  },
  {
   "cell_type": "code",
   "execution_count": null,
   "metadata": {},
   "outputs": [],
   "source": [
    "# Dunder methods\n",
    "# Its not good to use dunder methods like __hello__()\n",
    "# Its usually used to overriding something that exists in python\n",
    "\n",
    "# We use in class to override init method\n",
    "\n",
    "class Person:\n",
    "    def __init__():\n",
    "        \n",
    "    def __hello__():   # nothing wrong, but we should not use it"
   ]
  },
  {
   "cell_type": "code",
   "execution_count": 26,
   "metadata": {},
   "outputs": [
    {
     "name": "stdout",
     "output_type": "stream",
     "text": [
      "Tony\n",
      "Iron Man\n"
     ]
    }
   ],
   "source": [
    "# single Underscore variables\n",
    "# There is no difference b/w them in python\n",
    "# Its just a naming convention to indicate its a private varibable\n",
    "# We should use it within the class\n",
    "\n",
    "class Person:\n",
    "    def __init__(self):\n",
    "        self.name = 'Tony'\n",
    "        self._secret = 'Iron Man'\n",
    "\n",
    "p = Person()\n",
    "print(p.name)\n",
    "print(p._secret)"
   ]
  },
  {
   "cell_type": "code",
   "execution_count": 27,
   "metadata": {},
   "outputs": [
    {
     "name": "stdout",
     "output_type": "stream",
     "text": [
      "Tony\n",
      "Iron Man\n"
     ]
    },
    {
     "ename": "AttributeError",
     "evalue": "'Person' object has no attribute '__msg'",
     "output_type": "error",
     "traceback": [
      "\u001b[1;31m---------------------------------------------------------------------------\u001b[0m",
      "\u001b[1;31mAttributeError\u001b[0m                            Traceback (most recent call last)",
      "\u001b[1;32m<ipython-input-27-3d612f85416a>\u001b[0m in \u001b[0;36m<module>\u001b[1;34m\u001b[0m\n\u001b[0;32m     10\u001b[0m \u001b[0mprint\u001b[0m\u001b[1;33m(\u001b[0m\u001b[0mp\u001b[0m\u001b[1;33m.\u001b[0m\u001b[0mname\u001b[0m\u001b[1;33m)\u001b[0m\u001b[1;33m\u001b[0m\u001b[1;33m\u001b[0m\u001b[0m\n\u001b[0;32m     11\u001b[0m \u001b[0mprint\u001b[0m\u001b[1;33m(\u001b[0m\u001b[0mp\u001b[0m\u001b[1;33m.\u001b[0m\u001b[0m_secret\u001b[0m\u001b[1;33m)\u001b[0m\u001b[1;33m\u001b[0m\u001b[1;33m\u001b[0m\u001b[0m\n\u001b[1;32m---> 12\u001b[1;33m \u001b[0mprint\u001b[0m\u001b[1;33m(\u001b[0m\u001b[0mp\u001b[0m\u001b[1;33m.\u001b[0m\u001b[0m__msg\u001b[0m\u001b[1;33m)\u001b[0m\u001b[1;33m\u001b[0m\u001b[1;33m\u001b[0m\u001b[0m\n\u001b[0m",
      "\u001b[1;31mAttributeError\u001b[0m: 'Person' object has no attribute '__msg'"
     ]
    }
   ],
   "source": [
    "# double Underscore variables\n",
    "\n",
    "class Person:\n",
    "    def __init__(self):\n",
    "        self.name = 'Tony'\n",
    "        self._secret = 'Iron Man'\n",
    "        self.__msg = 'Double Underscore!!'\n",
    "\n",
    "p = Person()\n",
    "print(p.name)\n",
    "print(p._secret)\n",
    "print(p.__msg)\n"
   ]
  },
  {
   "cell_type": "code",
   "execution_count": 29,
   "metadata": {},
   "outputs": [
    {
     "name": "stdout",
     "output_type": "stream",
     "text": [
      "['_Person__msg', '__class__', '__delattr__', '__dict__', '__dir__', '__doc__', '__eq__', '__format__', '__ge__', '__getattribute__', '__gt__', '__hash__', '__init__', '__init_subclass__', '__le__', '__lt__', '__module__', '__ne__', '__new__', '__reduce__', '__reduce_ex__', '__repr__', '__setattr__', '__sizeof__', '__str__', '__subclasshook__', '__weakref__', '_secret', 'name']\n"
     ]
    }
   ],
   "source": [
    "# We get error, what happening here is 'Name Mangling'\n",
    "# When we use 2 underscore behind a name\n",
    "# Python will change the name or mangle the name behind the scenes\n",
    "# Python will actually attach the class name to it\n",
    "\n",
    "print(dir(p))\n",
    "\n",
    "# We can see name, _secret but not __msg\n",
    "# Instead we see _Person__msg\n",
    "# Python has added Class name to these variables"
   ]
  },
  {
   "cell_type": "code",
   "execution_count": null,
   "metadata": {},
   "outputs": [],
   "source": [
    "# So the sole purpose is to make the attribute unique to that particular class\n",
    "# This is used in Inheritance\n",
    "# When a class inherits from another class and it has same attributes\n",
    "# and we dont want the names to get conflict and we want it to be unique\n",
    "# We use __var"
   ]
  },
  {
   "cell_type": "code",
   "execution_count": 30,
   "metadata": {},
   "outputs": [
    {
     "name": "stdout",
     "output_type": "stream",
     "text": [
      "Double Underscore!!\n"
     ]
    }
   ],
   "source": [
    "# But if you really want to print __msg\n",
    "# Use the auto converted name instead\n",
    "\n",
    "print(p._Person__msg)"
   ]
  },
  {
   "cell_type": "code",
   "execution_count": null,
   "metadata": {},
   "outputs": [],
   "source": [
    "# Instance Method and Class Method\n",
    "# How self used as first parameter in all functions\n",
    "# No need to use self when we pass paramters in\n"
   ]
  },
  {
   "cell_type": "code",
   "execution_count": 46,
   "metadata": {},
   "outputs": [
    {
     "name": "stdout",
     "output_type": "stream",
     "text": [
      "Bruce Wayne\n",
      "B.W.\n"
     ]
    }
   ],
   "source": [
    "# Instance Methods\n",
    "\n",
    "# All instance methods are written after init\n",
    "# Self is always the first parameter in all functions\n",
    "\n",
    "class User:\n",
    "    def __init__(self, first, last, age=''):\n",
    "        self.first = first\n",
    "        self.last = last\n",
    "        self.age = age\n",
    "        \n",
    "    def full_name(self):\n",
    "        print(f'{self.first} {self.last}') \n",
    "        \n",
    "    def initials(self):\n",
    "        print(f'{self.first[0]}.{self.last[0]}.')\n",
    "        \n",
    "\n",
    "user1 = User('Bruce', 'Wayne')\n",
    "user1.full_name()\n",
    "user1.initials()\n"
   ]
  },
  {
   "cell_type": "code",
   "execution_count": 48,
   "metadata": {},
   "outputs": [
    {
     "name": "stdout",
     "output_type": "stream",
     "text": [
      "Bruce Wayne\n",
      "B.W.\n",
      "Bruce likes Bats\n"
     ]
    }
   ],
   "source": [
    "# No need to use self when we pass arguments in\n",
    "# Try to understand the difference between passing arguments\n",
    "# Between instance methods and while creating object\n",
    "# eg. user1 = User('Bruce', 'Wayne') and user1.likes('Icecream')\n",
    "# one is passed to a method and another to __init__\n",
    "# one is a class name (User) and another is method name (likes)\n",
    "\n",
    "class User:\n",
    "    def __init__(self, first, last, age=''):\n",
    "        self.first = first\n",
    "        self.last = last\n",
    "        self.age = age\n",
    "        \n",
    "    def full_name(self):\n",
    "        print(f'{self.first} {self.last}') \n",
    "        \n",
    "    def initials(self):\n",
    "        print(f'{self.first[0]}.{self.last[0]}.')\n",
    "        \n",
    "    def likes(self, thing):\n",
    "        print(f'{self.first} likes {thing}')\n",
    "\n",
    "user1 = User('Bruce', 'Wayne')\n",
    "user1.full_name()\n",
    "user1.initials()\n",
    "user1.likes('Bats')\n"
   ]
  },
  {
   "cell_type": "code",
   "execution_count": null,
   "metadata": {},
   "outputs": [],
   "source": [
    "# We can actually modify the attributes\n",
    "# And each object will have its own value"
   ]
  },
  {
   "cell_type": "code",
   "execution_count": 39,
   "metadata": {},
   "outputs": [
    {
     "ename": "SyntaxError",
     "evalue": "invalid syntax (<ipython-input-39-efd7f2491dc6>, line 11)",
     "output_type": "error",
     "traceback": [
      "\u001b[1;36m  File \u001b[1;32m\"<ipython-input-39-efd7f2491dc6>\"\u001b[1;36m, line \u001b[1;32m11\u001b[0m\n\u001b[1;33m    return self.balance -= amount\u001b[0m\n\u001b[1;37m                         ^\u001b[0m\n\u001b[1;31mSyntaxError\u001b[0m\u001b[1;31m:\u001b[0m invalid syntax\n"
     ]
    }
   ],
   "source": [
    "# Bank exercise\n",
    "\n",
    "class BankAccount():\n",
    "    def __init__(self,owner):\n",
    "        self.owner = owner\n",
    "        self.balance = 0.0\n",
    "        \n",
    "    def deposit(self,amount):\n",
    "        self.balance += amount \n",
    "        return self.balance\n",
    "        \n",
    "    def withdraw(self,amount):\n",
    "        return self.balance -= amount  # This will give syntax error\n",
    "                                       # Have to first calculate balance and then return\n",
    "        \n",
    "\n",
    "acct = BankAccount('Darcy')\n",
    "print(acct.owner)\n",
    "print(acct.balance)\n",
    "print(acct.deposit(10))\n",
    "print(acct.withdraw(3))\n",
    "print(acct.balance)"
   ]
  },
  {
   "cell_type": "code",
   "execution_count": 40,
   "metadata": {},
   "outputs": [
    {
     "name": "stdout",
     "output_type": "stream",
     "text": [
      "Darcy\n",
      "0.0\n",
      "10.0\n",
      "7.0\n",
      "7.0\n"
     ]
    }
   ],
   "source": [
    "class BankAccount():\n",
    "    def __init__(self,owner):\n",
    "        self.owner = owner\n",
    "        self.balance = 0.0\n",
    "        \n",
    "    def deposit(self,amount):\n",
    "        self.balance += amount \n",
    "        return self.balance\n",
    "        \n",
    "    def withdraw(self,amount):\n",
    "        self.balance -= amount  # This will not give syntax error\n",
    "        return self.balance     # Note: We cannot return assignment or shorhand expressions\n",
    "        \n",
    "\n",
    "acct = BankAccount('Darcy')\n",
    "print(acct.owner)\n",
    "print(acct.balance)\n",
    "print(acct.deposit(10))\n",
    "print(acct.withdraw(3))\n",
    "print(acct.balance)"
   ]
  },
  {
   "cell_type": "code",
   "execution_count": null,
   "metadata": {},
   "outputs": [],
   "source": [
    "# Class atributes\n",
    "\n",
    "# Instance attributes is defined on each individual instance \n",
    "# of a class and on each user object.\n",
    "\n",
    "# A Class attributes is defined once and lives on the class itself\n",
    "# So whatever class attributes we define are shared by all instances\n",
    "# and they kind of all point to same class attribute\n",
    "\n",
    "# Class attributes are Defined once, without using self\n",
    "# To access these values, we dont use instance\n",
    "\n",
    "# To access these class attributes, We use class names\n",
    "# user1.active_users is wrong, User.active_users\n",
    "\n",
    "# i.e. Both Inside and Outside we dont use self - we just use User.active_users"
   ]
  },
  {
   "cell_type": "code",
   "execution_count": 49,
   "metadata": {},
   "outputs": [
    {
     "name": "stdout",
     "output_type": "stream",
     "text": [
      "0\n"
     ]
    }
   ],
   "source": [
    "# Lets track how many users are active\n",
    "\n",
    "class User:\n",
    "    \n",
    "    active_users = 0  # Class attribute\n",
    "    \n",
    "    def __init__(self, first, last, age=''):\n",
    "        self.first = first\n",
    "        self.last = last\n",
    "        self.age = age\n",
    "        \n",
    "    def full_name(self):\n",
    "        print(f'{self.first} {self.last}') \n",
    "        \n",
    "    def initials(self):\n",
    "        print(f'{self.first[0]}.{self.last[0]}.')\n",
    "        \n",
    "    def likes(self, thing):\n",
    "        print(f'{self.first} likes {thing}')\n",
    "\n",
    "user1 = User('Bruce', 'Wayne')\n",
    "\n",
    "# user1.active_users # This is wrong\n",
    "print(User.active_users)  # Here the value is zero, even though we have Bruce\n",
    "\n",
    "# To access these values, we dont use instance"
   ]
  },
  {
   "cell_type": "code",
   "execution_count": 53,
   "metadata": {},
   "outputs": [
    {
     "ename": "UnboundLocalError",
     "evalue": "local variable 'active_users' referenced before assignment",
     "output_type": "error",
     "traceback": [
      "\u001b[1;31m---------------------------------------------------------------------------\u001b[0m",
      "\u001b[1;31mUnboundLocalError\u001b[0m                         Traceback (most recent call last)",
      "\u001b[1;32m<ipython-input-53-137b3c864bb7>\u001b[0m in \u001b[0;36m<module>\u001b[1;34m\u001b[0m\n\u001b[0;32m     22\u001b[0m         \u001b[0mprint\u001b[0m\u001b[1;33m(\u001b[0m\u001b[1;34mf'{self.first} likes {thing}'\u001b[0m\u001b[1;33m)\u001b[0m\u001b[1;33m\u001b[0m\u001b[1;33m\u001b[0m\u001b[0m\n\u001b[0;32m     23\u001b[0m \u001b[1;33m\u001b[0m\u001b[0m\n\u001b[1;32m---> 24\u001b[1;33m \u001b[0muser1\u001b[0m \u001b[1;33m=\u001b[0m \u001b[0mUser\u001b[0m\u001b[1;33m(\u001b[0m\u001b[1;34m'Bruce'\u001b[0m\u001b[1;33m,\u001b[0m \u001b[1;34m'Wayne'\u001b[0m\u001b[1;33m)\u001b[0m\u001b[1;33m\u001b[0m\u001b[1;33m\u001b[0m\u001b[0m\n\u001b[0m\u001b[0;32m     25\u001b[0m \u001b[1;33m\u001b[0m\u001b[0m\n\u001b[0;32m     26\u001b[0m \u001b[1;33m\u001b[0m\u001b[0m\n",
      "\u001b[1;32m<ipython-input-53-137b3c864bb7>\u001b[0m in \u001b[0;36m__init__\u001b[1;34m(self, first, last, age)\u001b[0m\n\u001b[0;32m      9\u001b[0m         \u001b[0mself\u001b[0m\u001b[1;33m.\u001b[0m\u001b[0mlast\u001b[0m \u001b[1;33m=\u001b[0m \u001b[0mlast\u001b[0m\u001b[1;33m\u001b[0m\u001b[1;33m\u001b[0m\u001b[0m\n\u001b[0;32m     10\u001b[0m         \u001b[0mself\u001b[0m\u001b[1;33m.\u001b[0m\u001b[0mage\u001b[0m \u001b[1;33m=\u001b[0m \u001b[0mage\u001b[0m\u001b[1;33m\u001b[0m\u001b[1;33m\u001b[0m\u001b[0m\n\u001b[1;32m---> 11\u001b[1;33m         \u001b[0mactive_users\u001b[0m \u001b[1;33m+=\u001b[0m \u001b[1;36m1\u001b[0m   \u001b[1;31m# No need you use self on class attributes\u001b[0m\u001b[1;33m\u001b[0m\u001b[1;33m\u001b[0m\u001b[0m\n\u001b[0m\u001b[0;32m     12\u001b[0m \u001b[1;33m\u001b[0m\u001b[0m\n\u001b[0;32m     13\u001b[0m         \u001b[1;31m# We cant use self, nor we can use just like that\u001b[0m\u001b[1;33m\u001b[0m\u001b[1;33m\u001b[0m\u001b[1;33m\u001b[0m\u001b[0m\n",
      "\u001b[1;31mUnboundLocalError\u001b[0m: local variable 'active_users' referenced before assignment"
     ]
    }
   ],
   "source": [
    "# Lets set active_user during initialization\n",
    "\n",
    "class User:\n",
    "    \n",
    "    active_users = 0  # Class attribute\n",
    "    \n",
    "    def __init__(self, first, last, age=''):\n",
    "        self.first = first\n",
    "        self.last = last\n",
    "        self.age = age\n",
    "        active_users += 1   # No need you use self on class attributes but we should use Classname\n",
    "        \n",
    "        # We cant use self, nor we can use just like that\n",
    "        \n",
    "    def full_name(self):\n",
    "        print(f'{self.first} {self.last}') \n",
    "        \n",
    "    def initials(self):\n",
    "        print(f'{self.first[0]}.{self.last[0]}.')\n",
    "        \n",
    "    def likes(self, thing):\n",
    "        print(f'{self.first} likes {thing}')\n",
    "\n",
    "user1 = User('Bruce', 'Wayne')\n",
    "\n",
    "\n",
    "print(User.active_users)   # We use class name to access class attributes \n"
   ]
  },
  {
   "cell_type": "code",
   "execution_count": 56,
   "metadata": {},
   "outputs": [
    {
     "name": "stdout",
     "output_type": "stream",
     "text": [
      "0\n",
      "2\n"
     ]
    }
   ],
   "source": [
    "class User:\n",
    "    \n",
    "    active_users = 0  # Class attribute\n",
    "    \n",
    "    def __init__(self, first, last, age=''):\n",
    "        self.first = first\n",
    "        self.last = last\n",
    "        self.age = age\n",
    "        User.active_users += 1   # No need you use self on class attributes\n",
    "        \n",
    "        # We cant use self, nor we can use just like that\n",
    "        # Note: We need to use Class name to access it\n",
    "        \n",
    "    def full_name(self):\n",
    "        print(f'{self.first} {self.last}') \n",
    "        \n",
    "    def initials(self):\n",
    "        print(f'{self.first[0]}.{self.last[0]}.')\n",
    "        \n",
    "    def likes(self, thing):\n",
    "        print(f'{self.first} likes {thing}')\n",
    "\n",
    "print(User.active_users)        \n",
    "user1 = User('Bruce', 'Wayne')\n",
    "user2 = User('Clark', 'Kent')\n",
    "print(User.active_users)\n",
    "\n",
    "# To access class attributes, we need to use\n",
    "# Class name even inside the class"
   ]
  },
  {
   "cell_type": "code",
   "execution_count": 57,
   "metadata": {},
   "outputs": [
    {
     "name": "stdout",
     "output_type": "stream",
     "text": [
      "0\n",
      "2\n",
      "Bruce logged out\n",
      "1\n"
     ]
    }
   ],
   "source": [
    "# Lets add logout mechanism\n",
    "\n",
    "class User:\n",
    "    \n",
    "    active_users = 0  # Class attribute\n",
    "    \n",
    "    def __init__(self, first, last, age=''):\n",
    "        self.first = first\n",
    "        self.last = last\n",
    "        self.age = age\n",
    "        User.active_users += 1   \n",
    "        \n",
    "    def full_name(self):\n",
    "        print(f'{self.first} {self.last}') \n",
    "        \n",
    "    def initials(self):\n",
    "        print(f'{self.first[0]}.{self.last[0]}.')\n",
    "        \n",
    "    def likes(self, thing):\n",
    "        print(f'{self.first} likes {thing}')\n",
    "        \n",
    "    def logout(self):\n",
    "        User.active_users -= 1\n",
    "        print(f'{self.first} logged out')\n",
    "\n",
    "print(User.active_users)        \n",
    "user1 = User('Bruce', 'Wayne')\n",
    "user2 = User('Clark', 'Kent')\n",
    "print(User.active_users)\n",
    "user1.logout()\n",
    "print(User.active_users)\n",
    "\n"
   ]
  },
  {
   "cell_type": "code",
   "execution_count": 63,
   "metadata": {},
   "outputs": [
    {
     "name": "stdout",
     "output_type": "stream",
     "text": [
      "Tom\n",
      "Bruno\n"
     ]
    }
   ],
   "source": [
    "# Note: One use-case of Class attributes is to keep track of things\n",
    "# Another is to create Validations\n",
    "\n",
    "# Lets create a simple program\n",
    "# Thats only allows owner to have permitted pet animals \n",
    "\n",
    "class Pet():\n",
    "    \n",
    "    allowed = ['cat','dog','fish','rat']\n",
    "    \n",
    "    def __init__(self,name,species):\n",
    "        if species not in Pet.allowed:\n",
    "            raise ValueError(f'You cannot have {species} as pet')\n",
    "        self.name = name\n",
    "        self.species = species\n",
    "        \n",
    "p1 = Pet('Tom','cat')\n",
    "p2 = Pet('Bruno','dog')\n",
    "\n",
    "print(p1.name)\n",
    "print(p2.name)"
   ]
  },
  {
   "cell_type": "code",
   "execution_count": 60,
   "metadata": {},
   "outputs": [
    {
     "ename": "ValueError",
     "evalue": "You cannot have tiger as pet",
     "output_type": "error",
     "traceback": [
      "\u001b[1;31m---------------------------------------------------------------------------\u001b[0m",
      "\u001b[1;31mValueError\u001b[0m                                Traceback (most recent call last)",
      "\u001b[1;32m<ipython-input-60-38e1df95a101>\u001b[0m in \u001b[0;36m<module>\u001b[1;34m\u001b[0m\n\u001b[1;32m----> 1\u001b[1;33m \u001b[0mp3\u001b[0m \u001b[1;33m=\u001b[0m \u001b[0mPet\u001b[0m\u001b[1;33m(\u001b[0m\u001b[1;34m'Stripes'\u001b[0m\u001b[1;33m,\u001b[0m\u001b[1;34m'tiger'\u001b[0m\u001b[1;33m)\u001b[0m\u001b[1;33m\u001b[0m\u001b[1;33m\u001b[0m\u001b[0m\n\u001b[0m",
      "\u001b[1;32m<ipython-input-59-1e93e08e5687>\u001b[0m in \u001b[0;36m__init__\u001b[1;34m(self, name, species)\u001b[0m\n\u001b[0;32m     11\u001b[0m     \u001b[1;32mdef\u001b[0m \u001b[0m__init__\u001b[0m\u001b[1;33m(\u001b[0m\u001b[0mself\u001b[0m\u001b[1;33m,\u001b[0m\u001b[0mname\u001b[0m\u001b[1;33m,\u001b[0m\u001b[0mspecies\u001b[0m\u001b[1;33m)\u001b[0m\u001b[1;33m:\u001b[0m\u001b[1;33m\u001b[0m\u001b[1;33m\u001b[0m\u001b[0m\n\u001b[0;32m     12\u001b[0m         \u001b[1;32mif\u001b[0m \u001b[0mspecies\u001b[0m \u001b[1;32mnot\u001b[0m \u001b[1;32min\u001b[0m \u001b[0mPet\u001b[0m\u001b[1;33m.\u001b[0m\u001b[0mallowed\u001b[0m\u001b[1;33m:\u001b[0m\u001b[1;33m\u001b[0m\u001b[1;33m\u001b[0m\u001b[0m\n\u001b[1;32m---> 13\u001b[1;33m             \u001b[1;32mraise\u001b[0m \u001b[0mValueError\u001b[0m\u001b[1;33m(\u001b[0m\u001b[1;34mf'You cannot have {species} as pet'\u001b[0m\u001b[1;33m)\u001b[0m\u001b[1;33m\u001b[0m\u001b[1;33m\u001b[0m\u001b[0m\n\u001b[0m\u001b[0;32m     14\u001b[0m         \u001b[0mself\u001b[0m\u001b[1;33m.\u001b[0m\u001b[0mname\u001b[0m \u001b[1;33m=\u001b[0m \u001b[0mname\u001b[0m\u001b[1;33m\u001b[0m\u001b[1;33m\u001b[0m\u001b[0m\n\u001b[0;32m     15\u001b[0m         \u001b[0mself\u001b[0m\u001b[1;33m.\u001b[0m\u001b[0mspecies\u001b[0m \u001b[1;33m=\u001b[0m \u001b[0mspecies\u001b[0m\u001b[1;33m\u001b[0m\u001b[1;33m\u001b[0m\u001b[0m\n",
      "\u001b[1;31mValueError\u001b[0m: You cannot have tiger as pet"
     ]
    }
   ],
   "source": [
    "p3 = Pet('Stripes','tiger')"
   ]
  },
  {
   "cell_type": "code",
   "execution_count": 64,
   "metadata": {},
   "outputs": [
    {
     "name": "stdout",
     "output_type": "stream",
     "text": [
      "cat\n",
      "monkey\n"
     ]
    }
   ],
   "source": [
    "# Now we can actually overwrite the species of pet owners\n",
    "\n",
    "print(p1.species)\n",
    "p1.species = 'monkey'\n",
    "print(p1.species)\n",
    "\n",
    "# We have changed it from cat to monkey"
   ]
  },
  {
   "cell_type": "code",
   "execution_count": 69,
   "metadata": {},
   "outputs": [
    {
     "name": "stdout",
     "output_type": "stream",
     "text": [
      "cat\n"
     ]
    },
    {
     "ename": "ValueError",
     "evalue": "You cannot have lion as pet",
     "output_type": "error",
     "traceback": [
      "\u001b[1;31m---------------------------------------------------------------------------\u001b[0m",
      "\u001b[1;31mValueError\u001b[0m                                Traceback (most recent call last)",
      "\u001b[1;32m<ipython-input-69-1b7d2643cf2a>\u001b[0m in \u001b[0;36m<module>\u001b[1;34m\u001b[0m\n\u001b[0;32m     23\u001b[0m \u001b[1;33m\u001b[0m\u001b[0m\n\u001b[0;32m     24\u001b[0m \u001b[0mprint\u001b[0m\u001b[1;33m(\u001b[0m\u001b[0mp1\u001b[0m\u001b[1;33m.\u001b[0m\u001b[0mspecies\u001b[0m\u001b[1;33m)\u001b[0m\u001b[1;33m\u001b[0m\u001b[1;33m\u001b[0m\u001b[0m\n\u001b[1;32m---> 25\u001b[1;33m \u001b[0mp1\u001b[0m\u001b[1;33m.\u001b[0m\u001b[0mset_species\u001b[0m\u001b[1;33m(\u001b[0m\u001b[1;34m'lion'\u001b[0m\u001b[1;33m)\u001b[0m\u001b[1;33m\u001b[0m\u001b[1;33m\u001b[0m\u001b[0m\n\u001b[0m",
      "\u001b[1;32m<ipython-input-69-1b7d2643cf2a>\u001b[0m in \u001b[0;36mset_species\u001b[1;34m(self, species)\u001b[0m\n\u001b[0;32m     13\u001b[0m     \u001b[1;32mdef\u001b[0m \u001b[0mset_species\u001b[0m\u001b[1;33m(\u001b[0m\u001b[0mself\u001b[0m\u001b[1;33m,\u001b[0m\u001b[0mspecies\u001b[0m\u001b[1;33m)\u001b[0m\u001b[1;33m:\u001b[0m\u001b[1;33m\u001b[0m\u001b[1;33m\u001b[0m\u001b[0m\n\u001b[0;32m     14\u001b[0m         \u001b[1;32mif\u001b[0m \u001b[0mspecies\u001b[0m \u001b[1;32mnot\u001b[0m \u001b[1;32min\u001b[0m \u001b[0mPet\u001b[0m\u001b[1;33m.\u001b[0m\u001b[0mallowed\u001b[0m\u001b[1;33m:\u001b[0m\u001b[1;33m\u001b[0m\u001b[1;33m\u001b[0m\u001b[0m\n\u001b[1;32m---> 15\u001b[1;33m             \u001b[1;32mraise\u001b[0m \u001b[0mValueError\u001b[0m\u001b[1;33m(\u001b[0m\u001b[1;34mf'You cannot have {species} as pet'\u001b[0m\u001b[1;33m)\u001b[0m\u001b[1;33m\u001b[0m\u001b[1;33m\u001b[0m\u001b[0m\n\u001b[0m\u001b[0;32m     16\u001b[0m         \u001b[0mself\u001b[0m\u001b[1;33m.\u001b[0m\u001b[0mspecies\u001b[0m \u001b[1;33m=\u001b[0m \u001b[0mspecies\u001b[0m\u001b[1;33m\u001b[0m\u001b[1;33m\u001b[0m\u001b[0m\n\u001b[0;32m     17\u001b[0m \u001b[1;33m\u001b[0m\u001b[0m\n",
      "\u001b[1;31mValueError\u001b[0m: You cannot have lion as pet"
     ]
    }
   ],
   "source": [
    "# To prevent this we can write a setter method\n",
    "\n",
    "class Pet():\n",
    "    \n",
    "    allowed = ['cat','dog','fish','rat']\n",
    "    \n",
    "    def __init__(self,name,species):\n",
    "        if species not in Pet.allowed:\n",
    "            raise ValueError(f'You cannot have {species} as pet')\n",
    "        self.name = name\n",
    "        self.species = species\n",
    "        \n",
    "    def set_species(self,species):\n",
    "        if species not in Pet.allowed:\n",
    "            raise ValueError(f'You cannot have {species} as pet')\n",
    "        self.species = species\n",
    "        \n",
    "p1 = Pet('Tom','cat')\n",
    "p2 = Pet('Bruno','dog')\n",
    "\n",
    "# Now we cannot assign/change any random species\n",
    "# We can only use the allowed species\n",
    "\n",
    "print(p1.species)\n",
    "p1.set_species('lion')"
   ]
  },
  {
   "cell_type": "code",
   "execution_count": 70,
   "metadata": {},
   "outputs": [
    {
     "name": "stdout",
     "output_type": "stream",
     "text": [
      "cat\n",
      "fish\n"
     ]
    }
   ],
   "source": [
    "print(p1.species)\n",
    "p1.set_species('fish')\n",
    "print(p1.species)"
   ]
  },
  {
   "cell_type": "code",
   "execution_count": 71,
   "metadata": {},
   "outputs": [
    {
     "name": "stdout",
     "output_type": "stream",
     "text": [
      "fish\n",
      "dog\n",
      "pig\n",
      "pig\n"
     ]
    }
   ],
   "source": [
    "# Note: Remember, the Class attributes are shared between all instances\n",
    "# i.e. all instances point to same memory to access 'allowed'\n",
    "# so if we add new species to allowed\n",
    "# Both p1 and p2 will be able to access it\n",
    "\n",
    "print(p1.species)  # Before\n",
    "print(p2.species)\n",
    "\n",
    "Pet.allowed.append('pig')\n",
    "p1.set_species('pig')\n",
    "p2.set_species('pig')\n",
    "\n",
    "print(p1.species)  # After changing the value of Class Attribute\n",
    "print(p2.species)"
   ]
  },
  {
   "attachments": {
    "image.png": {
     "image/png": "[encoded data removed]"
    }
   },
   "cell_type": "markdown",
   "metadata": {},
   "source": [
    "![image.png](attachment:image.png)"
   ]
  },
  {
   "cell_type": "code",
   "execution_count": null,
   "metadata": {},
   "outputs": [],
   "source": [
    "# So in the above diagram, we can see\n",
    "# Both pet instances have name, species and allowed variables\n",
    "# name and species have different memory locations\n",
    "# but w.r.t to class attribute they are pointing to same 'allowed' variable in mempry"
   ]
  },
  {
   "cell_type": "code",
   "execution_count": 77,
   "metadata": {},
   "outputs": [
    {
     "name": "stdout",
     "output_type": "stream",
     "text": [
      "2302592847408 2302592981288\n",
      "2302592351624 2302592351624 2302592351624\n",
      "['cat', 'dog', 'fish', 'rat', 'pig'] ['cat', 'dog', 'fish', 'rat', 'pig'] ['cat', 'dog', 'fish', 'rat', 'pig']\n"
     ]
    }
   ],
   "source": [
    "# Note: to check memory location, we can use id()\n",
    "print(id(p1.name), id(p2.name))\n",
    "print(id(p1.allowed), id(p2.allowed), id(Pet.allowed))\n",
    "print(p1.allowed, p2.allowed, Pet.allowed)\n"
   ]
  },
  {
   "cell_type": "code",
   "execution_count": 80,
   "metadata": {},
   "outputs": [
    {
     "name": "stdout",
     "output_type": "stream",
     "text": [
      "2302592847408 2302592981288\n",
      "2302592096904 2302592351624 2302592351624\n",
      "['lion', 'bear'] ['cat', 'dog', 'fish', 'rat', 'pig'] ['cat', 'dog', 'fish', 'rat', 'pig']\n"
     ]
    }
   ],
   "source": [
    "# See the blue arrow mark in the above diagram\n",
    "# p1 and p2 instance are pointing to Pet instance\n",
    "# Note: But we can severe that link, by assigning new values to p1\n",
    "\n",
    "p1.allowed = ['lion', 'bear']\n",
    "\n",
    "print(id(p1.name), id(p2.name))\n",
    "print(id(p1.allowed), id(p2.allowed), id(Pet.allowed))\n",
    "print(p1.allowed, p2.allowed, Pet.allowed)\n",
    "\n",
    "# Now p1 has its own memory for allowed (Be careful of this)"
   ]
  },
  {
   "cell_type": "code",
   "execution_count": 83,
   "metadata": {},
   "outputs": [
    {
     "name": "stdout",
     "output_type": "stream",
     "text": [
      "0\n",
      "1\n",
      "1\n",
      "1\n",
      "2\n",
      "2\n",
      "\n",
      "4\n",
      "2 4\n",
      "2 4\n"
     ]
    }
   ],
   "source": [
    "# Chicken Exercise\n",
    "# Keep track of eggs individual chicken lays and also the total eggs\n",
    "\n",
    "class Chicken():\n",
    "    \n",
    "    total_eggs = 0\n",
    "    \n",
    "    def __init__(self, species, name, eggs=0):  # This was written inside the func\n",
    "        self.species = species\n",
    "        self.name = name\n",
    "        self.eggs = eggs\n",
    "        \n",
    "    def lay_egg(self):\n",
    "        self.eggs += 1\n",
    "        Chicken.total_eggs += 1\n",
    "        return self.eggs\n",
    "    \n",
    "\n",
    "c1 = Chicken(name='Alice', species='Patridge Slikie')\n",
    "c2 = Chicken(name='Amelia', species='Speckled Slikie')\n",
    "\n",
    "\n",
    "# c1 = 2\n",
    "# c2 = 2\n",
    "print(Chicken.total_eggs)\n",
    "print(c1.lay_egg())\n",
    "\n",
    "print(Chicken.total_eggs)\n",
    "print(c2.lay_egg())\n",
    "print(c2.lay_egg())\n",
    "print(c1.lay_egg())\n",
    "\n",
    "print()\n",
    "print(Chicken.total_eggs)   # Class attribute\n",
    "print(c1.eggs, c1.total_eggs)  # Instance attribute and Shared Class attribute\n",
    "print(c2.eggs, c2.total_eggs)\n",
    "\n",
    "        "
   ]
  },
  {
   "cell_type": "code",
   "execution_count": null,
   "metadata": {},
   "outputs": [],
   "source": [
    "# Class Methods\n",
    "# They are used very rarely\n",
    "# But its good know, how to write it\n",
    "# And how to recognize it, when you see one\n",
    "\n",
    "# Class Methods are methods that are \n",
    "# Not concerned with instances\n",
    "# But concerned with Class itself\n",
    "\n",
    "# (with @classmethod decorator)\n",
    "# For now remember decorator is just Syntactic Sugar or Python Magic\n"
   ]
  },
  {
   "cell_type": "code",
   "execution_count": null,
   "metadata": {},
   "outputs": [],
   "source": [
    "# eg.\n",
    "\n",
    "class Person():\n",
    "    \n",
    "    @classmethod                  # Decorator\n",
    "    def from_csv(cls, filename):  # instead of self, we use cls naming convention\n",
    "        return cls(*params)       # Note: Same as calling Person(*params)\n",
    "    \n",
    "\n",
    "Person.from_csv(my_csv)"
   ]
  },
  {
   "cell_type": "code",
   "execution_count": 85,
   "metadata": {},
   "outputs": [
    {
     "name": "stdout",
     "output_type": "stream",
     "text": [
      "<class '__main__.User'>\n",
      "<class '__main__.User'>\n"
     ]
    }
   ],
   "source": [
    "# eg. \n",
    "# Let return a statement on how many users are currently active\n",
    "# at any given time\n",
    "\n",
    "# Here we need to understand, class User is passed as an argument\n",
    "# instead of instance user1\n",
    "\n",
    "class User:\n",
    "    \n",
    "    active_users = 0  # Class attribute\n",
    "    \n",
    "    # Adding class method\n",
    "    @classmethod\n",
    "    def display_active_users(cls):\n",
    "        return cls\n",
    "    \n",
    "    def __init__(self, first, last, age=''):\n",
    "        self.first = first\n",
    "        self.last = last\n",
    "        self.age = age\n",
    "        User.active_users += 1   \n",
    "        \n",
    "    def full_name(self):\n",
    "        print(f'{self.first} {self.last}') \n",
    "        \n",
    "    def initials(self):\n",
    "        print(f'{self.first[0]}.{self.last[0]}.')\n",
    "        \n",
    "    def likes(self, thing):\n",
    "        print(f'{self.first} likes {thing}')\n",
    "        \n",
    "    def logout(self):\n",
    "        User.active_users -= 1\n",
    "        print(f'{self.first} logged out')\n",
    "\n",
    "user1 = User('Bruce', 'Wayne')\n",
    "user2 = User('Clark', 'Kent')\n",
    "\n",
    "print(user1.display_active_users())  # Here we can see cls is assinged to User\n",
    "print(User.display_active_users())   # Same when invoked with class name\n",
    "\n",
    "# If instance would have passed, we would get below message\n",
    "# <__main__.User object at 0x000002181D6CC6D8>\n",
    "\n",
    "# some memory address, but we didnt get in the above 2 statements"
   ]
  },
  {
   "cell_type": "code",
   "execution_count": 9,
   "metadata": {},
   "outputs": [],
   "source": [
    "# so lets test it\n",
    "\n",
    "class User:\n",
    "    \n",
    "    active_users = 0  # Class attribute\n",
    "    \n",
    "    # Adding class method\n",
    "    @classmethod\n",
    "    def display_active_users(cls):\n",
    "        return f'There are currently {cls.active_users} active users'\n",
    "    \n",
    "    def __init__(self, first, last, age=''):\n",
    "        self.first = first\n",
    "        self.last = last\n",
    "        self.age = age\n",
    "        User.active_users += 1   \n",
    "        \n",
    "    def full_name(self):\n",
    "        print(f'{self.first} {self.last}') \n",
    "        \n",
    "    def initials(self):\n",
    "        print(f'{self.first[0]}.{self.last[0]}.')\n",
    "        \n",
    "    def likes(self, thing):\n",
    "        print(f'{self.first} likes {thing}')\n",
    "        \n",
    "    def logout(self):\n",
    "        User.active_users -= 1\n",
    "        print(f'{self.first} logged out')"
   ]
  },
  {
   "cell_type": "code",
   "execution_count": 11,
   "metadata": {},
   "outputs": [
    {
     "name": "stdout",
     "output_type": "stream",
     "text": [
      "There are currently 4 active users\n",
      "There are currently 6 active users\n",
      "There are currently 8 active users\n"
     ]
    }
   ],
   "source": [
    "print(User.display_active_users())\n",
    "user1 = User('Bruce', 'Wayne')\n",
    "user2 = User('Clark', 'Kent')\n",
    "print(User.display_active_users())\n",
    "user1 = User('Bruce', 'Wayne')\n",
    "user2 = User('Clark', 'Kent')\n",
    "print(User.display_active_users())"
   ]
  },
  {
   "cell_type": "code",
   "execution_count": 16,
   "metadata": {},
   "outputs": [
    {
     "name": "stdout",
     "output_type": "stream",
     "text": [
      "There are currently 8 active users\n",
      "There are currently 8 active users\n"
     ]
    }
   ],
   "source": [
    "# We can even call class methods using instances\n",
    "\n",
    "print(user1.display_active_users())\n",
    "print(user2.display_active_users())"
   ]
  },
  {
   "cell_type": "code",
   "execution_count": null,
   "metadata": {},
   "outputs": [],
   "source": [
    "# Note: A realistic eg for why class methods are used\n",
    "\n",
    "# In the above user class, to create a new user instance\n",
    "# we need to pass firstname, lastname and age as parameter\n",
    "# But we have a string eg. 'Tom,Jones,89'\n",
    "# Obviously we cannot pass this string direclty to create an user instance\n",
    "\n",
    "# Class methods can be used to convert the input into right format\n",
    "# and then note: automatically create an instance by calling __init__ method\n",
    "# invoking __init__ happens automatically because Class is passed as self"
   ]
  },
  {
   "cell_type": "code",
   "execution_count": 92,
   "metadata": {},
   "outputs": [
    {
     "name": "stdout",
     "output_type": "stream",
     "text": [
      "Tom Jones\n",
      "None\n"
     ]
    }
   ],
   "source": [
    "# eg.\n",
    "\n",
    "class User:\n",
    "    \n",
    "    active_users = 0  # Class attribute\n",
    "    \n",
    "    # Adding class method\n",
    "    @classmethod\n",
    "    def display_active_users(cls):\n",
    "        return f'There are currently {cls.active_users} active users'\n",
    "    \n",
    "    # Using class method to convert string to multiple params\n",
    "    # and then create an instance\n",
    "    @classmethod\n",
    "    def from_string(cls, data_string):\n",
    "        (first, last, age) = data_string.split(',')\n",
    "        return cls(first, last, age)  # This is similar to User('Tom','Jones','89')\n",
    "    \n",
    "    def __init__(self, first, last, age=''):\n",
    "        self.first = first\n",
    "        self.last = last\n",
    "        self.age = age\n",
    "        User.active_users += 1   \n",
    "        \n",
    "    def full_name(self):\n",
    "        print(f'{self.first} {self.last}') \n",
    "        \n",
    "    def initials(self):\n",
    "        print(f'{self.first[0]}.{self.last[0]}.')\n",
    "        \n",
    "    def likes(self, thing):\n",
    "        print(f'{self.first} likes {thing}')\n",
    "        \n",
    "    def logout(self):\n",
    "        User.active_users -= 1\n",
    "        print(f'{self.first} logged out')\n",
    "\n",
    "u1 = User.from_string('Tom,Jones,89')\n",
    "print(u1.full_name())\n",
    "        \n",
    "# Note, u1 = User('Tom,Jones,89')  will give error"
   ]
  },
  {
   "cell_type": "code",
   "execution_count": 93,
   "metadata": {},
   "outputs": [
    {
     "ename": "TypeError",
     "evalue": "__init__() missing 1 required positional argument: 'last'",
     "output_type": "error",
     "traceback": [
      "\u001b[1;31m---------------------------------------------------------------------------\u001b[0m",
      "\u001b[1;31mTypeError\u001b[0m                                 Traceback (most recent call last)",
      "\u001b[1;32m<ipython-input-93-f0b44879bd3c>\u001b[0m in \u001b[0;36m<module>\u001b[1;34m\u001b[0m\n\u001b[1;32m----> 1\u001b[1;33m \u001b[0mu1\u001b[0m \u001b[1;33m=\u001b[0m \u001b[0mUser\u001b[0m\u001b[1;33m(\u001b[0m\u001b[1;34m'Tom,Jones,89'\u001b[0m\u001b[1;33m)\u001b[0m\u001b[1;33m\u001b[0m\u001b[1;33m\u001b[0m\u001b[0m\n\u001b[0m",
      "\u001b[1;31mTypeError\u001b[0m: __init__() missing 1 required positional argument: 'last'"
     ]
    }
   ],
   "source": [
    "u1 = User('Tom,Jones,89')"
   ]
  },
  {
   "cell_type": "code",
   "execution_count": null,
   "metadata": {},
   "outputs": [],
   "source": [
    "# So the below statement, calls a class method and\n",
    "\n",
    "u1 = User.from_string('Tom,Jones,89')\n",
    "\n",
    "# it inturn converts the above call to\n",
    "\n",
    "u1 = User('Tom','Jones','89')\n",
    "\n",
    "# Note: It was only possible because class name (User) was passed as self\n",
    "# In normal instance creation, u1 would have passed in self"
   ]
  },
  {
   "cell_type": "code",
   "execution_count": 96,
   "metadata": {},
   "outputs": [
    {
     "name": "stdout",
     "output_type": "stream",
     "text": [
      "<__main__.User object at 0x000002181D60E400>\n",
      "<class '__main__.User'>\n",
      "<__main__.User object at 0x000002181D5622B0>\n"
     ]
    }
   ],
   "source": [
    "# Another dunder method eg.\n",
    "# The __repr__ method\n",
    "\n",
    "# This __repr__ method is one of the several ways \n",
    "# To provide a nicer string representation\n",
    "\n",
    "#eg.\n",
    "print(u1)\n",
    "print(User)\n",
    "print(user1)\n",
    "\n",
    "# We can change the output using __repr__"
   ]
  },
  {
   "cell_type": "code",
   "execution_count": 98,
   "metadata": {},
   "outputs": [
    {
     "name": "stdout",
     "output_type": "stream",
     "text": [
      "Manoj is 33\n"
     ]
    }
   ],
   "source": [
    "class User:\n",
    "    def __init__(self, first, last, age=''):\n",
    "        self.first = first\n",
    "        self.last = last\n",
    "        self.age = age\n",
    "        \n",
    "    def full_name(self):\n",
    "        print(f'{self.first} {self.last}') \n",
    "        \n",
    "    def initials(self):\n",
    "        print(f'{self.first[0]}.{self.last[0]}.')\n",
    "        \n",
    "    def likes(self, thing):\n",
    "        print(f'{self.first} likes {thing}')\n",
    "        \n",
    "    def __repr__(self):\n",
    "        return f'{self.first} is {self.age}'\n",
    "    \n",
    "user1 = User('Manoj', 'L', '33')\n",
    "print(user1)      \n",
    "        \n",
    "# Now we can control the display of objects (change the representation)\n",
    "# Even dict and str uses similar representation to display the output"
   ]
  },
  {
   "cell_type": "code",
   "execution_count": null,
   "metadata": {},
   "outputs": [],
   "source": [
    "# Note:\n",
    "# Difference b/w class method and instance method\n",
    "# 1. Class method has cls as implicit argument whereas instance method has instance called self\n",
    "# 2. Class methods must be decorated with @classmethod, whereas instance methods dont\n",
    "\n",
    "# 3. Note: Class methods are used when\n",
    "# The method does not need to know about the specific instance \n",
    "# And instance methods are the opposite, i.e they must know the instance\n",
    "# thats being worked upon"
   ]
  }
 ],
 "metadata": {
  "kernelspec": {
   "display_name": "Python 3",
   "language": "python",
   "name": "python3"
  },
  "language_info": {
   "codemirror_mode": {
    "name": "ipython",
    "version": 3
   },
   "file_extension": ".py",
   "mimetype": "text/x-python",
   "name": "python",
   "nbconvert_exporter": "python",
   "pygments_lexer": "ipython3",
   "version": "3.7.3"
  }
 },
 "nbformat": 4,
 "nbformat_minor": 2
}
