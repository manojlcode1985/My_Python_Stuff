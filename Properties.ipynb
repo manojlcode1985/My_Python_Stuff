{
 "cells": [
  {
   "cell_type": "code",
   "execution_count": null,
   "metadata": {},
   "outputs": [],
   "source": [
    "# Property Decorator\n",
    "\n",
    "# The property decorator allows us to define Class methods that we can access like attributes. \n",
    "# This allows us to implement getters, setters, and deleters"
   ]
  },
  {
   "cell_type": "code",
   "execution_count": null,
   "metadata": {},
   "outputs": [],
   "source": [
    "# This is mostly used to simulate private attributes and private methods in python\n",
    "# In python everything is public.\n",
    "\n",
    "# So lets see how we can modify an attribute as we wished"
   ]
  },
  {
   "cell_type": "code",
   "execution_count": 22,
   "metadata": {},
   "outputs": [
    {
     "name": "stdout",
     "output_type": "stream",
     "text": [
      "36\n",
      "96.8\n"
     ]
    }
   ],
   "source": [
    "# This eg. converts Celsius to Fahrenheit\n",
    "\n",
    "class Celsius:\n",
    "    def __init__(self, temperature = 0):\n",
    "        self.temperature = temperature\n",
    "\n",
    "    def to_fahrenheit(self):\n",
    "        return (self.temperature * 1.8) + 32\n",
    "    \n",
    "c = Celsius(36)\n",
    "print(c.temperature)\n",
    "print(c.to_fahrenheit())\n",
    "\n",
    "# Its working as expected"
   ]
  },
  {
   "cell_type": "code",
   "execution_count": 23,
   "metadata": {},
   "outputs": [
    {
     "name": "stdout",
     "output_type": "stream",
     "text": [
      "37\n",
      "98.60000000000001\n",
      "5\n",
      "41.0\n",
      "-20\n",
      "-4.0\n"
     ]
    }
   ],
   "source": [
    "# Now lets create a tempreature reading of a patient\n",
    "\n",
    "patient = Celsius(37)\n",
    "print(patient.temperature)\n",
    "print(patient.to_fahrenheit())\n",
    "\n",
    "# Now we can change it to anything\n",
    "patient.temperature = 5\n",
    "print(patient.temperature)\n",
    "print(patient.to_fahrenheit())\n",
    "\n",
    "patient.temperature = -20\n",
    "print(patient.temperature)\n",
    "print(patient.to_fahrenheit())"
   ]
  },
  {
   "cell_type": "code",
   "execution_count": 26,
   "metadata": {
    "scrolled": true
   },
   "outputs": [
    {
     "ename": "AttributeError",
     "evalue": "'Celsius' object has no attribute 'temperature'",
     "output_type": "error",
     "traceback": [
      "\u001b[1;31m---------------------------------------------------------------------------\u001b[0m",
      "\u001b[1;31mAttributeError\u001b[0m                            Traceback (most recent call last)",
      "\u001b[1;32m<ipython-input-26-1332801be441>\u001b[0m in \u001b[0;36m<module>\u001b[1;34m\u001b[0m\n\u001b[0;32m     12\u001b[0m \u001b[1;33m\u001b[0m\u001b[0m\n\u001b[0;32m     13\u001b[0m \u001b[0mpatient\u001b[0m \u001b[1;33m=\u001b[0m \u001b[0mCelsius\u001b[0m\u001b[1;33m(\u001b[0m\u001b[1;36m37\u001b[0m\u001b[1;33m)\u001b[0m\u001b[1;33m\u001b[0m\u001b[1;33m\u001b[0m\u001b[0m\n\u001b[1;32m---> 14\u001b[1;33m \u001b[0mprint\u001b[0m\u001b[1;33m(\u001b[0m\u001b[0mpatient\u001b[0m\u001b[1;33m.\u001b[0m\u001b[0mtemperature\u001b[0m\u001b[1;33m)\u001b[0m  \u001b[1;31m# First of all we cannot access patient.temperature\u001b[0m\u001b[1;33m\u001b[0m\u001b[1;33m\u001b[0m\u001b[0m\n\u001b[0m\u001b[0;32m     15\u001b[0m \u001b[0mprint\u001b[0m\u001b[1;33m(\u001b[0m\u001b[0mpatient\u001b[0m\u001b[1;33m.\u001b[0m\u001b[0mto_fahrenheit\u001b[0m\u001b[1;33m(\u001b[0m\u001b[1;33m)\u001b[0m\u001b[1;33m)\u001b[0m\u001b[1;33m\u001b[0m\u001b[1;33m\u001b[0m\u001b[0m\n\u001b[0;32m     16\u001b[0m \u001b[1;33m\u001b[0m\u001b[0m\n",
      "\u001b[1;31mAttributeError\u001b[0m: 'Celsius' object has no attribute 'temperature'"
     ]
    }
   ],
   "source": [
    "# One way to prevent this is used to tell the programmer\n",
    "# to consider temperature as private attribute\n",
    "# and it shoudl be used within the class and not outside\n",
    "# This is done with a convention _, i.e. _temperature\n",
    "\n",
    "class Celsius:\n",
    "    def __init__(self, temperature = 0):\n",
    "        self._temperature = temperature\n",
    "\n",
    "    def to_fahrenheit(self):\n",
    "        return (self._temperature * 1.8) + 32\n",
    "    \n",
    "patient = Celsius(37)\n",
    "print(patient.temperature)  # First of all we cannot access patient.temperature\n",
    "print(patient.to_fahrenheit())\n",
    "\n",
    "# Now lets try changing\n",
    "patient.temperature = 5\n",
    "print(patient.temperature)\n",
    "print(patient.to_fahrenheit())"
   ]
  },
  {
   "cell_type": "code",
   "execution_count": 27,
   "metadata": {},
   "outputs": [
    {
     "name": "stdout",
     "output_type": "stream",
     "text": [
      "37\n",
      "98.60000000000001\n",
      "0\n",
      "98.60000000000001\n"
     ]
    }
   ],
   "source": [
    "class Celsius:\n",
    "    def __init__(self, temperature = 0):\n",
    "        self._temperature = temperature\n",
    "\n",
    "    def to_fahrenheit(self):\n",
    "        return (self._temperature * 1.8) + 32\n",
    "    \n",
    "patient = Celsius(37)\n",
    "print(patient._temperature)     # In order to access, We have to access using _\n",
    "print(patient.to_fahrenheit())\n",
    "\n",
    "# Now lets try changing\n",
    "patient.temperature = 0         # Even if we accidetly changed temperature, _temperature is not affected\n",
    "print(patient.temperature)      # This is because Python allows to add new attributes outside the class\n",
    "print(patient.to_fahrenheit())  # This will still refer to 37"
   ]
  },
  {
   "cell_type": "code",
   "execution_count": 28,
   "metadata": {},
   "outputs": [
    {
     "name": "stdout",
     "output_type": "stream",
     "text": [
      "5\n"
     ]
    }
   ],
   "source": [
    "# Now lets understand how python allows to create new attributes outside the class\n",
    "\n",
    "class Test():\n",
    "    def __init__(self, num):\n",
    "        self.num = num\n",
    "        \n",
    "t = Test(5)\n",
    "print(t.num)  # This prints the num, no issues here"
   ]
  },
  {
   "cell_type": "code",
   "execution_count": null,
   "metadata": {},
   "outputs": [],
   "source": [
    "# Now Test class has only one attribute num defined\n",
    "# But outside the class we can create n attributes\n",
    "# How is this possible?\n",
    "# Refer: https://stackoverflow.com/questions/12569018/why-is-adding-attributes-to-an-already-instantiated-object-allowed\n",
    "\n",
    "t.new_num = 10\n",
    "t.num_list = [1,2,3,4,5,6]\n",
    "t.letter = 'a'\n",
    "t.word = 'Weird'\n",
    "\n",
    "print(t.new_num, t.num_list, t.letter, t.word)"
   ]
  },
  {
   "cell_type": "code",
   "execution_count": null,
   "metadata": {},
   "outputs": [],
   "source": [
    "print(isinstance(t, Test))        # t is an instance of class Test\n",
    "print(isinstance(t.num, Test))    # attribute is not an instance of an class\n",
    "print(isinstance(t.num, object))  # attribute is not an instance, its an object\n",
    "print(isinstance(t.new_num, object))     # same as above\n",
    "print(isinstance(t.num_list, object))    # same as above\n"
   ]
  },
  {
   "cell_type": "code",
   "execution_count": null,
   "metadata": {},
   "outputs": [],
   "source": [
    "print(dir(t))\n",
    "\n",
    "# We can see all the other variables that were attached \n",
    "# outside the class definition 'new_num', 'num_list', 'word'"
   ]
  },
  {
   "cell_type": "code",
   "execution_count": null,
   "metadata": {},
   "outputs": [],
   "source": [
    "print(hasattr(t,'num'))\n",
    "print(hasattr(t,'new_num'))  # The point is python allows us to add attributes outside the class\n",
    "\n",
    "\n",
    "t2 = Test(8)\n",
    "print(dir(t2))   # Here we can see new_num is not present in t2\n",
    "print(t2.new_num) # This is giving error, but if we assign a value- then t2.new_num will be created"
   ]
  },
  {
   "cell_type": "code",
   "execution_count": 29,
   "metadata": {},
   "outputs": [],
   "source": [
    "# As per the answers in stackoverflow\n",
    "# It is the same case in __init__()\n",
    "\n",
    "# When you initialize self.num at the __init__ aren't you doing exactly the same thing\n",
    "# Just to clarify\n",
    "\n",
    "class Foo(object):\n",
    "    def __init__(self, bar):\n",
    "        self.bar = bar\n",
    "\n",
    "foo = Foo(5)\n",
    "\n",
    "# and this below code\n",
    "\n",
    "class Foo(object):\n",
    "    pass\n",
    "\n",
    "foo = Foo()\n",
    "foo.bar = 5\n",
    "\n",
    "# Both are same. They are exactly equivalent. There really is no difference. \n",
    "# It does exactly the same thing\n",
    "\n",
    "# But we should not alter or add new attributes just because we can.\n",
    "# Dynamic programming language, in computer science, is a class of high-level programming languages which, \n",
    "# at run time, execute many common programming behaviour that static programming languages perform during compilation. \n",
    "# These behaviour could include extension of the program, by adding new code, by extending objects and definitions, \n",
    "# or by modifying the type system. Although similar behaviours can be emulated in nearly any language, \n",
    "# with varying degrees of difficulty, complexity and performance costs, \n",
    "# dynamic languages provide direct tools to make use of them."
   ]
  },
  {
   "cell_type": "code",
   "execution_count": null,
   "metadata": {},
   "outputs": [],
   "source": [
    "# Now how do we prevent modification of attributes outside the class\n",
    "# With _, we can prevent it. But this does not throw any error\n",
    "# This will mislead the developers\n",
    "\n",
    "class Celsius:\n",
    "    def __init__(self, temperature = 0):\n",
    "        self._temperature = temperature\n",
    "\n",
    "    def to_fahrenheit(self):\n",
    "        return (self._temperature * 1.8) + 32\n",
    "    \n",
    "patient = Celsius(37)\n",
    "print(patient._temperature)    # In order to access, We have to access using _\n",
    "print(patient.to_fahrenheit())\n",
    "\n",
    "# Now lets try changing\n",
    "patient.temperature = 0         # This is misleading as developer thinks he has updated the value\n",
    "print(patient.temperature)      # And it doesnt throw any error\n",
    "print(patient.to_fahrenheit())  # This will still refer to 37\n"
   ]
  },
  {
   "cell_type": "code",
   "execution_count": 43,
   "metadata": {},
   "outputs": [
    {
     "name": "stdout",
     "output_type": "stream",
     "text": [
      "37\n",
      "98.60000000000001\n",
      "50\n",
      "122.0\n",
      "50\n"
     ]
    }
   ],
   "source": [
    "# Another method is to use get and set methods\n",
    "\n",
    "class Celsius:\n",
    "    def __init__(self, temperature = 0):\n",
    "        self._temperature = temperature\n",
    "\n",
    "    def to_fahrenheit(self):\n",
    "        return (self._temperature * 1.8) + 32\n",
    "    \n",
    "    def get_temperature(self):\n",
    "        return self._temperature\n",
    "    \n",
    "    def set_temperature(self, new_temp):\n",
    "        self._temperature = new_temp\n",
    "        \n",
    "patient = Celsius(37)\n",
    "print(patient.get_temperature())  # We need access using methods\n",
    "print(patient.to_fahrenheit())\n",
    "patient.set_temperature(50)\n",
    "print(patient.get_temperature())\n",
    "print(patient.to_fahrenheit())\n",
    "print(patient._temperature)  # We still can access it outside\n",
    "\n",
    "# So using get and set we can prevented public access (somehow)"
   ]
  },
  {
   "cell_type": "code",
   "execution_count": 37,
   "metadata": {},
   "outputs": [
    {
     "name": "stdout",
     "output_type": "stream",
     "text": [
      "50\n",
      "-70\n",
      "-94.0\n"
     ]
    }
   ],
   "source": [
    "# Even with _ or get and set methods, in Python\n",
    "# We can access class attributes and modify them\n",
    "\n",
    "print(patient.get_temperature())\n",
    "patient._temperature = -70   \n",
    "print(patient.get_temperature())\n",
    "print(patient.to_fahrenheit())\n",
    "\n",
    "# As we can see we have modified it"
   ]
  },
  {
   "cell_type": "code",
   "execution_count": 40,
   "metadata": {},
   "outputs": [
    {
     "name": "stdout",
     "output_type": "stream",
     "text": [
      "37\n",
      "98.60000000000001\n",
      "50\n",
      "122.0\n"
     ]
    }
   ],
   "source": [
    "# By changing from single to double underscore\n",
    "# Everything is working fine\n",
    "\n",
    "class Celsius:\n",
    "    def __init__(self, temperature = 0):\n",
    "        self.__temperature = temperature\n",
    "\n",
    "    def to_fahrenheit(self):\n",
    "        return (self.__temperature * 1.8) + 32\n",
    "    \n",
    "    def get_temperature(self):\n",
    "        return self.__temperature\n",
    "    \n",
    "    def set_temperature(self, new_temp):\n",
    "        self.__temperature = new_temp\n",
    "        \n",
    "patient = Celsius(37)\n",
    "print(patient.get_temperature())  # We need access using methods\n",
    "print(patient.to_fahrenheit())\n",
    "patient.set_temperature(50)\n",
    "print(patient.get_temperature())\n",
    "print(patient.to_fahrenheit())"
   ]
  },
  {
   "cell_type": "code",
   "execution_count": 42,
   "metadata": {},
   "outputs": [
    {
     "ename": "AttributeError",
     "evalue": "'Celsius' object has no attribute '__temperature'",
     "output_type": "error",
     "traceback": [
      "\u001b[1;31m---------------------------------------------------------------------------\u001b[0m",
      "\u001b[1;31mAttributeError\u001b[0m                            Traceback (most recent call last)",
      "\u001b[1;32m<ipython-input-42-4d83816f9874>\u001b[0m in \u001b[0;36m<module>\u001b[1;34m\u001b[0m\n\u001b[0;32m      1\u001b[0m \u001b[1;31m# Lets try to modify it, this time you will get error\u001b[0m\u001b[1;33m\u001b[0m\u001b[1;33m\u001b[0m\u001b[1;33m\u001b[0m\u001b[0m\n\u001b[0;32m      2\u001b[0m \u001b[1;33m\u001b[0m\u001b[0m\n\u001b[1;32m----> 3\u001b[1;33m \u001b[0mprint\u001b[0m\u001b[1;33m(\u001b[0m\u001b[0mpatient\u001b[0m\u001b[1;33m.\u001b[0m\u001b[0m__temperature\u001b[0m\u001b[1;33m)\u001b[0m\u001b[1;33m\u001b[0m\u001b[1;33m\u001b[0m\u001b[0m\n\u001b[0m",
      "\u001b[1;31mAttributeError\u001b[0m: 'Celsius' object has no attribute '__temperature'"
     ]
    }
   ],
   "source": [
    "# Lets try to access it, this time you will get error\n",
    "\n",
    "print(patient.__temperature)"
   ]
  },
  {
   "cell_type": "code",
   "execution_count": 45,
   "metadata": {},
   "outputs": [
    {
     "name": "stdout",
     "output_type": "stream",
     "text": [
      "50\n"
     ]
    }
   ],
   "source": [
    "# But if we try to create new single underscore temperature\n",
    "# Python will allow as its dynamic\n",
    "\n",
    "patient._temperature = 50\n",
    "print(patient._temperature)"
   ]
  },
  {
   "cell_type": "code",
   "execution_count": 46,
   "metadata": {},
   "outputs": [
    {
     "name": "stdout",
     "output_type": "stream",
     "text": [
      "Manoj\n",
      "_Manoj\n"
     ]
    },
    {
     "ename": "AttributeError",
     "evalue": "'A' object has no attribute '__name'",
     "output_type": "error",
     "traceback": [
      "\u001b[1;31m---------------------------------------------------------------------------\u001b[0m",
      "\u001b[1;31mAttributeError\u001b[0m                            Traceback (most recent call last)",
      "\u001b[1;32m<ipython-input-46-45da6d9763fc>\u001b[0m in \u001b[0;36m<module>\u001b[1;34m\u001b[0m\n\u001b[0;32m     13\u001b[0m \u001b[0mprint\u001b[0m\u001b[1;33m(\u001b[0m\u001b[0ma\u001b[0m\u001b[1;33m.\u001b[0m\u001b[0mname\u001b[0m\u001b[1;33m)\u001b[0m\u001b[1;33m\u001b[0m\u001b[1;33m\u001b[0m\u001b[0m\n\u001b[0;32m     14\u001b[0m \u001b[0mprint\u001b[0m\u001b[1;33m(\u001b[0m\u001b[0ma\u001b[0m\u001b[1;33m.\u001b[0m\u001b[0m_name\u001b[0m\u001b[1;33m)\u001b[0m\u001b[1;33m\u001b[0m\u001b[1;33m\u001b[0m\u001b[0m\n\u001b[1;32m---> 15\u001b[1;33m \u001b[0mprint\u001b[0m\u001b[1;33m(\u001b[0m\u001b[0ma\u001b[0m\u001b[1;33m.\u001b[0m\u001b[0m__name\u001b[0m\u001b[1;33m)\u001b[0m  \u001b[1;31m# We get error because of Name Mangling\u001b[0m\u001b[1;33m\u001b[0m\u001b[1;33m\u001b[0m\u001b[0m\n\u001b[0m",
      "\u001b[1;31mAttributeError\u001b[0m: 'A' object has no attribute '__name'"
     ]
    }
   ],
   "source": [
    "# Lets understand Name Mangling by using dunders\n",
    "\n",
    "# While understanding properties, its little confusing to understand private attribute\n",
    "# We can achieve private using double underscores\n",
    "\n",
    "class A:\n",
    "    def __init__(self):\n",
    "        self.name = 'Manoj'\n",
    "        self._name = '_Manoj'\n",
    "        self.__name = '__Manoj'\n",
    "        \n",
    "a = A()\n",
    "print(a.name)\n",
    "print(a._name)\n",
    "print(a.__name)  # We get error because of Name Mangling"
   ]
  },
  {
   "cell_type": "code",
   "execution_count": 47,
   "metadata": {},
   "outputs": [
    {
     "name": "stdout",
     "output_type": "stream",
     "text": [
      "Manoj\n",
      "_Manoj\n",
      "__Manoj\n"
     ]
    }
   ],
   "source": [
    "class A:\n",
    "    def __init__(self):\n",
    "        self.name = 'Manoj'\n",
    "        self._name = '_Manoj'\n",
    "        self.__name = '__Manoj'\n",
    "        \n",
    "a = A()\n",
    "print(a.name)\n",
    "print(a._name)\n",
    "print(a._A__name)  # Now we dont get error\n",
    "\n",
    "# It because of Name Mangling, we think attributes with double underscores\n",
    "# are treated as private variables"
   ]
  },
  {
   "cell_type": "code",
   "execution_count": 48,
   "metadata": {},
   "outputs": [
    {
     "name": "stdout",
     "output_type": "stream",
     "text": [
      "['_A__name', '__class__', '__delattr__', '__dict__', '__dir__', '__doc__', '__eq__', '__format__', '__ge__', '__getattribute__', '__gt__', '__hash__', '__init__', '__init_subclass__', '__le__', '__lt__', '__module__', '__ne__', '__new__', '__reduce__', '__reduce_ex__', '__repr__', '__setattr__', '__sizeof__', '__str__', '__subclasshook__', '__weakref__', '_name', 'name']\n"
     ]
    }
   ],
   "source": [
    "print(dir(a))\n",
    "\n",
    "# Here the first value is _A__name and we dont find __name"
   ]
  },
  {
   "cell_type": "code",
   "execution_count": 51,
   "metadata": {},
   "outputs": [
    {
     "name": "stdout",
     "output_type": "stream",
     "text": [
      "{'name': 'Manoj', '_name': '_Manoj', '_A__name': '__Manoj'}\n"
     ]
    }
   ],
   "source": [
    "# We can also understand clearly with __dict__\n",
    "# When we try to access an attribute, python searches in __dict__\n",
    "\n",
    "print(a.__dict__)"
   ]
  },
  {
   "cell_type": "code",
   "execution_count": 53,
   "metadata": {},
   "outputs": [
    {
     "name": "stdout",
     "output_type": "stream",
     "text": [
      "{'_Celsius__temperature': 37}\n"
     ]
    }
   ],
   "source": [
    "class Celsius:\n",
    "    def __init__(self, temperature = 0):\n",
    "        self.__temperature = temperature\n",
    "\n",
    "    def to_fahrenheit(self):\n",
    "        return (self.__temperature * 1.8) + 32\n",
    "    \n",
    "    def get_temperature(self):\n",
    "        return self.__temperature\n",
    "    \n",
    "    def set_temperature(self, new_temp):\n",
    "        self.__temperature = new_temp\n",
    "        \n",
    "patient = Celsius(37)\n",
    "print(patient.__dict__)"
   ]
  },
  {
   "cell_type": "code",
   "execution_count": null,
   "metadata": {},
   "outputs": [],
   "source": [
    "# As we can see in both cases, dunder attribute names has been changed\n",
    "# __name = _A__name\n",
    "# __temperature = _Celsius__temperature"
   ]
  },
  {
   "cell_type": "code",
   "execution_count": null,
   "metadata": {},
   "outputs": [],
   "source": [
    "# Note: Internally python translates\n",
    "# a.name to a.__dict__['name']\n",
    "# patient.__temperature to patient.__dict__['__temperature']"
   ]
  },
  {
   "cell_type": "code",
   "execution_count": 54,
   "metadata": {},
   "outputs": [
    {
     "name": "stdout",
     "output_type": "stream",
     "text": [
      "{'name': 'Manoj', '_name': '_Manoj', '_A__name': '__Manoj'}\n",
      "{'_Celsius__temperature': 37}\n"
     ]
    }
   ],
   "source": [
    "print(a.__dict__)\n",
    "print(patient.__dict__)"
   ]
  },
  {
   "cell_type": "code",
   "execution_count": 55,
   "metadata": {},
   "outputs": [
    {
     "data": {
      "text/plain": [
       "'Manoj'"
      ]
     },
     "execution_count": 55,
     "metadata": {},
     "output_type": "execute_result"
    }
   ],
   "source": [
    "a.__dict__['name']"
   ]
  },
  {
   "cell_type": "code",
   "execution_count": 58,
   "metadata": {},
   "outputs": [
    {
     "ename": "KeyError",
     "evalue": "'__temperature'",
     "output_type": "error",
     "traceback": [
      "\u001b[1;31m---------------------------------------------------------------------------\u001b[0m",
      "\u001b[1;31mKeyError\u001b[0m                                  Traceback (most recent call last)",
      "\u001b[1;32m<ipython-input-58-ded621465f65>\u001b[0m in \u001b[0;36m<module>\u001b[1;34m\u001b[0m\n\u001b[1;32m----> 1\u001b[1;33m \u001b[0mpatient\u001b[0m\u001b[1;33m.\u001b[0m\u001b[0m__dict__\u001b[0m\u001b[1;33m[\u001b[0m\u001b[1;34m'__temperature'\u001b[0m\u001b[1;33m]\u001b[0m\u001b[1;33m\u001b[0m\u001b[1;33m\u001b[0m\u001b[0m\n\u001b[0m",
      "\u001b[1;31mKeyError\u001b[0m: '__temperature'"
     ]
    }
   ],
   "source": [
    "patient.__dict__['__temperature']"
   ]
  },
  {
   "cell_type": "code",
   "execution_count": 59,
   "metadata": {},
   "outputs": [
    {
     "data": {
      "text/plain": [
       "37"
      ]
     },
     "execution_count": 59,
     "metadata": {},
     "output_type": "execute_result"
    }
   ],
   "source": [
    "patient.__dict__['_Celsius__temperature']"
   ]
  },
  {
   "cell_type": "code",
   "execution_count": null,
   "metadata": {},
   "outputs": [],
   "source": [
    "# Now, we understood what _ and __ is used and how it works\n",
    "# and how to control using get and set methods\n",
    "\n",
    "# Using get and set methods raises an issue\n",
    "# And thats, Backward compatibility issue\n",
    "\n",
    "# Lets understand with an example\n",
    "# And thats where Property Decorator comes to rescue"
   ]
  },
  {
   "cell_type": "code",
   "execution_count": null,
   "metadata": {},
   "outputs": [],
   "source": [
    "# Before getter and setter, to access attributes we used\n",
    "\n",
    "patient.temperature\n",
    "patient.temperature = 50\n",
    "\n",
    "# After getter and setter, it was replaced with Func calls\n",
    "\n",
    "patient.get_temperature()\n",
    "patient.set_temperature(50)\n"
   ]
  },
  {
   "cell_type": "code",
   "execution_count": null,
   "metadata": {},
   "outputs": [],
   "source": [
    "# The big problem with the above update is that, \n",
    "# all the clients who implemented our previous class in their program \n",
    "# have to modify their code from obj.temperature to obj.get_temperature() \n",
    "# and all assignments like obj.temperature = val to obj.set_temperature(val)\n",
    "\n",
    "# This refactoring can cause headaches to the clients with hundreds of thousands of lines of codes.\n",
    "# All in all, our new update was not backward compatible. This is where property comes to rescue."
   ]
  },
  {
   "cell_type": "code",
   "execution_count": 77,
   "metadata": {},
   "outputs": [
    {
     "name": "stdout",
     "output_type": "stream",
     "text": [
      "<class 'property'>\n",
      "__init__\n",
      "Setting value\n",
      "0\n",
      "Getting value\n",
      "0\n",
      "{'_temperature': 0}\n",
      "['__class__', '__delattr__', '__dict__', '__dir__', '__doc__', '__eq__', '__format__', '__ge__', '__getattribute__', '__gt__', '__hash__', '__init__', '__init_subclass__', '__le__', '__lt__', '__module__', '__ne__', '__new__', '__reduce__', '__reduce_ex__', '__repr__', '__setattr__', '__sizeof__', '__str__', '__subclasshook__', '__weakref__', '_temperature', 'get_temperature', 'set_temperature', 'temperature', 'to_fahrenheit']\n"
     ]
    }
   ],
   "source": [
    "# Properties, the unconventional way\n",
    "\n",
    "class Celsius:\n",
    "    def __init__(self, temperature = 0):\n",
    "        print('__init__')\n",
    "        self.temperature = temperature\n",
    "\n",
    "    def to_fahrenheit(self):\n",
    "        print('to_fahrenheit')\n",
    "        return (self.temperature * 1.8) + 32\n",
    "\n",
    "    def get_temperature(self):   # No special code, its a normal get method \n",
    "        print(\"Getting value\")\n",
    "        return self._temperature\n",
    "\n",
    "    def set_temperature(self, value):   # No special code, its a normal set method \n",
    "        if value < -273:\n",
    "            raise ValueError(\"Temperature below -273 is not possible\")\n",
    "        print(\"Setting value\")\n",
    "        self._temperature = value\n",
    "\n",
    "    temperature = property(get_temperature,set_temperature) # This is where magic is happening\n",
    "    print(type(temperature))  # Its of type <class 'property'>\n",
    "    \n",
    "c = Celsius()\n",
    "print(c._temperature)\n",
    "print(c.temperature)\n",
    "print(c.__dict__)\n",
    "print(dir(c))"
   ]
  },
  {
   "cell_type": "code",
   "execution_count": 70,
   "metadata": {},
   "outputs": [
    {
     "name": "stdout",
     "output_type": "stream",
     "text": [
      "Getting value\n"
     ]
    },
    {
     "data": {
      "text/plain": [
       "int"
      ]
     },
     "execution_count": 70,
     "metadata": {},
     "output_type": "execute_result"
    }
   ],
   "source": [
    "# Lets see what does the below statement doing\n",
    "\n",
    "temperature = property(get_temperature,set_temperature)\n",
    "\n",
    "# This line creates a property object\n",
    "\n",
    "type(c.temperature)  # Its showing the int :)\n",
    "\n",
    "# This will not show the correct type, we need check its type inside the class\n",
    "# Added type() in above class, so type is <class 'property'>"
   ]
  },
  {
   "cell_type": "code",
   "execution_count": null,
   "metadata": {},
   "outputs": [],
   "source": [
    "# temperature = property(get_temperature,set_temperature) represents,\n",
    "\n",
    "# Simply put, property attaches some code (get_temperature and set_temperature) \n",
    "# to the member attribute accesses (temperature)\n",
    "\n",
    "# So in the above code, we have attached 2 methods to temperature"
   ]
  },
  {
   "cell_type": "code",
   "execution_count": 80,
   "metadata": {},
   "outputs": [
    {
     "name": "stdout",
     "output_type": "stream",
     "text": [
      "<class 'property'>\n",
      "__init__\n"
     ]
    },
    {
     "ename": "TypeError",
     "evalue": "get_temperature() takes 1 positional argument but 2 were given",
     "output_type": "error",
     "traceback": [
      "\u001b[1;31m---------------------------------------------------------------------------\u001b[0m",
      "\u001b[1;31mTypeError\u001b[0m                                 Traceback (most recent call last)",
      "\u001b[1;32m<ipython-input-80-ad50d97e9930>\u001b[0m in \u001b[0;36m<module>\u001b[1;34m\u001b[0m\n\u001b[0;32m     24\u001b[0m     \u001b[0mprint\u001b[0m\u001b[1;33m(\u001b[0m\u001b[0mtype\u001b[0m\u001b[1;33m(\u001b[0m\u001b[0mtemperature\u001b[0m\u001b[1;33m)\u001b[0m\u001b[1;33m)\u001b[0m  \u001b[1;31m# Its of type <class 'property'>\u001b[0m\u001b[1;33m\u001b[0m\u001b[1;33m\u001b[0m\u001b[0m\n\u001b[0;32m     25\u001b[0m \u001b[1;33m\u001b[0m\u001b[0m\n\u001b[1;32m---> 26\u001b[1;33m \u001b[0mc\u001b[0m \u001b[1;33m=\u001b[0m \u001b[0mCelsius\u001b[0m\u001b[1;33m(\u001b[0m\u001b[1;33m)\u001b[0m\u001b[1;33m\u001b[0m\u001b[1;33m\u001b[0m\u001b[0m\n\u001b[0m\u001b[0;32m     27\u001b[0m \u001b[0mprint\u001b[0m\u001b[1;33m(\u001b[0m\u001b[0mc\u001b[0m\u001b[1;33m.\u001b[0m\u001b[0m_temperature\u001b[0m\u001b[1;33m)\u001b[0m\u001b[1;33m\u001b[0m\u001b[1;33m\u001b[0m\u001b[0m\n\u001b[0;32m     28\u001b[0m \u001b[0mprint\u001b[0m\u001b[1;33m(\u001b[0m\u001b[0mc\u001b[0m\u001b[1;33m.\u001b[0m\u001b[0mtemperature\u001b[0m\u001b[1;33m)\u001b[0m\u001b[1;33m\u001b[0m\u001b[1;33m\u001b[0m\u001b[0m\n",
      "\u001b[1;32m<ipython-input-80-ad50d97e9930>\u001b[0m in \u001b[0;36m__init__\u001b[1;34m(self, temperature)\u001b[0m\n\u001b[0;32m      4\u001b[0m     \u001b[1;32mdef\u001b[0m \u001b[0m__init__\u001b[0m\u001b[1;33m(\u001b[0m\u001b[0mself\u001b[0m\u001b[1;33m,\u001b[0m \u001b[0mtemperature\u001b[0m \u001b[1;33m=\u001b[0m \u001b[1;36m0\u001b[0m\u001b[1;33m)\u001b[0m\u001b[1;33m:\u001b[0m\u001b[1;33m\u001b[0m\u001b[1;33m\u001b[0m\u001b[0m\n\u001b[0;32m      5\u001b[0m         \u001b[0mprint\u001b[0m\u001b[1;33m(\u001b[0m\u001b[1;34m'__init__'\u001b[0m\u001b[1;33m)\u001b[0m\u001b[1;33m\u001b[0m\u001b[1;33m\u001b[0m\u001b[0m\n\u001b[1;32m----> 6\u001b[1;33m         \u001b[0mself\u001b[0m\u001b[1;33m.\u001b[0m\u001b[0mtemperature\u001b[0m \u001b[1;33m=\u001b[0m \u001b[0mtemperature\u001b[0m\u001b[1;33m\u001b[0m\u001b[1;33m\u001b[0m\u001b[0m\n\u001b[0m\u001b[0;32m      7\u001b[0m \u001b[1;33m\u001b[0m\u001b[0m\n\u001b[0;32m      8\u001b[0m     \u001b[1;32mdef\u001b[0m \u001b[0mto_fahrenheit\u001b[0m\u001b[1;33m(\u001b[0m\u001b[0mself\u001b[0m\u001b[1;33m)\u001b[0m\u001b[1;33m:\u001b[0m\u001b[1;33m\u001b[0m\u001b[1;33m\u001b[0m\u001b[0m\n",
      "\u001b[1;31mTypeError\u001b[0m: get_temperature() takes 1 positional argument but 2 were given"
     ]
    }
   ],
   "source": [
    "# Properties, the unconventional way\n",
    "\n",
    "class Celsius:\n",
    "    def __init__(self, temperature = 0):\n",
    "        print('__init__')\n",
    "        self.temperature = temperature\n",
    "\n",
    "    def to_fahrenheit(self):\n",
    "        print('to_fahrenheit')\n",
    "        return (self.temperature * 1.8) + 32\n",
    "\n",
    "    def get_temperature(self):   \n",
    "        print(\"Getting value\")\n",
    "        return self._temperature\n",
    "\n",
    "    def set_temperature(self, value):   \n",
    "        if value < -273:\n",
    "            raise ValueError(\"Temperature below -273 is not possible\")\n",
    "        print(\"Setting value\")\n",
    "        self._temperature = value\n",
    "\n",
    "    # temperature = property(get_temperature,set_temperature) # Property creation\n",
    "    temperature = property(set_temperature,get_temperature) # When Methods order is reversed, we get error\n",
    "    print(type(temperature))  # Its of type <class 'property'>\n",
    "    \n",
    "c = Celsius()\n",
    "print(c._temperature)\n",
    "print(c.temperature)\n",
    "print(c.__dict__)\n",
    "print(dir(c))"
   ]
  },
  {
   "cell_type": "code",
   "execution_count": null,
   "metadata": {},
   "outputs": [],
   "source": [
    "# We get error, bcoz property() follows a syntax\n",
    "# Property() function is used to create property of a class.\n",
    "# https://www.geeksforgeeks.org/python-property-function/\n",
    "\n",
    "# Syntax: property(fget, fset, fdel, doc)\n",
    "\n",
    "# Parameters:\n",
    "# fget() – used to get the value of attribute\n",
    "# fset() – used to set the value of attribute\n",
    "# fdel() – used to delete the attribute value\n",
    "# doc() – string that contains the documentation (docstring) for the attribute\n",
    "\n",
    "# Return: Returns a property attribute from the given getter, setter and deleter."
   ]
  },
  {
   "cell_type": "code",
   "execution_count": 2,
   "metadata": {
    "scrolled": true
   },
   "outputs": [
    {
     "name": "stdout",
     "output_type": "stream",
     "text": [
      "Help on class property in module builtins:\n",
      "\n",
      "class property(object)\n",
      " |  property(fget=None, fset=None, fdel=None, doc=None)\n",
      " |  \n",
      " |  Property attribute.\n",
      " |  \n",
      " |    fget\n",
      " |      function to be used for getting an attribute value\n",
      " |    fset\n",
      " |      function to be used for setting an attribute value\n",
      " |    fdel\n",
      " |      function to be used for del'ing an attribute\n",
      " |    doc\n",
      " |      docstring\n",
      " |  \n",
      " |  Typical use is to define a managed attribute x:\n",
      " |  \n",
      " |  class C(object):\n",
      " |      def getx(self): return self._x\n",
      " |      def setx(self, value): self._x = value\n",
      " |      def delx(self): del self._x\n",
      " |      x = property(getx, setx, delx, \"I'm the 'x' property.\")\n",
      " |  \n",
      " |  Decorators make defining new properties or modifying existing ones easy:\n",
      " |  \n",
      " |  class C(object):\n",
      " |      @property\n",
      " |      def x(self):\n",
      " |          \"I am the 'x' property.\"\n",
      " |          return self._x\n",
      " |      @x.setter\n",
      " |      def x(self, value):\n",
      " |          self._x = value\n",
      " |      @x.deleter\n",
      " |      def x(self):\n",
      " |          del self._x\n",
      " |  \n",
      " |  Methods defined here:\n",
      " |  \n",
      " |  __delete__(self, instance, /)\n",
      " |      Delete an attribute of instance.\n",
      " |  \n",
      " |  __get__(self, instance, owner, /)\n",
      " |      Return an attribute of instance, which is of type owner.\n",
      " |  \n",
      " |  __getattribute__(self, name, /)\n",
      " |      Return getattr(self, name).\n",
      " |  \n",
      " |  __init__(self, /, *args, **kwargs)\n",
      " |      Initialize self.  See help(type(self)) for accurate signature.\n",
      " |  \n",
      " |  __set__(self, instance, value, /)\n",
      " |      Set an attribute of instance to value.\n",
      " |  \n",
      " |  deleter(...)\n",
      " |      Descriptor to change the deleter on a property.\n",
      " |  \n",
      " |  getter(...)\n",
      " |      Descriptor to change the getter on a property.\n",
      " |  \n",
      " |  setter(...)\n",
      " |      Descriptor to change the setter on a property.\n",
      " |  \n",
      " |  ----------------------------------------------------------------------\n",
      " |  Static methods defined here:\n",
      " |  \n",
      " |  __new__(*args, **kwargs) from builtins.type\n",
      " |      Create and return a new object.  See help(type) for accurate signature.\n",
      " |  \n",
      " |  ----------------------------------------------------------------------\n",
      " |  Data descriptors defined here:\n",
      " |  \n",
      " |  __isabstractmethod__\n",
      " |  \n",
      " |  fdel\n",
      " |  \n",
      " |  fget\n",
      " |  \n",
      " |  fset\n",
      "\n"
     ]
    }
   ],
   "source": [
    "help(property)"
   ]
  },
  {
   "cell_type": "code",
   "execution_count": 9,
   "metadata": {},
   "outputs": [
    {
     "name": "stdout",
     "output_type": "stream",
     "text": [
      "Before __init__ runs, all code outside the def\"s are executed\n",
      "<class 'property'>\n",
      "__init__\n",
      "Setting value\n",
      "_temp =  0\n",
      "Getting value\n",
      "temp =  0\n",
      "{'_temperature': 0}\n",
      "['__class__', '__delattr__', '__dict__', '__dir__', '__doc__', '__eq__', '__format__', '__ge__', '__getattribute__', '__gt__', '__hash__', '__init__', '__init_subclass__', '__le__', '__lt__', '__module__', '__ne__', '__new__', '__reduce__', '__reduce_ex__', '__repr__', '__setattr__', '__sizeof__', '__str__', '__subclasshook__', '__weakref__', '_temperature', 'get_temperature', 'set_temperature', 'temperature', 'to_fahrenheit']\n"
     ]
    }
   ],
   "source": [
    "# Now we understood why we get the error, bcoz the order matters\n",
    "# Lets understand, how the output is displayed\n",
    "\n",
    "class Celsius:\n",
    "    def __init__(self, temperature = 0):\n",
    "        print('__init__')\n",
    "        self.temperature = temperature\n",
    "\n",
    "    def to_fahrenheit(self):\n",
    "        print('to_fahrenheit')\n",
    "        return (self.temperature * 1.8) + 32\n",
    "\n",
    "    def get_temperature(self):   # No special code, its a normal get method \n",
    "        print(\"Getting value\")\n",
    "        return self._temperature\n",
    "\n",
    "    def set_temperature(self, value):   # No special code, its a normal set method \n",
    "        if value < -273:\n",
    "            raise ValueError(\"Temperature below -273 is not possible\")\n",
    "        print(\"Setting value\")\n",
    "        self._temperature = value\n",
    "\n",
    "    print('Before __init__ runs, all code outside the def\"s are executed')\n",
    "    temperature = property(get_temperature,set_temperature) # This is where magic is happening\n",
    "    print(type(temperature))  # Its of type <class 'property'>\n",
    "    \n",
    "c = Celsius()\n",
    "print('_temp = ',c._temperature)   # Outside the class usually we dont use _ variable names\n",
    "print('temp = ',c.temperature)    # This is how we get attributes (without underscores)\n",
    "print(c.__dict__)\n",
    "print(dir(c))"
   ]
  },
  {
   "cell_type": "code",
   "execution_count": 8,
   "metadata": {},
   "outputs": [],
   "source": [
    "# As we can see from the output\n",
    "# Before __init__ runs, property() called temperature has been created\n",
    "# Simply put, property attaches some code (get_temperature and set_temperature) \n",
    "# to the member attribute accesses (temperature).\n",
    "# When ever temperature is executed, based on the usage one of the func is invoked\n",
    "\n",
    "# So how its invoked?\n",
    "# Any code that retrieves the value of temperature will automatically \n",
    "# call get_temperature() instead of a dictionary (__dict__) look-up. \n",
    "# Similarly, any code that assigns a value to temperature will automatically call set_temperature(). \n",
    "# This is one cool feature in Python.\n",
    "\n",
    "# First encounter of the property-temperature\n",
    "# set_temperature() was called, when we created an object\n",
    "\n",
    "# It was during the execution of __init__\n",
    "# The reason is that when an object is created, __init__() method gets called. \n",
    "# This method has the line self.temperature = temperature. \n",
    "# This assignment automatically called set_temperature()\n",
    "\n",
    "c = Celsius()\n",
    "\n",
    "# Inside the __init__(), the below line\n",
    "self.temperature = temperature\n",
    "# Tiggered set_temperature() and printed below output\n",
    "\n",
    "Setting value\n",
    "\n",
    "# Similarly, below line triggered get_temperature()\n",
    "print('temp = ',c.temperature)\n",
    "\n",
    "# And we got the output\n",
    "Getting value"
   ]
  },
  {
   "cell_type": "code",
   "execution_count": null,
   "metadata": {},
   "outputs": [],
   "source": [
    "# Here is what we have achieved\n",
    "\n",
    "# By using property, we can see that, we modified our class and implemented the value constraint \n",
    "# without any change required to the client code. \n",
    "# Thus our implementation was backward compatible and everybody is happy\n",
    "# i.e we for setting and getting values, we are not calling methods\n",
    "\n",
    "# Finally note that, the actual temperature value is stored in the private variable _temperature. \n",
    "# The attribute temperature is JUST a property object which provides INTERFACE to this private variable.\n"
   ]
  },
  {
   "cell_type": "code",
   "execution_count": null,
   "metadata": {},
   "outputs": [],
   "source": []
  },
  {
   "cell_type": "code",
   "execution_count": null,
   "metadata": {},
   "outputs": [],
   "source": []
  },
  {
   "cell_type": "code",
   "execution_count": null,
   "metadata": {},
   "outputs": [],
   "source": []
  },
  {
   "cell_type": "code",
   "execution_count": null,
   "metadata": {},
   "outputs": [],
   "source": []
  },
  {
   "cell_type": "code",
   "execution_count": null,
   "metadata": {},
   "outputs": [],
   "source": []
  },
  {
   "cell_type": "code",
   "execution_count": null,
   "metadata": {},
   "outputs": [],
   "source": []
  },
  {
   "cell_type": "code",
   "execution_count": null,
   "metadata": {},
   "outputs": [],
   "source": []
  },
  {
   "cell_type": "code",
   "execution_count": null,
   "metadata": {},
   "outputs": [],
   "source": []
  },
  {
   "cell_type": "code",
   "execution_count": null,
   "metadata": {},
   "outputs": [],
   "source": []
  },
  {
   "cell_type": "code",
   "execution_count": null,
   "metadata": {},
   "outputs": [],
   "source": []
  },
  {
   "cell_type": "code",
   "execution_count": 14,
   "metadata": {},
   "outputs": [
    {
     "name": "stdout",
     "output_type": "stream",
     "text": [
      "Setting value\n",
      "Getting value\n",
      "0\n",
      "Setting value\n",
      "Getting value\n"
     ]
    },
    {
     "data": {
      "text/plain": [
       "98.60000000000001"
      ]
     },
     "execution_count": 14,
     "metadata": {},
     "output_type": "execute_result"
    }
   ],
   "source": [
    "class Celsius:\n",
    "    def __init__(self, temperature = 0):\n",
    "        self.temperature = temperature\n",
    "\n",
    "    def to_fahrenheit(self):\n",
    "        return (self.temperature * 1.8) + 32\n",
    "\n",
    "    def get_temperature(self):\n",
    "        print(\"Getting value\")\n",
    "        return self._temperature\n",
    "\n",
    "    def set_temperature(self, value):\n",
    "        if value < -273:\n",
    "            raise ValueError(\"Temperature below -273 is not possible\")\n",
    "        print(\"Setting value\")\n",
    "        self._temperature = value\n",
    "\n",
    "    temperature = property(get_temperature,set_temperature)\n",
    "    \n",
    "c = Celsius()\n",
    "print(c.temperature)\n",
    "c.temperature = 37\n",
    "c.to_fahrenheit()"
   ]
  },
  {
   "cell_type": "code",
   "execution_count": 49,
   "metadata": {},
   "outputs": [
    {
     "data": {
      "text/plain": [
       "{'name': 'Manoj', '_name': '_Manoj', '_A__name': '__Manoj'}"
      ]
     },
     "execution_count": 49,
     "metadata": {},
     "output_type": "execute_result"
    }
   ],
   "source": []
  },
  {
   "cell_type": "code",
   "execution_count": null,
   "metadata": {},
   "outputs": [],
   "source": []
  },
  {
   "cell_type": "code",
   "execution_count": null,
   "metadata": {},
   "outputs": [],
   "source": []
  },
  {
   "cell_type": "code",
   "execution_count": null,
   "metadata": {},
   "outputs": [],
   "source": []
  },
  {
   "cell_type": "code",
   "execution_count": null,
   "metadata": {},
   "outputs": [],
   "source": []
  },
  {
   "cell_type": "code",
   "execution_count": null,
   "metadata": {},
   "outputs": [],
   "source": []
  },
  {
   "cell_type": "code",
   "execution_count": null,
   "metadata": {},
   "outputs": [],
   "source": []
  },
  {
   "cell_type": "code",
   "execution_count": null,
   "metadata": {},
   "outputs": [],
   "source": []
  },
  {
   "cell_type": "code",
   "execution_count": null,
   "metadata": {},
   "outputs": [],
   "source": []
  },
  {
   "cell_type": "code",
   "execution_count": null,
   "metadata": {},
   "outputs": [],
   "source": []
  },
  {
   "cell_type": "code",
   "execution_count": 6,
   "metadata": {},
   "outputs": [
    {
     "name": "stdout",
     "output_type": "stream",
     "text": [
      "Setting value\n",
      "Getting value\n",
      "0\n",
      "Setting value\n",
      "Getting value\n"
     ]
    },
    {
     "data": {
      "text/plain": [
       "98.60000000000001"
      ]
     },
     "execution_count": 6,
     "metadata": {},
     "output_type": "execute_result"
    }
   ],
   "source": []
  },
  {
   "cell_type": "code",
   "execution_count": 11,
   "metadata": {},
   "outputs": [
    {
     "name": "stdout",
     "output_type": "stream",
     "text": [
      "Selling Price: 900\n",
      "1000\n",
      "1000\n",
      "Selling Price: 900\n",
      "Selling Price: 1000\n"
     ]
    }
   ],
   "source": [
    "class Computer:\n",
    "\n",
    "    def __init__(self):\n",
    "        self.__maxprice = 900\n",
    "\n",
    "    def sell(self):\n",
    "        print(\"Selling Price: {}\".format(self.__maxprice))\n",
    "\n",
    "    def setMaxPrice(self, price):\n",
    "        self.__maxprice = price\n",
    "\n",
    "c = Computer()\n",
    "c.sell()\n",
    "\n",
    "# change the price\n",
    "c.__maxprice = 1000   # How the values are not changed??? \n",
    "# This is not changed because of Name Mangling '_Computer__maxprice' :)\n",
    "# If we had used single undescore, then the value would have changed\n",
    "\n",
    "print(c.__maxprice)\n",
    "print(c.__maxprice)\n",
    "c.sell()\n",
    "\n",
    "# using setter function\n",
    "c.setMaxPrice(1000)\n",
    "c.sell()"
   ]
  },
  {
   "cell_type": "code",
   "execution_count": 13,
   "metadata": {},
   "outputs": [
    {
     "name": "stdout",
     "output_type": "stream",
     "text": [
      "['_Computer__maxprice', '__class__', '__delattr__', '__dict__', '__dir__', '__doc__', '__eq__', '__format__', '__ge__', '__getattribute__', '__gt__', '__hash__', '__init__', '__init_subclass__', '__le__', '__lt__', '__maxprice', '__module__', '__ne__', '__new__', '__reduce__', '__reduce_ex__', '__repr__', '__setattr__', '__sizeof__', '__str__', '__subclasshook__', '__weakref__', 'sell', 'setMaxPrice']\n"
     ]
    }
   ],
   "source": [
    "print(dir(c))"
   ]
  },
  {
   "cell_type": "code",
   "execution_count": null,
   "metadata": {},
   "outputs": [],
   "source": []
  },
  {
   "cell_type": "code",
   "execution_count": null,
   "metadata": {},
   "outputs": [],
   "source": []
  },
  {
   "cell_type": "code",
   "execution_count": null,
   "metadata": {},
   "outputs": [],
   "source": []
  },
  {
   "cell_type": "code",
   "execution_count": null,
   "metadata": {},
   "outputs": [],
   "source": []
  },
  {
   "cell_type": "code",
   "execution_count": null,
   "metadata": {},
   "outputs": [],
   "source": []
  }
 ],
 "metadata": {
  "kernelspec": {
   "display_name": "Python 3",
   "language": "python",
   "name": "python3"
  },
  "language_info": {
   "codemirror_mode": {
    "name": "ipython",
    "version": 3
   },
   "file_extension": ".py",
   "mimetype": "text/x-python",
   "name": "python",
   "nbconvert_exporter": "python",
   "pygments_lexer": "ipython3",
   "version": "3.7.3"
  }
 },
 "nbformat": 4,
 "nbformat_minor": 2
}
