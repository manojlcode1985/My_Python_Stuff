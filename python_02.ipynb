{
 "cells": [
  {
   "cell_type": "code",
   "execution_count": null,
   "metadata": {},
   "outputs": [],
   "source": [
    "# Topics\n",
    "# Functions\n",
    "\n",
    "# Note:\n",
    "# DRY - Dont Repeat Yourself\n",
    "# WET - Write Everything Twice\n",
    "# If we overwrite/define a same function twice, the latest one will be considered (similar to variables)"
   ]
  },
  {
   "cell_type": "code",
   "execution_count": null,
   "metadata": {},
   "outputs": [],
   "source": [
    "# return keyword\n",
    "\n",
    "# this exists the function\n",
    "# output more than one value using tuple packing\n",
    "# pops the function off of the call stack"
   ]
  },
  {
   "cell_type": "code",
   "execution_count": 4,
   "metadata": {},
   "outputs": [
    {
     "name": "stdout",
     "output_type": "stream",
     "text": [
      "HEADS\n",
      "HEADS\n",
      "TAILS\n",
      "TAILS\n",
      "HEADS\n",
      "HEADS\n"
     ]
    }
   ],
   "source": [
    "# Flip coin\n",
    "\n",
    "from random import random\n",
    "\n",
    "def filp_coin():\n",
    "    if random() > 0.5:\n",
    "        return 'HEADS'\n",
    "    else:\n",
    "        return 'TAILS'\n",
    "\n",
    "print(filp_coin())\n",
    "print(filp_coin())\n",
    "print(filp_coin())\n",
    "print(filp_coin())\n",
    "print(filp_coin())\n",
    "print(filp_coin())\n",
    "\n",
    "# [filp_coin() for i in range(10)]"
   ]
  },
  {
   "cell_type": "code",
   "execution_count": null,
   "metadata": {},
   "outputs": [],
   "source": [
    "# Parameters v/s Arguments\n",
    "# parameter - its a variable in a method definition\n",
    "# that is, its the variable present in declartion of a function\n",
    "\n",
    "# arguments - its the data we pass into the method's parameters\n",
    "# Note:\n",
    "# Passing vars = Arguments\n",
    "# Receiving vars = Parameters"
   ]
  },
  {
   "cell_type": "code",
   "execution_count": 6,
   "metadata": {},
   "outputs": [
    {
     "name": "stdout",
     "output_type": "stream",
     "text": [
      "1\n"
     ]
    }
   ],
   "source": [
    "# Common mistakes while returning\n",
    "\n",
    "def sum_of_odd_numbers(numbers):\n",
    "    sum = 0\n",
    "    for n in numbers:\n",
    "        if n%2 != 0:\n",
    "            sum +=n\n",
    "        return sum\n",
    "    \n",
    "print(sum_of_odd_numbers([1,2,3,4,5,6,7]))\n",
    "\n",
    "# This should return 1+3+5+7 = 16\n",
    "# Instead its returning 1. why?\n"
   ]
  },
  {
   "cell_type": "code",
   "execution_count": 7,
   "metadata": {},
   "outputs": [
    {
     "name": "stdout",
     "output_type": "stream",
     "text": [
      "16\n"
     ]
    }
   ],
   "source": [
    "# Its because the return should be outside of for loop\n",
    "\n",
    "def sum_of_odd_numbers(numbers):\n",
    "    sum = 0\n",
    "    for n in numbers:\n",
    "        if n%2 != 0:\n",
    "            sum +=n\n",
    "    return sum\n",
    "    \n",
    "print(sum_of_odd_numbers([1,2,3,4,5,6,7]))"
   ]
  },
  {
   "cell_type": "code",
   "execution_count": 8,
   "metadata": {},
   "outputs": [
    {
     "name": "stdout",
     "output_type": "stream",
     "text": [
      "False\n",
      "True\n"
     ]
    }
   ],
   "source": [
    "# eg. 2\n",
    "\n",
    "def is_odd_number(num):\n",
    "    if num % 2 != 0:\n",
    "        return True\n",
    "    else:\n",
    "        return False\n",
    "\n",
    "print(is_odd_number(4))\n",
    "print(is_odd_number(5))\n",
    "\n",
    "# Here the func is working as expected\n",
    "# But there is a redundant else statement\n",
    "# since its a return statement, we dont need else"
   ]
  },
  {
   "cell_type": "code",
   "execution_count": 9,
   "metadata": {},
   "outputs": [
    {
     "name": "stdout",
     "output_type": "stream",
     "text": [
      "False\n",
      "True\n"
     ]
    }
   ],
   "source": [
    "def is_odd_number(num):\n",
    "    if num % 2 != 0:\n",
    "        return True\n",
    "    return False\n",
    "\n",
    "print(is_odd_number(4))\n",
    "print(is_odd_number(5))"
   ]
  },
  {
   "cell_type": "code",
   "execution_count": null,
   "metadata": {},
   "outputs": [],
   "source": [
    "# Note: Always have default parameters\n",
    "# This avoids errors with incorrect parameters\n",
    "# Also make function more readable\n"
   ]
  },
  {
   "cell_type": "code",
   "execution_count": 16,
   "metadata": {},
   "outputs": [
    {
     "name": "stdout",
     "output_type": "stream",
     "text": [
      "11\n",
      "11\n",
      "-3\n",
      "28\n"
     ]
    }
   ],
   "source": [
    "# Note: we can have another function as a parameter\n",
    "\n",
    "def add(a,b):\n",
    "    return a+b\n",
    "\n",
    "def sub(a,b):\n",
    "    return(a-b)\n",
    "\n",
    "def mul(a,b):\n",
    "    return a*b\n",
    "\n",
    "def math(a,b, fun=add):\n",
    "    return fun(a,b)\n",
    "\n",
    "\n",
    "print(math(4,7))\n",
    "print(math(4,7,add))  # Here passing add in quotes gives error. print(math(4,7,'add'))\n",
    "print(math(4,7,sub))\n",
    "print(math(4,7,mul))\n"
   ]
  },
  {
   "cell_type": "code",
   "execution_count": 19,
   "metadata": {},
   "outputs": [
    {
     "name": "stdout",
     "output_type": "stream",
     "text": [
      "woof\n",
      "woof\n",
      "oink\n",
      "quack\n",
      "meow\n",
      "?\n",
      "?\n"
     ]
    }
   ],
   "source": [
    "# The below function can be shortened using dictionary\n",
    "\n",
    "def speak(animal=\"dog\"):\n",
    "    if animal == \"pig\":\n",
    "        return \"oink\"\n",
    "    elif animal == \"duck\":\n",
    "         return \"quack\"\n",
    "    elif animal == \"cat\":\n",
    "        return \"meow\"\n",
    "    elif animal == \"dog\":\n",
    "        return \"woof\"\n",
    "    else:\n",
    "        return \"?\"\n",
    "    \n",
    "print(speak())\n",
    "print(speak('dog'))\n",
    "print(speak('pig'))\n",
    "print(speak('duck'))\n",
    "print(speak('cat'))\n",
    "print(speak('wolf'))\n",
    "print(speak('tiger'))"
   ]
  },
  {
   "cell_type": "code",
   "execution_count": 20,
   "metadata": {},
   "outputs": [
    {
     "name": "stdout",
     "output_type": "stream",
     "text": [
      "woof\n",
      "woof\n",
      "oink\n",
      "quack\n",
      "meow\n",
      "?\n",
      "?\n"
     ]
    }
   ],
   "source": [
    "# Using dictionary\n",
    "\n",
    "def speak(animal=\"dog\"):\n",
    "    noises = {\"dog\": \"woof\", \"pig\": \"oink\", \"duck\": \"quack\", \"cat\": \"meow\"}\n",
    "    noise = noises.get(animal)\n",
    "    if noise:\n",
    "        return noise\n",
    "    return \"?\"\n",
    "\n",
    "print(speak())\n",
    "print(speak('dog'))\n",
    "print(speak('pig'))\n",
    "print(speak('duck'))\n",
    "print(speak('cat'))\n",
    "print(speak('wolf'))\n",
    "print(speak('tiger'))"
   ]
  },
  {
   "cell_type": "code",
   "execution_count": null,
   "metadata": {},
   "outputs": [],
   "source": [
    "# Note: Keyword arguments - Here order of arguments does not matter\n",
    "# We may not see its value now, but its useful \n",
    "# Used extensively, when passing a dict to a function and unpacking its values."
   ]
  },
  {
   "cell_type": "code",
   "execution_count": null,
   "metadata": {},
   "outputs": [],
   "source": [
    "# Note: While defining a function when we use = sign - Default Parameters\n",
    "# eg. def add(num1=0, num2=0)\n",
    "\n",
    "# While invoking a function when we use = sign - Keyword Arguments\n",
    "# eg. add(num2=5, num1=7)"
   ]
  },
  {
   "cell_type": "code",
   "execution_count": 24,
   "metadata": {},
   "outputs": [
    {
     "ename": "UnboundLocalError",
     "evalue": "local variable 'total' referenced before assignment",
     "output_type": "error",
     "traceback": [
      "\u001b[1;31m---------------------------------------------------------------------------\u001b[0m",
      "\u001b[1;31mUnboundLocalError\u001b[0m                         Traceback (most recent call last)",
      "\u001b[1;32m<ipython-input-24-1b5b2eff002b>\u001b[0m in \u001b[0;36m<module>\u001b[1;34m\u001b[0m\n\u001b[0;32m      9\u001b[0m     \u001b[1;32mreturn\u001b[0m \u001b[0mtotal\u001b[0m\u001b[1;33m\u001b[0m\u001b[1;33m\u001b[0m\u001b[0m\n\u001b[0;32m     10\u001b[0m \u001b[1;33m\u001b[0m\u001b[0m\n\u001b[1;32m---> 11\u001b[1;33m \u001b[0mprint\u001b[0m\u001b[1;33m(\u001b[0m\u001b[0mincrement\u001b[0m\u001b[1;33m(\u001b[0m\u001b[1;33m)\u001b[0m\u001b[1;33m)\u001b[0m\u001b[1;33m\u001b[0m\u001b[1;33m\u001b[0m\u001b[0m\n\u001b[0m\u001b[0;32m     12\u001b[0m \u001b[0mprint\u001b[0m\u001b[1;33m(\u001b[0m\u001b[0mincrement\u001b[0m\u001b[1;33m(\u001b[0m\u001b[1;33m)\u001b[0m\u001b[1;33m)\u001b[0m\u001b[1;33m\u001b[0m\u001b[1;33m\u001b[0m\u001b[0m\n\u001b[0;32m     13\u001b[0m \u001b[0mprint\u001b[0m\u001b[1;33m(\u001b[0m\u001b[0mincrement\u001b[0m\u001b[1;33m(\u001b[0m\u001b[1;33m)\u001b[0m\u001b[1;33m)\u001b[0m\u001b[1;33m\u001b[0m\u001b[1;33m\u001b[0m\u001b[0m\n",
      "\u001b[1;32m<ipython-input-24-1b5b2eff002b>\u001b[0m in \u001b[0;36mincrement\u001b[1;34m()\u001b[0m\n\u001b[0;32m      6\u001b[0m \u001b[1;33m\u001b[0m\u001b[0m\n\u001b[0;32m      7\u001b[0m \u001b[1;32mdef\u001b[0m \u001b[0mincrement\u001b[0m\u001b[1;33m(\u001b[0m\u001b[1;33m)\u001b[0m\u001b[1;33m:\u001b[0m\u001b[1;33m\u001b[0m\u001b[1;33m\u001b[0m\u001b[0m\n\u001b[1;32m----> 8\u001b[1;33m     \u001b[0mtotal\u001b[0m \u001b[1;33m+=\u001b[0m \u001b[1;36m1\u001b[0m\u001b[1;33m\u001b[0m\u001b[1;33m\u001b[0m\u001b[0m\n\u001b[0m\u001b[0;32m      9\u001b[0m     \u001b[1;32mreturn\u001b[0m \u001b[0mtotal\u001b[0m\u001b[1;33m\u001b[0m\u001b[1;33m\u001b[0m\u001b[0m\n\u001b[0;32m     10\u001b[0m \u001b[1;33m\u001b[0m\u001b[0m\n",
      "\u001b[1;31mUnboundLocalError\u001b[0m: local variable 'total' referenced before assignment"
     ]
    }
   ],
   "source": [
    "# Local v/s Global\n",
    "\n",
    "# Note: The below function seems correct but it gives an error\n",
    "# This function acts as an counter across many functions\n",
    "\n",
    "total = 0 # This is a global variable\n",
    "\n",
    "def increment():\n",
    "    total += 1\n",
    "    return total\n",
    "\n",
    "print(increment())\n",
    "print(increment())\n",
    "print(increment())\n",
    "print(increment())\n",
    "\n",
    "# We get this error, because in the func increment()\n",
    "# python is expecting a local variable defined\n",
    "# to avoid this we need to tell python interpreter\n",
    "# that it is a global variable, using global keyword"
   ]
  },
  {
   "cell_type": "code",
   "execution_count": 23,
   "metadata": {},
   "outputs": [
    {
     "name": "stdout",
     "output_type": "stream",
     "text": [
      "1\n",
      "2\n",
      "3\n",
      "4\n"
     ]
    }
   ],
   "source": [
    "total = 0 # This is a global variable\n",
    "\n",
    "def increment():\n",
    "    global total  # Let interpreter know that total is a global variable\n",
    "    total += 1\n",
    "    return total\n",
    "\n",
    "print(increment())\n",
    "print(increment())\n",
    "print(increment())\n",
    "print(increment())\n"
   ]
  },
  {
   "cell_type": "code",
   "execution_count": 25,
   "metadata": {},
   "outputs": [
    {
     "ename": "UnboundLocalError",
     "evalue": "local variable 'count' referenced before assignment",
     "output_type": "error",
     "traceback": [
      "\u001b[1;31m---------------------------------------------------------------------------\u001b[0m",
      "\u001b[1;31mUnboundLocalError\u001b[0m                         Traceback (most recent call last)",
      "\u001b[1;32m<ipython-input-25-d3fce420633a>\u001b[0m in \u001b[0;36m<module>\u001b[1;34m\u001b[0m\n\u001b[0;32m     12\u001b[0m     \u001b[1;32mreturn\u001b[0m \u001b[0minner\u001b[0m\u001b[1;33m(\u001b[0m\u001b[1;33m)\u001b[0m\u001b[1;33m\u001b[0m\u001b[1;33m\u001b[0m\u001b[0m\n\u001b[0;32m     13\u001b[0m \u001b[1;33m\u001b[0m\u001b[0m\n\u001b[1;32m---> 14\u001b[1;33m \u001b[0mprint\u001b[0m\u001b[1;33m(\u001b[0m\u001b[0mouter\u001b[0m\u001b[1;33m(\u001b[0m\u001b[1;33m)\u001b[0m\u001b[1;33m)\u001b[0m\u001b[1;33m\u001b[0m\u001b[1;33m\u001b[0m\u001b[0m\n\u001b[0m",
      "\u001b[1;32m<ipython-input-25-d3fce420633a>\u001b[0m in \u001b[0;36mouter\u001b[1;34m()\u001b[0m\n\u001b[0;32m     10\u001b[0m         \u001b[0mcount\u001b[0m\u001b[1;33m+=\u001b[0m\u001b[1;36m1\u001b[0m\u001b[1;33m\u001b[0m\u001b[1;33m\u001b[0m\u001b[0m\n\u001b[0;32m     11\u001b[0m         \u001b[1;32mreturn\u001b[0m \u001b[0mcount\u001b[0m\u001b[1;33m\u001b[0m\u001b[1;33m\u001b[0m\u001b[0m\n\u001b[1;32m---> 12\u001b[1;33m     \u001b[1;32mreturn\u001b[0m \u001b[0minner\u001b[0m\u001b[1;33m(\u001b[0m\u001b[1;33m)\u001b[0m\u001b[1;33m\u001b[0m\u001b[1;33m\u001b[0m\u001b[0m\n\u001b[0m\u001b[0;32m     13\u001b[0m \u001b[1;33m\u001b[0m\u001b[0m\n\u001b[0;32m     14\u001b[0m \u001b[0mprint\u001b[0m\u001b[1;33m(\u001b[0m\u001b[0mouter\u001b[0m\u001b[1;33m(\u001b[0m\u001b[1;33m)\u001b[0m\u001b[1;33m)\u001b[0m\u001b[1;33m\u001b[0m\u001b[1;33m\u001b[0m\u001b[0m\n",
      "\u001b[1;32m<ipython-input-25-d3fce420633a>\u001b[0m in \u001b[0;36minner\u001b[1;34m()\u001b[0m\n\u001b[0;32m      8\u001b[0m     \u001b[0mcount\u001b[0m \u001b[1;33m=\u001b[0m \u001b[1;36m0\u001b[0m\u001b[1;33m\u001b[0m\u001b[1;33m\u001b[0m\u001b[0m\n\u001b[0;32m      9\u001b[0m     \u001b[1;32mdef\u001b[0m \u001b[0minner\u001b[0m\u001b[1;33m(\u001b[0m\u001b[1;33m)\u001b[0m\u001b[1;33m:\u001b[0m\u001b[1;33m\u001b[0m\u001b[1;33m\u001b[0m\u001b[0m\n\u001b[1;32m---> 10\u001b[1;33m         \u001b[0mcount\u001b[0m\u001b[1;33m+=\u001b[0m\u001b[1;36m1\u001b[0m\u001b[1;33m\u001b[0m\u001b[1;33m\u001b[0m\u001b[0m\n\u001b[0m\u001b[0;32m     11\u001b[0m         \u001b[1;32mreturn\u001b[0m \u001b[0mcount\u001b[0m\u001b[1;33m\u001b[0m\u001b[1;33m\u001b[0m\u001b[0m\n\u001b[0;32m     12\u001b[0m     \u001b[1;32mreturn\u001b[0m \u001b[0minner\u001b[0m\u001b[1;33m(\u001b[0m\u001b[1;33m)\u001b[0m\u001b[1;33m\u001b[0m\u001b[1;33m\u001b[0m\u001b[0m\n",
      "\u001b[1;31mUnboundLocalError\u001b[0m: local variable 'count' referenced before assignment"
     ]
    }
   ],
   "source": [
    "# Note: nonlocal\n",
    "# This is not much used, but it helps understanding the scope of variables\n",
    "\n",
    "# Note: we can define a function inside another function\n",
    "\n",
    "def outer():\n",
    "    count = 0\n",
    "    def inner():\n",
    "        count+=1\n",
    "        return count\n",
    "    return inner()\n",
    "\n",
    "print(outer())\n",
    "\n",
    "# We are getting below error, thats similar to global error we got earlier."
   ]
  },
  {
   "cell_type": "code",
   "execution_count": 5,
   "metadata": {},
   "outputs": [
    {
     "name": "stdout",
     "output_type": "stream",
     "text": [
      "OUTER - 0\n"
     ]
    },
    {
     "ename": "UnboundLocalError",
     "evalue": "local variable 'count' referenced before assignment",
     "output_type": "error",
     "traceback": [
      "\u001b[1;31m---------------------------------------------------------------------------\u001b[0m",
      "\u001b[1;31mUnboundLocalError\u001b[0m                         Traceback (most recent call last)",
      "\u001b[1;32m<ipython-input-5-243960760200>\u001b[0m in \u001b[0;36m<module>\u001b[1;34m\u001b[0m\n\u001b[0;32m      8\u001b[0m     \u001b[1;32mreturn\u001b[0m \u001b[0minner\u001b[0m\u001b[1;33m(\u001b[0m\u001b[1;33m)\u001b[0m\u001b[1;33m\u001b[0m\u001b[1;33m\u001b[0m\u001b[0m\n\u001b[0;32m      9\u001b[0m \u001b[1;33m\u001b[0m\u001b[0m\n\u001b[1;32m---> 10\u001b[1;33m \u001b[0mprint\u001b[0m\u001b[1;33m(\u001b[0m\u001b[0mouter\u001b[0m\u001b[1;33m(\u001b[0m\u001b[1;33m)\u001b[0m\u001b[1;33m)\u001b[0m\u001b[1;33m\u001b[0m\u001b[1;33m\u001b[0m\u001b[0m\n\u001b[0m",
      "\u001b[1;32m<ipython-input-5-243960760200>\u001b[0m in \u001b[0;36mouter\u001b[1;34m()\u001b[0m\n\u001b[0;32m      6\u001b[0m         \u001b[0mprint\u001b[0m\u001b[1;33m(\u001b[0m\u001b[1;34mf'INNER - {count}'\u001b[0m\u001b[1;33m)\u001b[0m\u001b[1;33m\u001b[0m\u001b[1;33m\u001b[0m\u001b[0m\n\u001b[0;32m      7\u001b[0m         \u001b[1;32mreturn\u001b[0m \u001b[0mcount\u001b[0m\u001b[1;33m\u001b[0m\u001b[1;33m\u001b[0m\u001b[0m\n\u001b[1;32m----> 8\u001b[1;33m     \u001b[1;32mreturn\u001b[0m \u001b[0minner\u001b[0m\u001b[1;33m(\u001b[0m\u001b[1;33m)\u001b[0m\u001b[1;33m\u001b[0m\u001b[1;33m\u001b[0m\u001b[0m\n\u001b[0m\u001b[0;32m      9\u001b[0m \u001b[1;33m\u001b[0m\u001b[0m\n\u001b[0;32m     10\u001b[0m \u001b[0mprint\u001b[0m\u001b[1;33m(\u001b[0m\u001b[0mouter\u001b[0m\u001b[1;33m(\u001b[0m\u001b[1;33m)\u001b[0m\u001b[1;33m)\u001b[0m\u001b[1;33m\u001b[0m\u001b[1;33m\u001b[0m\u001b[0m\n",
      "\u001b[1;32m<ipython-input-5-243960760200>\u001b[0m in \u001b[0;36minner\u001b[1;34m()\u001b[0m\n\u001b[0;32m      3\u001b[0m     \u001b[0mprint\u001b[0m\u001b[1;33m(\u001b[0m\u001b[1;34mf'OUTER - {count}'\u001b[0m\u001b[1;33m)\u001b[0m\u001b[1;33m\u001b[0m\u001b[1;33m\u001b[0m\u001b[0m\n\u001b[0;32m      4\u001b[0m     \u001b[1;32mdef\u001b[0m \u001b[0minner\u001b[0m\u001b[1;33m(\u001b[0m\u001b[1;33m)\u001b[0m\u001b[1;33m:\u001b[0m\u001b[1;33m\u001b[0m\u001b[1;33m\u001b[0m\u001b[0m\n\u001b[1;32m----> 5\u001b[1;33m         \u001b[0mcount\u001b[0m\u001b[1;33m+=\u001b[0m\u001b[1;36m1\u001b[0m\u001b[1;33m\u001b[0m\u001b[1;33m\u001b[0m\u001b[0m\n\u001b[0m\u001b[0;32m      6\u001b[0m         \u001b[0mprint\u001b[0m\u001b[1;33m(\u001b[0m\u001b[1;34mf'INNER - {count}'\u001b[0m\u001b[1;33m)\u001b[0m\u001b[1;33m\u001b[0m\u001b[1;33m\u001b[0m\u001b[0m\n\u001b[0;32m      7\u001b[0m         \u001b[1;32mreturn\u001b[0m \u001b[0mcount\u001b[0m\u001b[1;33m\u001b[0m\u001b[1;33m\u001b[0m\u001b[0m\n",
      "\u001b[1;31mUnboundLocalError\u001b[0m: local variable 'count' referenced before assignment"
     ]
    }
   ],
   "source": [
    "def outer():\n",
    "    count = 0\n",
    "    print(f'OUTER - {count}')\n",
    "    def inner():\n",
    "        count+=1\n",
    "        print(f'INNER - {count}')\n",
    "        return count\n",
    "    return inner()\n",
    "\n",
    "print(outer())\n",
    "\n",
    "# Here the second print statement is not printed"
   ]
  },
  {
   "cell_type": "code",
   "execution_count": 28,
   "metadata": {},
   "outputs": [
    {
     "name": "stdout",
     "output_type": "stream",
     "text": [
      "1\n",
      "1\n",
      "1\n",
      "1\n"
     ]
    }
   ],
   "source": [
    "# Here in the below code, while executing only 2 statements are present in outer()\n",
    "# one is count = 0 and another is return inner()\n",
    "# Once the second statement is run, then control flows to inner() fucn and returns count\n",
    "\n",
    "def outer():\n",
    "    count = 0\n",
    "    def inner():\n",
    "        nonlocal count   # Here we are telling this count is not a global but its present outside this function\n",
    "        count+=1\n",
    "        return count\n",
    "    return inner()\n",
    "\n",
    "print(outer())\n",
    "print(outer())\n",
    "print(outer())\n",
    "print(outer())"
   ]
  },
  {
   "cell_type": "code",
   "execution_count": 29,
   "metadata": {},
   "outputs": [
    {
     "data": {
      "text/plain": [
       "'A simple func that returns hello'"
      ]
     },
     "execution_count": 29,
     "metadata": {},
     "output_type": "execute_result"
    }
   ],
   "source": [
    "# Note: Doc string is always the first line of the function\n",
    "\n",
    "def hello():\n",
    "    \"\"\"A simple func that returns hello\"\"\"\n",
    "    return 'hello!!'\n",
    "\n",
    "# Note: We can actually access it using .__doc__\n",
    "hello.__doc__"
   ]
  },
  {
   "cell_type": "code",
   "execution_count": 30,
   "metadata": {},
   "outputs": [
    {
     "data": {
      "text/plain": [
       "\"print(value, ..., sep=' ', end='\\\\n', file=sys.stdout, flush=False)\\n\\nPrints the values to a stream, or to sys.stdout by default.\\nOptional keyword arguments:\\nfile:  a file-like object (stream); defaults to the current sys.stdout.\\nsep:   string inserted between values, default a space.\\nend:   string appended after the last value, default a newline.\\nflush: whether to forcibly flush the stream.\""
      ]
     },
     "execution_count": 30,
     "metadata": {},
     "output_type": "execute_result"
    }
   ],
   "source": [
    "print.__doc__"
   ]
  },
  {
   "cell_type": "code",
   "execution_count": 34,
   "metadata": {},
   "outputs": [
    {
     "data": {
      "text/plain": [
       "'Built-in mutable sequence.\\n\\nIf no argument is given, the constructor creates a new empty list.\\nThe argument must be an iterable if specified.'"
      ]
     },
     "execution_count": 34,
     "metadata": {},
     "output_type": "execute_result"
    }
   ],
   "source": [
    "list.__doc__"
   ]
  },
  {
   "cell_type": "code",
   "execution_count": 36,
   "metadata": {},
   "outputs": [
    {
     "data": {
      "text/plain": [
       "'Remove and return item at index (default last).\\n\\nRaises IndexError if list is empty or index is out of range.'"
      ]
     },
     "execution_count": 36,
     "metadata": {},
     "output_type": "execute_result"
    }
   ],
   "source": [
    "[1,2,3].pop.__doc__\n",
    "\n",
    "# Note: Here [1,2,3].pop().__doc__ returns something else, no need to give (), just func name is suffcient"
   ]
  },
  {
   "cell_type": "code",
   "execution_count": 53,
   "metadata": {},
   "outputs": [
    {
     "name": "stdout",
     "output_type": "stream",
     "text": [
      "[2, 4, 6, 8, 10, 12, 14, 16, 18, 20, 22, 24, 26, 28, 30, 32, 34, 36, 38, 40, 42, 44, 46, 48]\n"
     ]
    }
   ],
   "source": [
    "# Generating even and odd\n",
    "\n",
    "def generate_evens():\n",
    "    return [i for i in range(1,50) if i%2 == 0]\n",
    "\n",
    "print(generate_evens())"
   ]
  },
  {
   "cell_type": "code",
   "execution_count": 54,
   "metadata": {},
   "outputs": [
    {
     "name": "stdout",
     "output_type": "stream",
     "text": [
      "woof\n",
      "oink\n",
      "woof\n",
      "?\n",
      "meow\n"
     ]
    }
   ],
   "source": [
    "# Animal sounds\n",
    "\n",
    "def speak(animal='dog'):\n",
    "    if animal == 'pig':\n",
    "        return 'oink'\n",
    "    if animal == 'duck':\n",
    "        return 'quack'\n",
    "    if animal == 'cat':\n",
    "        return 'meow'\n",
    "    if animal == 'dog':\n",
    "        return 'woof'\n",
    "    return '?'\n",
    "\n",
    "print(speak())\n",
    "print(speak('pig'))\n",
    "print(speak('dog'))\n",
    "print(speak('meow'))\n",
    "print(speak('cat'))"
   ]
  },
  {
   "cell_type": "code",
   "execution_count": 52,
   "metadata": {},
   "outputs": [
    {
     "name": "stdout",
     "output_type": "stream",
     "text": [
      "Friday\n",
      "Sunday\n",
      "Saturday\n",
      "None\n"
     ]
    }
   ],
   "source": [
    "# Return a day\n",
    "def return_day(num):\n",
    "    days = {2:'Monday',3:'Tuesday',4:'Wednesday',5:'Thursday',6:'Friday',7:'Saturday',1:'Sunday'}\n",
    "    return days.get(num)\n",
    "    pass\n",
    "\n",
    "print(return_day(6))\n",
    "print(return_day(1))\n",
    "print(return_day(7))\n",
    "print(return_day(41))"
   ]
  },
  {
   "cell_type": "code",
   "execution_count": 55,
   "metadata": {},
   "outputs": [
    {
     "name": "stdout",
     "output_type": "stream",
     "text": [
      "3\n",
      "None\n"
     ]
    }
   ],
   "source": [
    "# Get last_element\n",
    "\n",
    "def last_element(elements):\n",
    "    if elements:\n",
    "        return elements[-1]\n",
    "    pass\n",
    "\n",
    "print(last_element([1,2,3])) # 3\n",
    "print(last_element([])) # None"
   ]
  },
  {
   "cell_type": "code",
   "execution_count": 56,
   "metadata": {},
   "outputs": [
    {
     "name": "stdout",
     "output_type": "stream",
     "text": [
      "Second is greater\n",
      "Numbers are equal\n",
      "First is greater\n"
     ]
    }
   ],
   "source": [
    "# Compare 2 numbers\n",
    "\n",
    "def number_compare(a,b):\n",
    "    if a>b:\n",
    "        return 'First is greater'\n",
    "    if a<b:\n",
    "        return 'Second is greater'\n",
    "    else:\n",
    "        return 'Numbers are equal'\n",
    "    pass\n",
    "\n",
    "print(number_compare(5,7))\n",
    "print(number_compare(5,5))\n",
    "print(number_compare(7,5))\n"
   ]
  },
  {
   "cell_type": "code",
   "execution_count": 57,
   "metadata": {},
   "outputs": [
    {
     "name": "stdout",
     "output_type": "stream",
     "text": [
      "3\n",
      "2\n"
     ]
    }
   ],
   "source": [
    "# Single letter count\n",
    "\n",
    "def single_letter_count(sentence,letter):\n",
    "    return sentence.lower().count(letter)\n",
    "\n",
    "print(single_letter_count(\"HelLo World\", \"l\"))\n",
    "print(single_letter_count(\"madam\", \"a\"))"
   ]
  },
  {
   "cell_type": "code",
   "execution_count": 59,
   "metadata": {},
   "outputs": [
    {
     "name": "stdout",
     "output_type": "stream",
     "text": [
      "{'a': 1, 'w': 1, 'e': 2, 's': 1, 'o': 1, 'm': 1}\n",
      "{'m': 2, 'a': 2, 'd': 1}\n"
     ]
    }
   ],
   "source": [
    "# Multiple letter count\n",
    "\n",
    "def multiple_letter_count(sentence):\n",
    "    return {c:sentence.count(c) for c in sentence}\n",
    "    pass\n",
    "\n",
    "print(multiple_letter_count('awesome'))\n",
    "print(multiple_letter_count('madam'))"
   ]
  },
  {
   "cell_type": "code",
   "execution_count": 66,
   "metadata": {},
   "outputs": [
    {
     "name": "stdout",
     "output_type": "stream",
     "text": [
      "3\n",
      "1\n",
      "[20, 1, 2, 3]\n",
      "[1, 2, 3, 30]\n"
     ]
    }
   ],
   "source": [
    "# List Manipulation\n",
    "\n",
    "def list_manipulation(values,command,location,value=None):\n",
    "    if command == 'remove' and location == 'end':\n",
    "        return values.pop()\n",
    "    if command == 'remove' and location == 'beginning':\n",
    "        return values.pop(0)\n",
    "    if command == 'add' and location == 'beginning':\n",
    "        values.insert(0,value)\n",
    "    if command == 'add' and location == 'end':\n",
    "        values.append(value)\n",
    "    return values\n",
    "     \n",
    "    \n",
    "\n",
    "print(list_manipulation([1,2,3], \"remove\", \"end\")) # 3\n",
    "print(list_manipulation([1,2,3], \"remove\", \"beginning\")) #  1\n",
    "print(list_manipulation([1,2,3], \"add\", \"beginning\", 20)) #  [20,1,2,3]\n",
    "print(list_manipulation([1,2,3], \"add\", \"end\", 30)) #  [1,2,3,30]"
   ]
  },
  {
   "cell_type": "code",
   "execution_count": 69,
   "metadata": {},
   "outputs": [
    {
     "name": "stdout",
     "output_type": "stream",
     "text": [
      "False\n",
      "True\n",
      "True\n",
      "False\n",
      "True\n"
     ]
    }
   ],
   "source": [
    "# Check Palindrome\n",
    "# For advanced version, first remove white spaces and then check\n",
    "\n",
    "def is_palindrome(string):\n",
    "    stripped = string.replace(\" \", \"\")\n",
    "    return stripped == stripped[::-1]\n",
    "\n",
    "print(is_palindrome('testing')) # False\n",
    "print(is_palindrome('tacocat')) # True\n",
    "print(is_palindrome('hannah')) # True\n",
    "print(is_palindrome('robert')) # False\n",
    "print(is_palindrome('amanaplanacanalpanama')) # True"
   ]
  },
  {
   "cell_type": "code",
   "execution_count": 70,
   "metadata": {},
   "outputs": [
    {
     "name": "stdout",
     "output_type": "stream",
     "text": [
      "3\n",
      "1\n"
     ]
    }
   ],
   "source": [
    "# Check frequency of an item in a list\n",
    "\n",
    "def frequency(items,item):\n",
    "    return items.count(item)\n",
    "\n",
    "print(frequency([1,2,3,4,4,4], 4)) # 3\n",
    "print(frequency([True, False, True, True], False)) # 1"
   ]
  },
  {
   "cell_type": "code",
   "execution_count": 71,
   "metadata": {},
   "outputs": [
    {
     "name": "stdout",
     "output_type": "stream",
     "text": [
      "48\n"
     ]
    }
   ],
   "source": [
    "# Multiply even numbers\n",
    "\n",
    "def multiply_even_numbers(numbers):\n",
    "    result = 1\n",
    "    for n in numbers:\n",
    "        if n%2 == 0:\n",
    "            result *= n\n",
    "    return result\n",
    "\n",
    "print(multiply_even_numbers([2,3,4,5,6]))"
   ]
  },
  {
   "cell_type": "code",
   "execution_count": 72,
   "metadata": {},
   "outputs": [
    {
     "name": "stdout",
     "output_type": "stream",
     "text": [
      "Tim\n",
      "Matt\n"
     ]
    }
   ],
   "source": [
    "# Capitalize\n",
    "\n",
    "def capitalize(string):\n",
    "    return string[0].upper()+string[1:]\n",
    "\n",
    "print(capitalize(\"tim\")) # \"Tim\"\n",
    "print(capitalize(\"matt\")) # \"Matt\""
   ]
  },
  {
   "cell_type": "code",
   "execution_count": 76,
   "metadata": {},
   "outputs": [
    {
     "name": "stdout",
     "output_type": "stream",
     "text": [
      "[1, 2, 'All done']\n"
     ]
    }
   ],
   "source": [
    "# Compact List - This function accepts a list and returns\n",
    "# A list of values that are truthy values, without falsey values\n",
    "\n",
    "def compact(collection):\n",
    "    return [item for item in collection if item]\n",
    "    \n",
    "print(compact([0,1,2,\"\",[], False, {}, None, \"All done\"])) # [1,2, \"All done\"]"
   ]
  },
  {
   "cell_type": "code",
   "execution_count": 82,
   "metadata": {},
   "outputs": [
    {
     "name": "stdout",
     "output_type": "stream",
     "text": [
      "[2, 3]\n",
      "['z']\n"
     ]
    }
   ],
   "source": [
    "# Intersection\n",
    "\n",
    "def intersection(A, B):\n",
    "    return list(set(A) & set(B))\n",
    "\n",
    "print(intersection([1,2,3],[2,3,4]))\n",
    "print(intersection(['a','b','z'],['x','y','z']))\n",
    "    \n"
   ]
  },
  {
   "cell_type": "code",
   "execution_count": 84,
   "metadata": {},
   "outputs": [
    {
     "name": "stdout",
     "output_type": "stream",
     "text": [
      "[2, 3]\n",
      "['z']\n"
     ]
    }
   ],
   "source": [
    "# Using List compreshension\n",
    "\n",
    "def intersection2(l1, l2):\n",
    "    return [val for val in l1 if val in l2]\n",
    "\n",
    "print(intersection2([1,2,3],[2,3,4]))\n",
    "print(intersection2(['a','b','z'],['x','y','z']))\n",
    "    "
   ]
  },
  {
   "cell_type": "code",
   "execution_count": 103,
   "metadata": {},
   "outputs": [
    {
     "name": "stdout",
     "output_type": "stream",
     "text": [
      "[[2, 4], [1, 3]]\n",
      "[[1, 2, 'All done'], [0, '', [], False, {}, None]]\n"
     ]
    }
   ],
   "source": [
    "# Note: Partition Function\n",
    "# This function takes 2 inputs, a list and a callback function\n",
    "# For every element in the list, the callback function should be triggered\n",
    "# Based on the output of callback function\n",
    "# Store the results in 2 lists, a truthy list and a falsey list\n",
    "# [truthy_list, falsey_list]\n",
    "\n",
    "def isEven(num):\n",
    "    return num % 2 == 0\n",
    "\n",
    "def isTrue(val):\n",
    "    return bool(val)\n",
    "\n",
    "def partition(lst, fn):\n",
    "    trues = []\n",
    "    falses = []\n",
    "    for val in lst:\n",
    "        if fn(val):\n",
    "            trues.append(val)\n",
    "        else:\n",
    "            falses.append(val)\n",
    "    return [trues, falses]\n",
    "\n",
    "\n",
    "print(partition([1,2,3,4], isEven)) # [[2,4],[1,3]]\n",
    "print(partition([0,1,2,\"\",[], False, {}, None, \"All done\"], isTrue)) "
   ]
  },
  {
   "cell_type": "code",
   "execution_count": 104,
   "metadata": {},
   "outputs": [
    {
     "name": "stdout",
     "output_type": "stream",
     "text": [
      "[[2, 4], [1, 3]]\n",
      "[[1, 2, 'All done'], [0, '', [], False, {}, None]]\n"
     ]
    }
   ],
   "source": [
    "# Note: Using list comprehension\n",
    "# Returning a list with 2 comprehension\n",
    "\n",
    "def isEven(num):\n",
    "    return num % 2 == 0\n",
    "\n",
    "def isTrue(val):\n",
    "    return bool(val)\n",
    "\n",
    "def partition(lst, fn):\n",
    "    return [[val for val in lst if fn(val)], [val for val in lst if not fn(val)]]\n",
    "\n",
    "print(partition([1,2,3,4], isEven)) # [[2,4],[1,3]]\n",
    "print(partition([0,1,2,\"\",[], False, {}, None, \"All done\"], isTrue)) "
   ]
  },
  {
   "cell_type": "code",
   "execution_count": 91,
   "metadata": {},
   "outputs": [
    {
     "data": {
      "text/plain": [
       "False"
      ]
     },
     "execution_count": 91,
     "metadata": {},
     "output_type": "execute_result"
    }
   ],
   "source": [
    "[] == True"
   ]
  },
  {
   "cell_type": "code",
   "execution_count": 101,
   "metadata": {},
   "outputs": [
    {
     "data": {
      "text/plain": [
       "False"
      ]
     },
     "execution_count": 101,
     "metadata": {},
     "output_type": "execute_result"
    }
   ],
   "source": [
    "bool([])"
   ]
  },
  {
   "cell_type": "code",
   "execution_count": 106,
   "metadata": {},
   "outputs": [
    {
     "name": "stdout",
     "output_type": "stream",
     "text": [
      "(1, 2, 3)\n",
      "(1,)\n",
      "()\n",
      "(1, 2, 3, 4, 5, 6)\n"
     ]
    }
   ],
   "source": [
    "# Functions - Part 2\n",
    "# Note: * and **\n",
    "# *args - its just a parameter, we can call it by any name but *args is a standard name\n",
    "# *args gathers/collects all the remaining arguments as a tuple\n",
    "\n",
    "# eg. to show what *args contains\n",
    "\n",
    "def sum_all_nums(*args):\n",
    "    print(args)\n",
    "    \n",
    "sum_all_nums(1,2,3)\n",
    "sum_all_nums(1)\n",
    "sum_all_nums()\n",
    "sum_all_nums(1,2,3,4,5,6)\n"
   ]
  },
  {
   "cell_type": "code",
   "execution_count": 108,
   "metadata": {},
   "outputs": [
    {
     "name": "stdout",
     "output_type": "stream",
     "text": [
      "(1, 2, 3)\n",
      "(1,)\n",
      "()\n",
      "(1, 2, 3, 4, 5, 6)\n"
     ]
    }
   ],
   "source": [
    "# We can have any name, * is important\n",
    "\n",
    "def sum_all_nums(*numbers):\n",
    "    print(numbers)\n",
    "    \n",
    "sum_all_nums(1,2,3)\n",
    "sum_all_nums(1)\n",
    "sum_all_nums()\n",
    "sum_all_nums(1,2,3,4,5,6)\n",
    "\n",
    "# This returns a tuple"
   ]
  },
  {
   "cell_type": "code",
   "execution_count": 110,
   "metadata": {},
   "outputs": [
    {
     "name": "stdout",
     "output_type": "stream",
     "text": [
      "6\n",
      "1\n",
      "0\n",
      "21\n"
     ]
    }
   ],
   "source": [
    "def sum_all_nums(*numbers):\n",
    "    total = 0\n",
    "    for n in numbers:\n",
    "        total += n\n",
    "    return total\n",
    "    \n",
    "print(sum_all_nums(1,2,3))\n",
    "print(sum_all_nums(1))\n",
    "print(sum_all_nums())\n",
    "print(sum_all_nums(1,2,3,4,5,6))"
   ]
  },
  {
   "cell_type": "code",
   "execution_count": 114,
   "metadata": {},
   "outputs": [
    {
     "name": "stdout",
     "output_type": "stream",
     "text": [
      "Dont know who you are\n",
      "Welcome Manoj Lingaiah\n"
     ]
    }
   ],
   "source": [
    "# another eg.\n",
    "# Ensure correct info\n",
    "\n",
    "def ensure_correct_info(*args):\n",
    "    if 'Manoj' in args and 'Lingaiah' in args:\n",
    "        return 'Welcome Manoj Lingaiah'\n",
    "    return 'Dont know who you are'\n",
    "\n",
    "print(ensure_correct_info(1,2,3,'lingaiah', 'a'))\n",
    "print(ensure_correct_info(1,2,3,'Lingaiah', 'a', 'b', 4,5,'Manoj'))"
   ]
  },
  {
   "cell_type": "code",
   "execution_count": 115,
   "metadata": {},
   "outputs": [
    {
     "name": "stdout",
     "output_type": "stream",
     "text": [
      "{'manoj': 'red', 'rashmi': 'blue', 'kushaal': 'green'}\n"
     ]
    }
   ],
   "source": [
    "# Note: **kwargs  (commonly called as QWARGS)\n",
    "# This gathers all keyword arguments and store it as a dictionary\n",
    "\n",
    "# Lets see what **kwargs stores\n",
    "def fav_colors(**kwargs):\n",
    "    print(kwargs)\n",
    "    \n",
    "fav_colors(manoj='red',rashmi='blue',kushaal='green')\n",
    "\n",
    "# It stores as a dictionary, so access them using dict.items()"
   ]
  },
  {
   "cell_type": "code",
   "execution_count": 116,
   "metadata": {},
   "outputs": [
    {
     "name": "stdout",
     "output_type": "stream",
     "text": [
      "The fav color of manoj is red\n",
      "The fav color of rashmi is blue\n",
      "The fav color of kushaal is green\n"
     ]
    }
   ],
   "source": [
    "def fav_colors(**kwargs):\n",
    "    for name, color in kwargs.items():\n",
    "        print(f'The fav color of {name} is {color}')\n",
    "    \n",
    "fav_colors(manoj='red',rashmi='blue',kushaal='green')"
   ]
  },
  {
   "cell_type": "code",
   "execution_count": 119,
   "metadata": {},
   "outputs": [
    {
     "name": "stdout",
     "output_type": "stream",
     "text": [
      "child\n",
      "manchild\n",
      "childish\n",
      "worker\n",
      "homework\n"
     ]
    }
   ],
   "source": [
    "def combine_words(word,**kwargs):\n",
    "    if 'prefix' in kwargs:             # Here we can use kwargs.keys()\n",
    "        return kwargs['prefix'] + word\n",
    "    elif 'suffix' in kwargs:\n",
    "        return word + kwargs['suffix']\n",
    "    return word\n",
    "\n",
    "print(combine_words('child'))\n",
    "print(combine_words('child',prefix='man'))\n",
    "print(combine_words('child',suffix='ish'))\n",
    "print(combine_words('work',suffix='er'))\n",
    "print(combine_words('work',prefix='home'))"
   ]
  },
  {
   "cell_type": "code",
   "execution_count": 117,
   "metadata": {},
   "outputs": [
    {
     "ename": "SyntaxError",
     "evalue": "positional argument follows keyword argument (<ipython-input-117-e7a0b4a15664>, line 7)",
     "output_type": "error",
     "traceback": [
      "\u001b[1;36m  File \u001b[1;32m\"<ipython-input-117-e7a0b4a15664>\"\u001b[1;36m, line \u001b[1;32m7\u001b[0m\n\u001b[1;33m    print_args(1,2,3,a=5,man='human','a','z',n=5.5, True, [], {}, names = ['m','n'])\u001b[0m\n\u001b[1;37m                                    ^\u001b[0m\n\u001b[1;31mSyntaxError\u001b[0m\u001b[1;31m:\u001b[0m positional argument follows keyword argument\n"
     ]
    }
   ],
   "source": [
    "# Note: Ordering of Parameters\n",
    "# We have to follow a specific order as shown below, as python expects the same\n",
    "# 1. parameters\n",
    "# 2. *args\n",
    "# 3. default parameters\n",
    "# 4. **kwargs\n",
    "\n",
    "def print_args(*args,**kwargs):\n",
    "    print(args)\n",
    "    print(kwargs)\n",
    "    \n",
    "print_args(1,2,3,a=5,man='human','a','z',n=5.5, True, [], {}, names = ['m','n'])\n",
    "\n",
    "# This gives error as the order is not maintained"
   ]
  },
  {
   "cell_type": "code",
   "execution_count": 121,
   "metadata": {},
   "outputs": [
    {
     "name": "stdout",
     "output_type": "stream",
     "text": [
      "(1, 2, 3, 'a', 'z', True, [], {})\n",
      "{'names': ['m', 'n'], 'n': 5.5, 'a': 5, 'man': 'human'}\n"
     ]
    }
   ],
   "source": [
    "# First we should give parameters and then key word parameters\n",
    "\n",
    "def print_args(*args,**kwargs):\n",
    "    print(args)\n",
    "    print(kwargs)\n",
    "    \n",
    "print_args(1,2,3,'a','z',True,[],{},names=['m','n'],n=5.5,a=5,man='human',)\n",
    "\n",
    "# Here *args follow **kwargs"
   ]
  },
  {
   "cell_type": "code",
   "execution_count": 123,
   "metadata": {},
   "outputs": [
    {
     "ename": "SyntaxError",
     "evalue": "invalid syntax (<ipython-input-123-6f48e9f58fd2>, line 1)",
     "output_type": "error",
     "traceback": [
      "\u001b[1;36m  File \u001b[1;32m\"<ipython-input-123-6f48e9f58fd2>\"\u001b[1;36m, line \u001b[1;32m1\u001b[0m\n\u001b[1;33m    def print_args(**kwargs,*args):\u001b[0m\n\u001b[1;37m                            ^\u001b[0m\n\u001b[1;31mSyntaxError\u001b[0m\u001b[1;31m:\u001b[0m invalid syntax\n"
     ]
    }
   ],
   "source": [
    "# Here even though we are passing and collecting first **kwargs and then *args in the func call and declaration\n",
    "# We still get error, as we have not followed the rules of Ordering of Parameters\n",
    "\n",
    "def print_args(**kwargs,*args):\n",
    "    print(args)\n",
    "    print(kwargs)\n",
    "    \n",
    "print_args(names=['m','n'],n=5.5,a=5,man='human',1,2,3,'a','z',True,[],{},)"
   ]
  },
  {
   "cell_type": "code",
   "execution_count": 129,
   "metadata": {},
   "outputs": [
    {
     "name": "stdout",
     "output_type": "stream",
     "text": [
      "(3,)\n",
      "{'last_name': 'Lingaiah', 'job': 'Software Engg'}\n",
      "[1, 2, (3,), 'Manoj', {'last_name': 'Lingaiah', 'job': 'Software Engg'}]\n"
     ]
    }
   ],
   "source": [
    "# eg. Note: This example has all types of parameter\n",
    "# See the output and understand properly\n",
    "\n",
    "def display_info(a,b,*args,instructor='Manoj',**kwargs):\n",
    "    print(args)\n",
    "    print(kwargs)\n",
    "    return [a,b,args,instructor,kwargs]\n",
    "\n",
    "print(display_info(1,2,3,last_name='Lingaiah', job='Software Engg'))\n",
    "\n",
    "# Check how default parameter is handled (instructor)"
   ]
  },
  {
   "cell_type": "code",
   "execution_count": 127,
   "metadata": {},
   "outputs": [
    {
     "ename": "TypeError",
     "evalue": "display_info() missing 2 required keyword-only arguments: 'a' and 'b'",
     "output_type": "error",
     "traceback": [
      "\u001b[1;31m---------------------------------------------------------------------------\u001b[0m",
      "\u001b[1;31mTypeError\u001b[0m                                 Traceback (most recent call last)",
      "\u001b[1;32m<ipython-input-127-4c0c67496e5b>\u001b[0m in \u001b[0;36m<module>\u001b[1;34m\u001b[0m\n\u001b[0;32m      2\u001b[0m     \u001b[1;32mreturn\u001b[0m \u001b[1;33m[\u001b[0m\u001b[0ma\u001b[0m\u001b[1;33m,\u001b[0m\u001b[0mb\u001b[0m\u001b[1;33m,\u001b[0m\u001b[0margs\u001b[0m\u001b[1;33m,\u001b[0m\u001b[0minstructor\u001b[0m\u001b[1;33m,\u001b[0m\u001b[0mkwargs\u001b[0m\u001b[1;33m]\u001b[0m\u001b[1;33m\u001b[0m\u001b[1;33m\u001b[0m\u001b[0m\n\u001b[0;32m      3\u001b[0m \u001b[1;33m\u001b[0m\u001b[0m\n\u001b[1;32m----> 4\u001b[1;33m \u001b[0mprint\u001b[0m\u001b[1;33m(\u001b[0m\u001b[0mdisplay_info\u001b[0m\u001b[1;33m(\u001b[0m\u001b[1;36m1\u001b[0m\u001b[1;33m,\u001b[0m\u001b[1;36m2\u001b[0m\u001b[1;33m,\u001b[0m\u001b[1;36m3\u001b[0m\u001b[1;33m,\u001b[0m\u001b[0mlast_name\u001b[0m\u001b[1;33m=\u001b[0m\u001b[1;34m'Lingaiah'\u001b[0m\u001b[1;33m,\u001b[0m \u001b[0mjob\u001b[0m\u001b[1;33m=\u001b[0m\u001b[1;34m'Software Engg'\u001b[0m\u001b[1;33m)\u001b[0m\u001b[1;33m)\u001b[0m\u001b[1;33m\u001b[0m\u001b[1;33m\u001b[0m\u001b[0m\n\u001b[0m",
      "\u001b[1;31mTypeError\u001b[0m: display_info() missing 2 required keyword-only arguments: 'a' and 'b'"
     ]
    }
   ],
   "source": [
    "def display_info(*args,a,b,instructor='Manoj',**kwargs):\n",
    "    return [a,b,args,instructor,kwargs]\n",
    "\n",
    "print(display_info(1,2,3,last_name='Lingaiah', job='Software Engg'))\n",
    "\n",
    "# the order is changed so we get error"
   ]
  },
  {
   "cell_type": "code",
   "execution_count": 131,
   "metadata": {},
   "outputs": [
    {
     "name": "stdout",
     "output_type": "stream",
     "text": [
      "28\n"
     ]
    }
   ],
   "source": [
    "# Note: Tuple Unpacking\n",
    "# Note: Argument unpacking, its done using *\n",
    "\n",
    "# Many a times we need to unpack a list and use them as arguments\n",
    "# to achieve this, we need to use *\n",
    "\n",
    "# eg.\n",
    "def sum_of_values(*args):\n",
    "    total = 0\n",
    "    for n in args:\n",
    "        total += n\n",
    "    print(total)\n",
    "    \n",
    "sum_of_values(1,2,3,4,5,6,7)\n",
    "\n",
    "# This gives valid answer"
   ]
  },
  {
   "cell_type": "code",
   "execution_count": 132,
   "metadata": {
    "scrolled": true
   },
   "outputs": [
    {
     "ename": "TypeError",
     "evalue": "unsupported operand type(s) for +=: 'int' and 'list'",
     "output_type": "error",
     "traceback": [
      "\u001b[1;31m---------------------------------------------------------------------------\u001b[0m",
      "\u001b[1;31mTypeError\u001b[0m                                 Traceback (most recent call last)",
      "\u001b[1;32m<ipython-input-132-025f0eadc50f>\u001b[0m in \u001b[0;36m<module>\u001b[1;34m\u001b[0m\n\u001b[0;32m      7\u001b[0m     \u001b[0mprint\u001b[0m\u001b[1;33m(\u001b[0m\u001b[0mtotal\u001b[0m\u001b[1;33m)\u001b[0m\u001b[1;33m\u001b[0m\u001b[1;33m\u001b[0m\u001b[0m\n\u001b[0;32m      8\u001b[0m \u001b[1;33m\u001b[0m\u001b[0m\n\u001b[1;32m----> 9\u001b[1;33m \u001b[0msum_of_values\u001b[0m\u001b[1;33m(\u001b[0m\u001b[1;33m[\u001b[0m\u001b[1;36m1\u001b[0m\u001b[1;33m,\u001b[0m\u001b[1;36m2\u001b[0m\u001b[1;33m,\u001b[0m\u001b[1;36m3\u001b[0m\u001b[1;33m,\u001b[0m\u001b[1;36m4\u001b[0m\u001b[1;33m,\u001b[0m\u001b[1;36m5\u001b[0m\u001b[1;33m,\u001b[0m\u001b[1;36m6\u001b[0m\u001b[1;33m]\u001b[0m\u001b[1;33m)\u001b[0m\u001b[1;33m\u001b[0m\u001b[1;33m\u001b[0m\u001b[0m\n\u001b[0m",
      "\u001b[1;32m<ipython-input-132-025f0eadc50f>\u001b[0m in \u001b[0;36msum_of_values\u001b[1;34m(*args)\u001b[0m\n\u001b[0;32m      4\u001b[0m     \u001b[0mtotal\u001b[0m \u001b[1;33m=\u001b[0m \u001b[1;36m0\u001b[0m\u001b[1;33m\u001b[0m\u001b[1;33m\u001b[0m\u001b[0m\n\u001b[0;32m      5\u001b[0m     \u001b[1;32mfor\u001b[0m \u001b[0mn\u001b[0m \u001b[1;32min\u001b[0m \u001b[0margs\u001b[0m\u001b[1;33m:\u001b[0m\u001b[1;33m\u001b[0m\u001b[1;33m\u001b[0m\u001b[0m\n\u001b[1;32m----> 6\u001b[1;33m         \u001b[0mtotal\u001b[0m \u001b[1;33m+=\u001b[0m \u001b[0mn\u001b[0m\u001b[1;33m\u001b[0m\u001b[1;33m\u001b[0m\u001b[0m\n\u001b[0m\u001b[0;32m      7\u001b[0m     \u001b[0mprint\u001b[0m\u001b[1;33m(\u001b[0m\u001b[0mtotal\u001b[0m\u001b[1;33m)\u001b[0m\u001b[1;33m\u001b[0m\u001b[1;33m\u001b[0m\u001b[0m\n\u001b[0;32m      8\u001b[0m \u001b[1;33m\u001b[0m\u001b[0m\n",
      "\u001b[1;31mTypeError\u001b[0m: unsupported operand type(s) for +=: 'int' and 'list'"
     ]
    }
   ],
   "source": [
    "# But lets say we need to pass [1,2,3,4,5,6]\n",
    "\n",
    "def sum_of_values(*args):\n",
    "    total = 0\n",
    "    for n in args:\n",
    "        total += n\n",
    "    print(total)\n",
    "    \n",
    "sum_of_values([1,2,3,4,5,6])\n",
    "\n",
    "# This gives error, because we need to first unpack it and then use it as individual arguments"
   ]
  },
  {
   "cell_type": "code",
   "execution_count": 134,
   "metadata": {},
   "outputs": [
    {
     "name": "stdout",
     "output_type": "stream",
     "text": [
      "([1, 2, 3, 4, 5, 6],)\n"
     ]
    },
    {
     "ename": "TypeError",
     "evalue": "unsupported operand type(s) for +=: 'int' and 'list'",
     "output_type": "error",
     "traceback": [
      "\u001b[1;31m---------------------------------------------------------------------------\u001b[0m",
      "\u001b[1;31mTypeError\u001b[0m                                 Traceback (most recent call last)",
      "\u001b[1;32m<ipython-input-134-2bda48f567f5>\u001b[0m in \u001b[0;36m<module>\u001b[1;34m\u001b[0m\n\u001b[0;32m     10\u001b[0m \u001b[1;33m\u001b[0m\u001b[0m\n\u001b[0;32m     11\u001b[0m \u001b[1;33m\u001b[0m\u001b[0m\n\u001b[1;32m---> 12\u001b[1;33m \u001b[0msum_of_values\u001b[0m\u001b[1;33m(\u001b[0m\u001b[1;33m[\u001b[0m\u001b[1;36m1\u001b[0m\u001b[1;33m,\u001b[0m\u001b[1;36m2\u001b[0m\u001b[1;33m,\u001b[0m\u001b[1;36m3\u001b[0m\u001b[1;33m,\u001b[0m\u001b[1;36m4\u001b[0m\u001b[1;33m,\u001b[0m\u001b[1;36m5\u001b[0m\u001b[1;33m,\u001b[0m\u001b[1;36m6\u001b[0m\u001b[1;33m]\u001b[0m\u001b[1;33m)\u001b[0m\u001b[1;33m\u001b[0m\u001b[1;33m\u001b[0m\u001b[0m\n\u001b[0m",
      "\u001b[1;32m<ipython-input-134-2bda48f567f5>\u001b[0m in \u001b[0;36msum_of_values\u001b[1;34m(*args)\u001b[0m\n\u001b[0;32m      6\u001b[0m     \u001b[0mtotal\u001b[0m \u001b[1;33m=\u001b[0m \u001b[1;36m0\u001b[0m\u001b[1;33m\u001b[0m\u001b[1;33m\u001b[0m\u001b[0m\n\u001b[0;32m      7\u001b[0m     \u001b[1;32mfor\u001b[0m \u001b[0mn\u001b[0m \u001b[1;32min\u001b[0m \u001b[0margs\u001b[0m\u001b[1;33m:\u001b[0m\u001b[1;33m\u001b[0m\u001b[1;33m\u001b[0m\u001b[0m\n\u001b[1;32m----> 8\u001b[1;33m         \u001b[0mtotal\u001b[0m \u001b[1;33m+=\u001b[0m \u001b[0mn\u001b[0m\u001b[1;33m\u001b[0m\u001b[1;33m\u001b[0m\u001b[0m\n\u001b[0m\u001b[0;32m      9\u001b[0m     \u001b[0mprint\u001b[0m\u001b[1;33m(\u001b[0m\u001b[0mtotal\u001b[0m\u001b[1;33m)\u001b[0m\u001b[1;33m\u001b[0m\u001b[1;33m\u001b[0m\u001b[0m\n\u001b[0;32m     10\u001b[0m \u001b[1;33m\u001b[0m\u001b[0m\n",
      "\u001b[1;31mTypeError\u001b[0m: unsupported operand type(s) for +=: 'int' and 'list'"
     ]
    }
   ],
   "source": [
    "# To understand why we are getting this error\n",
    "# We will print what *args contains\n",
    "\n",
    "def sum_of_values(*args):\n",
    "    print(args)\n",
    "    total = 0\n",
    "    for n in args:\n",
    "        total += n\n",
    "    print(total)\n",
    "    \n",
    "    \n",
    "sum_of_values([1,2,3,4,5,6])\n",
    "\n",
    "# As we can see *args has tuple values with one argument"
   ]
  },
  {
   "cell_type": "code",
   "execution_count": 137,
   "metadata": {},
   "outputs": [
    {
     "name": "stdout",
     "output_type": "stream",
     "text": [
      "(1, 2, 3, 4, 5, 6)\n",
      "21\n",
      "(1, 2, 3, 4, 5, 6)\n",
      "21\n"
     ]
    }
   ],
   "source": [
    "# By adding *, we are saying it to unpack the args and then use it\n",
    "\n",
    "def sum_of_values(*args):\n",
    "    print(args)\n",
    "    total = 0\n",
    "    for n in args:\n",
    "        total += n\n",
    "    print(total)\n",
    "    \n",
    "sum_of_values(*[1,2,3,4,5,6]) # Here actually we are unpacking a list\n",
    "sum_of_values(*(1,2,3,4,5,6)) \n",
    "\n"
   ]
  },
  {
   "cell_type": "code",
   "execution_count": 139,
   "metadata": {},
   "outputs": [
    {
     "name": "stdout",
     "output_type": "stream",
     "text": [
      "1\n",
      "14\n"
     ]
    }
   ],
   "source": [
    "def count_sevens(*args):\n",
    "    return args.count(7)\n",
    "\n",
    "nums = [90,1,35,67,89,20,3,1,2,3,4,5,6,9,34,46,57,68,79,12,23,34,55,1,90,54,34,76,8,23,34,45,56,67,78,12,23,34,45,56,67,768,23,4,5,6,7,8,9,12,34,14,15,16,17,11,7,11,8,4,6,2,5,8,7,10,12,13,14,15,7,8,7,7,345,23,34,45,56,67,1,7,3,6,7,2,3,4,5,6,7,8,9,8,7,6,5,4,2,1,2,3,4,5,6,7,8,9,0,9,8,7,8,7,6,5,4,3,2,1,7]\n",
    "\n",
    "result1 = count_sevens(1,4,7)\n",
    "result2 = count_sevens(*nums)  # Now we can see how useful * is\n",
    "\n",
    "print(result1)\n",
    "print(result2)"
   ]
  },
  {
   "cell_type": "code",
   "execution_count": 140,
   "metadata": {},
   "outputs": [
    {
     "ename": "TypeError",
     "evalue": "display_names() missing 1 required positional argument: 'second'",
     "output_type": "error",
     "traceback": [
      "\u001b[1;31m---------------------------------------------------------------------------\u001b[0m",
      "\u001b[1;31mTypeError\u001b[0m                                 Traceback (most recent call last)",
      "\u001b[1;32m<ipython-input-140-e9b0e7aba191>\u001b[0m in \u001b[0;36m<module>\u001b[1;34m\u001b[0m\n\u001b[0;32m      6\u001b[0m \u001b[1;33m\u001b[0m\u001b[0m\n\u001b[0;32m      7\u001b[0m \u001b[0mnames\u001b[0m \u001b[1;33m=\u001b[0m \u001b[1;33m{\u001b[0m\u001b[1;34m'first'\u001b[0m\u001b[1;33m:\u001b[0m \u001b[1;34m'Colt'\u001b[0m\u001b[1;33m,\u001b[0m \u001b[1;34m'second'\u001b[0m\u001b[1;33m:\u001b[0m \u001b[1;34m'Rusty'\u001b[0m\u001b[1;33m}\u001b[0m\u001b[1;33m\u001b[0m\u001b[1;33m\u001b[0m\u001b[0m\n\u001b[1;32m----> 8\u001b[1;33m \u001b[0mdisplay_names\u001b[0m\u001b[1;33m(\u001b[0m\u001b[0mnames\u001b[0m\u001b[1;33m)\u001b[0m\u001b[1;33m\u001b[0m\u001b[1;33m\u001b[0m\u001b[0m\n\u001b[0m",
      "\u001b[1;31mTypeError\u001b[0m: display_names() missing 1 required positional argument: 'second'"
     ]
    }
   ],
   "source": [
    "# Dictionary Unpacking\n",
    "# We use ** to unpack a dictonary\n",
    "\n",
    "def display_names(first, second):\n",
    "    print(f'{first} says hello to {second}')\n",
    "\n",
    "names = {'first': 'Colt', 'second': 'Rusty'}\n",
    "\n",
    "display_names(names) # This gives error"
   ]
  },
  {
   "cell_type": "code",
   "execution_count": 141,
   "metadata": {},
   "outputs": [
    {
     "name": "stdout",
     "output_type": "stream",
     "text": [
      "Colt says hello to Rusty\n"
     ]
    }
   ],
   "source": [
    "display_names(**names)  # This unpack the dict and uses it as key and value"
   ]
  },
  {
   "cell_type": "code",
   "execution_count": 2,
   "metadata": {},
   "outputs": [
    {
     "ename": "TypeError",
     "evalue": "add_and_multiply() missing 2 required positional arguments: 'b' and 'c'",
     "output_type": "error",
     "traceback": [
      "\u001b[1;31m---------------------------------------------------------------------------\u001b[0m",
      "\u001b[1;31mTypeError\u001b[0m                                 Traceback (most recent call last)",
      "\u001b[1;32m<ipython-input-2-4ad7ab58923d>\u001b[0m in \u001b[0;36m<module>\u001b[1;34m\u001b[0m\n\u001b[0;32m      5\u001b[0m \u001b[1;33m\u001b[0m\u001b[0m\n\u001b[0;32m      6\u001b[0m \u001b[0mnums\u001b[0m \u001b[1;33m=\u001b[0m \u001b[1;33m{\u001b[0m\u001b[1;34m'a'\u001b[0m\u001b[1;33m:\u001b[0m\u001b[1;36m1\u001b[0m\u001b[1;33m,\u001b[0m \u001b[1;34m'b'\u001b[0m\u001b[1;33m:\u001b[0m\u001b[1;36m2\u001b[0m\u001b[1;33m,\u001b[0m \u001b[1;34m'c'\u001b[0m\u001b[1;33m:\u001b[0m \u001b[1;36m3\u001b[0m\u001b[1;33m}\u001b[0m\u001b[1;33m\u001b[0m\u001b[1;33m\u001b[0m\u001b[0m\n\u001b[1;32m----> 7\u001b[1;33m \u001b[0madd_and_multiply\u001b[0m\u001b[1;33m(\u001b[0m\u001b[0mnums\u001b[0m\u001b[1;33m)\u001b[0m\u001b[1;33m\u001b[0m\u001b[1;33m\u001b[0m\u001b[0m\n\u001b[0m",
      "\u001b[1;31mTypeError\u001b[0m: add_and_multiply() missing 2 required positional arguments: 'b' and 'c'"
     ]
    }
   ],
   "source": [
    "def add_and_multiply(a,b,c):\n",
    "    print(a,b,c)\n",
    "    print(a+b+c)\n",
    "    print(a*b*c)\n",
    "    \n",
    "nums = {'a':1, 'b':2, 'c': 3}    \n",
    "add_and_multiply(nums)"
   ]
  },
  {
   "cell_type": "code",
   "execution_count": 4,
   "metadata": {},
   "outputs": [
    {
     "name": "stdout",
     "output_type": "stream",
     "text": [
      "1 2 3\n",
      "6\n",
      "6\n"
     ]
    }
   ],
   "source": [
    "add_and_multiply(**nums)"
   ]
  },
  {
   "cell_type": "code",
   "execution_count": 146,
   "metadata": {},
   "outputs": [
    {
     "name": "stdout",
     "output_type": "stream",
     "text": [
      "1 2 3\n",
      "6\n",
      "6\n"
     ]
    }
   ],
   "source": [
    "# Even if the order of dict and parameters are different\n",
    "# It will work fine as it will be treated as keyword arguments\n",
    "\n",
    "def add_and_multiply(c,b,a):\n",
    "    print(a,b,c)  # All values are mapped properly\n",
    "    print(a+b+c)\n",
    "    print(a*b*c)\n",
    "    \n",
    "nums = {'b':2, 'a':1, 'c': 3}    \n",
    "add_and_multiply(**nums)"
   ]
  },
  {
   "cell_type": "code",
   "execution_count": null,
   "metadata": {},
   "outputs": [],
   "source": [
    "# eg. Read the screenshot"
   ]
  },
  {
   "attachments": {
    "image.png": {
     "image/png": "[encoded data removed]"
    }
   },
   "cell_type": "markdown",
   "metadata": {},
   "source": [
    "![image.png](attachment:image.png)"
   ]
  },
  {
   "cell_type": "code",
   "execution_count": 165,
   "metadata": {},
   "outputs": [
    {
     "name": "stdout",
     "output_type": "stream",
     "text": [
      "{'make_float': False, 'operation': 'add', 'message': 'You just added', 'first': 2, 'second': 4}\n",
      "You just added 6\n",
      "{'make_float': True, 'operation': 'divide', 'first': 3.5, 'second': 5}\n",
      "The result is 0.7\n"
     ]
    }
   ],
   "source": [
    "# Note: I could'nt find the solution for this problem\n",
    "# But the key trick is to use second parameter in .get() method\n",
    "\n",
    "\n",
    "# Calculate Walkthrough\n",
    "# This solution uses dict.get() a lot. dict.get('first')  will return the value of 'first' if it exists, \n",
    "# otherwise it returns None.  However, you can specify a second argument which will replace None as the default value. \n",
    "# I use that in this solution a bunch of times.\n",
    "\n",
    "# I defined a dictionary called operation_lookup  that maps a string like \"add\" to an actual mathematical operation \n",
    "# involving the values of 'first' and 'second'\n",
    "# I create a boolean variable called is_float, which is True if kwargs contains 'make_float', otherwise it's false\n",
    "# Then I lookup the correct value from the operation_lookup dict using the operation that was specified in kwargs\n",
    "# Basically, turning something like \"subtract\" into:kwargs.get('first', 0) - kwargs.get('second', 0) \n",
    "# Which in turns simplifies to a number\n",
    "# I store the result in a variable called operation_value \n",
    "# I return a string containing either the specified message or the default 'The result is' string.  \n",
    "# Whether operation_value  is interpolated as a float or int is determined by the is_float  variable.\n",
    "# Note: this solution will divide by zero if a 2nd argument isn't provided for divide.  You may want to change the \n",
    "# default value to 1.  We learn how to handle ZeroDivisionErrors later on in the course.  \n",
    "# Thanks, Scott for pointing out the issue!\n",
    "\n",
    "def calculate(**kwargs):\n",
    "    print(kwargs)\n",
    "    \n",
    "    operation_lookup = {\n",
    "        'add': kwargs.get('first', 0) + kwargs.get('second', 0),\n",
    "        'subtract': kwargs.get('first', 0) - kwargs.get('second', 0),\n",
    "        'divide': kwargs.get('first', 0) / kwargs.get('second', 0),\n",
    "        'multiply': kwargs.get('first', 0) * kwargs.get('second', 0)\n",
    "    }\n",
    "    is_float = kwargs.get('make_float', False)\n",
    "    operation_value = operation_lookup[kwargs.get('operation', '')]\n",
    "    if is_float:\n",
    "        final = \"{} {}\".format(kwargs.get('message','The result is'), float(operation_value))\n",
    "    else:\n",
    "        final = \"{} {}\".format(kwargs.get('message','The result is'), int(operation_value))\n",
    "    return final\n",
    "\n",
    "print(calculate(make_float=False, operation='add', message='You just added', first=2, second=4))\n",
    "print(calculate(make_float=True, operation='divide', first=3.5, second=5))"
   ]
  },
  {
   "cell_type": "code",
   "execution_count": 162,
   "metadata": {},
   "outputs": [
    {
     "name": "stdout",
     "output_type": "stream",
     "text": [
      "woof\n",
      "None\n",
      "meow\n"
     ]
    }
   ],
   "source": [
    "noises = {\"dog\": \"woof\", \"pig\": \"oink\", \"duck\": \"quack\", \"cat\": \"meow\"}\n",
    "print(noises.get('dog'))\n",
    "print(noises.get('woof'))   # This is missing, so we get None\n",
    "print(noises.get('cat'))"
   ]
  },
  {
   "cell_type": "code",
   "execution_count": 163,
   "metadata": {},
   "outputs": [
    {
     "name": "stdout",
     "output_type": "stream",
     "text": [
      "woof\n",
      "roar\n",
      "meow\n"
     ]
    }
   ],
   "source": [
    "# Note: The second argument in .get() tells the default value when item not found\n",
    "\n",
    "noises = {\"dog\": \"woof\", \"pig\": \"oink\", \"duck\": \"quack\", \"cat\": \"meow\"}\n",
    "print(noises.get('dog','roar'))\n",
    "print(noises.get('woof','roar'))  # Here default value roar is used\n",
    "print(noises.get('cat','roar'))"
   ]
  }
 ],
 "metadata": {
  "kernelspec": {
   "display_name": "Python 3",
   "language": "python",
   "name": "python3"
  },
  "language_info": {
   "codemirror_mode": {
    "name": "ipython",
    "version": 3
   },
   "file_extension": ".py",
   "mimetype": "text/x-python",
   "name": "python",
   "nbconvert_exporter": "python",
   "pygments_lexer": "ipython3",
   "version": "3.7.3"
  }
 },
 "nbformat": 4,
 "nbformat_minor": 2
}
