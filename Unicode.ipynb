{
 "cells": [
  {
   "cell_type": "code",
   "execution_count": 138,
   "metadata": {},
   "outputs": [
    {
     "name": "stdout",
     "output_type": "stream",
     "text": [
      "Python\n",
      "🐍\n",
      "128013\n"
     ]
    }
   ],
   "source": [
    "print('Python')\n",
    "print(chr(128013))\n",
    "print(ord('🐍'))"
   ]
  },
  {
   "cell_type": "code",
   "execution_count": null,
   "metadata": {},
   "outputs": [],
   "source": [
    "# Unicode\n",
    "\n",
    "# To know what is unicode, lets see what is ASCII\n",
    "# ASCII\n",
    "# First there was the C programming language, then there was ASCII. \n",
    "# In ASCII, every letter, digits, and symbols that mattered (a-z, A-Z, 0–9, +, -, /, “, ! etc.) \n",
    "# were represented as a number between 32 and 127. Most computers used 8-bits bytes then. \n",
    "# This meant each byte could store 2⁸-1= 255 numbers. \n",
    "# So each byte (or unit of storage) had more than enough space to store the basic set of english characters"
   ]
  },
  {
   "cell_type": "code",
   "execution_count": 42,
   "metadata": {},
   "outputs": [
    {
     "name": "stdout",
     "output_type": "stream",
     "text": [
      "256\n",
      "65536\n",
      "16777216\n",
      "4294967296\n",
      "1099511627776\n",
      "281474976710656\n"
     ]
    }
   ],
   "source": [
    "# Lets see number of representations that can be formed in 8 bits (1 byte)\n",
    "# Then we will see 2, 3, 4, 5, 6 bytes\n",
    "\n",
    "print(2**8)   # 1 byte\n",
    "print(2**16)  # 2 bytes\n",
    "print(2**24)  # 3 bytes\n",
    "print(2**32)  # 4 bytes\n",
    "print(2**40)  # 5 bytes\n",
    "print(2**48)  # 6 bytes\n",
    "\n",
    "# So ASCII used 1 byte, 2⁸-1= 255 numbers"
   ]
  },
  {
   "cell_type": "code",
   "execution_count": null,
   "metadata": {},
   "outputs": [],
   "source": [
    "# In order to accommodate the non-english characters, \n",
    "# people started going a little crazy on how to use the numbers from 128 to 255 still available on a single byte. \n",
    "# Different people would use different characters for the same numbers. \n",
    "# Obviously, not only was it the wild wild west, but it quickly dawned that the extra available numbers \n",
    "# could not even come close to represent the complete set of characters for some languages"
   ]
  },
  {
   "cell_type": "code",
   "execution_count": null,
   "metadata": {},
   "outputs": [],
   "source": [
    "# So Unicode was born\n",
    "# The Unicode was a brave attempt to create a single character set that could represent every characters \n",
    "# in every imaginable language systems."
   ]
  },
  {
   "cell_type": "code",
   "execution_count": null,
   "metadata": {},
   "outputs": [],
   "source": [
    "# What is a Unicode\n",
    "# Unicode (https://www.unicode.org/) is a specification that aims to list every character \n",
    "# used by human languages and give each character its own unique code.\n",
    "\n",
    "# eg.\n",
    "# For example, there’s a character for “Roman Numeral One”, ‘Ⅰ’, that’s separate from the uppercase letter ‘I’. \n",
    "# They’ll usually look the same, but these are two different characters that have different meanings.\n",
    "\n",
    "# https://docs.python.org/3/howto/unicode.html\n",
    "# https://medium.com/@apiltamang/unicode-utf-8-and-ascii-encodings-made-easy-5bfbe3a1c45a\n",
    "\n",
    "# The Unicode standard describes how characters are represented by code points. \n",
    "# A code point value is an integer in the range 0 to 0x10FFFF \n",
    "# (about 1.1 million values, with some 110 thousand assigned so far). \n",
    "# A code point is written using the notation U+265E to mean the character with value 0x265e (9,822 in decimal)."
   ]
  },
  {
   "cell_type": "code",
   "execution_count": 46,
   "metadata": {},
   "outputs": [
    {
     "data": {
      "text/plain": [
       "1114111"
      ]
     },
     "execution_count": 46,
     "metadata": {},
     "output_type": "execute_result"
    }
   ],
   "source": [
    "# Code point range 0 to 0x10FFFF \n",
    "\n",
    "int(0x10FFFF)  # Around 10 lakh codes"
   ]
  },
  {
   "cell_type": "code",
   "execution_count": 52,
   "metadata": {},
   "outputs": [
    {
     "name": "stdout",
     "output_type": "stream",
     "text": [
      "0b10011001011110\n",
      "9822\n",
      "0o23136\n"
     ]
    }
   ],
   "source": [
    "# eg. \n",
    "\n",
    "'0x265E'\n",
    "\n",
    "print(bin(0x265E))\n",
    "print(int(0x265E))\n",
    "print(oct(0x265E))\n",
    "\n",
    "\n",
    "# Hexadecimal to Binary, Decimal and Oct represenation\n",
    "# This is how its internally stored in memeory"
   ]
  },
  {
   "cell_type": "code",
   "execution_count": 53,
   "metadata": {},
   "outputs": [
    {
     "data": {
      "text/plain": [
       "str"
      ]
     },
     "execution_count": 53,
     "metadata": {},
     "output_type": "execute_result"
    }
   ],
   "source": [
    "type('0x265E')\n",
    "\n",
    "# As we can see its of type string"
   ]
  },
  {
   "cell_type": "code",
   "execution_count": 50,
   "metadata": {},
   "outputs": [
    {
     "data": {
      "text/plain": [
       "b'0x265E'"
      ]
     },
     "execution_count": 50,
     "metadata": {},
     "output_type": "execute_result"
    }
   ],
   "source": [
    "'0x265E'.encode('UTF-8')\n",
    "\n",
    "# The string format is not used for transmission\n",
    "# So this will be converted into byte format"
   ]
  },
  {
   "cell_type": "code",
   "execution_count": 51,
   "metadata": {},
   "outputs": [
    {
     "data": {
      "text/plain": [
       "'0x265E'"
      ]
     },
     "execution_count": 51,
     "metadata": {},
     "output_type": "execute_result"
    }
   ],
   "source": [
    "'0x265E'.encode('UTF-8').decode('UTF-8')\n",
    "\n",
    "# At the receiving end it will be decoded\n",
    "# Back to original code\n",
    "# Now its in string format"
   ]
  },
  {
   "cell_type": "code",
   "execution_count": 55,
   "metadata": {},
   "outputs": [
    {
     "data": {
      "text/plain": [
       "'♞'"
      ]
     },
     "execution_count": 55,
     "metadata": {},
     "output_type": "execute_result"
    }
   ],
   "source": [
    "# But what character does this hexadecimal code represents?\n",
    "\n",
    "chr(0x265E)"
   ]
  },
  {
   "cell_type": "code",
   "execution_count": 56,
   "metadata": {},
   "outputs": [
    {
     "data": {
      "text/plain": [
       "9822"
      ]
     },
     "execution_count": 56,
     "metadata": {},
     "output_type": "execute_result"
    }
   ],
   "source": [
    "ord('♞')   # This will give back the decimal format"
   ]
  },
  {
   "cell_type": "code",
   "execution_count": 69,
   "metadata": {},
   "outputs": [
    {
     "name": "stdout",
     "output_type": "stream",
     "text": [
      "32  =  \n",
      "33  = !\n",
      "34  = \"\n",
      "35  = #\n",
      "36  = $\n",
      "37  = %\n",
      "38  = &\n",
      "39  = '\n",
      "40  = (\n",
      "41  = )\n",
      "42  = *\n",
      "43  = +\n",
      "44  = ,\n",
      "45  = -\n",
      "46  = .\n",
      "47  = /\n",
      "48  = 0\n",
      "49  = 1\n",
      "50  = 2\n",
      "51  = 3\n",
      "52  = 4\n",
      "53  = 5\n",
      "54  = 6\n",
      "55  = 7\n",
      "56  = 8\n",
      "57  = 9\n",
      "58  = :\n",
      "59  = ;\n",
      "60  = <\n",
      "61  = =\n",
      "62  = >\n",
      "63  = ?\n",
      "64  = @\n",
      "65  = A\n",
      "66  = B\n",
      "67  = C\n",
      "68  = D\n",
      "69  = E\n",
      "70  = F\n",
      "71  = G\n",
      "72  = H\n",
      "73  = I\n",
      "74  = J\n",
      "75  = K\n",
      "76  = L\n",
      "77  = M\n",
      "78  = N\n",
      "79  = O\n",
      "80  = P\n",
      "81  = Q\n",
      "82  = R\n",
      "83  = S\n",
      "84  = T\n",
      "85  = U\n",
      "86  = V\n",
      "87  = W\n",
      "88  = X\n",
      "89  = Y\n",
      "90  = Z\n",
      "91  = [\n",
      "92  = \\\n",
      "93  = ]\n",
      "94  = ^\n",
      "95  = _\n",
      "96  = `\n",
      "97  = a\n",
      "98  = b\n",
      "99  = c\n",
      "100  = d\n",
      "101  = e\n",
      "102  = f\n",
      "103  = g\n",
      "104  = h\n",
      "105  = i\n",
      "106  = j\n",
      "107  = k\n",
      "108  = l\n",
      "109  = m\n",
      "110  = n\n",
      "111  = o\n",
      "112  = p\n",
      "113  = q\n",
      "114  = r\n",
      "115  = s\n",
      "116  = t\n",
      "117  = u\n",
      "118  = v\n",
      "119  = w\n",
      "120  = x\n",
      "121  = y\n",
      "122  = z\n",
      "123  = {\n",
      "124  = |\n",
      "125  = }\n",
      "126  = ~\n",
      "127  = \n"
     ]
    }
   ],
   "source": [
    "# This is how the numbers are repesented as chararctes in ascii format\n",
    "\n",
    "for i in range(32,128):\n",
    "    print(f'{i}  = {chr(i)}') "
   ]
  },
  {
   "cell_type": "code",
   "execution_count": null,
   "metadata": {},
   "outputs": [],
   "source": [
    "# What is Codepoint\n",
    "# A code point is the atomic unit of information. \n",
    "# Text is a sequence of code points. \n",
    "# Each code point is a number which is given meaning by the Unicode standard.\n",
    "\n",
    "# What is a Glyph\n",
    "# A character is represented on a screen or on paper by a set of graphical elements that’s called a glyph. \n",
    "# The glyph for an uppercase A, for example, is two diagonal strokes and a horizontal stroke,\n",
    "# though the exact details will depend on the font being used."
   ]
  },
  {
   "cell_type": "code",
   "execution_count": null,
   "metadata": {},
   "outputs": [],
   "source": [
    "# What is an Encoding\n",
    "# A Unicode string is a sequence of code points, which are numbers from 0 through 0x10FFFF (1,114,111 decimal). \n",
    "# This sequence of code points needs to be represented in memory as a set of code units, \n",
    "# and code units are then mapped to 8-bit bytes. \n",
    "# The rules for translating a Unicode string into a sequence of bytes are called a character encoding, or just an encoding.\n",
    "\n",
    "\n",
    "# What is UTF-8 encoding\n",
    "# UTF-8 is one of the most commonly used encodings, and Python often defaults to using it. \n",
    "# UTF stands for “Unicode Transformation Format”, and the ‘8’ means that 8-bit values are used in the encoding. \n",
    "# (There are also UTF-16 and UTF-32 encodings, but they are less frequently used than UTF-8.) \n",
    "\n",
    "\n",
    "# UTF-8 uses the following rules:\n",
    "# If the code point is < 128, it’s represented by the corresponding byte value.\n",
    "# If the code point is >= 128, it’s turned into a sequence of two, three, or four bytes, \n",
    "# where each byte of the sequence is between 128 and 255\n",
    "# https://www.youtube.com/watch?v=MijmeoH9LT4\n",
    "\n",
    "# UTF-8 has several convenient properties (one of the property is that)\n",
    "# It can handle any Unicode code point."
   ]
  },
  {
   "cell_type": "code",
   "execution_count": 80,
   "metadata": {},
   "outputs": [
    {
     "name": "stdout",
     "output_type": "stream",
     "text": [
      "b'Manoj'\n",
      "b'\\xff\\xfeM\\x00a\\x00n\\x00o\\x00j\\x00'\n",
      "b'Manoj'\n",
      "5\n"
     ]
    }
   ],
   "source": [
    "name = 'Manoj'\n",
    "print(name.encode('UTF-8'))\n",
    "print(name.encode('UTF-16'))\n",
    "print(name.encode('latin-1'))\n",
    "print(len(name))\n",
    "\n",
    "# Now if you see the len of name, its 5 chars and it makes sense"
   ]
  },
  {
   "cell_type": "code",
   "execution_count": 79,
   "metadata": {},
   "outputs": [
    {
     "name": "stdout",
     "output_type": "stream",
     "text": [
      "5\n",
      "12\n",
      "5\n"
     ]
    }
   ],
   "source": [
    "# Lets see what the length after encode\n",
    "\n",
    "print(len(name.encode('UTF-8')))\n",
    "print(len(name.encode('UTF-16')))\n",
    "print(len(name.encode('latin-1')))\n",
    "\n",
    "# As we can see its using more bytes to store in UTF-16 format (2 bytes)"
   ]
  },
  {
   "cell_type": "code",
   "execution_count": 83,
   "metadata": {},
   "outputs": [
    {
     "name": "stdout",
     "output_type": "stream",
     "text": [
      "א ב ג ד\n",
      "b'\\xd7\\x90 \\xd7\\x91 \\xd7\\x92 \\xd7\\x93'\n"
     ]
    }
   ],
   "source": [
    "# Lets understand more using hebrew 'abcd'\n",
    "\n",
    "hebrew = 'א ב ג ד'\n",
    "print(hebrew)\n",
    "print(hebrew.encode('UTF-8'))"
   ]
  },
  {
   "cell_type": "code",
   "execution_count": 84,
   "metadata": {},
   "outputs": [
    {
     "name": "stdout",
     "output_type": "stream",
     "text": [
      "א\n"
     ]
    }
   ],
   "source": [
    "print(hebrew[0])\n",
    "\n",
    "# Now here we are getting back the same string format of letter 'a' in hebrew"
   ]
  },
  {
   "cell_type": "code",
   "execution_count": 85,
   "metadata": {},
   "outputs": [
    {
     "ename": "TypeError",
     "evalue": "string argument without an encoding",
     "output_type": "error",
     "traceback": [
      "\u001b[1;31m---------------------------------------------------------------------------\u001b[0m",
      "\u001b[1;31mTypeError\u001b[0m                                 Traceback (most recent call last)",
      "\u001b[1;32m<ipython-input-85-a6107f7286a3>\u001b[0m in \u001b[0;36m<module>\u001b[1;34m\u001b[0m\n\u001b[0;32m      1\u001b[0m \u001b[1;31m# What happenns in bytes\u001b[0m\u001b[1;33m\u001b[0m\u001b[1;33m\u001b[0m\u001b[1;33m\u001b[0m\u001b[0m\n\u001b[0;32m      2\u001b[0m \u001b[1;33m\u001b[0m\u001b[0m\n\u001b[1;32m----> 3\u001b[1;33m \u001b[0mbytes\u001b[0m\u001b[1;33m(\u001b[0m\u001b[0mhebrew\u001b[0m\u001b[1;33m)\u001b[0m\u001b[1;33m\u001b[0m\u001b[1;33m\u001b[0m\u001b[0m\n\u001b[0m",
      "\u001b[1;31mTypeError\u001b[0m: string argument without an encoding"
     ]
    }
   ],
   "source": [
    "# What happens in bytes. Lets convert hebrew abcd to bytes\n",
    "\n",
    "bytes(hebrew)\n",
    "\n",
    "# But we are getting an error\n",
    "# This is because we need to tell, how these are represented by bytes\n",
    "# Or how its coverted to bytes, so that we can read it back from bytes to string\n",
    "# This is where encoding tells the way it should be converted"
   ]
  },
  {
   "cell_type": "code",
   "execution_count": 90,
   "metadata": {},
   "outputs": [
    {
     "data": {
      "text/plain": [
       "b'\\xd7\\x90 \\xd7\\x91 \\xd7\\x92 \\xd7\\x93'"
      ]
     },
     "execution_count": 90,
     "metadata": {},
     "output_type": "execute_result"
    }
   ],
   "source": [
    "bytes(hebrew, encoding = 'UTF-8')\n",
    "\n",
    "# As you can see its converted to bytes\n",
    "# This is same as hebrew.encode('UTF-8')\n",
    "# Both will result in type bytes\n"
   ]
  },
  {
   "cell_type": "code",
   "execution_count": 94,
   "metadata": {},
   "outputs": [
    {
     "name": "stdout",
     "output_type": "stream",
     "text": [
      "א ב ג ד\n",
      "א ב ג ד\n"
     ]
    }
   ],
   "source": [
    "# We can convert the bytes using str + encoding type\n",
    "\n",
    "b = bytes(hebrew, encoding = 'UTF-8')\n",
    "print(str(b, encoding = 'UTF-8'))\n",
    "\n",
    "# This is similar to b.decode('UTF-8')\n",
    "print(b.decode('UTF-8'))"
   ]
  },
  {
   "cell_type": "code",
   "execution_count": 95,
   "metadata": {},
   "outputs": [
    {
     "name": "stdout",
     "output_type": "stream",
     "text": [
      "× × × ×\n"
     ]
    }
   ],
   "source": [
    "# Now from the bytes format, if we use wrong encoding type\n",
    "# It will be converted, but you will not get the right result\n",
    "\n",
    "b = bytes(hebrew, encoding = 'UTF-8')\n",
    "print(b.decode('latin-1'))"
   ]
  },
  {
   "cell_type": "code",
   "execution_count": null,
   "metadata": {},
   "outputs": [],
   "source": [
    "# So basically we are converting from string to bytes\n",
    "# and back to bytes to string\n",
    "\n",
    "# This is used in reading file with .png format or from internet\n",
    "# we cant just say open(filename, 'r')\n",
    "# We need to specify\n",
    "# open(filename, 'rb')\n",
    "# This will read as bytes"
   ]
  },
  {
   "cell_type": "code",
   "execution_count": 96,
   "metadata": {},
   "outputs": [
    {
     "name": "stdout",
     "output_type": "stream",
     "text": [
      "9 11 2 7\n"
     ]
    }
   ],
   "source": [
    "# Byte representation\n",
    "# https://www.youtube.com/watch?v=Vvmvo04qv-A\n",
    "\n",
    "# To understand byte, we need to know the difference between byte and char\n",
    "\n",
    "eng = 'Thank You'\n",
    "jap = 'ありがとうございました'\n",
    "chi = '谢谢'\n",
    "kan = 'ಧನ್ಯವಾದ'\n",
    "\n",
    "print(len(eng), len(jap), len(chi), len(kan))\n",
    "\n",
    "# Now this the length of each character in string or char format"
   ]
  },
  {
   "cell_type": "code",
   "execution_count": 97,
   "metadata": {},
   "outputs": [
    {
     "name": "stdout",
     "output_type": "stream",
     "text": [
      "9 33 6 21\n"
     ]
    }
   ],
   "source": [
    "# If we convert it into bytes, we can see the length is increased\n",
    "# Of course while converting to bytes, we need to specify the conversion type\n",
    "\n",
    "b_eng = eng.encode('UTF-8')\n",
    "b_jap = jap.encode('UTF-8')\n",
    "b_chi = chi.encode('UTF-8')\n",
    "b_kan = kan.encode('UTF-8')\n",
    "\n",
    "print(len(b_eng), len(b_jap), len(b_chi), len(b_kan))\n",
    "\n",
    "# As you can see, for eng it remained same\n",
    "# For jap, chi and kan, each char uses 3 bytes"
   ]
  },
  {
   "cell_type": "code",
   "execution_count": 99,
   "metadata": {},
   "outputs": [
    {
     "data": {
      "text/plain": [
       "True"
      ]
     },
     "execution_count": 99,
     "metadata": {},
     "output_type": "execute_result"
    }
   ],
   "source": [
    "# So we know each char takes different bytes in unicode\n",
    "\n",
    "# Another eg.\n",
    "# Lets find a char in a string\n",
    "\n",
    "s = 'abcde'\n",
    "'a' in s"
   ]
  },
  {
   "cell_type": "code",
   "execution_count": 100,
   "metadata": {},
   "outputs": [
    {
     "data": {
      "text/plain": [
       "b'abcde'"
      ]
     },
     "execution_count": 100,
     "metadata": {},
     "output_type": "execute_result"
    }
   ],
   "source": [
    "# Now after converting to bytes we cant find 'a'\n",
    "# To find 'a' , the char should be in byte format\n",
    "\n",
    "b = s.encode('UTF-8')\n",
    "b"
   ]
  },
  {
   "cell_type": "code",
   "execution_count": 101,
   "metadata": {},
   "outputs": [
    {
     "ename": "TypeError",
     "evalue": "a bytes-like object is required, not 'str'",
     "output_type": "error",
     "traceback": [
      "\u001b[1;31m---------------------------------------------------------------------------\u001b[0m",
      "\u001b[1;31mTypeError\u001b[0m                                 Traceback (most recent call last)",
      "\u001b[1;32m<ipython-input-101-4b78e5d6b5f9>\u001b[0m in \u001b[0;36m<module>\u001b[1;34m\u001b[0m\n\u001b[1;32m----> 1\u001b[1;33m \u001b[1;34m'a'\u001b[0m \u001b[1;32min\u001b[0m \u001b[0mb\u001b[0m\u001b[1;33m\u001b[0m\u001b[1;33m\u001b[0m\u001b[0m\n\u001b[0m",
      "\u001b[1;31mTypeError\u001b[0m: a bytes-like object is required, not 'str'"
     ]
    }
   ],
   "source": [
    "'a' in b\n",
    "\n",
    "# This will give error"
   ]
  },
  {
   "cell_type": "code",
   "execution_count": 102,
   "metadata": {},
   "outputs": [
    {
     "data": {
      "text/plain": [
       "True"
      ]
     },
     "execution_count": 102,
     "metadata": {},
     "output_type": "execute_result"
    }
   ],
   "source": [
    "b'a' in b\n",
    "\n",
    "# This will work\n",
    "# Also remember bytes are stored in numbers or hexa digits"
   ]
  },
  {
   "cell_type": "code",
   "execution_count": 105,
   "metadata": {},
   "outputs": [
    {
     "name": "stdout",
     "output_type": "stream",
     "text": [
      "97\n"
     ]
    },
    {
     "data": {
      "text/plain": [
       "True"
      ]
     },
     "execution_count": 105,
     "metadata": {},
     "output_type": "execute_result"
    }
   ],
   "source": [
    "# So we can find using numbers too\n",
    "\n",
    "print(ord('a'))\n",
    "97 in b\n",
    "\n",
    "# Here are searched 'a' using its unicode"
   ]
  },
  {
   "cell_type": "code",
   "execution_count": 112,
   "metadata": {},
   "outputs": [
    {
     "name": "stdout",
     "output_type": "stream",
     "text": [
      "I want to say ಧನ್ಯವಾದ\n"
     ]
    },
    {
     "data": {
      "text/plain": [
       "'I want to say ಧನ್ಯವಾದ'"
      ]
     },
     "execution_count": 112,
     "metadata": {},
     "output_type": "execute_result"
    }
   ],
   "source": [
    "# If there is a mix of languages\n",
    "# Then we will get error while decoding\n",
    "\n",
    "msg = 'I want to say ಧನ್ಯವಾದ'\n",
    "print(msg)\n",
    "\n",
    "b = msg.encode()\n",
    "b.decode()\n",
    "\n",
    "# This is working fine with UTF-8 sometimes we get error"
   ]
  },
  {
   "cell_type": "code",
   "execution_count": 113,
   "metadata": {},
   "outputs": [
    {
     "name": "stdout",
     "output_type": "stream",
     "text": [
      "I want to say ಧನ್ಯವಾದ\n"
     ]
    },
    {
     "ename": "UnicodeEncodeError",
     "evalue": "'latin-1' codec can't encode characters in position 14-20: ordinal not in range(256)",
     "output_type": "error",
     "traceback": [
      "\u001b[1;31m---------------------------------------------------------------------------\u001b[0m",
      "\u001b[1;31mUnicodeEncodeError\u001b[0m                        Traceback (most recent call last)",
      "\u001b[1;32m<ipython-input-113-745984774a32>\u001b[0m in \u001b[0;36m<module>\u001b[1;34m\u001b[0m\n\u001b[0;32m      4\u001b[0m \u001b[0mprint\u001b[0m\u001b[1;33m(\u001b[0m\u001b[0mmsg\u001b[0m\u001b[1;33m)\u001b[0m\u001b[1;33m\u001b[0m\u001b[1;33m\u001b[0m\u001b[0m\n\u001b[0;32m      5\u001b[0m \u001b[1;33m\u001b[0m\u001b[0m\n\u001b[1;32m----> 6\u001b[1;33m \u001b[0mb\u001b[0m \u001b[1;33m=\u001b[0m \u001b[0mmsg\u001b[0m\u001b[1;33m.\u001b[0m\u001b[0mencode\u001b[0m\u001b[1;33m(\u001b[0m\u001b[1;34m'latin-1'\u001b[0m\u001b[1;33m)\u001b[0m\u001b[1;33m\u001b[0m\u001b[1;33m\u001b[0m\u001b[0m\n\u001b[0m\u001b[0;32m      7\u001b[0m \u001b[0mb\u001b[0m\u001b[1;33m.\u001b[0m\u001b[0mdecode\u001b[0m\u001b[1;33m(\u001b[0m\u001b[1;34m'latin-1'\u001b[0m\u001b[1;33m)\u001b[0m\u001b[1;33m\u001b[0m\u001b[1;33m\u001b[0m\u001b[0m\n",
      "\u001b[1;31mUnicodeEncodeError\u001b[0m: 'latin-1' codec can't encode characters in position 14-20: ordinal not in range(256)"
     ]
    }
   ],
   "source": [
    "# Lets use another encoding\n",
    "\n",
    "msg = 'I want to say ಧನ್ಯವಾದ'\n",
    "print(msg)\n",
    "\n",
    "b = msg.encode('latin-1')\n",
    "b.decode('latin-1')"
   ]
  },
  {
   "cell_type": "code",
   "execution_count": 116,
   "metadata": {},
   "outputs": [
    {
     "data": {
      "text/plain": [
       "'I want to say '"
      ]
     },
     "execution_count": 116,
     "metadata": {},
     "output_type": "execute_result"
    }
   ],
   "source": [
    "# We can use the options to ignore the error\n",
    "\n",
    "msg = 'I want to say ಧನ್ಯವಾದ'\n",
    "b = msg.encode('latin-1', errors='ignore')\n",
    "b.decode('latin-1')"
   ]
  },
  {
   "cell_type": "code",
   "execution_count": 117,
   "metadata": {},
   "outputs": [
    {
     "data": {
      "text/plain": [
       "'I want to say ???????'"
      ]
     },
     "execution_count": 117,
     "metadata": {},
     "output_type": "execute_result"
    }
   ],
   "source": [
    "# We can even replace with ??\n",
    "\n",
    "msg = 'I want to say ಧನ್ಯವಾದ'\n",
    "b = msg.encode('latin-1', errors='replace')\n",
    "b.decode('latin-1')"
   ]
  },
  {
   "cell_type": "code",
   "execution_count": 120,
   "metadata": {},
   "outputs": [
    {
     "name": "stdout",
     "output_type": "stream",
     "text": [
      "Help on built-in function encode:\n",
      "\n",
      "encode(encoding='utf-8', errors='strict') method of builtins.str instance\n",
      "    Encode the string using the codec registered for encoding.\n",
      "    \n",
      "    encoding\n",
      "      The encoding in which to encode the string.\n",
      "    errors\n",
      "      The error handling scheme to use for encoding errors.\n",
      "      The default is 'strict' meaning that encoding errors raise a\n",
      "      UnicodeEncodeError.  Other possible values are 'ignore', 'replace' and\n",
      "      'xmlcharrefreplace' as well as any other name registered with\n",
      "      codecs.register_error that can handle UnicodeEncodeErrors.\n",
      "\n"
     ]
    }
   ],
   "source": [
    "help(msg.encode)"
   ]
  },
  {
   "cell_type": "code",
   "execution_count": 119,
   "metadata": {},
   "outputs": [
    {
     "data": {
      "text/plain": [
       "'I want to say &#3239;&#3240;&#3277;&#3247;&#3253;&#3262;&#3238;'"
      ]
     },
     "execution_count": 119,
     "metadata": {},
     "output_type": "execute_result"
    }
   ],
   "source": [
    "# Or we can convert to xml entiies\n",
    "\n",
    "msg = 'I want to say ಧನ್ಯವಾದ'\n",
    "b = msg.encode('latin-1', errors='xmlcharrefreplace')\n",
    "b.decode('latin-1')"
   ]
  },
  {
   "cell_type": "code",
   "execution_count": 130,
   "metadata": {},
   "outputs": [
    {
     "data": {
      "text/plain": [
       "b'abcd'"
      ]
     },
     "execution_count": 130,
     "metadata": {},
     "output_type": "execute_result"
    }
   ],
   "source": [
    "# Bytearrays\n",
    "\n",
    "# Byte is immutable, whereas bytearray is immutable\n",
    "# This is useful when we are reading bits of data from web and we want to modify it\n",
    "# Then we need an mutable array\n",
    "\n",
    "# eg.\n",
    "\n",
    "b = bytes('abcd','utf-8')\n",
    "b"
   ]
  },
  {
   "cell_type": "code",
   "execution_count": 125,
   "metadata": {},
   "outputs": [
    {
     "data": {
      "text/plain": [
       "97"
      ]
     },
     "execution_count": 125,
     "metadata": {},
     "output_type": "execute_result"
    }
   ],
   "source": [
    "b[0]"
   ]
  },
  {
   "cell_type": "code",
   "execution_count": 127,
   "metadata": {},
   "outputs": [
    {
     "ename": "TypeError",
     "evalue": "'bytes' object does not support item assignment",
     "output_type": "error",
     "traceback": [
      "\u001b[1;31m---------------------------------------------------------------------------\u001b[0m",
      "\u001b[1;31mTypeError\u001b[0m                                 Traceback (most recent call last)",
      "\u001b[1;32m<ipython-input-127-2b78af683878>\u001b[0m in \u001b[0;36m<module>\u001b[1;34m\u001b[0m\n\u001b[1;32m----> 1\u001b[1;33m \u001b[0mb\u001b[0m\u001b[1;33m[\u001b[0m\u001b[1;36m0\u001b[0m\u001b[1;33m]\u001b[0m \u001b[1;33m=\u001b[0m \u001b[1;36m65\u001b[0m\u001b[1;33m\u001b[0m\u001b[1;33m\u001b[0m\u001b[0m\n\u001b[0m\u001b[0;32m      2\u001b[0m \u001b[1;33m\u001b[0m\u001b[0m\n\u001b[0;32m      3\u001b[0m \u001b[1;31m# As you can see we get error\u001b[0m\u001b[1;33m\u001b[0m\u001b[1;33m\u001b[0m\u001b[1;33m\u001b[0m\u001b[0m\n",
      "\u001b[1;31mTypeError\u001b[0m: 'bytes' object does not support item assignment"
     ]
    }
   ],
   "source": [
    "b[0] = 65\n",
    "\n",
    "# As you can see we get error as byte is immutable"
   ]
  },
  {
   "cell_type": "code",
   "execution_count": 132,
   "metadata": {},
   "outputs": [
    {
     "data": {
      "text/plain": [
       "bytearray(b'abcd')"
      ]
     },
     "execution_count": 132,
     "metadata": {},
     "output_type": "execute_result"
    }
   ],
   "source": [
    "# How to create bytearray\n",
    "\n",
    "ba= bytearray('abcd', 'utf-8')\n",
    "ba\n",
    "\n",
    "# This is now of type bytearray"
   ]
  },
  {
   "cell_type": "code",
   "execution_count": 133,
   "metadata": {},
   "outputs": [
    {
     "data": {
      "text/plain": [
       "97"
      ]
     },
     "execution_count": 133,
     "metadata": {},
     "output_type": "execute_result"
    }
   ],
   "source": [
    "ba[0]"
   ]
  },
  {
   "cell_type": "code",
   "execution_count": 134,
   "metadata": {},
   "outputs": [
    {
     "name": "stdout",
     "output_type": "stream",
     "text": [
      "bytearray(b'AbCd')\n"
     ]
    }
   ],
   "source": [
    "ba[0] = 65\n",
    "ba[2] = 67\n",
    "print(ba)\n",
    "\n",
    "# As you can see, we have changed 2 chars to uppercase"
   ]
  },
  {
   "cell_type": "code",
   "execution_count": 136,
   "metadata": {},
   "outputs": [
    {
     "name": "stdout",
     "output_type": "stream",
     "text": [
      "97\n",
      "100\n",
      "b'bcd'\n"
     ]
    }
   ],
   "source": [
    "# All other functions that supports string and bytes will work on bytearrays\n",
    "\n",
    "print(b[0])\n",
    "print(b[-1])\n",
    "print(b[1:4])"
   ]
  },
  {
   "cell_type": "code",
   "execution_count": 12,
   "metadata": {},
   "outputs": [
    {
     "data": {
      "text/plain": [
       "b'\\xd7\\x90 \\xd7\\x91 \\xd7\\x92 \\xd7\\x93'"
      ]
     },
     "execution_count": 12,
     "metadata": {},
     "output_type": "execute_result"
    }
   ],
   "source": [
    "# Note: Out of all the unicode encodings, UTF-8 has a neat hack while encoding.\n",
    "\n",
    "str = 'א ב ג ד'\n",
    "bytes(str, 'UTF-8')  # We get bytes"
   ]
  },
  {
   "cell_type": "code",
   "execution_count": 13,
   "metadata": {},
   "outputs": [
    {
     "data": {
      "text/plain": [
       "'d79020d79120d79220d793'"
      ]
     },
     "execution_count": 13,
     "metadata": {},
     "output_type": "execute_result"
    }
   ],
   "source": [
    "# As you can see there are d7 everywhere\n",
    "# To see it clearly lets convert to hex() string\n",
    "\n",
    "bytes(str, 'UTF-8').hex()"
   ]
  },
  {
   "cell_type": "code",
   "execution_count": null,
   "metadata": {},
   "outputs": [],
   "source": [
    "# This is because UTF-8 uses 110xxxxx 10xxxxxx 10xxxxxx 10xxxxxx format while converting\n",
    "# For one it preserves the ASCII codes and also it prevents from\n",
    "# sending 0 bytes which indicates null values\n",
    "\n",
    "# eg. 110xxxxx 00000000 00000001\n",
    "# Here if a character uses 3 bytes per character and if the 2nd byte\n",
    "# contains all zeros then, while reading stream of bytes this marks\n",
    "# as end of string. To prevent this 110 and 10 is prefixed in all bytes\n",
    "\n",
    "# For more info\n",
    "# https://www.youtube.com/watch?v=MijmeoH9LT4"
   ]
  }
 ],
 "metadata": {
  "kernelspec": {
   "display_name": "Python 3",
   "language": "python",
   "name": "python3"
  },
  "language_info": {
   "codemirror_mode": {
    "name": "ipython",
    "version": 3
   },
   "file_extension": ".py",
   "mimetype": "text/x-python",
   "name": "python",
   "nbconvert_exporter": "python",
   "pygments_lexer": "ipython3",
   "version": "3.7.3"
  }
 },
 "nbformat": 4,
 "nbformat_minor": 2
}
