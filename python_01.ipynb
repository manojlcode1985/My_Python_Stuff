{
 "cells": [
  {
   "cell_type": "code",
   "execution_count": null,
   "metadata": {},
   "outputs": [],
   "source": [
    "## Topics"
   ]
  },
  {
   "cell_type": "code",
   "execution_count": null,
   "metadata": {},
   "outputs": [],
   "source": [
    "## Numbers, Operators\n",
    "## Variables\n",
    "## Strings\n",
    "## Booleans\n",
    "## Conditional Logic\n",
    "## Loops\n",
    "## List and its comprehension\n",
    "## Dict and its comprehension\n",
    "## Tuple \n",
    "## Sets and its comprehension"
   ]
  },
  {
   "cell_type": "code",
   "execution_count": 1,
   "metadata": {},
   "outputs": [
    {
     "data": {
      "text/plain": [
       "3.3333333333333335"
      ]
     },
     "execution_count": 1,
     "metadata": {},
     "output_type": "execute_result"
    }
   ],
   "source": [
    "# Normal Division\n",
    "10/3"
   ]
  },
  {
   "cell_type": "code",
   "execution_count": 2,
   "metadata": {},
   "outputs": [
    {
     "data": {
      "text/plain": [
       "3"
      ]
     },
     "execution_count": 2,
     "metadata": {},
     "output_type": "execute_result"
    }
   ],
   "source": [
    "# Integer division\n",
    "10//3"
   ]
  },
  {
   "cell_type": "code",
   "execution_count": 3,
   "metadata": {},
   "outputs": [
    {
     "data": {
      "text/plain": [
       "3.0"
      ]
     },
     "execution_count": 3,
     "metadata": {},
     "output_type": "execute_result"
    }
   ],
   "source": [
    "# Square root using exponentiation\n",
    "9**0.5"
   ]
  },
  {
   "cell_type": "code",
   "execution_count": 4,
   "metadata": {},
   "outputs": [
    {
     "name": "stdout",
     "output_type": "stream",
     "text": [
      "10 20 30\n"
     ]
    }
   ],
   "source": [
    "# Multiple Assignments\n",
    "a, b, c = 10, 20, 30\n",
    "print(a, b, c)"
   ]
  },
  {
   "cell_type": "code",
   "execution_count": null,
   "metadata": {},
   "outputs": [],
   "source": [
    "# Restricted variables\n",
    "# dunder\n",
    "# double underscore variable\n",
    "__name__"
   ]
  },
  {
   "cell_type": "code",
   "execution_count": null,
   "metadata": {},
   "outputs": [],
   "source": [
    "# Strings are unicode chars"
   ]
  },
  {
   "cell_type": "code",
   "execution_count": null,
   "metadata": {},
   "outputs": [],
   "source": [
    "# Dynamically typed\n",
    "# It means variables can change types readily"
   ]
  },
  {
   "cell_type": "code",
   "execution_count": 7,
   "metadata": {},
   "outputs": [
    {
     "name": "stdout",
     "output_type": "stream",
     "text": [
      "None\n"
     ]
    }
   ],
   "source": [
    "# In python None is similar to null\n",
    "# We can assign a variable to None, and use it later\n",
    "# else it will give error\n",
    "child = None\n",
    "print(child)"
   ]
  },
  {
   "cell_type": "code",
   "execution_count": 8,
   "metadata": {},
   "outputs": [
    {
     "name": "stdout",
     "output_type": "stream",
     "text": [
      "Nice try, your 8 is wrong\n"
     ]
    }
   ],
   "source": [
    "# Formatting strings using F-Strings\n",
    "# The simplest and cleanest way to interpolate\n",
    "guess = 8\n",
    "print(f'Nice try, your {guess} is wrong')\n",
    "\n",
    "# This is the new way (3.6), old was to use .format()"
   ]
  },
  {
   "cell_type": "code",
   "execution_count": 9,
   "metadata": {},
   "outputs": [
    {
     "name": "stdout",
     "output_type": "stream",
     "text": [
      "The number is 5.5\n"
     ]
    }
   ],
   "source": [
    "# Interpolate converts implicitly \n",
    "a = 5.5\n",
    "print('The number is {}'.format(a))\n",
    "\n",
    "# Here float is used without explicitly converting to string\n",
    "# MJ"
   ]
  },
  {
   "cell_type": "code",
   "execution_count": 10,
   "metadata": {},
   "outputs": [
    {
     "ename": "TypeError",
     "evalue": "can only concatenate str (not \"float\") to str",
     "output_type": "error",
     "traceback": [
      "\u001b[1;31m---------------------------------------------------------------------------\u001b[0m",
      "\u001b[1;31mTypeError\u001b[0m                                 Traceback (most recent call last)",
      "\u001b[1;32m<ipython-input-10-c9ff11dc867b>\u001b[0m in \u001b[0;36m<module>\u001b[1;34m\u001b[0m\n\u001b[1;32m----> 1\u001b[1;33m \u001b[1;34m'The number is '\u001b[0m \u001b[1;33m+\u001b[0m \u001b[0ma\u001b[0m\u001b[1;33m\u001b[0m\u001b[1;33m\u001b[0m\u001b[0m\n\u001b[0m",
      "\u001b[1;31mTypeError\u001b[0m: can only concatenate str (not \"float\") to str"
     ]
    }
   ],
   "source": [
    "# This gives error\n",
    "'The number is ' + a"
   ]
  },
  {
   "cell_type": "code",
   "execution_count": 11,
   "metadata": {},
   "outputs": [
    {
     "data": {
      "text/plain": [
       "'The number is 5.5'"
      ]
     },
     "execution_count": 11,
     "metadata": {},
     "output_type": "execute_result"
    }
   ],
   "source": [
    "# This does not gives error\n",
    "f'The number is {a}'"
   ]
  },
  {
   "cell_type": "markdown",
   "metadata": {},
   "source": [
    "## Note: Booleans == Decisions"
   ]
  },
  {
   "cell_type": "code",
   "execution_count": null,
   "metadata": {},
   "outputs": [],
   "source": [
    "# Tab size is 4 spaces"
   ]
  },
  {
   "cell_type": "code",
   "execution_count": 19,
   "metadata": {},
   "outputs": [],
   "source": [
    "# Every value has an inherent truthiness and falsiness values"
   ]
  },
  {
   "cell_type": "code",
   "execution_count": 20,
   "metadata": {},
   "outputs": [
    {
     "name": "stdout",
     "output_type": "stream",
     "text": [
      "True\n",
      "True\n"
     ]
    }
   ],
   "source": [
    "# is v/s ==\n",
    "# How are they different, == compares the values but is compares their memory locations\n",
    "# 'is' tells whether 2 variables are stored in same place (Memory)\n",
    "\n",
    "a = 1\n",
    "print(a == 1)\n",
    "print(a is 1)"
   ]
  },
  {
   "cell_type": "code",
   "execution_count": 21,
   "metadata": {},
   "outputs": [
    {
     "name": "stdout",
     "output_type": "stream",
     "text": [
      "True\n",
      "True\n"
     ]
    }
   ],
   "source": [
    "a = 1\n",
    "b = 1\n",
    "print(a == b)\n",
    "print(a is b)"
   ]
  },
  {
   "cell_type": "code",
   "execution_count": 23,
   "metadata": {},
   "outputs": [
    {
     "name": "stdout",
     "output_type": "stream",
     "text": [
      "True\n",
      "False\n",
      "True\n"
     ]
    }
   ],
   "source": [
    "a = [1,2,3]\n",
    "b = [1,2,3]\n",
    "print(a == b)\n",
    "print(a is b)  # Here is stored in some other place in memory\n",
    "c = b   # This points to same place as b\n",
    "print (c is b)  # This returns true"
   ]
  },
  {
   "cell_type": "markdown",
   "metadata": {},
   "source": [
    "## Note: 'is' is used to check the equality of objects in memory rather than just their value"
   ]
  },
  {
   "cell_type": "code",
   "execution_count": null,
   "metadata": {},
   "outputs": [],
   "source": [
    "# Let start some coding"
   ]
  },
  {
   "cell_type": "markdown",
   "metadata": {},
   "source": [
    "## Mini Project\n",
    "## RPS game - Rock Paper Scissors"
   ]
  },
  {
   "cell_type": "code",
   "execution_count": 36,
   "metadata": {},
   "outputs": [
    {
     "name": "stdout",
     "output_type": "stream",
     "text": [
      "Player make your move: jello\n",
      "Computer plays paper\n",
      "Something went wrong\n"
     ]
    }
   ],
   "source": [
    "from random import randint\n",
    "\n",
    "player = input('Player make your move: ').lower()\n",
    "rand_num = randint(0,2)\n",
    "if rand_num == 0:\n",
    "    computer = 'rock'\n",
    "elif rand_num == 1:\n",
    "    computer = 'paper'\n",
    "else:\n",
    "    computer = 'scissors'\n",
    "    \n",
    "print(f'Computer plays {computer}')\n",
    "\n",
    "if player == computer:\n",
    "    print('Its a tie!')\n",
    "elif player == 'rock':\n",
    "    if computer == 'scissors':\n",
    "        print('Player wins!')\n",
    "    else:\n",
    "        print('Computer wins!')\n",
    "elif player == 'paper':\n",
    "    if computer == 'rock':\n",
    "        print('Player wins!')\n",
    "    else:\n",
    "        print('Computer wins!')\n",
    "elif player == 'scissors':\n",
    "    if computer == 'paper':\n",
    "        print('Player wins!')\n",
    "    else:\n",
    "        print('Computer wins!')\n",
    "else:\n",
    "    print('Something went wrong')\n",
    "    "
   ]
  },
  {
   "cell_type": "code",
   "execution_count": 39,
   "metadata": {},
   "outputs": [
    {
     "data": {
      "text/plain": [
       "[0, 1, 2, 3, 4, 5, 6, 7, 8, 9]"
      ]
     },
     "execution_count": 39,
     "metadata": {},
     "output_type": "execute_result"
    }
   ],
   "source": [
    "r = range(10)\n",
    "list(r)"
   ]
  },
  {
   "cell_type": "code",
   "execution_count": 45,
   "metadata": {},
   "outputs": [
    {
     "name": "stdout",
     "output_type": "stream",
     "text": [
      "😀\n",
      "😀\n",
      "😀\n",
      "😀\n",
      "😀\n",
      "😀\n",
      "😀\n",
      "😀\n",
      "😀\n",
      "😀\n",
      "😀\n",
      "😀\n",
      "😀\n",
      "😀\n",
      "😀\n",
      "😀\n",
      "😀\n",
      "😀\n",
      "😀\n",
      "😀\n",
      "😀\n",
      "😀\n",
      "😀\n",
      "😀\n",
      "😀\n",
      "😀\n",
      "😀\n",
      "😀\n",
      "😀\n",
      "😀\n",
      "😀\n",
      "😀\n",
      "😀\n",
      "😀\n",
      "😀\n",
      "😀\n",
      "😀\n",
      "😀\n",
      "😀\n",
      "😀\n",
      "😀\n",
      "😀\n",
      "😀\n",
      "😀\n",
      "😀\n"
     ]
    }
   ],
   "source": [
    "# This will not produce a triangle\n",
    "for rows in range(10):\n",
    "    for cols in range(rows):\n",
    "        print('\\U0001f600')"
   ]
  },
  {
   "cell_type": "code",
   "execution_count": 46,
   "metadata": {},
   "outputs": [
    {
     "name": "stdout",
     "output_type": "stream",
     "text": [
      "\n",
      "😀\n",
      "😀😀\n",
      "😀😀😀\n",
      "😀😀😀😀\n",
      "😀😀😀😀😀\n",
      "😀😀😀😀😀😀\n",
      "😀😀😀😀😀😀😀\n",
      "😀😀😀😀😀😀😀😀\n",
      "😀😀😀😀😀😀😀😀😀\n"
     ]
    }
   ],
   "source": [
    "# We can use string multiplication\n",
    "for n in range(10):\n",
    "    print('\\U0001f600' * n)"
   ]
  },
  {
   "cell_type": "code",
   "execution_count": 48,
   "metadata": {},
   "outputs": [
    {
     "name": "stdout",
     "output_type": "stream",
     "text": [
      "\n",
      "😀\n",
      "😀😀\n",
      "😀😀😀\n",
      "😀😀😀😀\n",
      "😀😀😀😀😀\n",
      "😀😀😀😀😀😀\n",
      "😀😀😀😀😀😀😀\n",
      "😀😀😀😀😀😀😀😀\n",
      "😀😀😀😀😀😀😀😀😀\n"
     ]
    }
   ],
   "source": [
    "# Without string multiplication\n",
    "for rows in range(10):\n",
    "    smileys = ''\n",
    "    for cols in range(rows):\n",
    "        smileys += '\\U0001f600'\n",
    "    print(smileys)"
   ]
  },
  {
   "cell_type": "code",
   "execution_count": 14,
   "metadata": {},
   "outputs": [
    {
     "name": "stdout",
     "output_type": "stream",
     "text": [
      "         \n",
      "        😀\n",
      "       😀😀\n",
      "      😀😀😀\n",
      "     😀😀😀😀\n",
      "    😀😀😀😀😀\n",
      "   😀😀😀😀😀😀\n",
      "  😀😀😀😀😀😀😀\n",
      " 😀😀😀😀😀😀😀😀\n",
      "😀😀😀😀😀😀😀😀😀\n"
     ]
    }
   ],
   "source": [
    "# almost! Perfect Triangle (my code)\n",
    "len = 10\n",
    "for n in range(len):\n",
    "    blank = ' ' * int(len-1/2)\n",
    "    line = blank + ('\\U0001f600' * n)\n",
    "    len -= 1\n",
    "    print(line)"
   ]
  },
  {
   "cell_type": "code",
   "execution_count": 58,
   "metadata": {},
   "outputs": [],
   "source": [
    "# break, exists from the loop\n",
    "# continue, will skip the reminder statements in the loop"
   ]
  },
  {
   "cell_type": "markdown",
   "metadata": {},
   "source": [
    "## Mini Project\n",
    "## Guessing Game"
   ]
  },
  {
   "cell_type": "code",
   "execution_count": 62,
   "metadata": {},
   "outputs": [
    {
     "name": "stdout",
     "output_type": "stream",
     "text": [
      "Guess a number between 1 to 20\n",
      "Enter your number: 10\n",
      "Too Low\n",
      "Enter your number: 15\n",
      "Too Low\n",
      "Enter your number: 18\n",
      "Too Low\n",
      "Enter your number: 19\n",
      "Too Low\n",
      "Enter your number: 20\n",
      "Congulations you guessed it right!\n"
     ]
    }
   ],
   "source": [
    "print('Guess a number between 1 to 20')\n",
    "n = randint(1,20)\n",
    "guess = 0\n",
    "while guess != n:\n",
    "    guess = int(input('Enter your number: '))\n",
    "    if guess > n:\n",
    "        print('Too High')\n",
    "    elif guess < n:\n",
    "        print('Too Low')\n",
    "print('Congulations you guessed it right!')"
   ]
  },
  {
   "cell_type": "code",
   "execution_count": 2,
   "metadata": {},
   "outputs": [
    {
     "data": {
      "text/plain": [
       "True"
      ]
     },
     "execution_count": 2,
     "metadata": {},
     "output_type": "execute_result"
    }
   ],
   "source": [
    "# Check a value in list - use 'in'\n",
    "friends = ['Tom','Jerry', 'Mickey']\n",
    "'Tom' in friends"
   ]
  },
  {
   "cell_type": "code",
   "execution_count": null,
   "metadata": {},
   "outputs": [],
   "source": [
    "# Auto pep8 formatting\n",
    "# Goto the file path and Enter below command\n",
    "# autopep8 --in-place --aggressive --aggressive filename.py"
   ]
  },
  {
   "cell_type": "code",
   "execution_count": 6,
   "metadata": {},
   "outputs": [
    {
     "data": {
      "text/plain": [
       "'SUPERCALIFRAGILISTICEXPIALIDOCIOUS'"
      ]
     },
     "execution_count": 6,
     "metadata": {},
     "output_type": "execute_result"
    }
   ],
   "source": [
    "sounds = [\"super\", \"cali\", \"fragil\", \"istic\", \"expi\", \"ali\", \"docious\"]\n",
    "result = ''\n",
    "# Define your code below:\n",
    "for sound in sounds:\n",
    "    result += sound\n",
    "result = result.upper()\n",
    "result"
   ]
  },
  {
   "cell_type": "code",
   "execution_count": null,
   "metadata": {},
   "outputs": [],
   "source": [
    "# Note: Functions and Methods are not same"
   ]
  },
  {
   "cell_type": "code",
   "execution_count": 12,
   "metadata": {},
   "outputs": [
    {
     "data": {
      "text/plain": [
       "[1, 2, 3, 4, [5, 6, 7]]"
      ]
     },
     "execution_count": 12,
     "metadata": {},
     "output_type": "execute_result"
    }
   ],
   "source": [
    "# In list methods we have append and extend\n",
    "# append will add it as an item in the list\n",
    "# extend will add it as item's in the list\n",
    "\n",
    "a = [1,2,3,4]\n",
    "a.append([5,6,7])\n",
    "a\n",
    "# Here the len(a) = 5"
   ]
  },
  {
   "cell_type": "code",
   "execution_count": 10,
   "metadata": {},
   "outputs": [
    {
     "data": {
      "text/plain": [
       "[1, 2, 3, 4, 5, 6, 7]"
      ]
     },
     "execution_count": 10,
     "metadata": {},
     "output_type": "execute_result"
    }
   ],
   "source": [
    "a = [1,2,3,4]\n",
    "a.extend([5,6,7])\n",
    "a\n",
    "# Here the len(a) = 7"
   ]
  },
  {
   "cell_type": "code",
   "execution_count": 14,
   "metadata": {},
   "outputs": [
    {
     "data": {
      "text/plain": [
       "[1, 2, 3, 4, 'LAST', 5]"
      ]
     },
     "execution_count": 14,
     "metadata": {},
     "output_type": "execute_result"
    }
   ],
   "source": [
    "# To insert an item at the end - use len()\n",
    "# Using -ve indexing will not add the item in the end\n",
    "\n",
    "a = [1,2,3,4,5]\n",
    "a.insert(-1,'LAST')  # Note: This will not add at the end of the list\n",
    "a"
   ]
  },
  {
   "cell_type": "code",
   "execution_count": 15,
   "metadata": {},
   "outputs": [
    {
     "data": {
      "text/plain": [
       "[1, 2, 3, 4, 5, 'LAST']"
      ]
     },
     "execution_count": 15,
     "metadata": {},
     "output_type": "execute_result"
    }
   ],
   "source": [
    "a = [1,2,3,4,5]\n",
    "a.insert(len(a),'LAST')  # This will add the item in last\n",
    "a"
   ]
  },
  {
   "cell_type": "code",
   "execution_count": 17,
   "metadata": {},
   "outputs": [
    {
     "name": "stdout",
     "output_type": "stream",
     "text": [
      "6\n",
      "3\n",
      "[1, 2, 4, 5]\n"
     ]
    }
   ],
   "source": [
    "# pop v/s remove\n",
    "# pop uses index to remove the item from a list\n",
    "# remove uses the value of the item to remove an element from a list\n",
    "\n",
    "a = [1,2,3,4,5,6]\n",
    "print(a.pop())  # default pops the last item \n",
    "print(a.pop(2)) # we can display to print the value thats been removed\n",
    "print(a)"
   ]
  },
  {
   "cell_type": "code",
   "execution_count": 19,
   "metadata": {},
   "outputs": [
    {
     "name": "stdout",
     "output_type": "stream",
     "text": [
      "None\n",
      "None\n",
      "['a', 'b', 'd']\n"
     ]
    }
   ],
   "source": [
    "a = ['a','b','c','d','e']\n",
    "print(a.remove('e')) \n",
    "print(a.remove('c'))\n",
    "print(a)"
   ]
  },
  {
   "cell_type": "code",
   "execution_count": 21,
   "metadata": {},
   "outputs": [
    {
     "name": "stdout",
     "output_type": "stream",
     "text": [
      "2\n",
      "0\n"
     ]
    }
   ],
   "source": [
    "# To get an index in a list - use index\n",
    "a = [5,6,7,8,9]\n",
    "print(a.index(7))\n",
    "print(a.index(5))"
   ]
  },
  {
   "cell_type": "code",
   "execution_count": 25,
   "metadata": {},
   "outputs": [
    {
     "name": "stdout",
     "output_type": "stream",
     "text": [
      "0\n",
      "0\n",
      "9\n"
     ]
    }
   ],
   "source": [
    "# We can even specify start and end while finding the index\n",
    "\n",
    "a = [1,2,3,4,5,6,6,7,8,1,2,3]\n",
    "print(a.index(1))\n",
    "print(a.index(1,0,4))\n",
    "print(a.index(1,-4,-1))"
   ]
  },
  {
   "cell_type": "code",
   "execution_count": 27,
   "metadata": {},
   "outputs": [
    {
     "name": "stdout",
     "output_type": "stream",
     "text": [
      "2\n",
      "1\n",
      "2\n"
     ]
    }
   ],
   "source": [
    "# In list count method returns the number of time the element is present in the list\n",
    "# count doesnt give length of the list\n",
    "\n",
    "a = [1,2,3,4,5,6,6,7,8,1,2,3]\n",
    "print(a.count(1))\n",
    "print(a.count(5))\n",
    "print(a.count(6))"
   ]
  },
  {
   "cell_type": "code",
   "execution_count": 29,
   "metadata": {},
   "outputs": [
    {
     "data": {
      "text/plain": [
       "[5, 4, 3, 2, 1]"
      ]
     },
     "execution_count": 29,
     "metadata": {},
     "output_type": "execute_result"
    }
   ],
   "source": [
    "# reverse - reverses the list in-place\n",
    "a = [1,2,3,4,5]\n",
    "a.reverse()\n",
    "a"
   ]
  },
  {
   "cell_type": "code",
   "execution_count": 33,
   "metadata": {},
   "outputs": [
    {
     "name": "stdout",
     "output_type": "stream",
     "text": [
      "Manoj\n"
     ]
    },
    {
     "data": {
      "text/plain": [
       "['M', 'a', 'n', 'o', 'j']"
      ]
     },
     "execution_count": 33,
     "metadata": {},
     "output_type": "execute_result"
    }
   ],
   "source": [
    "# join is string method\n",
    "# Its commonly used to convert lists to strings\n",
    "\n",
    "a = ['M','a','n', 'o', 'j']\n",
    "print(''.join(a))\n",
    "a"
   ]
  },
  {
   "cell_type": "code",
   "execution_count": 35,
   "metadata": {},
   "outputs": [
    {
     "data": {
      "text/plain": [
       "'naadlj'"
      ]
     },
     "execution_count": 35,
     "metadata": {},
     "output_type": "execute_result"
    }
   ],
   "source": [
    "# Slice\n",
    "# some_list[start:end:step]\n",
    "a = 'Manojasdalsdjalsdjalsdjas;djas;djas;ldkas;dlkas;ldkas;l'\n",
    "a[2:20:3]  # This selected every 3rd char from 2-20 indexes"
   ]
  },
  {
   "cell_type": "code",
   "execution_count": 36,
   "metadata": {},
   "outputs": [
    {
     "data": {
      "text/plain": [
       "'jonaM'"
      ]
     },
     "execution_count": 36,
     "metadata": {},
     "output_type": "execute_result"
    }
   ],
   "source": [
    "# reverse a string\n",
    "a = 'Manoj'\n",
    "a[::-1]"
   ]
  },
  {
   "cell_type": "code",
   "execution_count": 37,
   "metadata": {},
   "outputs": [
    {
     "data": {
      "text/plain": [
       "'hpaR'"
      ]
     },
     "execution_count": 37,
     "metadata": {},
     "output_type": "execute_result"
    }
   ],
   "source": [
    "# Note: We can reverse an element in a string\n",
    "a = ['Leo','Raph','Mike','Don']\n",
    "a[1][::-1]   # Note: Find the element and reverse it"
   ]
  },
  {
   "cell_type": "code",
   "execution_count": 39,
   "metadata": {},
   "outputs": [
    {
     "name": "stdout",
     "output_type": "stream",
     "text": [
      "1 2\n",
      "2 1\n"
     ]
    }
   ],
   "source": [
    "# Note: Swapping\n",
    "\n",
    "a = 1\n",
    "b = 2\n",
    "\n",
    "print(a,b)\n",
    "a,b = b,a\n",
    "print(a,b)"
   ]
  },
  {
   "cell_type": "code",
   "execution_count": 41,
   "metadata": {},
   "outputs": [
    {
     "data": {
      "text/plain": [
       "[10, 20, 30, 40, 50]"
      ]
     },
     "execution_count": 41,
     "metadata": {},
     "output_type": "execute_result"
    }
   ],
   "source": [
    "# List Compreshension\n",
    "# syntax -  [ variable_name for variable_name in some_list]\n",
    "# Note: Its the same variable_name in both places\n",
    "\n",
    "a = [1,2,3,4,5]  # a is the list\n",
    "\n",
    "[x*10 for x in a]\n"
   ]
  },
  {
   "cell_type": "code",
   "execution_count": 43,
   "metadata": {},
   "outputs": [
    {
     "data": {
      "text/plain": [
       "[False, False, True, True, False, False]"
      ]
     },
     "execution_count": 43,
     "metadata": {},
     "output_type": "execute_result"
    }
   ],
   "source": [
    "# Another cool eg.\n",
    "\n",
    "[bool(val) for val in [0,'',-1,' ',[],None] ] # Except -1, all have False values"
   ]
  },
  {
   "cell_type": "code",
   "execution_count": 45,
   "metadata": {},
   "outputs": [
    {
     "name": "stdout",
     "output_type": "stream",
     "text": [
      "[0, 2, 4, 6, 8, 10, 12, 14, 16, 18]\n",
      "[1, 3, 5, 7, 9, 11, 13, 15, 17, 19]\n"
     ]
    }
   ],
   "source": [
    "# List Compreshension with conditional logic\n",
    "# Adding if condition is easy\n",
    "# But to add if and else in comprehension, it has a confusing syntax\n",
    "\n",
    "# adding if condn\n",
    "even = [n for n in range(20) if n%2 == 0]\n",
    "odd = [n for n in range(20) if n%2 != 0]\n",
    "print(even)\n",
    "print(odd)"
   ]
  },
  {
   "cell_type": "code",
   "execution_count": 49,
   "metadata": {},
   "outputs": [
    {
     "name": "stdout",
     "output_type": "stream",
     "text": [
      "[0, 0.5, 4, 1.5, 16, 2.5, 36, 3.5, 64, 4.5, 100, 5.5, 144, 6.5, 196, 7.5, 256, 8.5, 324, 9.5]\n"
     ]
    }
   ],
   "source": [
    "# adding if and else condns\n",
    "# For even numbers find squares and for odd numbers find n/2\n",
    "# Here the if condn is written in left side of the for loop\n",
    "num = [ n*n if n%2 == 0 else n/2 for n in range(20) ]\n",
    "print(num)"
   ]
  },
  {
   "cell_type": "code",
   "execution_count": 50,
   "metadata": {},
   "outputs": [
    {
     "data": {
      "text/plain": [
       "['T',\n",
       " 'n',\n",
       " ' ',\n",
       " 'A',\n",
       " 'n',\n",
       " 'm',\n",
       " 'l',\n",
       " 's',\n",
       " ' ',\n",
       " 'S',\n",
       " 'l',\n",
       " 'm',\n",
       " ' ',\n",
       " 'I',\n",
       " 'n',\n",
       " ' ',\n",
       " 'A',\n",
       " ' ',\n",
       " 'N',\n",
       " 't']"
      ]
     },
     "execution_count": 50,
     "metadata": {},
     "output_type": "execute_result"
    }
   ],
   "source": [
    "# Remove vowels in a given sentence\n",
    "sentence = 'Ten Animals Slam In A Net'\n",
    "[char for char in sentence if char not in 'aeiou']  # This will return a list"
   ]
  },
  {
   "cell_type": "code",
   "execution_count": 51,
   "metadata": {},
   "outputs": [
    {
     "data": {
      "text/plain": [
       "'Tn Anmls Slm In A Nt'"
      ]
     },
     "execution_count": 51,
     "metadata": {},
     "output_type": "execute_result"
    }
   ],
   "source": [
    "# join the the list to form a string\n",
    "''.join([char for char in sentence if char not in 'aeiou'])"
   ]
  },
  {
   "cell_type": "code",
   "execution_count": 52,
   "metadata": {},
   "outputs": [
    {
     "data": {
      "text/plain": [
       "'Tn nmls Slm n  Nt'"
      ]
     },
     "execution_count": 52,
     "metadata": {},
     "output_type": "execute_result"
    }
   ],
   "source": [
    "''.join([char for char in sentence if char not in 'aeiouAEIOU'])"
   ]
  },
  {
   "cell_type": "code",
   "execution_count": 1,
   "metadata": {},
   "outputs": [
    {
     "data": {
      "text/plain": [
       "[False, False, True, True]"
      ]
     },
     "execution_count": 1,
     "metadata": {},
     "output_type": "execute_result"
    }
   ],
   "source": [
    "# Note: Check elements from one list is present in another or not\n",
    "\n",
    "[n in [3,4,5,6] for n in [1,2,3,4]]"
   ]
  },
  {
   "cell_type": "code",
   "execution_count": 1,
   "metadata": {},
   "outputs": [
    {
     "data": {
      "text/plain": [
       "[]"
      ]
     },
     "execution_count": 1,
     "metadata": {},
     "output_type": "execute_result"
    }
   ],
   "source": [
    "[c for c in 'amazing' if c in ['aeiou']]"
   ]
  },
  {
   "cell_type": "code",
   "execution_count": 3,
   "metadata": {},
   "outputs": [
    {
     "data": {
      "text/plain": [
       "['a', 'a', 'i']"
      ]
     },
     "execution_count": 3,
     "metadata": {},
     "output_type": "execute_result"
    }
   ],
   "source": [
    "[c for c in 'amazing' if c in 'aeiou']"
   ]
  },
  {
   "cell_type": "code",
   "execution_count": 2,
   "metadata": {},
   "outputs": [
    {
     "data": {
      "text/plain": [
       "['m', 'z', 'n', 'g']"
      ]
     },
     "execution_count": 2,
     "metadata": {},
     "output_type": "execute_result"
    }
   ],
   "source": [
    "[c for c in 'amazing' if c not in 'aeiou']"
   ]
  },
  {
   "cell_type": "code",
   "execution_count": 15,
   "metadata": {},
   "outputs": [
    {
     "data": {
      "text/plain": [
       "[[1, 2, 3], [4, 5, 6], [7, 8, 9]]"
      ]
     },
     "execution_count": 15,
     "metadata": {},
     "output_type": "execute_result"
    }
   ],
   "source": [
    "# Nested Lists\n",
    "a = [[1,2,3],[4,5,6],[7,8,9]]\n",
    "a"
   ]
  },
  {
   "cell_type": "code",
   "execution_count": 16,
   "metadata": {},
   "outputs": [
    {
     "data": {
      "text/plain": [
       "8"
      ]
     },
     "execution_count": 16,
     "metadata": {},
     "output_type": "execute_result"
    }
   ],
   "source": [
    "# To access any elements\n",
    "# We need chain them together\n",
    "a[2][1]"
   ]
  },
  {
   "cell_type": "code",
   "execution_count": 17,
   "metadata": {},
   "outputs": [
    {
     "name": "stdout",
     "output_type": "stream",
     "text": [
      "1\n",
      "2\n",
      "3\n",
      "4\n",
      "5\n",
      "6\n",
      "7\n",
      "8\n",
      "9\n"
     ]
    }
   ],
   "source": [
    "# Note: To print a nested lists, we need to use 2 for loops\n",
    "for item in a:\n",
    "    for i in item:\n",
    "        print(i)"
   ]
  },
  {
   "cell_type": "code",
   "execution_count": 23,
   "metadata": {},
   "outputs": [
    {
     "name": "stdout",
     "output_type": "stream",
     "text": [
      "1\n",
      "2\n",
      "3\n",
      "4\n",
      "5\n",
      "6\n",
      "7\n",
      "8\n",
      "9\n"
     ]
    },
    {
     "data": {
      "text/plain": [
       "[[None, None, None], [None, None, None], [None, None, None]]"
      ]
     },
     "execution_count": 23,
     "metadata": {},
     "output_type": "execute_result"
    }
   ],
   "source": [
    "# Note: This can be done using List comprehension\n",
    "\n",
    "[[print(val) for val in l] for l in a]"
   ]
  },
  {
   "cell_type": "code",
   "execution_count": 26,
   "metadata": {},
   "outputs": [
    {
     "name": "stdout",
     "output_type": "stream",
     "text": [
      "[[1, 2, 3], [1, 2, 3], [1, 2, 3]]\n"
     ]
    }
   ],
   "source": [
    "# Another eg. To generate values for board game\n",
    "# Here we are not using 'val' in [i for i in range(1,4)] \n",
    "# Instead we are using the no. of iterations which is 3 from the first comprehesion\n",
    "# And then generate list 3 times\n",
    "\n",
    "board = [[i for i in range(1,4)] for val in range(1,4)]\n",
    "print(board)"
   ]
  },
  {
   "cell_type": "code",
   "execution_count": 46,
   "metadata": {},
   "outputs": [
    {
     "data": {
      "text/plain": [
       "['*', '*', '*']"
      ]
     },
     "execution_count": 46,
     "metadata": {},
     "output_type": "execute_result"
    }
   ],
   "source": [
    "# To explain the above eg.\n",
    "\n",
    "['*' for val in range(1,4)] # This gives 3 items"
   ]
  },
  {
   "cell_type": "code",
   "execution_count": 47,
   "metadata": {},
   "outputs": [
    {
     "data": {
      "text/plain": [
       "[['*'], ['*'], ['*']]"
      ]
     },
     "execution_count": 47,
     "metadata": {},
     "output_type": "execute_result"
    }
   ],
   "source": [
    "# But insead of 3 items, we should get 3 lists\n",
    "\n",
    "[['*'] for val in range(1,4)]   # This creates 3 lists"
   ]
  },
  {
   "cell_type": "code",
   "execution_count": 48,
   "metadata": {},
   "outputs": [
    {
     "data": {
      "text/plain": [
       "[[1, 2, 3, 4], [1, 2, 3, 4], [1, 2, 3, 4]]"
      ]
     },
     "execution_count": 48,
     "metadata": {},
     "output_type": "execute_result"
    }
   ],
   "source": [
    "# We dont want just 3 lists, but we need values inside of 3 lists\n",
    "# We add comprehension code in the place of ['*']\n",
    "\n",
    "[[i for i in range(1,5)] for val in range(1,4)]  # This gives the desired result"
   ]
  },
  {
   "cell_type": "code",
   "execution_count": 45,
   "metadata": {},
   "outputs": [
    {
     "data": {
      "text/plain": [
       "[['O', 'X', 'O'], ['O', 'X', 'O'], ['O', 'X', 'O']]"
      ]
     },
     "execution_count": 45,
     "metadata": {},
     "output_type": "execute_result"
    }
   ],
   "source": [
    "# Similar eg. But this time, based on even or odd, assign x and o respectively\n",
    "\n",
    "[['X' if n%2 == 0 else 'O' for n in range(1,4)] for rows in range(1,4)]"
   ]
  },
  {
   "cell_type": "code",
   "execution_count": 49,
   "metadata": {},
   "outputs": [
    {
     "data": {
      "text/plain": [
       "['Colt', True, 4, 'Python', False]"
      ]
     },
     "execution_count": 49,
     "metadata": {},
     "output_type": "execute_result"
    }
   ],
   "source": [
    "# Dictionaries\n",
    "# We use dict because of the limiations in lists\n",
    "# List does not have enough information\n",
    "# We want to describe the data in more detail\n",
    "\n",
    "#eg. \n",
    "instructor = ['Colt',True,4,'Python',False]\n",
    "instructor\n",
    "\n",
    "# Now what does each value represent?"
   ]
  },
  {
   "cell_type": "code",
   "execution_count": 50,
   "metadata": {},
   "outputs": [
    {
     "data": {
      "text/plain": [
       "{'name': 'Colt',\n",
       " 'owns_dog': True,\n",
       " 'num_courses': 4,\n",
       " 'fav_lang': 'Python',\n",
       " 'is_hilarious': False,\n",
       " 44: 'my fav number'}"
      ]
     },
     "execution_count": 50,
     "metadata": {},
     "output_type": "execute_result"
    }
   ],
   "source": [
    "# Dict is a datastructure that contains key value pairs\n",
    "\n",
    "instructor = {'name' : 'Colt',\n",
    "              'owns_dog' : True,\n",
    "              'num_courses' : 4,\n",
    "              'fav_lang' : 'Python',\n",
    "              'is_hilarious' : False,\n",
    "              44 : 'my fav number'            \n",
    "             }\n",
    "instructor"
   ]
  },
  {
   "cell_type": "code",
   "execution_count": 51,
   "metadata": {},
   "outputs": [
    {
     "data": {
      "text/plain": [
       "dict_keys(['name', 'owns_dog', 'num_courses', 'fav_lang', 'is_hilarious', 44])"
      ]
     },
     "execution_count": 51,
     "metadata": {},
     "output_type": "execute_result"
    }
   ],
   "source": [
    "instructor.keys()"
   ]
  },
  {
   "cell_type": "code",
   "execution_count": 52,
   "metadata": {},
   "outputs": [
    {
     "data": {
      "text/plain": [
       "dict_values(['Colt', True, 4, 'Python', False, 'my fav number'])"
      ]
     },
     "execution_count": 52,
     "metadata": {},
     "output_type": "execute_result"
    }
   ],
   "source": [
    "instructor.values()"
   ]
  },
  {
   "cell_type": "code",
   "execution_count": 53,
   "metadata": {},
   "outputs": [
    {
     "data": {
      "text/plain": [
       "{'key': 'value'}"
      ]
     },
     "execution_count": 53,
     "metadata": {},
     "output_type": "execute_result"
    }
   ],
   "source": [
    "# Another comman way to create a dict is use the dict() function\n",
    "# Here we can assign values to keys by passing keys and values\n",
    "# seperated by '=' sign\n",
    "another_dict = dict(key = 'value')\n",
    "another_dict"
   ]
  },
  {
   "cell_type": "code",
   "execution_count": 56,
   "metadata": {},
   "outputs": [
    {
     "data": {
      "text/plain": [
       "34"
      ]
     },
     "execution_count": 56,
     "metadata": {},
     "output_type": "execute_result"
    }
   ],
   "source": [
    "# How to access a value\n",
    "# By using key\n",
    "\n",
    "p = {'name' : 'Manoj',\n",
    "     'age'  : 34\n",
    "    }\n",
    "p['age']"
   ]
  },
  {
   "cell_type": "code",
   "execution_count": 57,
   "metadata": {},
   "outputs": [
    {
     "ename": "NameError",
     "evalue": "name 'age' is not defined",
     "output_type": "error",
     "traceback": [
      "\u001b[1;31m---------------------------------------------------------------------------\u001b[0m",
      "\u001b[1;31mNameError\u001b[0m                                 Traceback (most recent call last)",
      "\u001b[1;32m<ipython-input-57-842ae3c73830>\u001b[0m in \u001b[0;36m<module>\u001b[1;34m\u001b[0m\n\u001b[0;32m      1\u001b[0m \u001b[1;31m# But if you use p[age], we will get error\u001b[0m\u001b[1;33m\u001b[0m\u001b[1;33m\u001b[0m\u001b[1;33m\u001b[0m\u001b[0m\n\u001b[0;32m      2\u001b[0m \u001b[1;31m# it thinks age is a variable\u001b[0m\u001b[1;33m\u001b[0m\u001b[1;33m\u001b[0m\u001b[1;33m\u001b[0m\u001b[0m\n\u001b[1;32m----> 3\u001b[1;33m \u001b[0mp\u001b[0m\u001b[1;33m[\u001b[0m\u001b[0mage\u001b[0m\u001b[1;33m]\u001b[0m\u001b[1;33m\u001b[0m\u001b[1;33m\u001b[0m\u001b[0m\n\u001b[0m",
      "\u001b[1;31mNameError\u001b[0m: name 'age' is not defined"
     ]
    }
   ],
   "source": [
    "# But if you use p[age], we will get error\n",
    "# it thinks age is a variable\n",
    "\n",
    "p[age]"
   ]
  },
  {
   "cell_type": "code",
   "execution_count": 58,
   "metadata": {},
   "outputs": [
    {
     "data": {
      "text/plain": [
       "34"
      ]
     },
     "execution_count": 58,
     "metadata": {},
     "output_type": "execute_result"
    }
   ],
   "source": [
    "# Dict values can be accessed by variables\n",
    "\n",
    "property = 'age'\n",
    "p[property]"
   ]
  },
  {
   "cell_type": "code",
   "execution_count": 60,
   "metadata": {},
   "outputs": [
    {
     "name": "stdout",
     "output_type": "stream",
     "text": [
      "name\n",
      "owns_dog\n",
      "num_courses\n",
      "fav_lang\n",
      "is_hilarious\n",
      "44\n"
     ]
    }
   ],
   "source": [
    "# For iteration through dict\n",
    "# We use dict.items() - this gives both keys and values\n",
    "# For only keys, dict.keys()\n",
    "# For only values, dict.values()\n",
    "\n",
    "instructor = {'name' : 'Colt',\n",
    "              'owns_dog' : True,\n",
    "              'num_courses' : 4,\n",
    "              'fav_lang' : 'Python',\n",
    "              'is_hilarious' : False,\n",
    "              44 : 'my fav number'            \n",
    "             }\n",
    "\n",
    "for k in instructor.keys():\n",
    "    print(k)"
   ]
  },
  {
   "cell_type": "code",
   "execution_count": 61,
   "metadata": {},
   "outputs": [
    {
     "name": "stdout",
     "output_type": "stream",
     "text": [
      "Colt\n",
      "True\n",
      "4\n",
      "Python\n",
      "False\n",
      "my fav number\n"
     ]
    }
   ],
   "source": [
    "for v in instructor.values():\n",
    "    print(v)"
   ]
  },
  {
   "cell_type": "code",
   "execution_count": 62,
   "metadata": {},
   "outputs": [
    {
     "name": "stdout",
     "output_type": "stream",
     "text": [
      "('name', 'Colt')\n",
      "('owns_dog', True)\n",
      "('num_courses', 4)\n",
      "('fav_lang', 'Python')\n",
      "('is_hilarious', False)\n",
      "(44, 'my fav number')\n"
     ]
    }
   ],
   "source": [
    "for i in instructor.items():\n",
    "    print(i)"
   ]
  },
  {
   "cell_type": "code",
   "execution_count": 63,
   "metadata": {},
   "outputs": [
    {
     "name": "stdout",
     "output_type": "stream",
     "text": [
      "name\n",
      "owns_dog\n",
      "num_courses\n",
      "fav_lang\n",
      "is_hilarious\n",
      "44\n"
     ]
    }
   ],
   "source": [
    "for i in instructor.items():\n",
    "    print(i[0])"
   ]
  },
  {
   "cell_type": "code",
   "execution_count": 64,
   "metadata": {},
   "outputs": [
    {
     "name": "stdout",
     "output_type": "stream",
     "text": [
      "Colt\n",
      "True\n",
      "4\n",
      "Python\n",
      "False\n",
      "my fav number\n"
     ]
    }
   ],
   "source": [
    "for i in instructor.items():\n",
    "    print(i[1])"
   ]
  },
  {
   "cell_type": "code",
   "execution_count": 66,
   "metadata": {},
   "outputs": [
    {
     "name": "stdout",
     "output_type": "stream",
     "text": [
      "name = Colt\n",
      "owns_dog = True\n",
      "num_courses = 4\n",
      "fav_lang = Python\n",
      "is_hilarious = False\n",
      "44 = my fav number\n"
     ]
    }
   ],
   "source": [
    "# Since .items() returns a tuple\n",
    "# We dont have to rely on i[0] and i[1]\n",
    "# we can use tuple inpacking\n",
    "\n",
    "for key, value in instructor.items():\n",
    "    print(f'{key} = {value}')"
   ]
  },
  {
   "cell_type": "code",
   "execution_count": 68,
   "metadata": {},
   "outputs": [
    {
     "data": {
      "text/plain": [
       "True"
      ]
     },
     "execution_count": 68,
     "metadata": {},
     "output_type": "execute_result"
    }
   ],
   "source": [
    "# Test existence of key in dict\n",
    "\n",
    "'name' in instructor"
   ]
  },
  {
   "cell_type": "code",
   "execution_count": 69,
   "metadata": {},
   "outputs": [
    {
     "data": {
      "text/plain": [
       "False"
      ]
     },
     "execution_count": 69,
     "metadata": {},
     "output_type": "execute_result"
    }
   ],
   "source": [
    "# 'in' This only tests keys\n",
    "\n",
    "'Colt' in instructor"
   ]
  },
  {
   "cell_type": "code",
   "execution_count": 70,
   "metadata": {},
   "outputs": [
    {
     "data": {
      "text/plain": [
       "True"
      ]
     },
     "execution_count": 70,
     "metadata": {},
     "output_type": "execute_result"
    }
   ],
   "source": [
    "# Note: To fix this, we need to use .values()\n",
    "\n",
    "'Colt' in instructor.values()"
   ]
  },
  {
   "cell_type": "code",
   "execution_count": 71,
   "metadata": {},
   "outputs": [
    {
     "data": {
      "text/plain": [
       "{}"
      ]
     },
     "execution_count": 71,
     "metadata": {},
     "output_type": "execute_result"
    }
   ],
   "source": [
    "# Dict Methods - clear, copy, fromkeys, get\n",
    "\n",
    "# To clear all keys and values\n",
    "\n",
    "instructor.clear()\n",
    "instructor"
   ]
  },
  {
   "cell_type": "code",
   "execution_count": 72,
   "metadata": {},
   "outputs": [
    {
     "data": {
      "text/plain": [
       "{'name': 'Colt',\n",
       " 'owns_dog': True,\n",
       " 'num_courses': 4,\n",
       " 'fav_lang': 'Python',\n",
       " 'is_hilarious': False,\n",
       " 44: 'my fav number'}"
      ]
     },
     "execution_count": 72,
     "metadata": {},
     "output_type": "execute_result"
    }
   ],
   "source": [
    "instructor = {'name' : 'Colt',\n",
    "              'owns_dog' : True,\n",
    "              'num_courses' : 4,\n",
    "              'fav_lang' : 'Python',\n",
    "              'is_hilarious' : False,\n",
    "              44 : 'my fav number'            \n",
    "             }\n",
    "instructor"
   ]
  },
  {
   "cell_type": "code",
   "execution_count": 75,
   "metadata": {},
   "outputs": [
    {
     "data": {
      "text/plain": [
       "{'a': 1, 'b': 1}"
      ]
     },
     "execution_count": 75,
     "metadata": {},
     "output_type": "execute_result"
    }
   ],
   "source": [
    "c = dict(a=1,b=1)\n",
    "c"
   ]
  },
  {
   "cell_type": "code",
   "execution_count": 76,
   "metadata": {},
   "outputs": [
    {
     "data": {
      "text/plain": [
       "{'a': 1, 'b': 1}"
      ]
     },
     "execution_count": 76,
     "metadata": {},
     "output_type": "execute_result"
    }
   ],
   "source": [
    "# This points to same memory location\n",
    "\n",
    "d = c\n",
    "d"
   ]
  },
  {
   "cell_type": "code",
   "execution_count": 77,
   "metadata": {},
   "outputs": [
    {
     "data": {
      "text/plain": [
       "True"
      ]
     },
     "execution_count": 77,
     "metadata": {},
     "output_type": "execute_result"
    }
   ],
   "source": [
    "d is c"
   ]
  },
  {
   "cell_type": "code",
   "execution_count": 78,
   "metadata": {},
   "outputs": [
    {
     "data": {
      "text/plain": [
       "{'a': 1, 'b': 1}"
      ]
     },
     "execution_count": 78,
     "metadata": {},
     "output_type": "execute_result"
    }
   ],
   "source": [
    "c = dict(a=1,b=1)\n",
    "d = c.copy() # Note: This creates a new copy of dict()\n",
    "d"
   ]
  },
  {
   "cell_type": "code",
   "execution_count": 79,
   "metadata": {},
   "outputs": [
    {
     "data": {
      "text/plain": [
       "False"
      ]
     },
     "execution_count": 79,
     "metadata": {},
     "output_type": "execute_result"
    }
   ],
   "source": [
    "d is c"
   ]
  },
  {
   "cell_type": "code",
   "execution_count": 81,
   "metadata": {},
   "outputs": [
    {
     "data": {
      "text/plain": [
       "{'a': 'b'}"
      ]
     },
     "execution_count": 81,
     "metadata": {},
     "output_type": "execute_result"
    }
   ],
   "source": [
    "# Note: fromkeys - creates key, values pairs using csv\n",
    "\n",
    "{}.fromkeys('a','b')"
   ]
  },
  {
   "cell_type": "code",
   "execution_count": 82,
   "metadata": {},
   "outputs": [
    {
     "data": {
      "text/plain": [
       "{'email': 'unknown'}"
      ]
     },
     "execution_count": 82,
     "metadata": {},
     "output_type": "execute_result"
    }
   ],
   "source": [
    "{}.fromkeys(['email'],'unknown')"
   ]
  },
  {
   "cell_type": "code",
   "execution_count": 83,
   "metadata": {},
   "outputs": [
    {
     "data": {
      "text/plain": [
       "{'a': [1, 2, 3, 4, 5, 6, 7, 8]}"
      ]
     },
     "execution_count": 83,
     "metadata": {},
     "output_type": "execute_result"
    }
   ],
   "source": [
    "{}.fromkeys('a', [1,2,3,4,5,6,7,8])"
   ]
  },
  {
   "cell_type": "code",
   "execution_count": 84,
   "metadata": {},
   "outputs": [
    {
     "data": {
      "text/plain": [
       "{1: 'unknown',\n",
       " 2: 'unknown',\n",
       " 3: 'unknown',\n",
       " 4: 'unknown',\n",
       " 5: 'unknown',\n",
       " 6: 'unknown',\n",
       " 7: 'unknown',\n",
       " 8: 'unknown'}"
      ]
     },
     "execution_count": 84,
     "metadata": {},
     "output_type": "execute_result"
    }
   ],
   "source": [
    "{}.fromkeys([1,2,3,4,5,6,7,8], 'unknown')"
   ]
  },
  {
   "cell_type": "code",
   "execution_count": 86,
   "metadata": {},
   "outputs": [
    {
     "data": {
      "text/plain": [
       "{'name': 'unknown',\n",
       " 'score': 'unknown',\n",
       " 'email': 'unknown',\n",
       " 'profile bio': 'unknown'}"
      ]
     },
     "execution_count": 86,
     "metadata": {},
     "output_type": "execute_result"
    }
   ],
   "source": [
    "# eg. While setting a player default values\n",
    "\n",
    "new_user = {}.fromkeys(['name','score','email','profile bio'], 'unknown')\n",
    "new_user"
   ]
  },
  {
   "cell_type": "code",
   "execution_count": 94,
   "metadata": {},
   "outputs": [
    {
     "data": {
      "text/plain": [
       "'aaa'"
      ]
     },
     "execution_count": 94,
     "metadata": {},
     "output_type": "execute_result"
    }
   ],
   "source": [
    "# get is used to retrieve an object and return None if key is not present\n",
    "# whereas we can retrive a value just like indexing a key but this will give key error\n",
    "\n",
    "new_user = {}.fromkeys(['name','score','email','profile bio'], 'aaa')\n",
    "new_user['name']\n"
   ]
  },
  {
   "cell_type": "code",
   "execution_count": 95,
   "metadata": {},
   "outputs": [
    {
     "ename": "KeyError",
     "evalue": "'name1'",
     "output_type": "error",
     "traceback": [
      "\u001b[1;31m---------------------------------------------------------------------------\u001b[0m",
      "\u001b[1;31mKeyError\u001b[0m                                  Traceback (most recent call last)",
      "\u001b[1;32m<ipython-input-95-e81671bc5809>\u001b[0m in \u001b[0;36m<module>\u001b[1;34m\u001b[0m\n\u001b[1;32m----> 1\u001b[1;33m \u001b[0mnew_user\u001b[0m\u001b[1;33m[\u001b[0m\u001b[1;34m'name1'\u001b[0m\u001b[1;33m]\u001b[0m  \u001b[1;31m# this gives error when key is not present\u001b[0m\u001b[1;33m\u001b[0m\u001b[1;33m\u001b[0m\u001b[0m\n\u001b[0m",
      "\u001b[1;31mKeyError\u001b[0m: 'name1'"
     ]
    }
   ],
   "source": [
    "# Normal retrieve will give error\n",
    "\n",
    "new_user['name1']  # this gives error when key is not present"
   ]
  },
  {
   "cell_type": "code",
   "execution_count": 96,
   "metadata": {},
   "outputs": [
    {
     "data": {
      "text/plain": [
       "'aaa'"
      ]
     },
     "execution_count": 96,
     "metadata": {},
     "output_type": "execute_result"
    }
   ],
   "source": [
    "# Using get(key)\n",
    "\n",
    "new_user.get('name')"
   ]
  },
  {
   "cell_type": "code",
   "execution_count": 97,
   "metadata": {},
   "outputs": [],
   "source": [
    "new_user.get('name2')  # Nothing happens\n",
    "\n",
    "# When we store this is a variable, we can see its having None value"
   ]
  },
  {
   "cell_type": "code",
   "execution_count": 100,
   "metadata": {},
   "outputs": [
    {
     "name": "stdout",
     "output_type": "stream",
     "text": [
      "None\n"
     ]
    }
   ],
   "source": [
    "result = new_user.get('name2')\n",
    "print(result)"
   ]
  },
  {
   "cell_type": "code",
   "execution_count": 102,
   "metadata": {},
   "outputs": [
    {
     "data": {
      "text/plain": [
       "True"
      ]
     },
     "execution_count": 102,
     "metadata": {},
     "output_type": "execute_result"
    }
   ],
   "source": [
    "result is None"
   ]
  },
  {
   "cell_type": "code",
   "execution_count": 15,
   "metadata": {},
   "outputs": [
    {
     "data": {
      "text/plain": [
       "{'current_score': 0,\n",
       " 'high_score': 0,\n",
       " 'number_of_lives': 0,\n",
       " 'items_in_inventory': 0,\n",
       " 'power_ups': 0,\n",
       " 'ammo': 0,\n",
       " 'enemies_on_screen': 0,\n",
       " 'enemy_kills': 0,\n",
       " 'enemy_kill_streaks': 0,\n",
       " 'minutes_played': 0,\n",
       " 'notifications': 0,\n",
       " 'achievements': 0}"
      ]
     },
     "execution_count": 15,
     "metadata": {},
     "output_type": "execute_result"
    }
   ],
   "source": [
    "# DO NOT TOUCH game_properties!\n",
    "\n",
    "game_properties = [\"current_score\", \"high_score\", \"number_of_lives\", \"items_in_inventory\", \n",
    "                   \"power_ups\", \"ammo\", \"enemies_on_screen\", \"enemy_kills\", \"enemy_kill_streaks\", \n",
    "                   \"minutes_played\", \"notifications\", \"achievements\"] \n",
    "\n",
    "# Use the game_properties list and dict.fromkeys() to generate a dictionary with all values set to 0. \n",
    "# Save the result to a variable called initial_game_state\n",
    "\n",
    "initial_game_state = {}\n",
    "initial_game_state.fromkeys(game_properties, 0)"
   ]
  },
  {
   "cell_type": "code",
   "execution_count": 111,
   "metadata": {},
   "outputs": [
    {
     "data": {
      "text/plain": [
       "'Colt'"
      ]
     },
     "execution_count": 111,
     "metadata": {},
     "output_type": "execute_result"
    }
   ],
   "source": [
    "# pop and popitem\n",
    "# pop removes a key-value pair using key\n",
    "# popitem just pops random key-value pair as dict is not ordered\n",
    "\n",
    "instructor = {'name' : 'Colt',\n",
    "              'owns_dog' : True,\n",
    "              'num_courses' : 4,\n",
    "              'fav_lang' : 'Python',\n",
    "              'is_hilarious' : False,\n",
    "              44 : 'my fav number'            \n",
    "             }\n",
    "instructor.pop('name')"
   ]
  },
  {
   "cell_type": "code",
   "execution_count": 112,
   "metadata": {},
   "outputs": [
    {
     "data": {
      "text/plain": [
       "{'owns_dog': True,\n",
       " 'num_courses': 4,\n",
       " 'fav_lang': 'Python',\n",
       " 'is_hilarious': False,\n",
       " 44: 'my fav number'}"
      ]
     },
     "execution_count": 112,
     "metadata": {},
     "output_type": "execute_result"
    }
   ],
   "source": [
    "instructor"
   ]
  },
  {
   "cell_type": "code",
   "execution_count": 113,
   "metadata": {},
   "outputs": [
    {
     "data": {
      "text/plain": [
       "(44, 'my fav number')"
      ]
     },
     "execution_count": 113,
     "metadata": {},
     "output_type": "execute_result"
    }
   ],
   "source": [
    "instructor.popitem()"
   ]
  },
  {
   "cell_type": "code",
   "execution_count": 114,
   "metadata": {},
   "outputs": [
    {
     "data": {
      "text/plain": [
       "('is_hilarious', False)"
      ]
     },
     "execution_count": 114,
     "metadata": {},
     "output_type": "execute_result"
    }
   ],
   "source": [
    "instructor.popitem()"
   ]
  },
  {
   "cell_type": "code",
   "execution_count": 115,
   "metadata": {},
   "outputs": [
    {
     "data": {
      "text/plain": [
       "('fav_lang', 'Python')"
      ]
     },
     "execution_count": 115,
     "metadata": {},
     "output_type": "execute_result"
    }
   ],
   "source": [
    "instructor.popitem()"
   ]
  },
  {
   "cell_type": "code",
   "execution_count": 116,
   "metadata": {},
   "outputs": [
    {
     "data": {
      "text/plain": [
       "{'owns_dog': True, 'num_courses': 4}"
      ]
     },
     "execution_count": 116,
     "metadata": {},
     "output_type": "execute_result"
    }
   ],
   "source": [
    "instructor"
   ]
  },
  {
   "cell_type": "code",
   "execution_count": 118,
   "metadata": {},
   "outputs": [
    {
     "data": {
      "text/plain": [
       "{'owns_dog': True, 'num_courses': 4}"
      ]
     },
     "execution_count": 118,
     "metadata": {},
     "output_type": "execute_result"
    }
   ],
   "source": [
    "# update - if key is present will update a pair based on key\n",
    "# else it will insert into dict\n",
    "\n",
    "instructor = {'owns_dog': True, 'num_courses': 4}\n",
    "instructor"
   ]
  },
  {
   "cell_type": "code",
   "execution_count": 120,
   "metadata": {},
   "outputs": [
    {
     "data": {
      "text/plain": [
       "{'owns_dog': False,\n",
       " 'num_courses': 4,\n",
       " 'name': 'Manoj',\n",
       " 'fav_lang': 'Python',\n",
       " 'is_hilarious': False,\n",
       " 44: 'my fav number'}"
      ]
     },
     "execution_count": 120,
     "metadata": {},
     "output_type": "execute_result"
    }
   ],
   "source": [
    "update_info = {'name' : 'Manoj',\n",
    "              'owns_dog' : False,\n",
    "              'fav_lang' : 'Python',\n",
    "              'is_hilarious' : False,\n",
    "              44 : 'my fav number'            \n",
    "             }\n",
    "instructor.update(update_info)\n",
    "instructor"
   ]
  },
  {
   "cell_type": "code",
   "execution_count": 16,
   "metadata": {},
   "outputs": [
    {
     "name": "stdout",
     "output_type": "stream",
     "text": [
      "['a', 'b', 'c', 'd', 'e', 'f', 'g', 'h', 'i', 'j']\n",
      "[1, 2, 3, 4, 5, 6, 7, 8, 9, 10]\n"
     ]
    },
    {
     "data": {
      "text/plain": [
       "{'a': 1,\n",
       " 'b': 2,\n",
       " 'c': 3,\n",
       " 'd': 4,\n",
       " 'e': 5,\n",
       " 'f': 6,\n",
       " 'g': 7,\n",
       " 'h': 8,\n",
       " 'i': 9,\n",
       " 'j': 10}"
      ]
     },
     "execution_count": 16,
     "metadata": {},
     "output_type": "execute_result"
    }
   ],
   "source": [
    "# Dict Comprehension\n",
    "# syntax: { ____ : ____ for ____ in ____ }\n",
    "\n",
    "# Note : To merge 2 lists into a dictionary, we use zip and dict functions\n",
    "# Note: Usually, Dict comprehension is used to create a Dict or transfrom one dict to another\n",
    "\n",
    "keys = list('abcdefghij')\n",
    "print(keys)\n",
    "values = [n for n in range(1,11)]\n",
    "print(values)\n",
    "\n",
    "dictionary = dict(zip(keys, values))\n",
    "dictionary\n",
    "\n",
    "# Note : Sometimes we get 'TypeError: 'dict' object is not callable'\n",
    "# Try to restart the compiler and it should work"
   ]
  },
  {
   "cell_type": "code",
   "execution_count": 10,
   "metadata": {},
   "outputs": [
    {
     "data": {
      "text/plain": [
       "['aa', 'bb', 'cc', 'dd', 'ee', 'ff', 'gg', 'hh', 'ii', 'jj']"
      ]
     },
     "execution_count": 10,
     "metadata": {},
     "output_type": "execute_result"
    }
   ],
   "source": [
    "# This is normal list comprehension because of []\n",
    "# Here we are just selecting k values and manipulating it\n",
    "\n",
    "[k+k for k,v in dictionary.items()]"
   ]
  },
  {
   "cell_type": "code",
   "execution_count": 15,
   "metadata": {},
   "outputs": [
    {
     "data": {
      "text/plain": [
       "list"
      ]
     },
     "execution_count": 15,
     "metadata": {},
     "output_type": "execute_result"
    }
   ],
   "source": [
    "# Same is done with values v\n",
    "# again its a list comprehension used to process dict items\n",
    "# we know its a list compreshension because of []\n",
    "\n",
    "[v*v for k,v in dictionary.items()]"
   ]
  },
  {
   "cell_type": "code",
   "execution_count": 16,
   "metadata": {},
   "outputs": [
    {
     "data": {
      "text/plain": [
       "list"
      ]
     },
     "execution_count": 16,
     "metadata": {},
     "output_type": "execute_result"
    }
   ],
   "source": [
    "# In both the above method the return type is a list and not a dictionary\n",
    "\n",
    "type([v*v for k,v in dictionary.items()])"
   ]
  },
  {
   "cell_type": "code",
   "execution_count": 17,
   "metadata": {},
   "outputs": [
    {
     "ename": "SyntaxError",
     "evalue": "invalid syntax (<ipython-input-17-1ec21593de57>, line 4)",
     "output_type": "error",
     "traceback": [
      "\u001b[1;36m  File \u001b[1;32m\"<ipython-input-17-1ec21593de57>\"\u001b[1;36m, line \u001b[1;32m4\u001b[0m\n\u001b[1;33m    [k: v*v for k,v in dictionary.items()]\u001b[0m\n\u001b[1;37m      ^\u001b[0m\n\u001b[1;31mSyntaxError\u001b[0m\u001b[1;31m:\u001b[0m invalid syntax\n"
     ]
    }
   ],
   "source": [
    "# Now if we want to process the values and keys and the output should be a dictionary\n",
    "# then we will get an error if we use []\n",
    "\n",
    "[k: v*v for k,v in dictionary.items()]"
   ]
  },
  {
   "cell_type": "code",
   "execution_count": 19,
   "metadata": {},
   "outputs": [
    {
     "data": {
      "text/plain": [
       "{'a': 1,\n",
       " 'b': 4,\n",
       " 'c': 9,\n",
       " 'd': 16,\n",
       " 'e': 25,\n",
       " 'f': 36,\n",
       " 'g': 49,\n",
       " 'h': 64,\n",
       " 'i': 81,\n",
       " 'j': 100}"
      ]
     },
     "execution_count": 19,
     "metadata": {},
     "output_type": "execute_result"
    }
   ],
   "source": [
    "# To get the output value as a dictonary \n",
    "# We have to use dictonary comprehension\n",
    "# this is done by {}\n",
    "\n",
    "{k: v*v for k,v in dictionary.items()}"
   ]
  },
  {
   "cell_type": "code",
   "execution_count": 20,
   "metadata": {},
   "outputs": [
    {
     "data": {
      "text/plain": [
       "dict"
      ]
     },
     "execution_count": 20,
     "metadata": {},
     "output_type": "execute_result"
    }
   ],
   "source": [
    "# Its type is a dict\n",
    "\n",
    "type({k: v*v for k,v in dictionary.items()})"
   ]
  },
  {
   "cell_type": "code",
   "execution_count": 22,
   "metadata": {},
   "outputs": [
    {
     "data": {
      "text/plain": [
       "{'aa': 1,\n",
       " 'bb': 4,\n",
       " 'cc': 9,\n",
       " 'dd': 16,\n",
       " 'ee': 25,\n",
       " 'ff': 36,\n",
       " 'gg': 49,\n",
       " 'hh': 64,\n",
       " 'ii': 81,\n",
       " 'jj': 100}"
      ]
     },
     "execution_count": 22,
     "metadata": {},
     "output_type": "execute_result"
    }
   ],
   "source": [
    "# another eg.\n",
    "# this can be saved to another variable\n",
    "# now that variable will be of type dict\n",
    "\n",
    "{k+k: v*v for k,v in dictionary.items()}"
   ]
  },
  {
   "cell_type": "code",
   "execution_count": 23,
   "metadata": {},
   "outputs": [
    {
     "data": {
      "text/plain": [
       "{'a': '1',\n",
       " 'b': '2',\n",
       " 'd': '3',\n",
       " 'c': '4',\n",
       " 'e': '5',\n",
       " 'f': '6',\n",
       " 'g': '7',\n",
       " 'h': '8',\n",
       " 'i': '9',\n",
       " 'j': '0'}"
      ]
     },
     "execution_count": 23,
     "metadata": {},
     "output_type": "execute_result"
    }
   ],
   "source": [
    "# Using dict comprehension we can replicate the above example\n",
    "# that is to create a dict using 2 lists (Note)\n",
    "\n",
    "k = 'abdcefghij'\n",
    "v = '1234567890'\n",
    "{k[i]:v[i] for i in range(0,len(k))}\n",
    "\n",
    "# Here the range is used as a counter to loop through the keys"
   ]
  },
  {
   "cell_type": "code",
   "execution_count": 26,
   "metadata": {},
   "outputs": [
    {
     "data": {
      "text/plain": [
       "{'FIRST_NAME': 'MANOJ', 'LAST_NAME': 'LINGAIAH', 'CITY': 'BANGALORE'}"
      ]
     },
     "execution_count": 26,
     "metadata": {},
     "output_type": "execute_result"
    }
   ],
   "source": [
    "# Convert lower to upper using dict comprehension\n",
    "\n",
    "person = {'first_name':'manoj', 'last_name': 'lingaiah', 'city':'bangalore'}\n",
    "{ k.upper():v.upper() for k,v in person.items() }"
   ]
  },
  {
   "cell_type": "code",
   "execution_count": 28,
   "metadata": {},
   "outputs": [
    {
     "data": {
      "text/plain": [
       "{1: 'odd',\n",
       " 2: 'even',\n",
       " 3: 'odd',\n",
       " 4: 'even',\n",
       " 5: 'odd',\n",
       " 6: 'even',\n",
       " 7: 'odd',\n",
       " 8: 'even',\n",
       " 9: 'odd',\n",
       " 10: 'even'}"
      ]
     },
     "execution_count": 28,
     "metadata": {},
     "output_type": "execute_result"
    }
   ],
   "source": [
    "# Note : Conditional logic with dictionaries\n",
    "# Here conditional logic is applied on values\n",
    "\n",
    "{ n: ('even' if n%2 == 0 else 'odd') for n in range(1,11) }"
   ]
  },
  {
   "cell_type": "code",
   "execution_count": 46,
   "metadata": {},
   "outputs": [
    {
     "data": {
      "text/plain": [
       "{'first_name': 'MANOJ', 'last_name': 'LINGAIAH', 'CITY': 'BANGALORE'}"
      ]
     },
     "execution_count": 46,
     "metadata": {},
     "output_type": "execute_result"
    }
   ],
   "source": [
    "# we can apply conditional logic to keys too\n",
    "# eg. we want to convert the value of the key to upper, only for k = 'city'\n",
    "\n",
    "person = {'first_name':'manoj', 'last_name': 'lingaiah', 'city':'bangalore'}\n",
    "{ k.upper() if k == 'city' else k :v.upper() for k,v in person.items() }  \n",
    "\n",
    "# Here are only showing the output, the person dict is not affected\n",
    "# Here there is a bug. Why are values have uppercase"
   ]
  },
  {
   "cell_type": "code",
   "execution_count": 47,
   "metadata": {},
   "outputs": [
    {
     "data": {
      "text/plain": [
       "{'first_name': 'manoj', 'last_name': 'lingaiah', 'city': 'bangalore'}"
      ]
     },
     "execution_count": 47,
     "metadata": {},
     "output_type": "execute_result"
    }
   ],
   "source": [
    "person  # person is not affected"
   ]
  },
  {
   "cell_type": "code",
   "execution_count": 49,
   "metadata": {},
   "outputs": [
    {
     "data": {
      "text/plain": [
       "{'first_name': 'manoj', 'last_name': 'lingaiah', 'CITY': 'bangalore'}"
      ]
     },
     "execution_count": 49,
     "metadata": {},
     "output_type": "execute_result"
    }
   ],
   "source": [
    "# We need to re-assign to same variable for the effect to be saved\n",
    "\n",
    "person = {'first_name':'manoj', 'last_name': 'lingaiah', 'city':'bangalore'}\n",
    "person = { k.upper() if k == 'city' else k:v for k,v in person.items() }\n",
    "person\n",
    "\n",
    "# This is the right answer, here values are not uppercased only CITY is"
   ]
  },
  {
   "cell_type": "code",
   "execution_count": null,
   "metadata": {},
   "outputs": [],
   "source": [
    "person = [[\"name\", \"Jared\"], [\"job\", \"Musician\"], [\"city\", \"Bern\"]]\n",
    "\n",
    "# Convert the above list to dict \n",
    "\n",
    "# There are many potential solutions for this:\n",
    "\n",
    "# Using a dictionary comprehension \n",
    "\n",
    "person = [[\"name\", \"Jared\"], [\"job\", \"Musician\"], [\"city\", \"Bern\"]]\n",
    "answer = {thing[0]: thing[1] for thing in person}\n",
    "\n",
    "# Note: An alternate solution using a dict comprehension, without any references to list indexes:\n",
    "# This is using similar to tuple unpacking\n",
    "\n",
    "person = [[\"name\", \"Jared\"], [\"job\", \"Musician\"], [\"city\", \"Bern\"]]\n",
    "answer = {k:v for k,v in person}\n",
    "\n",
    "\n",
    "# Finally, a really simple solution.  If you have a list of pairs, you can very easily turn it into a dictionary using dict() \n",
    "# this is using dict function\n",
    "\n",
    "person = [[\"name\", \"Jared\"], [\"job\", \"Musician\"], [\"city\", \"Bern\"]]\n",
    "answer = dict(person)"
   ]
  },
  {
   "cell_type": "code",
   "execution_count": 32,
   "metadata": {},
   "outputs": [
    {
     "data": {
      "text/plain": [
       "{65: 'A',\n",
       " 66: 'B',\n",
       " 67: 'C',\n",
       " 68: 'D',\n",
       " 69: 'E',\n",
       " 70: 'F',\n",
       " 71: 'G',\n",
       " 72: 'H',\n",
       " 73: 'I',\n",
       " 74: 'J',\n",
       " 75: 'K',\n",
       " 76: 'L',\n",
       " 77: 'M',\n",
       " 78: 'N',\n",
       " 79: 'O',\n",
       " 80: 'P',\n",
       " 81: 'Q',\n",
       " 82: 'R',\n",
       " 83: 'S',\n",
       " 84: 'T',\n",
       " 85: 'U',\n",
       " 86: 'V',\n",
       " 87: 'W',\n",
       " 88: 'X',\n",
       " 89: 'Y',\n",
       " 90: 'Z'}"
      ]
     },
     "execution_count": 32,
     "metadata": {},
     "output_type": "execute_result"
    }
   ],
   "source": [
    "# Mapping ascii value to their letters\n",
    "\n",
    "{ i: chr(i) for i in range(65,91) }\n"
   ]
  },
  {
   "cell_type": "code",
   "execution_count": 33,
   "metadata": {},
   "outputs": [
    {
     "data": {
      "text/plain": [
       "[5, 2, 3]"
      ]
     },
     "execution_count": 33,
     "metadata": {},
     "output_type": "execute_result"
    }
   ],
   "source": [
    "# Tuple is ordered and immutable\n",
    "\n",
    "# Imuutable eg.\n",
    "\n",
    "# Here list is Mutable\n",
    "a = [1,2,3]\n",
    "a[0] = 5\n",
    "a"
   ]
  },
  {
   "cell_type": "code",
   "execution_count": 34,
   "metadata": {},
   "outputs": [
    {
     "ename": "TypeError",
     "evalue": "'tuple' object does not support item assignment",
     "output_type": "error",
     "traceback": [
      "\u001b[1;31m---------------------------------------------------------------------------\u001b[0m",
      "\u001b[1;31mTypeError\u001b[0m                                 Traceback (most recent call last)",
      "\u001b[1;32m<ipython-input-34-a7d85e94ddf2>\u001b[0m in \u001b[0;36m<module>\u001b[1;34m\u001b[0m\n\u001b[0;32m      1\u001b[0m \u001b[0ma\u001b[0m \u001b[1;33m=\u001b[0m \u001b[1;33m(\u001b[0m\u001b[1;36m1\u001b[0m\u001b[1;33m,\u001b[0m\u001b[1;36m2\u001b[0m\u001b[1;33m,\u001b[0m\u001b[1;36m3\u001b[0m\u001b[1;33m)\u001b[0m\u001b[1;33m\u001b[0m\u001b[1;33m\u001b[0m\u001b[0m\n\u001b[1;32m----> 2\u001b[1;33m \u001b[0ma\u001b[0m\u001b[1;33m[\u001b[0m\u001b[1;36m0\u001b[0m\u001b[1;33m]\u001b[0m \u001b[1;33m=\u001b[0m \u001b[1;36m5\u001b[0m\u001b[1;33m\u001b[0m\u001b[1;33m\u001b[0m\u001b[0m\n\u001b[0m\u001b[0;32m      3\u001b[0m \u001b[0ma\u001b[0m\u001b[1;33m\u001b[0m\u001b[1;33m\u001b[0m\u001b[0m\n",
      "\u001b[1;31mTypeError\u001b[0m: 'tuple' object does not support item assignment"
     ]
    }
   ],
   "source": [
    "# Tuples are immutable. \n",
    "# Note: Tuple uses () and sets uses {}\n",
    "\n",
    "a = (1,2,3)\n",
    "a[0] = 5\n",
    "a"
   ]
  },
  {
   "cell_type": "code",
   "execution_count": 35,
   "metadata": {},
   "outputs": [
    {
     "data": {
      "text/plain": [
       "'New York Office'"
      ]
     },
     "execution_count": 35,
     "metadata": {},
     "output_type": "execute_result"
    }
   ],
   "source": [
    "# Tuples are used for UNCHANGING data\n",
    "# eg. months, (long, lat)\n",
    "\n",
    "# It is mostly used as keys in dictonary\n",
    "\n",
    "months = ('Jan','Feb','Mar','Apr','May','Jun','Jul','Aug','Sep','Oct','Nov','Dec')\n",
    "\n",
    "location = { (35.6895, 39.6917): 'Tokyo Office',\n",
    "             (40.7128, 74.0060): 'New York Office',\n",
    "             (37.7749, 122.4194): 'San Francisco Office'\n",
    "           }\n",
    "location[(40.7128, 74.0060)]"
   ]
  },
  {
   "cell_type": "code",
   "execution_count": 36,
   "metadata": {},
   "outputs": [
    {
     "ename": "KeyError",
     "evalue": "(40, 74)",
     "output_type": "error",
     "traceback": [
      "\u001b[1;31m---------------------------------------------------------------------------\u001b[0m",
      "\u001b[1;31mKeyError\u001b[0m                                  Traceback (most recent call last)",
      "\u001b[1;32m<ipython-input-36-7b15c1b88824>\u001b[0m in \u001b[0;36m<module>\u001b[1;34m\u001b[0m\n\u001b[1;32m----> 1\u001b[1;33m \u001b[0mlocation\u001b[0m\u001b[1;33m[\u001b[0m\u001b[1;33m(\u001b[0m\u001b[1;36m40\u001b[0m\u001b[1;33m,\u001b[0m \u001b[1;36m74\u001b[0m\u001b[1;33m)\u001b[0m\u001b[1;33m]\u001b[0m\u001b[1;33m\u001b[0m\u001b[1;33m\u001b[0m\u001b[0m\n\u001b[0m",
      "\u001b[1;31mKeyError\u001b[0m: (40, 74)"
     ]
    }
   ],
   "source": [
    "location[(40, 74)]  # This gives error"
   ]
  },
  {
   "cell_type": "code",
   "execution_count": 37,
   "metadata": {},
   "outputs": [
    {
     "data": {
      "text/plain": [
       "{1, 2, 3, 4, 'a', 'b', 'c'}"
      ]
     },
     "execution_count": 37,
     "metadata": {},
     "output_type": "execute_result"
    }
   ],
   "source": [
    "# Sets - They are unordered and non-indexing lists\n",
    "# We cannot access an element using indexing\n",
    "\n",
    "a = {1,2,3,4,'a','b','c'}\n",
    "a"
   ]
  },
  {
   "cell_type": "code",
   "execution_count": 38,
   "metadata": {},
   "outputs": [
    {
     "ename": "TypeError",
     "evalue": "'set' object is not subscriptable",
     "output_type": "error",
     "traceback": [
      "\u001b[1;31m---------------------------------------------------------------------------\u001b[0m",
      "\u001b[1;31mTypeError\u001b[0m                                 Traceback (most recent call last)",
      "\u001b[1;32m<ipython-input-38-6a1284577a36>\u001b[0m in \u001b[0;36m<module>\u001b[1;34m\u001b[0m\n\u001b[1;32m----> 1\u001b[1;33m \u001b[0ma\u001b[0m\u001b[1;33m[\u001b[0m\u001b[1;36m0\u001b[0m\u001b[1;33m]\u001b[0m\u001b[1;33m\u001b[0m\u001b[1;33m\u001b[0m\u001b[0m\n\u001b[0m",
      "\u001b[1;31mTypeError\u001b[0m: 'set' object is not subscriptable"
     ]
    }
   ],
   "source": [
    "a[0]  # This gives error, as indexing is not supported"
   ]
  },
  {
   "cell_type": "code",
   "execution_count": 39,
   "metadata": {},
   "outputs": [
    {
     "data": {
      "text/plain": [
       "True"
      ]
     },
     "execution_count": 39,
     "metadata": {},
     "output_type": "execute_result"
    }
   ],
   "source": [
    "# But we can check whether an element is present in a set or not\n",
    "\n",
    "'a' in a"
   ]
  },
  {
   "cell_type": "code",
   "execution_count": 40,
   "metadata": {},
   "outputs": [
    {
     "data": {
      "text/plain": [
       "True"
      ]
     },
     "execution_count": 40,
     "metadata": {},
     "output_type": "execute_result"
    }
   ],
   "source": [
    "3 in a"
   ]
  },
  {
   "cell_type": "code",
   "execution_count": 42,
   "metadata": {},
   "outputs": [
    {
     "data": {
      "text/plain": [
       "False"
      ]
     },
     "execution_count": 42,
     "metadata": {},
     "output_type": "execute_result"
    }
   ],
   "source": [
    "7 in a"
   ]
  },
  {
   "cell_type": "code",
   "execution_count": 44,
   "metadata": {},
   "outputs": [
    {
     "data": {
      "text/plain": [
       "{1, 2, 3}"
      ]
     },
     "execution_count": 44,
     "metadata": {},
     "output_type": "execute_result"
    }
   ],
   "source": [
    "# Sets does not allow duplicates\n",
    "\n",
    "a = {1,1,1,1,1,2,2,2,2,2,3}\n",
    "a"
   ]
  },
  {
   "cell_type": "code",
   "execution_count": 45,
   "metadata": {},
   "outputs": [
    {
     "data": {
      "text/plain": [
       "{1, 3, 10}"
      ]
     },
     "execution_count": 45,
     "metadata": {},
     "output_type": "execute_result"
    }
   ],
   "source": [
    "# Set Methods - add, remove, discard, copy, clear\n",
    "\n",
    "s = {1,2,3}\n",
    "s.add(10)\n",
    "s.remove(2)\n",
    "s"
   ]
  },
  {
   "cell_type": "code",
   "execution_count": 46,
   "metadata": {},
   "outputs": [
    {
     "ename": "KeyError",
     "evalue": "11",
     "output_type": "error",
     "traceback": [
      "\u001b[1;31m---------------------------------------------------------------------------\u001b[0m",
      "\u001b[1;31mKeyError\u001b[0m                                  Traceback (most recent call last)",
      "\u001b[1;32m<ipython-input-46-05b54e818299>\u001b[0m in \u001b[0;36m<module>\u001b[1;34m\u001b[0m\n\u001b[1;32m----> 1\u001b[1;33m \u001b[0ms\u001b[0m\u001b[1;33m.\u001b[0m\u001b[0mremove\u001b[0m\u001b[1;33m(\u001b[0m\u001b[1;36m11\u001b[0m\u001b[1;33m)\u001b[0m\u001b[1;33m\u001b[0m\u001b[1;33m\u001b[0m\u001b[0m\n\u001b[0m",
      "\u001b[1;31mKeyError\u001b[0m: 11"
     ]
    }
   ],
   "source": [
    "s.remove(11)"
   ]
  },
  {
   "cell_type": "code",
   "execution_count": 47,
   "metadata": {},
   "outputs": [],
   "source": [
    "# To avoid getting errors while removing, we can use discard\n",
    "\n",
    "s.discard(11)"
   ]
  },
  {
   "cell_type": "code",
   "execution_count": 48,
   "metadata": {},
   "outputs": [
    {
     "data": {
      "text/plain": [
       "{1, 2, 3, 4, 5, 'a', 'b', 'c', 'd'}"
      ]
     },
     "execution_count": 48,
     "metadata": {},
     "output_type": "execute_result"
    }
   ],
   "source": [
    "# Note: Math Sets - union, intersection, symmetric difference\n",
    "\n",
    "A = {1,2,3,'a','b','c'}\n",
    "B = {3,4,5,'b','c','d'}\n",
    "\n",
    "# Union\n",
    "A | B"
   ]
  },
  {
   "cell_type": "code",
   "execution_count": 49,
   "metadata": {},
   "outputs": [
    {
     "data": {
      "text/plain": [
       "{3, 'b', 'c'}"
      ]
     },
     "execution_count": 49,
     "metadata": {},
     "output_type": "execute_result"
    }
   ],
   "source": [
    "# Intersection\n",
    "A & B"
   ]
  },
  {
   "cell_type": "code",
   "execution_count": 50,
   "metadata": {},
   "outputs": [
    {
     "data": {
      "text/plain": [
       "{1, 2, 'a'}"
      ]
     },
     "execution_count": 50,
     "metadata": {},
     "output_type": "execute_result"
    }
   ],
   "source": [
    "A - B # All elements in A that are not in B"
   ]
  },
  {
   "cell_type": "code",
   "execution_count": 51,
   "metadata": {},
   "outputs": [
    {
     "data": {
      "text/plain": [
       "{4, 5, 'd'}"
      ]
     },
     "execution_count": 51,
     "metadata": {},
     "output_type": "execute_result"
    }
   ],
   "source": [
    "B - A"
   ]
  },
  {
   "cell_type": "code",
   "execution_count": 56,
   "metadata": {},
   "outputs": [
    {
     "data": {
      "text/plain": [
       "{1, 2, 3, 5}"
      ]
     },
     "execution_count": 56,
     "metadata": {},
     "output_type": "execute_result"
    }
   ],
   "source": [
    "# Removing duplicates from list\n",
    "\n",
    "stuff = [1,3,1,5,2,5,1,2,5]\n",
    "unique_stuff = set(stuff)\n",
    "unique_stuff"
   ]
  },
  {
   "cell_type": "code",
   "execution_count": 58,
   "metadata": {},
   "outputs": [
    {
     "data": {
      "text/plain": [
       "{1, 4, 9, 16, 25, 36, 49, 64, 81}"
      ]
     },
     "execution_count": 58,
     "metadata": {},
     "output_type": "execute_result"
    }
   ],
   "source": [
    "# Note: Set comprehension\n",
    "# Its similar to a dict comprehension\n",
    "# But here we dont specify a key using :\n",
    "\n",
    "{ x**2 for x in range(1,10) }"
   ]
  },
  {
   "cell_type": "code",
   "execution_count": 59,
   "metadata": {},
   "outputs": [
    {
     "data": {
      "text/plain": [
       "{1: 1, 2: 4, 3: 9, 4: 16, 5: 25, 6: 36, 7: 49, 8: 64, 9: 81}"
      ]
     },
     "execution_count": 59,
     "metadata": {},
     "output_type": "execute_result"
    }
   ],
   "source": [
    "# To convert the above eg. to dict, just add a key\n",
    "\n",
    "{ x:x**2 for x in range(1,10)}"
   ]
  },
  {
   "cell_type": "code",
   "execution_count": 66,
   "metadata": {},
   "outputs": [
    {
     "data": {
      "text/plain": [
       "['e', 'o', 'o', 'o', 'o']"
      ]
     },
     "execution_count": 66,
     "metadata": {},
     "output_type": "execute_result"
    }
   ],
   "source": [
    "# Simple to function to test a string whether it contains all the vowels\n",
    "\n",
    "# First lets try using list comprehension\n",
    "\n",
    "[s for s in 'helloooo' if s in 'aeiou']"
   ]
  },
  {
   "cell_type": "code",
   "execution_count": 65,
   "metadata": {},
   "outputs": [
    {
     "data": {
      "text/plain": [
       "{'e', 'o'}"
      ]
     },
     "execution_count": 65,
     "metadata": {},
     "output_type": "execute_result"
    }
   ],
   "source": [
    "# if the len of the output is equal to 5 then we have all vowels\n",
    "# but we have repeated 'o's, this will lead to wrong results\n",
    "# so lets switch from list to set comprehension\n",
    "\n",
    "{s for s in 'helloooo' if s in 'aeiou'}"
   ]
  },
  {
   "cell_type": "code",
   "execution_count": 67,
   "metadata": {},
   "outputs": [
    {
     "data": {
      "text/plain": [
       "2"
      ]
     },
     "execution_count": 67,
     "metadata": {},
     "output_type": "execute_result"
    }
   ],
   "source": [
    "# now find the len\n",
    "len ({s for s in 'helloooo' if s in 'aeiou'})\n",
    "\n",
    "# Here when the length == 4 then we have all the vowels in a string"
   ]
  },
  {
   "cell_type": "code",
   "execution_count": 69,
   "metadata": {},
   "outputs": [
    {
     "data": {
      "text/plain": [
       "5"
      ]
     },
     "execution_count": 69,
     "metadata": {},
     "output_type": "execute_result"
    }
   ],
   "source": [
    "len ({s for s in 'sequioa' if s in 'aeiou'}) # This word has all the vowels"
   ]
  }
 ],
 "metadata": {
  "kernelspec": {
   "display_name": "Python 3",
   "language": "python",
   "name": "python3"
  },
  "language_info": {
   "codemirror_mode": {
    "name": "ipython",
    "version": 3
   },
   "file_extension": ".py",
   "mimetype": "text/x-python",
   "name": "python",
   "nbconvert_exporter": "python",
   "pygments_lexer": "ipython3",
   "version": "3.7.3"
  }
 },
 "nbformat": 4,
 "nbformat_minor": 2
}
