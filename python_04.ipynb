{
 "cells": [
  {
   "cell_type": "code",
   "execution_count": 1,
   "metadata": {},
   "outputs": [],
   "source": [
    "# Topics\n",
    "\n",
    "# Debugging and Error Handling  MJ\n",
    "# Python Debugger\n",
    "# Modules and Built-in Modules  MJ\n",
    "# Import code from other files\n",
    "# Import code from external modules using pip\n",
    "# Note: Module patterns"
   ]
  },
  {
   "cell_type": "code",
   "execution_count": 2,
   "metadata": {},
   "outputs": [],
   "source": [
    "# Always remember common errors and how they occur\n",
    "# Learn to use breakpoints and step through the code\n",
    "# Use try and except block to handle errors"
   ]
  },
  {
   "cell_type": "code",
   "execution_count": 3,
   "metadata": {},
   "outputs": [
    {
     "ename": "ValueError",
     "evalue": "Invalid Value - Wrong Age",
     "output_type": "error",
     "traceback": [
      "\u001b[1;31m---------------------------------------------------------------------------\u001b[0m",
      "\u001b[1;31mValueError\u001b[0m                                Traceback (most recent call last)",
      "\u001b[1;32m<ipython-input-3-1f07aea1dd7d>\u001b[0m in \u001b[0;36m<module>\u001b[1;34m\u001b[0m\n\u001b[0;32m      2\u001b[0m \u001b[1;31m# It has nothing to do with error handling\u001b[0m\u001b[1;33m\u001b[0m\u001b[1;33m\u001b[0m\u001b[1;33m\u001b[0m\u001b[0m\n\u001b[0;32m      3\u001b[0m \u001b[1;33m\u001b[0m\u001b[0m\n\u001b[1;32m----> 4\u001b[1;33m \u001b[1;32mraise\u001b[0m \u001b[0mValueError\u001b[0m\u001b[1;33m(\u001b[0m\u001b[1;34m'Invalid Value - Wrong Age'\u001b[0m\u001b[1;33m)\u001b[0m\u001b[1;33m\u001b[0m\u001b[1;33m\u001b[0m\u001b[0m\n\u001b[0m\u001b[0;32m      5\u001b[0m \u001b[1;33m\u001b[0m\u001b[0m\n\u001b[0;32m      6\u001b[0m \u001b[1;31m# It gives the output with the message\u001b[0m\u001b[1;33m\u001b[0m\u001b[1;33m\u001b[0m\u001b[1;33m\u001b[0m\u001b[0m\n",
      "\u001b[1;31mValueError\u001b[0m: Invalid Value - Wrong Age"
     ]
    }
   ],
   "source": [
    "# Note: We need to learn to Raise our own Exception\n",
    "# It has nothing to do with error handling\n",
    "\n",
    "raise ValueError('Invalid Value - Wrong Age')\n",
    "\n",
    "# It gives the output with the message "
   ]
  },
  {
   "cell_type": "code",
   "execution_count": 4,
   "metadata": {},
   "outputs": [
    {
     "ename": "ValueError",
     "evalue": "",
     "output_type": "error",
     "traceback": [
      "\u001b[1;31m---------------------------------------------------------------------------\u001b[0m",
      "\u001b[1;31mValueError\u001b[0m                                Traceback (most recent call last)",
      "\u001b[1;32m<ipython-input-4-4c69e84f7ef1>\u001b[0m in \u001b[0;36m<module>\u001b[1;34m\u001b[0m\n\u001b[1;32m----> 1\u001b[1;33m \u001b[1;32mraise\u001b[0m \u001b[0mValueError\u001b[0m\u001b[1;33m\u001b[0m\u001b[1;33m\u001b[0m\u001b[0m\n\u001b[0m\u001b[0;32m      2\u001b[0m \u001b[1;33m\u001b[0m\u001b[0m\n\u001b[0;32m      3\u001b[0m \u001b[1;31m# even this will work\u001b[0m\u001b[1;33m\u001b[0m\u001b[1;33m\u001b[0m\u001b[1;33m\u001b[0m\u001b[0m\n",
      "\u001b[1;31mValueError\u001b[0m: "
     ]
    }
   ],
   "source": [
    "raise ValueError\n",
    "\n",
    "# even this will work"
   ]
  },
  {
   "cell_type": "code",
   "execution_count": 5,
   "metadata": {},
   "outputs": [
    {
     "ename": "Exception",
     "evalue": "Generic",
     "output_type": "error",
     "traceback": [
      "\u001b[1;31m---------------------------------------------------------------------------\u001b[0m",
      "\u001b[1;31mException\u001b[0m                                 Traceback (most recent call last)",
      "\u001b[1;32m<ipython-input-5-cc7a87230578>\u001b[0m in \u001b[0;36m<module>\u001b[1;34m\u001b[0m\n\u001b[0;32m      1\u001b[0m \u001b[1;31m# to raise generic errors\u001b[0m\u001b[1;33m\u001b[0m\u001b[1;33m\u001b[0m\u001b[1;33m\u001b[0m\u001b[0m\n\u001b[0;32m      2\u001b[0m \u001b[1;33m\u001b[0m\u001b[0m\n\u001b[1;32m----> 3\u001b[1;33m \u001b[1;32mraise\u001b[0m \u001b[0mException\u001b[0m\u001b[1;33m(\u001b[0m\u001b[1;34m'Generic'\u001b[0m\u001b[1;33m)\u001b[0m\u001b[1;33m\u001b[0m\u001b[1;33m\u001b[0m\u001b[0m\n\u001b[0m",
      "\u001b[1;31mException\u001b[0m: Generic"
     ]
    }
   ],
   "source": [
    "# to raise generic errors\n",
    "\n",
    "raise Exception('Generic')"
   ]
  },
  {
   "cell_type": "code",
   "execution_count": 6,
   "metadata": {},
   "outputs": [
    {
     "name": "stdout",
     "output_type": "stream",
     "text": [
      "Try Block - This block determines the branch between except and else\n",
      "Else Block - Runs when there is NO exception in try block\n",
      "Finally Block - Alyways runs\n"
     ]
    }
   ],
   "source": [
    "# General Flow - If statements in try block has no errors, else block code will run\n",
    "# If there is an error in try block, except block will run\n",
    "# Note: They are mutually exclusive. Without else block, after running statements in \n",
    "# except block, subsequent statements in else block will also run\n",
    "# We can use this control of flow to design better code\n",
    "\n",
    "# try:\n",
    "# except\n",
    "# else\n",
    "# finally\n",
    "\n",
    "\n",
    "try:\n",
    "    print('Try Block - This block determines the branch between except and else')\n",
    "except:\n",
    "    print('Except Block - Runs when there is an exception in try block')\n",
    "else:\n",
    "    print('Else Block - Runs when there is NO exception in try block')\n",
    "finally:\n",
    "    print('Finally Block - Alyways runs')\n",
    "    \n",
    "# This run has no errors"
   ]
  },
  {
   "cell_type": "code",
   "execution_count": 7,
   "metadata": {},
   "outputs": [
    {
     "name": "stdout",
     "output_type": "stream",
     "text": [
      "Try Block - This block determines the branch between except and else\n",
      "Except Block - Runs when there is an exception in try block\n",
      "Finally Block - Alyways runs\n"
     ]
    }
   ],
   "source": [
    "\n",
    "try:\n",
    "    print('Try Block - This block determines the branch between except and else')\n",
    "    aa\n",
    "except:\n",
    "    print('Except Block - Runs when there is an exception in try block')\n",
    "else:\n",
    "    print('Else Block - Runs when there is NO exception in try block')\n",
    "finally:\n",
    "    print('Finally Block - Alyways runs')\n",
    "    \n",
    "# Raises an exception bcoz of character 'aa'"
   ]
  },
  {
   "cell_type": "code",
   "execution_count": 1,
   "metadata": {},
   "outputs": [
    {
     "ename": "SyntaxError",
     "evalue": "invalid syntax (<ipython-input-1-f74326a205cd>, line 6)",
     "output_type": "error",
     "traceback": [
      "\u001b[1;36m  File \u001b[1;32m\"<ipython-input-1-f74326a205cd>\"\u001b[1;36m, line \u001b[1;32m6\u001b[0m\n\u001b[1;33m    finally:\u001b[0m\n\u001b[1;37m          ^\u001b[0m\n\u001b[1;31mSyntaxError\u001b[0m\u001b[1;31m:\u001b[0m invalid syntax\n"
     ]
    }
   ],
   "source": [
    "try:\n",
    "    print('Try Block - This block determines the branch between except and else')\n",
    "except:\n",
    "    print('Except Block - Runs when there is an exception in try block')\n",
    "print('Else Block - Runs when there is NO exception in try block')\n",
    "finally:\n",
    "    print('Finally Block - Alyways runs')\n",
    "    "
   ]
  },
  {
   "cell_type": "code",
   "execution_count": 2,
   "metadata": {},
   "outputs": [
    {
     "name": "stdout",
     "output_type": "stream",
     "text": [
      "Variable x is not defined\n"
     ]
    }
   ],
   "source": [
    "# Multiple except blocks\n",
    "\n",
    "try:\n",
    "    print(x)\n",
    "except NameError:\n",
    "    print(\"Variable x is not defined\")\n",
    "except:\n",
    "    print(\"Something else went wrong\")"
   ]
  },
  {
   "cell_type": "code",
   "execution_count": 5,
   "metadata": {},
   "outputs": [
    {
     "name": "stdout",
     "output_type": "stream",
     "text": [
      "0\n",
      "Something else went wrong\n"
     ]
    }
   ],
   "source": [
    "# We can have multiple except blocks\n",
    "\n",
    "try:\n",
    "    x=0\n",
    "    print(x)\n",
    "    print(5/0)\n",
    "except NameError:\n",
    "    print(\"Variable x is not defined\")\n",
    "except:\n",
    "    print(\"Something else went wrong\")"
   ]
  },
  {
   "cell_type": "code",
   "execution_count": null,
   "metadata": {},
   "outputs": [],
   "source": [
    "# Catching multiple exceptions\n",
    "\n",
    "try:\n",
    "   # do something\n",
    "    pass\n",
    "except ValueError:\n",
    "   # handle ValueError exception\n",
    "    pass\n",
    "except (TypeError, ZeroDivisionError):   # Grouping exception types\n",
    "   # handle multiple exceptions\n",
    "   # TypeError and ZeroDivisionError\n",
    "    pass\n",
    "except:\n",
    "   # handle all other exceptions\n",
    "    pass"
   ]
  },
  {
   "cell_type": "code",
   "execution_count": null,
   "metadata": {},
   "outputs": [],
   "source": [
    "# Debugging with pdb (python debugger)\n",
    "\n",
    "# To set breakpoints in our code, by inserting below line\n",
    "# import pbd; pbd.set_trace()\n",
    "\n",
    "# When python encounters that line, it pauses the execution\n",
    "# Usually a breakpoint is put right before the code where its failing\n",
    "\n",
    "# Comman pdb commands\n",
    "# l (list) - shows the map where the code is being executed ()\n",
    "# n (next line)\n",
    "# p (print) - if we have a variable that conflicts with command, then use p l\n",
    "# c (continue - finishes debugging)\n"
   ]
  },
  {
   "cell_type": "code",
   "execution_count": 8,
   "metadata": {},
   "outputs": [
    {
     "name": "stdout",
     "output_type": "stream",
     "text": [
      "FirstSecondThird\n"
     ]
    }
   ],
   "source": [
    "# eg.\n",
    "\n",
    "import pdb\n",
    "first = 'First'\n",
    "second = 'Second'\n",
    "# pdb.set_trace()\n",
    "result = first + second\n",
    "third = 'Third'\n",
    "result += third\n",
    "print(result)\n",
    "\n",
    "# Run without pdb"
   ]
  },
  {
   "cell_type": "code",
   "execution_count": null,
   "metadata": {},
   "outputs": [],
   "source": [
    "import pdb\n",
    "\n",
    "first = 'First'\n",
    "second = 'Second'\n",
    "# pdb.set_trace()   # Uncomment and run it in pycharm\n",
    "result = first + second\n",
    "third = 'Third'\n",
    "result += third\n",
    "print(result)\n"
   ]
  },
  {
   "cell_type": "code",
   "execution_count": null,
   "metadata": {},
   "outputs": [],
   "source": [
    "# In Jupyter the control was going to some complier code\n",
    "# So the below output is from Pycharm\n",
    "\n",
    "\n",
    "# C:\\Users\\mlingaiah\\PycharmProjects\\Python_Crash_Course\\venv\\Scripts\\python.exe \"C:/Users/mlingaiah/PycharmProjects/Python_Crash_Course/Learning Python/debugging/pdb_testing.py\"\n",
    "# > c:\\users\\mlingaiah\\pycharmprojects\\python_crash_course\\learning python\\debugging\\pdb_testing.py(6)<module>()\n",
    "# -> result = first + second\n",
    "# (Pdb) l\n",
    "#   1  \timport pdb\n",
    "#   2  \t\n",
    "#   3  \tfirst = 'First'\n",
    "#   4  \tsecond = 'Second'\n",
    "#   5  \tpdb.set_trace()   # Uncomment and run it in pycharm\n",
    "#   6  ->\tresult = first + second\n",
    "#   7  \tthird = 'Third'\n",
    "#   8  \tresult += third\n",
    "#   9  \tprint(result)\n",
    "# [EOF]\n",
    "# (Pdb) n\n",
    "# > c:\\users\\mlingaiah\\pycharmprojects\\python_crash_course\\learning python\\debugging\\pdb_testing.py(7)<module>()\n",
    "# -> third = 'Third'\n",
    "# (Pdb) l\n",
    "#   2  \t\n",
    "#   3  \tfirst = 'First'\n",
    "#   4  \tsecond = 'Second'\n",
    "#   5  \tpdb.set_trace()   # Uncomment and run it in pycharm\n",
    "#   6  \tresult = first + second\n",
    "#   7  ->\tthird = 'Third'\n",
    "#   8  \tresult += third\n",
    "#   9  \tprint(result)\n",
    "# [EOF]\n",
    "# (Pdb) first\n",
    "# 'First'\n",
    "# (Pdb) second\n",
    "# 'Second'\n",
    "# (Pdb) third\n",
    "# *** NameError: name 'third' is not defined\n",
    "# (Pdb) result\n",
    "# 'FirstSecond'\n",
    "# (Pdb) l\n",
    "# [EOF]\n",
    "# (Pdb) l\n",
    "# [EOF]\n",
    "# (Pdb) n\n",
    "# > c:\\users\\mlingaiah\\pycharmprojects\\python_crash_course\\learning python\\debugging\\pdb_testing.py(8)<module>()\n",
    "# -> result += third\n",
    "# (Pdb) l\n",
    "#   3  \tfirst = 'First'\n",
    "#   4  \tsecond = 'Second'\n",
    "#   5  \tpdb.set_trace()   # Uncomment and run it in pycharm\n",
    "#   6  \tresult = first + second\n",
    "#   7  \tthird = 'Third'\n",
    "#   8  ->\tresult += third\n",
    "#   9  \tprint(result)\n",
    "# [EOF]\n",
    "# (Pdb) result\n",
    "# 'FirstSecond'\n",
    "# (Pdb) n\n",
    "# > c:\\users\\mlingaiah\\pycharmprojects\\python_crash_course\\learning python\\debugging\\pdb_testing.py(9)<module>()\n",
    "# -> print(result)\n",
    "# (Pdb) result\n",
    "# 'FirstSecondThird'\n",
    "# (Pdb) l\n",
    "#   4  \tsecond = 'Second'\n",
    "#   5  \tpdb.set_trace()   # Uncomment and run it in pycharm\n",
    "#   6  \tresult = first + second\n",
    "#   7  \tthird = 'Third'\n",
    "#   8  \tresult += third\n",
    "#   9  ->\tprint(result)\n",
    "# [EOF]\n",
    "# (Pdb) c\n",
    "# FirstSecondThird\n",
    "\n",
    "# Process finished with exit code 0\n"
   ]
  },
  {
   "cell_type": "code",
   "execution_count": null,
   "metadata": {},
   "outputs": [],
   "source": [
    "# pbd Commands\n",
    "\n",
    "# https://www.digitalocean.com/community/tutorials/how-to-use-the-python-debugger\n",
    "\n",
    "# Command\tShort form\tWhat it does\n",
    "# args\t\ta\t\t\tPrint the argument list of the current function\n",
    "# break\t\tb\t\t\tCreates a breakpoint (requires parameters) in the program execution\n",
    "# continue\tc or cont\tContinues program execution\n",
    "# help\t\th\t\t\tProvides list of commands or help for a specified command\n",
    "# jump\t\tj\t\t\tSet the next line to be executed\n",
    "# list\t\tl\t\t\tPrint the source code around the current line\n",
    "# next\t\tn\t\t\tContinue execution until the next line in the current function is reached or returns\n",
    "# step\t\ts\t\t\tExecute the current line, stopping at first possible occasion\n",
    "# pp\t\t\tpp\t\t\tPretty-prints the value of the expression\n",
    "# quit or exit\tq\t\tAborts the program\n",
    "# return\t\tr\t\t\tContinue execution until the current function returns"
   ]
  },
  {
   "cell_type": "code",
   "execution_count": 12,
   "metadata": {},
   "outputs": [
    {
     "name": "stdout",
     "output_type": "stream",
     "text": [
      "2.0\n",
      "Please provide two integers or floats\n",
      "Please do not divide by zero\n"
     ]
    }
   ],
   "source": [
    "# Eg. On how to handle expections\n",
    "\n",
    "def divide(a,b):\n",
    "    try:\n",
    "        total = a / b\n",
    "    except TypeError:\n",
    "        return \"Please provide two integers or floats\"\n",
    "    except ZeroDivisionError:\n",
    "        return \"Please do not divide by zero\"\n",
    "    return total\n",
    "\n",
    "print(divide(4,2))  # 2\n",
    "print(divide([],\"1\"))     # \"Please provide two integers or floats\"\n",
    "print(divide(1,0))  # \"Please do not divide by zero\""
   ]
  },
  {
   "cell_type": "code",
   "execution_count": null,
   "metadata": {},
   "outputs": [],
   "source": [
    "# Modules\n",
    "\n",
    "# Modules are similar to fucntions (DRY)\n",
    "# Keep python files small\n",
    "# Reuse code across multiple files by importing\n",
    "# Modules are just another python file"
   ]
  },
  {
   "cell_type": "code",
   "execution_count": 36,
   "metadata": {},
   "outputs": [
    {
     "name": "stdout",
     "output_type": "stream",
     "text": [
      "a\n",
      "81\n",
      "c\n",
      "17\n"
     ]
    }
   ],
   "source": [
    "# Simple import statement\n",
    "\n",
    "import random\n",
    "\n",
    "print(random.choice(['a','b','c','d']))\n",
    "print(random.randint(1,100))\n",
    "\n",
    "print(random.choice(['a','b','c','d']))\n",
    "print(random.randint(1,100))"
   ]
  },
  {
   "cell_type": "code",
   "execution_count": 35,
   "metadata": {},
   "outputs": [
    {
     "name": "stdout",
     "output_type": "stream",
     "text": [
      "c\n",
      "97\n",
      "b\n",
      "30\n"
     ]
    }
   ],
   "source": [
    "# We can give aliases\n",
    "\n",
    "import random as r\n",
    "\n",
    "print(r.choice(['a','b','c','d']))\n",
    "print(r.randint(1,100))\n",
    "\n",
    "print(r.choice(['a','b','c','d']))\n",
    "print(r.randint(1,100))"
   ]
  },
  {
   "cell_type": "code",
   "execution_count": 37,
   "metadata": {},
   "outputs": [
    {
     "name": "stdout",
     "output_type": "stream",
     "text": [
      "b\n",
      "100\n",
      "b\n",
      "11\n"
     ]
    }
   ],
   "source": [
    "# from keyword lets you import parts of module\n",
    "# only import what you need\n",
    "\n",
    "# Now we can just call the methods by method name\n",
    "# No need to mention the file name (random)\n",
    "\n",
    "from random import choice, randint\n",
    "\n",
    "print(choice(['a','b','c','d']))\n",
    "print(randint(1,100))\n",
    "\n",
    "print(choice(['a','b','c','d']))\n",
    "print(randint(1,100))"
   ]
  },
  {
   "cell_type": "code",
   "execution_count": 38,
   "metadata": {},
   "outputs": [
    {
     "name": "stdout",
     "output_type": "stream",
     "text": [
      "c\n",
      "22\n"
     ]
    },
    {
     "ename": "NameError",
     "evalue": "name 'shuffle' is not defined",
     "output_type": "error",
     "traceback": [
      "\u001b[1;31m---------------------------------------------------------------------------\u001b[0m",
      "\u001b[1;31mNameError\u001b[0m                                 Traceback (most recent call last)",
      "\u001b[1;32m<ipython-input-38-9e80889144c0>\u001b[0m in \u001b[0;36m<module>\u001b[1;34m\u001b[0m\n\u001b[0;32m      3\u001b[0m \u001b[0mprint\u001b[0m\u001b[1;33m(\u001b[0m\u001b[0mchoice\u001b[0m\u001b[1;33m(\u001b[0m\u001b[1;33m[\u001b[0m\u001b[1;34m'a'\u001b[0m\u001b[1;33m,\u001b[0m\u001b[1;34m'b'\u001b[0m\u001b[1;33m,\u001b[0m\u001b[1;34m'c'\u001b[0m\u001b[1;33m,\u001b[0m\u001b[1;34m'd'\u001b[0m\u001b[1;33m]\u001b[0m\u001b[1;33m)\u001b[0m\u001b[1;33m)\u001b[0m\u001b[1;33m\u001b[0m\u001b[1;33m\u001b[0m\u001b[0m\n\u001b[0;32m      4\u001b[0m \u001b[0mprint\u001b[0m\u001b[1;33m(\u001b[0m\u001b[0mrandint\u001b[0m\u001b[1;33m(\u001b[0m\u001b[1;36m1\u001b[0m\u001b[1;33m,\u001b[0m\u001b[1;36m100\u001b[0m\u001b[1;33m)\u001b[0m\u001b[1;33m)\u001b[0m\u001b[1;33m\u001b[0m\u001b[1;33m\u001b[0m\u001b[0m\n\u001b[1;32m----> 5\u001b[1;33m \u001b[0mprint\u001b[0m\u001b[1;33m(\u001b[0m\u001b[0mshuffle\u001b[0m\u001b[1;33m(\u001b[0m\u001b[1;33m[\u001b[0m\u001b[1;36m1\u001b[0m\u001b[1;33m,\u001b[0m\u001b[1;36m2\u001b[0m\u001b[1;33m,\u001b[0m\u001b[1;36m3\u001b[0m\u001b[1;33m,\u001b[0m\u001b[1;36m4\u001b[0m\u001b[1;33m,\u001b[0m\u001b[1;36m5\u001b[0m\u001b[1;33m]\u001b[0m\u001b[1;33m)\u001b[0m\u001b[1;33m)\u001b[0m\u001b[1;33m\u001b[0m\u001b[1;33m\u001b[0m\u001b[0m\n\u001b[0m",
      "\u001b[1;31mNameError\u001b[0m: name 'shuffle' is not defined"
     ]
    }
   ],
   "source": [
    "from random import choice, randint\n",
    "\n",
    "print(choice(['a','b','c','d']))\n",
    "print(randint(1,100))\n",
    "print(shuffle([1,2,3,4,5]))\n",
    "\n",
    "# Here we get error as shuffle is not imported\n",
    "# We could overcome by using, from random import *"
   ]
  },
  {
   "cell_type": "code",
   "execution_count": 40,
   "metadata": {},
   "outputs": [
    {
     "name": "stdout",
     "output_type": "stream",
     "text": [
      "a\n",
      "4\n",
      "None\n"
     ]
    }
   ],
   "source": [
    "from random import *\n",
    "\n",
    "print(choice(['a','b','c','d']))\n",
    "print(randint(1,100))\n",
    "print(shuffle([1,2,3,4,5]))"
   ]
  },
  {
   "cell_type": "code",
   "execution_count": 41,
   "metadata": {},
   "outputs": [],
   "source": [
    "# Note: Different ways to import\n",
    "\n",
    "import random\n",
    "import random as omg_so_random\n",
    "from random import *\n",
    "from random import choice, shuffle\n",
    "from random import choice as gimme_one, shuffle as mix_up_fruits\n",
    "\n",
    "# All of these work"
   ]
  },
  {
   "cell_type": "code",
   "execution_count": 44,
   "metadata": {},
   "outputs": [
    {
     "name": "stdout",
     "output_type": "stream",
     "text": [
      "b\n",
      "2\n",
      "c\n",
      "12\n"
     ]
    }
   ],
   "source": [
    "# Using aliases to methods\n",
    "\n",
    "from random import choice as pick, randint as magic_number\n",
    "\n",
    "print(pick(['a','b','c','d']))\n",
    "print(magic_number(1,100))\n",
    "\n",
    "print(pick(['a','b','c','d']))\n",
    "print(magic_number(1,100))"
   ]
  },
  {
   "cell_type": "code",
   "execution_count": 3,
   "metadata": {},
   "outputs": [
    {
     "data": {
      "text/plain": [
       "\" _   _ _   _  __                     _   _ _ \\n| | | (_) | |/ /   _ ___  __ _  __ _| | | | |\\n| |_| | | | ' / | | / __|/ _` |/ _` | | | | |\\n|  _  | | | . \\\\ |_| \\\\__ \\\\ (_| | (_| | | |_|_|\\n|_| |_|_| |_|\\\\_\\\\__,_|___/\\\\__,_|\\\\__,_|_| (_|_)\\n                                             \\n\""
      ]
     },
     "execution_count": 3,
     "metadata": {},
     "output_type": "execute_result"
    }
   ],
   "source": [
    "# Note: Ascii Art\n",
    "\n",
    "import pyfiglet\n",
    "\n",
    "result = pyfiglet.figlet_format('Hi Kusaal !!')\n",
    "result\n",
    "\n",
    "# Below is how its stored in a varaiable as \\n"
   ]
  },
  {
   "cell_type": "code",
   "execution_count": 4,
   "metadata": {},
   "outputs": [
    {
     "name": "stdout",
     "output_type": "stream",
     "text": [
      " _   _ _   _  __                     _   _ _ \n",
      "| | | (_) | |/ /   _ ___  __ _  __ _| | | | |\n",
      "| |_| | | | ' / | | / __|/ _` |/ _` | | | | |\n",
      "|  _  | | | . \\ |_| \\__ \\ (_| | (_| | | |_|_|\n",
      "|_| |_|_| |_|\\_\\__,_|___/\\__,_|\\__,_|_| (_|_)\n",
      "                                             \n",
      "\n"
     ]
    }
   ],
   "source": [
    "print(result)  # This is how it displays when we print"
   ]
  },
  {
   "cell_type": "code",
   "execution_count": 5,
   "metadata": {},
   "outputs": [
    {
     "name": "stdout",
     "output_type": "stream",
     "text": [
      "What would you like to print? My name is Manoj\n",
      "What color? red\n",
      " __  __                                      _     \n",
      "|  \\/  |_   _   _ __   __ _ _ __ ___   ___  (_)___ \n",
      "| |\\/| | | | | | '_ \\ / _` | '_ ` _ \\ / _ \\ | / __|\n",
      "| |  | | |_| | | | | | (_| | | | | | |  __/ | \\__ \\\n",
      "|_|  |_|\\__, | |_| |_|\\__,_|_| |_| |_|\\___| |_|___/\n",
      "        |___/                                      \n",
      " __  __                   _ \n",
      "|  \\/  | __ _ _ __   ___ (_)\n",
      "| |\\/| |/ _` | '_ \\ / _ \\| |\n",
      "| |  | | (_| | | | | (_) | |\n",
      "|_|  |_|\\__,_|_| |_|\\___// |\n",
      "                       |__/ \n",
      "\n"
     ]
    }
   ],
   "source": [
    "# To apply color, we need to install termcolor\n",
    "# Lets build Ascii Art code\n",
    "\n",
    "import pyfiglet\n",
    "\n",
    "msg = input('What would you like to print? ')\n",
    "color = input('What color? ')\n",
    "\n",
    "\n",
    "ascii_art = pyfiglet.figlet_format(msg)\n",
    "print(ascii_art)\n",
    "\n",
    "# This is working as expected\n",
    "# Let implement the code to color the message"
   ]
  },
  {
   "cell_type": "code",
   "execution_count": 7,
   "metadata": {},
   "outputs": [
    {
     "name": "stdout",
     "output_type": "stream",
     "text": [
      "What would you like to print? Ninja\n",
      "What color? red\n",
      "\u001b[32m _   _ _        _       \n",
      "| \\ | (_)_ __  (_) __ _ \n",
      "|  \\| | | '_ \\ | |/ _` |\n",
      "| |\\  | | | | || | (_| |\n",
      "|_| \\_|_|_| |_|/ |\\__,_|\n",
      "             |__/       \n",
      "\u001b[0m\n"
     ]
    }
   ],
   "source": [
    "import pyfiglet\n",
    "#import termcolor\n",
    "from termcolor import colored\n",
    "\n",
    "msg = input('What would you like to print? ')\n",
    "color = input('What color? ')\n",
    "\n",
    "ascii_art = pyfiglet.figlet_format(msg)\n",
    "colored_ascii = colored(ascii_art, color='green')  # adding default parameter\n",
    "print(colored_ascii)\n"
   ]
  },
  {
   "cell_type": "code",
   "execution_count": 8,
   "metadata": {},
   "outputs": [
    {
     "name": "stdout",
     "output_type": "stream",
     "text": [
      "What would you like to print? Robots\n",
      "What color? red\n",
      "\u001b[31m ____       _           _       \n",
      "|  _ \\ ___ | |__   ___ | |_ ___ \n",
      "| |_) / _ \\| '_ \\ / _ \\| __/ __|\n",
      "|  _ < (_) | |_) | (_) | |_\\__ \\\n",
      "|_| \\_\\___/|_.__/ \\___/ \\__|___/\n",
      "                                \n",
      "\u001b[0m\n"
     ]
    }
   ],
   "source": [
    "import pyfiglet\n",
    "#import termcolor\n",
    "from termcolor import colored\n",
    "\n",
    "msg = input('What would you like to print? ')\n",
    "color = input('What color? ')\n",
    "\n",
    "ascii_art = pyfiglet.figlet_format(msg)\n",
    "colored_ascii = colored(ascii_art, color=color)  # using color from input\n",
    "print(colored_ascii)"
   ]
  },
  {
   "cell_type": "code",
   "execution_count": 10,
   "metadata": {},
   "outputs": [
    {
     "name": "stdout",
     "output_type": "stream",
     "text": [
      "What would you like to print? Samurai\n",
      "What color? black\n"
     ]
    },
    {
     "ename": "KeyError",
     "evalue": "'black'",
     "output_type": "error",
     "traceback": [
      "\u001b[1;31m---------------------------------------------------------------------------\u001b[0m",
      "\u001b[1;31mKeyError\u001b[0m                                  Traceback (most recent call last)",
      "\u001b[1;32m<ipython-input-10-752e73a65dd9>\u001b[0m in \u001b[0;36m<module>\u001b[1;34m\u001b[0m\n\u001b[0;32m      7\u001b[0m \u001b[1;33m\u001b[0m\u001b[0m\n\u001b[0;32m      8\u001b[0m \u001b[0mascii_art\u001b[0m \u001b[1;33m=\u001b[0m \u001b[0mpyfiglet\u001b[0m\u001b[1;33m.\u001b[0m\u001b[0mfiglet_format\u001b[0m\u001b[1;33m(\u001b[0m\u001b[0mmsg\u001b[0m\u001b[1;33m)\u001b[0m\u001b[1;33m\u001b[0m\u001b[1;33m\u001b[0m\u001b[0m\n\u001b[1;32m----> 9\u001b[1;33m \u001b[0mcolored_ascii\u001b[0m \u001b[1;33m=\u001b[0m \u001b[0mcolored\u001b[0m\u001b[1;33m(\u001b[0m\u001b[0mascii_art\u001b[0m\u001b[1;33m,\u001b[0m \u001b[0mcolor\u001b[0m\u001b[1;33m=\u001b[0m\u001b[0mcolor\u001b[0m\u001b[1;33m)\u001b[0m  \u001b[1;31m# using color from input\u001b[0m\u001b[1;33m\u001b[0m\u001b[1;33m\u001b[0m\u001b[0m\n\u001b[0m\u001b[0;32m     10\u001b[0m \u001b[0mprint\u001b[0m\u001b[1;33m(\u001b[0m\u001b[0mcolored_ascii\u001b[0m\u001b[1;33m)\u001b[0m\u001b[1;33m\u001b[0m\u001b[1;33m\u001b[0m\u001b[0m\n",
      "\u001b[1;32m~\\AppData\\Local\\Continuum\\anaconda3\\lib\\site-packages\\termcolor.py\u001b[0m in \u001b[0;36mcolored\u001b[1;34m(text, color, on_color, attrs)\u001b[0m\n\u001b[0;32m    103\u001b[0m         \u001b[0mfmt_str\u001b[0m \u001b[1;33m=\u001b[0m \u001b[1;34m'\\033[%dm%s'\u001b[0m\u001b[1;33m\u001b[0m\u001b[1;33m\u001b[0m\u001b[0m\n\u001b[0;32m    104\u001b[0m         \u001b[1;32mif\u001b[0m \u001b[0mcolor\u001b[0m \u001b[1;32mis\u001b[0m \u001b[1;32mnot\u001b[0m \u001b[1;32mNone\u001b[0m\u001b[1;33m:\u001b[0m\u001b[1;33m\u001b[0m\u001b[1;33m\u001b[0m\u001b[0m\n\u001b[1;32m--> 105\u001b[1;33m             \u001b[0mtext\u001b[0m \u001b[1;33m=\u001b[0m \u001b[0mfmt_str\u001b[0m \u001b[1;33m%\u001b[0m \u001b[1;33m(\u001b[0m\u001b[0mCOLORS\u001b[0m\u001b[1;33m[\u001b[0m\u001b[0mcolor\u001b[0m\u001b[1;33m]\u001b[0m\u001b[1;33m,\u001b[0m \u001b[0mtext\u001b[0m\u001b[1;33m)\u001b[0m\u001b[1;33m\u001b[0m\u001b[1;33m\u001b[0m\u001b[0m\n\u001b[0m\u001b[0;32m    106\u001b[0m \u001b[1;33m\u001b[0m\u001b[0m\n\u001b[0;32m    107\u001b[0m         \u001b[1;32mif\u001b[0m \u001b[0mon_color\u001b[0m \u001b[1;32mis\u001b[0m \u001b[1;32mnot\u001b[0m \u001b[1;32mNone\u001b[0m\u001b[1;33m:\u001b[0m\u001b[1;33m\u001b[0m\u001b[1;33m\u001b[0m\u001b[0m\n",
      "\u001b[1;31mKeyError\u001b[0m: 'black'"
     ]
    }
   ],
   "source": [
    "import pyfiglet\n",
    "#import termcolor\n",
    "from termcolor import colored\n",
    "\n",
    "msg = input('What would you like to print? ')\n",
    "color = input('What color? ')\n",
    "\n",
    "ascii_art = pyfiglet.figlet_format(msg)\n",
    "colored_ascii = colored(ascii_art, color=color)  # using color from input\n",
    "print(colored_ascii)\n",
    "\n",
    "# Here we get error, because of invalid color.\n",
    "# So lets fix it"
   ]
  },
  {
   "cell_type": "code",
   "execution_count": 9,
   "metadata": {},
   "outputs": [
    {
     "name": "stdout",
     "output_type": "stream",
     "text": [
      "Help on module termcolor:\n",
      "\n",
      "NAME\n",
      "    termcolor - ANSII Color formatting for output in terminal.\n",
      "\n",
      "FUNCTIONS\n",
      "    colored(text, color=None, on_color=None, attrs=None)\n",
      "        Colorize text.\n",
      "        \n",
      "        Available text colors:\n",
      "            red, green, yellow, blue, magenta, cyan, white.\n",
      "        \n",
      "        Available text highlights:\n",
      "            on_red, on_green, on_yellow, on_blue, on_magenta, on_cyan, on_white.\n",
      "        \n",
      "        Available attributes:\n",
      "            bold, dark, underline, blink, reverse, concealed.\n",
      "        \n",
      "        Example:\n",
      "            colored('Hello, World!', 'red', 'on_grey', ['blue', 'blink'])\n",
      "            colored('Hello, World!', 'green')\n",
      "    \n",
      "    cprint(text, color=None, on_color=None, attrs=None, **kwargs)\n",
      "        Print colorize text.\n",
      "        \n",
      "        It accepts arguments of print function.\n",
      "\n",
      "DATA\n",
      "    ATTRIBUTES = {'blink': 5, 'bold': 1, 'concealed': 8, 'dark': 2, 'rever...\n",
      "    COLORS = {'blue': 34, 'cyan': 36, 'green': 32, 'grey': 30, 'magenta': ...\n",
      "    HIGHLIGHTS = {'on_blue': 44, 'on_cyan': 46, 'on_green': 42, 'on_grey':...\n",
      "    RESET = '\\x1b[0m'\n",
      "    VERSION = (1, 1, 0)\n",
      "    __ALL__ = ['colored', 'cprint']\n",
      "    print_function = _Feature((2, 6, 0, 'alpha', 2), (3, 0, 0, 'alpha', 0)...\n",
      "\n",
      "FILE\n",
      "    c:\\users\\mlingaiah\\appdata\\local\\continuum\\anaconda3\\lib\\site-packages\\termcolor.py\n",
      "\n",
      "\n"
     ]
    }
   ],
   "source": [
    "# To use help on a module, first we need to import it.\n",
    "\n",
    "import termcolor\n",
    "help(termcolor)\n",
    "\n",
    "# Using help, we know that the available colors are\n",
    "# red, green, yellow, blue, magenta, cyan, white\n"
   ]
  },
  {
   "cell_type": "code",
   "execution_count": 12,
   "metadata": {},
   "outputs": [
    {
     "name": "stdout",
     "output_type": "stream",
     "text": [
      "What would you like to print? Python\n",
      "What color? teal\n",
      "\u001b[35m ____        _   _                 \n",
      "|  _ \\ _   _| |_| |__   ___  _ __  \n",
      "| |_) | | | | __| '_ \\ / _ \\| '_ \\ \n",
      "|  __/| |_| | |_| | | | (_) | | | |\n",
      "|_|    \\__, |\\__|_| |_|\\___/|_| |_|\n",
      "       |___/                       \n",
      "\u001b[0m\n"
     ]
    }
   ],
   "source": [
    "import pyfiglet\n",
    "#import termcolor\n",
    "from termcolor import colored\n",
    "\n",
    "msg = input('What would you like to print? ')\n",
    "color = input('What color? ')\n",
    "\n",
    "ascii_art = pyfiglet.figlet_format(msg)\n",
    "\n",
    "# Note: Since the list of colors are not going to change, we can use tuple instead of list\n",
    "valid_colors = ('red', 'green', 'yellow', 'blue', 'magenta', 'cyan', 'white')\n",
    "\n",
    "# assigning default colors\n",
    "if color not in valid_colors:\n",
    "    color = 'magenta'\n",
    "\n",
    "colored_ascii = colored(ascii_art, color=color)  # using color from input\n",
    "print(colored_ascii)"
   ]
  },
  {
   "cell_type": "code",
   "execution_count": 13,
   "metadata": {},
   "outputs": [
    {
     "name": "stdout",
     "output_type": "stream",
     "text": [
      "What would you like to print? Coding\n",
      "What color? blue\n",
      "\u001b[34m  ____          _ _             \n",
      " / ___|___   __| (_)_ __   __ _ \n",
      "| |   / _ \\ / _` | | '_ \\ / _` |\n",
      "| |__| (_) | (_| | | | | | (_| |\n",
      " \\____\\___/ \\__,_|_|_| |_|\\__, |\n",
      "                          |___/ \n",
      "\u001b[0m\n"
     ]
    }
   ],
   "source": [
    "# Apply refactoring\n",
    "# Since we are using only figlet_format() from pyfiglet\n",
    "# We can only import figlet_format() \n",
    "# We can create a function\n",
    "\n",
    "from pyfiglet import figlet_format\n",
    "from termcolor import colored\n",
    "\n",
    "def print_art(msg, color):\n",
    "    ascii_art = figlet_format(msg)\n",
    "\n",
    "    # Note: Since the list of colors are not going to change, we can use tuple instead of list\n",
    "    valid_colors = ('red', 'green', 'yellow', 'blue', 'magenta', 'cyan', 'white')\n",
    "\n",
    "    # assigning default colors\n",
    "    if color not in valid_colors:\n",
    "        color = 'magenta'\n",
    "\n",
    "    colored_ascii = colored(ascii_art, color=color)  # using color from input\n",
    "    print(colored_ascii)\n",
    "        \n",
    "msg = input('What would you like to print? ')\n",
    "color = input('What color? ')\n",
    "print_art(msg, color)"
   ]
  },
  {
   "cell_type": "code",
   "execution_count": 1,
   "metadata": {},
   "outputs": [
    {
     "data": {
      "text/plain": [
       "True"
      ]
     },
     "execution_count": 1,
     "metadata": {},
     "output_type": "execute_result"
    }
   ],
   "source": [
    "# Note: Code to check whether there is a keyword or not\n",
    "\n",
    "import keyword\n",
    "\n",
    "def contains_keyword(*args):\n",
    "    return any([keyword.iskeyword(k) for k in args])\n",
    "\n",
    "contains_keyword('if','hello','goodbye', 'int', int)"
   ]
  },
  {
   "cell_type": "code",
   "execution_count": null,
   "metadata": {},
   "outputs": [],
   "source": [
    "# Note: autopep8 formatting\n",
    "\n",
    "# There are many options we can use, commonly used options are\n",
    "# inplace (-i), aggressive (-a)\n",
    "# we can use aggressive multiple times\n",
    "\n",
    "# eg. I want to format ugly_code.py. Enter below command\n",
    "\n",
    "autopep8 --in-place -a -a ugly_code.py\n"
   ]
  },
  {
   "cell_type": "code",
   "execution_count": 14,
   "metadata": {},
   "outputs": [
    {
     "name": "stdout",
     "output_type": "stream",
     "text": [
      "I am in say_sup.py and __name__ = __main__\n"
     ]
    }
   ],
   "source": [
    "# Note: Note: The __name__ variable (dunder variable - double underscore)\n",
    "\n",
    "# Rules of __name__\n",
    "# Every python file has a __name__ variable\n",
    "# If the file is the main file being run, then its value is __main__\n",
    "# Otherwise its value is the filename\n",
    "\n",
    "# For this example we will code say_hi.py and import it in this file\n",
    "\n",
    "def say_sup():\n",
    "    print(f'I am in say_sup.py and __name__ = {__name__}')\n",
    "\n",
    "say_sup()\n",
    "\n",
    "\n",
    "# The __name__ is main"
   ]
  },
  {
   "cell_type": "code",
   "execution_count": 15,
   "metadata": {},
   "outputs": [
    {
     "name": "stdout",
     "output_type": "stream",
     "text": [
      "I am in say_hi.py and __name__ = __main__\n"
     ]
    }
   ],
   "source": [
    "def say_hi():\n",
    "    print(f'I am in say_hi.py and __name__ = {__name__}')\n",
    "\n",
    "say_hi()\n",
    "\n",
    "\n",
    "# Even here __name is main"
   ]
  },
  {
   "cell_type": "code",
   "execution_count": null,
   "metadata": {},
   "outputs": [],
   "source": [
    "# Note: The program we run as the starting point will always have __name__ as '__main__'"
   ]
  },
  {
   "cell_type": "code",
   "execution_count": 17,
   "metadata": {},
   "outputs": [
    {
     "name": "stdout",
     "output_type": "stream",
     "text": [
      "I am in say_sup.py and __name__ = say_sup\n",
      "I am in say_hi.py and __name__ = __main__\n",
      "I am in say_sup.py and __name__ = say_sup\n"
     ]
    }
   ],
   "source": [
    "# Now I have created a say_sup.py file in this diectory and importing the same\n",
    "# Note: This below program should print 2 statements\n",
    "# But it will actually print 3 statements!!  SO why there are 3 statements?\n",
    "\n",
    "\n",
    "import say_sup\n",
    "\n",
    "def say_hi():\n",
    "    print(f'I am in say_hi.py and __name__ = {__name__}')\n",
    "\n",
    "say_hi()\n",
    "say_sup.say_sup()\n",
    "\n",
    "\n",
    "# Rules of __name__\n",
    "# Every python file has a __name__ variable\n",
    "# If the file is the main file being run, then its value is __main__\n",
    "# Otherwise its value is the filename"
   ]
  },
  {
   "cell_type": "code",
   "execution_count": null,
   "metadata": {},
   "outputs": [],
   "source": [
    "# When we closely look at the print statements\n",
    "# We see the very first thing to run is from say_sup.py and not from say_hi\n",
    "# Even though say_hi is called first.\n"
   ]
  },
  {
   "cell_type": "code",
   "execution_count": null,
   "metadata": {},
   "outputs": [],
   "source": [
    "# To understand why 3 print statements\n",
    "# We need to know, what happens when import statements are run\n",
    "\n",
    "# Rules\n",
    "# When you use import, Python tries to find the module (if it fails, it throws an error)\n",
    "# Note: If the imported file is found, Python runs the code inside the module being imported\n",
    "\n",
    "# So to prevent code from being run from the imported file\n",
    "# We can use a little trick\n",
    "# if __name__ == '__main__':\n",
    "#   then we will run the code in this file"
   ]
  },
  {
   "cell_type": "code",
   "execution_count": 21,
   "metadata": {},
   "outputs": [
    {
     "name": "stdout",
     "output_type": "stream",
     "text": [
      "I am in say_hi.py and __name__ = __main__\n",
      "I am in say_sup.py and __name__ = say_sup\n"
     ]
    }
   ],
   "source": [
    "# So lets prevent the imported code to run before its being called (i.e during import)\n",
    "\n",
    "import say_sup\n",
    "\n",
    "def say_hi():\n",
    "    print(f'I am in say_hi.py and __name__ = {__name__}')\n",
    "\n",
    "if __name__ == '__main__':\n",
    "    say_hi()\n",
    "    say_sup.say_sup()\n",
    "\n",
    "# Now everything works as expected"
   ]
  },
  {
   "cell_type": "code",
   "execution_count": 23,
   "metadata": {},
   "outputs": [],
   "source": [
    "# We can also add the if statement in the imported file (say_sup.py)\n",
    "# In say_sup.py file\n",
    "# if __name__ == '__main__':\n",
    "#       say_sup()\n",
    "\n",
    "# Instead of an if statement the main_file"
   ]
  }
 ],
 "metadata": {
  "kernelspec": {
   "display_name": "Python 3",
   "language": "python",
   "name": "python3"
  },
  "language_info": {
   "codemirror_mode": {
    "name": "ipython",
    "version": 3
   },
   "file_extension": ".py",
   "mimetype": "text/x-python",
   "name": "python",
   "nbconvert_exporter": "python",
   "pygments_lexer": "ipython3",
   "version": "3.7.3"
  }
 },
 "nbformat": 4,
 "nbformat_minor": 2
}
