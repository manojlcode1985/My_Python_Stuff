{
 "cells": [
  {
   "cell_type": "code",
   "execution_count": null,
   "metadata": {},
   "outputs": [],
   "source": [
    "# Cicular dependencies"
   ]
  },
  {
   "cell_type": "code",
   "execution_count": null,
   "metadata": {},
   "outputs": [],
   "source": [
    "# This example shows error of a circular dependency\n",
    "# Here A import B, B imports C and C imports A again\n",
    "# This will cause problem - we get error saying\n",
    "\n",
    "# First run\n",
    "# In module_c.py file, Lets comment out import of module_a and the call to display_a()\n",
    "# We get below output\n",
    "\n",
    "# I am in Module c\n",
    "# module_c\n",
    "# I am in Module B\n",
    "# module_b\n",
    "# Module c\n",
    "# I am in Module A\n",
    "# Module B\n",
    "# __main__\n",
    "\n",
    "# If we closely look at the output, we can see that the order of\n",
    "# the imports and function being called.\n",
    "# Now run module_a file, so only the call to func module_b.displayb()\n",
    "# should be invoked\n",
    "# But as you can see even 'Module c' is being printed\n",
    "# That means call the func module_c.displayc() was invoked in module_b.py file\n",
    "# Why did that happen???\n",
    "# For this same reason we need to use __name__ = 'main' in all modules\n",
    "\n",
    "# Now to show the circular dependency is not working\n",
    "# Uncomment #import module_a and #module_a.displaya() line in module_c.py file\n",
    "# We get AttributeError: module 'module_b' has no attribute 'displayb' error\n"
   ]
  },
  {
   "cell_type": "code",
   "execution_count": null,
   "metadata": {},
   "outputs": [],
   "source": [
    "# File module_a.py\n",
    "import module_b\n",
    "\n",
    "def displaya():\n",
    "    print('Module A')\n",
    "\n",
    "\n",
    "print('I am in Module A')\n",
    "\n",
    "module_b.displayb()\n",
    "print(__name__)"
   ]
  },
  {
   "cell_type": "code",
   "execution_count": null,
   "metadata": {},
   "outputs": [],
   "source": [
    "# File module_b.py\n",
    "import module_c\n",
    "\n",
    "def displayb():\n",
    "    print('Module B')\n",
    "\n",
    "print('I am in Module B')\n",
    "print(__name__)\n",
    "\n",
    "module_c.displayc()\n"
   ]
  },
  {
   "cell_type": "code",
   "execution_count": null,
   "metadata": {},
   "outputs": [],
   "source": [
    "# File module_c.py\n",
    "import module_a\n",
    "\n",
    "print('I am in Module c')\n",
    "print(__name__)\n",
    "\n",
    "def displayc():\n",
    "    print('Module c')\n",
    "\n",
    "module_a.displaya()\n"
   ]
  },
  {
   "cell_type": "code",
   "execution_count": null,
   "metadata": {},
   "outputs": [],
   "source": [
    "# For more details on the error,\n",
    "# Read my analysis (Read in reverse direction)\n",
    "\n",
    "# 20\tCircular dependency\n",
    "# 19\tThe fact is module_b had displayb attribute, but it was never loaded due to\n",
    "# 18\tAnd we get error, module 'module_b' has no attribute 'displayb'\n",
    "# 17\tSo the definition of displayb() func was never loaded\n",
    "# 16\tBecause control was busy import code from module_c and module_a and so on\n",
    "# 15\tImp. We get error, as we can see below code in module_b was never loaded\n",
    "# 14\tNow a call to module_b.displayb() will be made\n",
    "# 13\tthen print('I am in Module A') will be printed on screen\n",
    "# 12\tand that is def displaya():\n",
    "# 11\tSo control has moved to next line in  module_a.py\n",
    "# 10\timport module_b statement was executed\n",
    "# 9\tAlready in the first call from module_a.py\n",
    "# 8\tImp. When we again come back to module_a.py from module_c.py\n",
    "# 7\timport module_a statement will be run\n",
    "# 6\tBefore code in module_c.py is loaded\n",
    "# 5\timport module_c statement will be run\n",
    "# 4\tBefore code in module_b.py is loaded\n",
    "# 3\timport module_b statement will be run\n",
    "# 2\tBefore it loads/ runs all the code in module_a.py file i.e.  def displaya(): statement\n",
    "# 1\tRun module_a.py"
   ]
  },
  {
   "cell_type": "code",
   "execution_count": null,
   "metadata": {},
   "outputs": [],
   "source": [
    "# Now let see another feature of module\n",
    "\n",
    "__name__ = 'main'"
   ]
  },
  {
   "cell_type": "code",
   "execution_count": null,
   "metadata": {},
   "outputs": [],
   "source": [
    "In every module"
   ]
  },
  {
   "cell_type": "code",
   "execution_count": null,
   "metadata": {},
   "outputs": [],
   "source": []
  },
  {
   "cell_type": "code",
   "execution_count": null,
   "metadata": {},
   "outputs": [],
   "source": []
  },
  {
   "cell_type": "code",
   "execution_count": null,
   "metadata": {},
   "outputs": [],
   "source": []
  },
  {
   "cell_type": "code",
   "execution_count": null,
   "metadata": {},
   "outputs": [],
   "source": []
  },
  {
   "cell_type": "code",
   "execution_count": null,
   "metadata": {},
   "outputs": [],
   "source": []
  },
  {
   "cell_type": "code",
   "execution_count": null,
   "metadata": {},
   "outputs": [],
   "source": []
  },
  {
   "cell_type": "code",
   "execution_count": null,
   "metadata": {},
   "outputs": [],
   "source": []
  },
  {
   "cell_type": "code",
   "execution_count": null,
   "metadata": {},
   "outputs": [],
   "source": []
  },
  {
   "cell_type": "code",
   "execution_count": null,
   "metadata": {},
   "outputs": [],
   "source": []
  },
  {
   "cell_type": "code",
   "execution_count": null,
   "metadata": {},
   "outputs": [],
   "source": []
  },
  {
   "cell_type": "code",
   "execution_count": null,
   "metadata": {},
   "outputs": [],
   "source": []
  },
  {
   "cell_type": "code",
   "execution_count": null,
   "metadata": {},
   "outputs": [],
   "source": []
  },
  {
   "cell_type": "code",
   "execution_count": null,
   "metadata": {},
   "outputs": [],
   "source": []
  }
 ],
 "metadata": {
  "kernelspec": {
   "display_name": "Python 3",
   "language": "python",
   "name": "python3"
  },
  "language_info": {
   "codemirror_mode": {
    "name": "ipython",
    "version": 3
   },
   "file_extension": ".py",
   "mimetype": "text/x-python",
   "name": "python",
   "nbconvert_exporter": "python",
   "pygments_lexer": "ipython3",
   "version": "3.7.3"
  }
 },
 "nbformat": 4,
 "nbformat_minor": 2
}
