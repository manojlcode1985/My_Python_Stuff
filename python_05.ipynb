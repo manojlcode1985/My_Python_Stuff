{
 "cells": [
  {
   "cell_type": "code",
   "execution_count": null,
   "metadata": {},
   "outputs": [],
   "source": [
    "# Topics\n",
    "\n",
    "# Python HTTP Introduction\n",
    "# What happens when you type a URL\n",
    "# Describe request/response cycle\n",
    "# Explain what a request or response header is, and give examples\n",
    "# Explain the different categories of response codes\n",
    "# Compare GET and POST requests\n"
   ]
  },
  {
   "cell_type": "code",
   "execution_count": null,
   "metadata": {},
   "outputs": [],
   "source": [
    "# Lets learn how to write pgms that talk to websites using api data\n",
    "\n",
    "# Before that lets learn,\n",
    "# What is the reques/response cycle that runs when we type something in URL\n",
    "# What is request or response header\n",
    "# Different categories of response codes\n",
    "# Compare GET and POST requests"
   ]
  },
  {
   "cell_type": "code",
   "execution_count": null,
   "metadata": {},
   "outputs": [],
   "source": [
    "# Internet - Its like a series of TUBES (i.e. everything is a network)\n",
    "\n",
    "# What happens when you type google.com\n",
    "# 1. DNS Lookup - Converts url to ip address\n",
    "# 2. Computer make a REQUEST to a server\n",
    "# 3. Server receives that request and process the REQUEST\n",
    "# 4. Server issues a RESPONSE\n",
    "\n",
    "# Here last 3 steps is called as Request/Response Cycle\n"
   ]
  },
  {
   "cell_type": "code",
   "execution_count": null,
   "metadata": {},
   "outputs": [],
   "source": [
    "# Note: Requests and Responses\n",
    "\n",
    "# Client sends ip address using GET or POST to Server\n",
    "# Server sends 2 things/responses back to client\n",
    "# One is the status code '200 OK', but this happens behind the scenes\n",
    "# As we usally see the webpage from the server and not the status code\n",
    "# The other thing the server sends back to client along with status code is\n",
    "# The Response Body, this is a HTML \n",
    "\n",
    "# Note: If we do view source, thats what (html) is sent by server\n",
    "# This HTML is cannot be read by human\n",
    "# Browser reads HTML and displays it as a webpage\n",
    "\n",
    "# Note: For coding purpose, we can request html. xml or json format"
   ]
  },
  {
   "cell_type": "code",
   "execution_count": null,
   "metadata": {},
   "outputs": [],
   "source": [
    "# Note: HTTP Headers\n",
    "# Those request and response we talked earlier contains HTTP headers\n",
    "# Headers contains the metadata about the requests and responses\n",
    "# These headers contain additional information"
   ]
  },
  {
   "cell_type": "code",
   "execution_count": null,
   "metadata": {},
   "outputs": [],
   "source": [
    "# Header Examples\n",
    "\n",
    "# Request Headers\n",
    "# Accept - types of responses (html, json, xml)\n",
    "# Cache Controls - Specify caching behavior\n",
    "# User Agent - Info about the s/w used to make the request\n",
    "\n",
    "# Response Headers\n",
    "# Access-Control-Allow-Origin - Specify domains that can make requests\n",
    "# Allowed - HTTP verbs that are allowed in requests"
   ]
  },
  {
   "cell_type": "code",
   "execution_count": null,
   "metadata": {},
   "outputs": [],
   "source": [
    "# Note: Note: Response Status Codes\n",
    "\n",
    "# 2xx - Success\n",
    "# 3xx - Redirect\n",
    "# 4xx - Client Error (your Fault!!)\n",
    "# 5xx - Server Error (not your Fault)"
   ]
  },
  {
   "cell_type": "code",
   "execution_count": null,
   "metadata": {},
   "outputs": [],
   "source": [
    "# HTTP Verbs\n",
    "\n",
    "# We can make multiple requests, the most common type (Request Methods) are GET and POST\n",
    "# GET is similar to SELECT statement (read only). So no side-effects. Here we are asking for information\n",
    "# Note: In GET, data is passed in query string (the extra string present after the URL)\n",
    "# GET requests can be cached and bookmarked\n",
    "# www.youtube.com is a GET request\n",
    "\n",
    "# POST is similar to DML statements (read/write access). Can have side-effects\n",
    "# Note: In POST, data is passed in request body\n",
    "# POST requests cannot be cached and bookmarked\n",
    "# The sign-up page is a POST request\n"
   ]
  },
  {
   "cell_type": "code",
   "execution_count": null,
   "metadata": {},
   "outputs": [],
   "source": [
    "# Note: API's\n",
    "\n",
    "# Application Programming Interface\n",
    "# Its a version of website intended for computers, i.e to talk between computers or between code\n",
    "# whereas HTML is a version intended for Human so that we can see button, forms, images etc\n",
    "\n",
    "# In other words webpage is for humans, api is for coding\n",
    "# Note: API's allows you to get data from another application without\n",
    "# needing to understand how the application works\n"
   ]
  },
  {
   "cell_type": "code",
   "execution_count": 4,
   "metadata": {},
   "outputs": [
    {
     "data": {
      "text/plain": [
       "<Response [200]>"
      ]
     },
     "execution_count": 4,
     "metadata": {},
     "output_type": "execute_result"
    }
   ],
   "source": [
    "# Note: First Python Request\n",
    "\n",
    "# To use requests, we need to use it as either GET or POST\n",
    "\n",
    "import requests\n",
    "requests.get('https://news.ycombinator.com/')"
   ]
  },
  {
   "cell_type": "code",
   "execution_count": 5,
   "metadata": {},
   "outputs": [
    {
     "data": {
      "text/plain": [
       "<Response [200]>"
      ]
     },
     "execution_count": 5,
     "metadata": {},
     "output_type": "execute_result"
    }
   ],
   "source": [
    "response = requests.get('https://news.ycombinator.com/')\n",
    "response"
   ]
  },
  {
   "cell_type": "code",
   "execution_count": 10,
   "metadata": {},
   "outputs": [
    {
     "data": {
      "text/plain": [
       "200"
      ]
     },
     "execution_count": 10,
     "metadata": {},
     "output_type": "execute_result"
    }
   ],
   "source": [
    "response.status_code"
   ]
  },
  {
   "cell_type": "code",
   "execution_count": 6,
   "metadata": {},
   "outputs": [
    {
     "data": {
      "text/plain": [
       "True"
      ]
     },
     "execution_count": 6,
     "metadata": {},
     "output_type": "execute_result"
    }
   ],
   "source": [
    "# Get, will get more information other than response status codes\n",
    "\n",
    "response.ok"
   ]
  },
  {
   "cell_type": "code",
   "execution_count": 7,
   "metadata": {},
   "outputs": [
    {
     "data": {
      "text/plain": [
       "{'Server': 'nginx', 'Date': 'Mon, 16 Sep 2019 08:30:47 GMT', 'Content-Type': 'text/html; charset=utf-8', 'Transfer-Encoding': 'chunked', 'Connection': 'keep-alive', 'Vary': 'Accept-Encoding', 'Cache-Control': 'private; max-age=0', 'X-Frame-Options': 'DENY', 'X-Content-Type-Options': 'nosniff', 'X-XSS-Protection': '1; mode=block', 'Referrer-Policy': 'origin', 'Strict-Transport-Security': 'max-age=31556900', 'Content-Security-Policy': \"default-src 'self'; script-src 'self' 'unsafe-inline' https://www.google.com/recaptcha/ https://www.gstatic.com/recaptcha/ https://cdnjs.cloudflare.com/; frame-src 'self' https://www.google.com/recaptcha/; style-src 'self' 'unsafe-inline'\", 'Content-Encoding': 'gzip'}"
      ]
     },
     "execution_count": 7,
     "metadata": {},
     "output_type": "execute_result"
    }
   ],
   "source": [
    "response.headers"
   ]
  },
  {
   "cell_type": "code",
   "execution_count": 9,
   "metadata": {},
   "outputs": [
    {
     "data": {
      "text/plain": [
       "'<html op=\"news\"><head><meta name=\"referrer\" content=\"origin\"><meta name=\"viewport\" content=\"width=device-width, initial-scale=1.0\"><link rel=\"stylesheet\" type=\"text/css\" href=\"news.css?6neKpwiXb7IFTFH0HGEC\">\\n            <link rel=\"shortcut icon\" href=\"favicon.ico\">\\n          <link rel=\"alternate\" type=\"application/rss+xml\" title=\"RSS\" href=\"rss\">\\n        <title>Hacker News</title></head><body><center><table id=\"hnmain\" border=\"0\" cellpadding=\"0\" cellspacing=\"0\" width=\"85%\" bgcolor=\"#f6f6ef\">\\n        <tr><td bgcolor=\"#ff6600\"><table border=\"0\" cellpadding=\"0\" cellspacing=\"0\" width=\"100%\" style=\"padding:2px\"><tr><td style=\"width:18px;padding-right:4px\"><a href=\"https://news.ycombinator.com\"><img src=\"y18.gif\" width=\"18\" height=\"18\" style=\"border:1px white solid;\"></a></td>\\n                  <td style=\"line-height:12pt; height:10px;\"><span class=\"pagetop\"><b class=\"hnname\"><a href=\"news\">Hacker News</a></b>\\n              <a href=\"newest\">new</a> | <a href=\"front\">past</a> | <a href=\"newcomments\">comments</a> | <a href=\"ask\">ask</a> | <a href=\"show\">show</a> | <a href=\"jobs\">jobs</a> | <a href=\"submit\">submit</a>            </span></td><td style=\"text-align:right;padding-right:4px;\"><span class=\"pagetop\">\\n                              <a href=\"login?goto=news\">login</a>\\n                          </span></td>\\n              </tr></table></td></tr>\\n<tr id=\"pagespace\" title=\"\" style=\"height:10px\"></tr><tr><td><table border=\"0\" cellpadding=\"0\" cellspacing=\"0\" class=\"itemlist\">\\n              <tr class=\\'athing\\' id=\\'20965386\\'>\\n      <td align=\"right\" valign=\"top\" class=\"title\"><span class=\"rank\">1.</span></td>      <td valign=\"top\" class=\"votelinks\"><center><a id=\\'up_20965386\\' href=\\'vote?id=20965386&amp;how=up&amp;goto=news\\'><div class=\\'votearrow\\' title=\\'upvote\\'></div></a></center></td><td class=\"title\"><a href=\"https://learningmusic.ableton.com/\" class=\"storylink\">Get Started Making Music</a><span class=\"sitebit comhead\"> (<a href=\"from?site=ableton.com\"><span class=\"sitestr\">ableton.com</span></a>)</span></td></tr><tr><td colspan=\"2\"></td><td class=\"subtext\">\\n        <span class=\"score\" id=\"score_20965386\">591 points</span> by <a href=\"user?id=capableweb\" class=\"hnuser\">capableweb</a> <span class=\"age\"><a href=\"item?id=20965386\">10 hours ago</a></span> <span id=\"unv_20965386\"></span> | <a href=\"hide?id=20965386&amp;goto=news\">hide</a> | <a href=\"item?id=20965386\">73&nbsp;comments</a>              </td></tr>\\n      <tr class=\"spacer\" style=\"height:5px\"></tr>\\n                <tr class=\\'athing\\' id=\\'20981487\\'>\\n      <td align=\"right\" valign=\"top\" class=\"title\"><span class=\"rank\">2.</span></td>      <td valign=\"top\" class=\"votelinks\"><center><a id=\\'up_20981487\\' href=\\'vote?id=20981487&amp;how=up&amp;goto=news\\'><div class=\\'votearrow\\' title=\\'upvote\\'></div></a></center></td><td class=\"title\"><a href=\"https://github.com/NVIDIA/NeMo\" class=\"storylink\">Neural Modules (NeMo): A toolkit for conversational AI</a><span class=\"sitebit comhead\"> (<a href=\"from?site=github.com\"><span class=\"sitestr\">github.com</span></a>)</span></td></tr><tr><td colspan=\"2\"></td><td class=\"subtext\">\\n        <span class=\"score\" id=\"score_20981487\">25 points</span> by <a href=\"user?id=option\" class=\"hnuser\">option</a> <span class=\"age\"><a href=\"item?id=20981487\">2 hours ago</a></span> <span id=\"unv_20981487\"></span> | <a href=\"hide?id=20981487&amp;goto=news\">hide</a> | <a href=\"item?id=20981487\">discuss</a>              </td></tr>\\n      <tr class=\"spacer\" style=\"height:5px\"></tr>\\n                <tr class=\\'athing\\' id=\\'20981538\\'>\\n      <td align=\"right\" valign=\"top\" class=\"title\"><span class=\"rank\">3.</span></td>      <td valign=\"top\" class=\"votelinks\"><center><a id=\\'up_20981538\\' href=\\'vote?id=20981538&amp;how=up&amp;goto=news\\'><div class=\\'votearrow\\' title=\\'upvote\\'></div></a></center></td><td class=\"title\"><a href=\"https://onezero.medium.com/being-indistractable-will-be-the-skill-of-the-future-a07780cf36f4\" class=\"storylink\">Being ‘Indistractable’ Will Be the Skill of the Future</a><span class=\"sitebit comhead\"> (<a href=\"from?site=onezero.medium.com\"><span class=\"sitestr\">onezero.medium.com</span></a>)</span></td></tr><tr><td colspan=\"2\"></td><td class=\"subtext\">\\n        <span class=\"score\" id=\"score_20981538\">25 points</span> by <a href=\"user?id=kiyanwang\" class=\"hnuser\">kiyanwang</a> <span class=\"age\"><a href=\"item?id=20981538\">2 hours ago</a></span> <span id=\"unv_20981538\"></span> | <a href=\"hide?id=20981538&amp;goto=news\">hide</a> | <a href=\"item?id=20981538\">6&nbsp;comments</a>              </td></tr>\\n      <tr class=\"spacer\" style=\"height:5px\"></tr>\\n                <tr class=\\'athing\\' id=\\'20981363\\'>\\n      <td align=\"right\" valign=\"top\" class=\"title\"><span class=\"rank\">4.</span></td>      <td valign=\"top\" class=\"votelinks\"><center><a id=\\'up_20981363\\' href=\\'vote?id=20981363&amp;how=up&amp;goto=news\\'><div class=\\'votearrow\\' title=\\'upvote\\'></div></a></center></td><td class=\"title\"><a href=\"https://github.com/neovim/neovim/commit/e2cc5fe09d98ce1ccaaa666a835c896805ccc196\" class=\"storylink\">Neovim v0.4.0</a><span class=\"sitebit comhead\"> (<a href=\"from?site=github.com\"><span class=\"sitestr\">github.com</span></a>)</span></td></tr><tr><td colspan=\"2\"></td><td class=\"subtext\">\\n        <span class=\"score\" id=\"score_20981363\">137 points</span> by <a href=\"user?id=blindseer\" class=\"hnuser\">blindseer</a> <span class=\"age\"><a href=\"item?id=20981363\">2 hours ago</a></span> <span id=\"unv_20981363\"></span> | <a href=\"hide?id=20981363&amp;goto=news\">hide</a> | <a href=\"item?id=20981363\">46&nbsp;comments</a>              </td></tr>\\n      <tr class=\"spacer\" style=\"height:5px\"></tr>\\n                <tr class=\\'athing\\' id=\\'20980849\\'>\\n      <td align=\"right\" valign=\"top\" class=\"title\"><span class=\"rank\">5.</span></td>      <td valign=\"top\" class=\"votelinks\"><center><a id=\\'up_20980849\\' href=\\'vote?id=20980849&amp;how=up&amp;goto=news\\'><div class=\\'votearrow\\' title=\\'upvote\\'></div></a></center></td><td class=\"title\"><a href=\"https://www.technologyreview.com/s/614259/an-important-quantum-algorithm-may-actually-be-a-property-of-nature/\" class=\"storylink\">An important quantum algorithm may be a property of nature</a><span class=\"sitebit comhead\"> (<a href=\"from?site=technologyreview.com\"><span class=\"sitestr\">technologyreview.com</span></a>)</span></td></tr><tr><td colspan=\"2\"></td><td class=\"subtext\">\\n        <span class=\"score\" id=\"score_20980849\">81 points</span> by <a href=\"user?id=pisky\" class=\"hnuser\">pisky</a> <span class=\"age\"><a href=\"item?id=20980849\">5 hours ago</a></span> <span id=\"unv_20980849\"></span> | <a href=\"hide?id=20980849&amp;goto=news\">hide</a> | <a href=\"item?id=20980849\">30&nbsp;comments</a>              </td></tr>\\n      <tr class=\"spacer\" style=\"height:5px\"></tr>\\n                <tr class=\\'athing\\' id=\\'20965812\\'>\\n      <td align=\"right\" valign=\"top\" class=\"title\"><span class=\"rank\">6.</span></td>      <td valign=\"top\" class=\"votelinks\"><center><a id=\\'up_20965812\\' href=\\'vote?id=20965812&amp;how=up&amp;goto=news\\'><div class=\\'votearrow\\' title=\\'upvote\\'></div></a></center></td><td class=\"title\"><a href=\"https://www.theatlantic.com/entertainment/archive/2019/09/pal-benko-shelby-lyman-and-chess-bobby-fischer-era/597343/\" class=\"storylink\">The End of the Golden Era of American Chess</a><span class=\"sitebit comhead\"> (<a href=\"from?site=theatlantic.com\"><span class=\"sitestr\">theatlantic.com</span></a>)</span></td></tr><tr><td colspan=\"2\"></td><td class=\"subtext\">\\n        <span class=\"score\" id=\"score_20965812\">26 points</span> by <a href=\"user?id=merrier\" class=\"hnuser\">merrier</a> <span class=\"age\"><a href=\"item?id=20965812\">3 hours ago</a></span> <span id=\"unv_20965812\"></span> | <a href=\"hide?id=20965812&amp;goto=news\">hide</a> | <a href=\"item?id=20965812\">14&nbsp;comments</a>              </td></tr>\\n      <tr class=\"spacer\" style=\"height:5px\"></tr>\\n                <tr class=\\'athing\\' id=\\'20980837\\'>\\n      <td align=\"right\" valign=\"top\" class=\"title\"><span class=\"rank\">7.</span></td>      <td valign=\"top\" class=\"votelinks\"><center><a id=\\'up_20980837\\' href=\\'vote?id=20980837&amp;how=up&amp;goto=news\\'><div class=\\'votearrow\\' title=\\'upvote\\'></div></a></center></td><td class=\"title\"><a href=\"https://github.com/tom-p-reichel/svg-is-turing-complete\" class=\"storylink\">SVG Is Turing Complete</a><span class=\"sitebit comhead\"> (<a href=\"from?site=github.com\"><span class=\"sitestr\">github.com</span></a>)</span></td></tr><tr><td colspan=\"2\"></td><td class=\"subtext\">\\n        <span class=\"score\" id=\"score_20980837\">35 points</span> by <a href=\"user?id=pentestercrab\" class=\"hnuser\">pentestercrab</a> <span class=\"age\"><a href=\"item?id=20980837\">5 hours ago</a></span> <span id=\"unv_20980837\"></span> | <a href=\"hide?id=20980837&amp;goto=news\">hide</a> | <a href=\"item?id=20980837\">6&nbsp;comments</a>              </td></tr>\\n      <tr class=\"spacer\" style=\"height:5px\"></tr>\\n                <tr class=\\'athing\\' id=\\'20980373\\'>\\n      <td align=\"right\" valign=\"top\" class=\"title\"><span class=\"rank\">8.</span></td>      <td valign=\"top\" class=\"votelinks\"><center><a id=\\'up_20980373\\' href=\\'vote?id=20980373&amp;how=up&amp;goto=news\\'><div class=\\'votearrow\\' title=\\'upvote\\'></div></a></center></td><td class=\"title\"><a href=\"https://www.bbc.com/news/science-environment-49692974\" class=\"storylink\">Wasps: If you can\\'t love them, at least admire them</a><span class=\"sitebit comhead\"> (<a href=\"from?site=bbc.com\"><span class=\"sitestr\">bbc.com</span></a>)</span></td></tr><tr><td colspan=\"2\"></td><td class=\"subtext\">\\n        <span class=\"score\" id=\"score_20980373\">68 points</span> by <a href=\"user?id=sohkamyung\" class=\"hnuser\">sohkamyung</a> <span class=\"age\"><a href=\"item?id=20980373\">7 hours ago</a></span> <span id=\"unv_20980373\"></span> | <a href=\"hide?id=20980373&amp;goto=news\">hide</a> | <a href=\"item?id=20980373\">42&nbsp;comments</a>              </td></tr>\\n      <tr class=\"spacer\" style=\"height:5px\"></tr>\\n                <tr class=\\'athing\\' id=\\'20981448\\'>\\n      <td align=\"right\" valign=\"top\" class=\"title\"><span class=\"rank\">9.</span></td>      <td valign=\"top\" class=\"votelinks\"><center><a id=\\'up_20981448\\' href=\\'vote?id=20981448&amp;how=up&amp;goto=news\\'><div class=\\'votearrow\\' title=\\'upvote\\'></div></a></center></td><td class=\"title\"><a href=\"https://en.mehrnews.com/news/150023/Women-make-up-54-of-new-students-entering-Iranian-universities\" class=\"storylink\">Women make up 54% of new students entering Iranian universities</a><span class=\"sitebit comhead\"> (<a href=\"from?site=mehrnews.com\"><span class=\"sitestr\">mehrnews.com</span></a>)</span></td></tr><tr><td colspan=\"2\"></td><td class=\"subtext\">\\n        <span class=\"score\" id=\"score_20981448\">59 points</span> by <a href=\"user?id=baylearn\" class=\"hnuser\">baylearn</a> <span class=\"age\"><a href=\"item?id=20981448\">2 hours ago</a></span> <span id=\"unv_20981448\"></span> | <a href=\"hide?id=20981448&amp;goto=news\">hide</a> | <a href=\"item?id=20981448\">36&nbsp;comments</a>              </td></tr>\\n      <tr class=\"spacer\" style=\"height:5px\"></tr>\\n                <tr class=\\'athing\\' id=\\'20981502\\'>\\n      <td align=\"right\" valign=\"top\" class=\"title\"><span class=\"rank\">10.</span></td>      <td valign=\"top\" class=\"votelinks\"><center><a id=\\'up_20981502\\' href=\\'vote?id=20981502&amp;how=up&amp;goto=news\\'><div class=\\'votearrow\\' title=\\'upvote\\'></div></a></center></td><td class=\"title\"><a href=\"https://returntonow.net/2019/04/24/how-one-man-singlehandedly-repopulated-a-rare-butterfly-species-in-his-backyard/\" class=\"storylink\">One Man Singlehandedly Repopulated a Rare Butterfly Species in His Backyard</a><span class=\"sitebit comhead\"> (<a href=\"from?site=returntonow.net\"><span class=\"sitestr\">returntonow.net</span></a>)</span></td></tr><tr><td colspan=\"2\"></td><td class=\"subtext\">\\n        <span class=\"score\" id=\"score_20981502\">15 points</span> by <a href=\"user?id=rococode\" class=\"hnuser\">rococode</a> <span class=\"age\"><a href=\"item?id=20981502\">2 hours ago</a></span> <span id=\"unv_20981502\"></span> | <a href=\"hide?id=20981502&amp;goto=news\">hide</a> | <a href=\"item?id=20981502\">1&nbsp;comment</a>              </td></tr>\\n      <tr class=\"spacer\" style=\"height:5px\"></tr>\\n                <tr class=\\'athing\\' id=\\'20981066\\'>\\n      <td align=\"right\" valign=\"top\" class=\"title\"><span class=\"rank\">11.</span></td>      <td valign=\"top\" class=\"votelinks\"><center><a id=\\'up_20981066\\' href=\\'vote?id=20981066&amp;how=up&amp;goto=news\\'><div class=\\'votearrow\\' title=\\'upvote\\'></div></a></center></td><td class=\"title\"><a href=\"https://www.bloomberg.com/news/articles/2019-09-16/purdue-pharma-seeks-bankruptcy-to-short-circuit-opioid-suits-k0luhox6\" class=\"storylink\">Purdue Pharma files for bankruptcy with $10B plan to settle claims</a><span class=\"sitebit comhead\"> (<a href=\"from?site=bloomberg.com\"><span class=\"sitestr\">bloomberg.com</span></a>)</span></td></tr><tr><td colspan=\"2\"></td><td class=\"subtext\">\\n        <span class=\"score\" id=\"score_20981066\">147 points</span> by <a href=\"user?id=dingdongding\" class=\"hnuser\">dingdongding</a> <span class=\"age\"><a href=\"item?id=20981066\">4 hours ago</a></span> <span id=\"unv_20981066\"></span> | <a href=\"hide?id=20981066&amp;goto=news\">hide</a> | <a href=\"item?id=20981066\">111&nbsp;comments</a>              </td></tr>\\n      <tr class=\"spacer\" style=\"height:5px\"></tr>\\n                <tr class=\\'athing\\' id=\\'20965481\\'>\\n      <td align=\"right\" valign=\"top\" class=\"title\"><span class=\"rank\">12.</span></td>      <td valign=\"top\" class=\"votelinks\"><center><a id=\\'up_20965481\\' href=\\'vote?id=20965481&amp;how=up&amp;goto=news\\'><div class=\\'votearrow\\' title=\\'upvote\\'></div></a></center></td><td class=\"title\"><a href=\"https://www.atlasobscura.com/articles/victory-verticals-steinway-pianos\" class=\"storylink\">When the Pianos Went to War</a><span class=\"sitebit comhead\"> (<a href=\"from?site=atlasobscura.com\"><span class=\"sitestr\">atlasobscura.com</span></a>)</span></td></tr><tr><td colspan=\"2\"></td><td class=\"subtext\">\\n        <span class=\"score\" id=\"score_20965481\">27 points</span> by <a href=\"user?id=tintinnabula\" class=\"hnuser\">tintinnabula</a> <span class=\"age\"><a href=\"item?id=20965481\">4 hours ago</a></span> <span id=\"unv_20965481\"></span> | <a href=\"hide?id=20965481&amp;goto=news\">hide</a> | <a href=\"item?id=20965481\">2&nbsp;comments</a>              </td></tr>\\n      <tr class=\"spacer\" style=\"height:5px\"></tr>\\n                <tr class=\\'athing\\' id=\\'20978928\\'>\\n      <td align=\"right\" valign=\"top\" class=\"title\"><span class=\"rank\">13.</span></td>      <td valign=\"top\" class=\"votelinks\"><center><a id=\\'up_20978928\\' href=\\'vote?id=20978928&amp;how=up&amp;goto=news\\'><div class=\\'votearrow\\' title=\\'upvote\\'></div></a></center></td><td class=\"title\"><a href=\"https://scholarcommons.usf.edu/cgi/viewcontent.cgi?article=1050&amp;context=mca\" class=\"storylink\">China Telecom\\'s BGP Hijacking [pdf]</a><span class=\"sitebit comhead\"> (<a href=\"from?site=usf.edu\"><span class=\"sitestr\">usf.edu</span></a>)</span></td></tr><tr><td colspan=\"2\"></td><td class=\"subtext\">\\n        <span class=\"score\" id=\"score_20978928\">169 points</span> by <a href=\"user?id=panarky\" class=\"hnuser\">panarky</a> <span class=\"age\"><a href=\"item?id=20978928\">13 hours ago</a></span> <span id=\"unv_20978928\"></span> | <a href=\"hide?id=20978928&amp;goto=news\">hide</a> | <a href=\"item?id=20978928\">20&nbsp;comments</a>              </td></tr>\\n      <tr class=\"spacer\" style=\"height:5px\"></tr>\\n                <tr class=\\'athing\\' id=\\'20979624\\'>\\n      <td align=\"right\" valign=\"top\" class=\"title\"><span class=\"rank\">14.</span></td>      <td valign=\"top\" class=\"votelinks\"><center><a id=\\'up_20979624\\' href=\\'vote?id=20979624&amp;how=up&amp;goto=news\\'><div class=\\'votearrow\\' title=\\'upvote\\'></div></a></center></td><td class=\"title\"><a href=\"https://github.com/textmate/textmate/commit/54b232f6b1fa4257d512987248265acfd567cc13\" class=\"storylink\">TextMate 2.0</a><span class=\"sitebit comhead\"> (<a href=\"from?site=github.com\"><span class=\"sitestr\">github.com</span></a>)</span></td></tr><tr><td colspan=\"2\"></td><td class=\"subtext\">\\n        <span class=\"score\" id=\"score_20979624\">321 points</span> by <a href=\"user?id=jjuliano\" class=\"hnuser\">jjuliano</a> <span class=\"age\"><a href=\"item?id=20979624\">10 hours ago</a></span> <span id=\"unv_20979624\"></span> | <a href=\"hide?id=20979624&amp;goto=news\">hide</a> | <a href=\"item?id=20979624\">130&nbsp;comments</a>              </td></tr>\\n      <tr class=\"spacer\" style=\"height:5px\"></tr>\\n                <tr class=\\'athing\\' id=\\'20965899\\'>\\n      <td align=\"right\" valign=\"top\" class=\"title\"><span class=\"rank\">15.</span></td>      <td valign=\"top\" class=\"votelinks\"><center><a id=\\'up_20965899\\' href=\\'vote?id=20965899&amp;how=up&amp;goto=news\\'><div class=\\'votearrow\\' title=\\'upvote\\'></div></a></center></td><td class=\"title\"><a href=\"https://spectator.us/decca-records-everyday-life/\" class=\"storylink\">When Decca records were part of everyday life</a><span class=\"sitebit comhead\"> (<a href=\"from?site=spectator.us\"><span class=\"sitestr\">spectator.us</span></a>)</span></td></tr><tr><td colspan=\"2\"></td><td class=\"subtext\">\\n        <span class=\"score\" id=\"score_20965899\">8 points</span> by <a href=\"user?id=wellokthen\" class=\"hnuser\">wellokthen</a> <span class=\"age\"><a href=\"item?id=20965899\">3 hours ago</a></span> <span id=\"unv_20965899\"></span> | <a href=\"hide?id=20965899&amp;goto=news\">hide</a> | <a href=\"item?id=20965899\">1&nbsp;comment</a>              </td></tr>\\n      <tr class=\"spacer\" style=\"height:5px\"></tr>\\n                <tr class=\\'athing\\' id=\\'20979428\\'>\\n      <td align=\"right\" valign=\"top\" class=\"title\"><span class=\"rank\">16.</span></td>      <td valign=\"top\" class=\"votelinks\"><center><a id=\\'up_20979428\\' href=\\'vote?id=20979428&amp;how=up&amp;goto=news\\'><div class=\\'votearrow\\' title=\\'upvote\\'></div></a></center></td><td class=\"title\"><a href=\"https://sandstorm.io/news/2019-09-15-shutting-down-oasis\" class=\"storylink\">Sandstorm Oasis Is Shutting Down</a><span class=\"sitebit comhead\"> (<a href=\"from?site=sandstorm.io\"><span class=\"sitestr\">sandstorm.io</span></a>)</span></td></tr><tr><td colspan=\"2\"></td><td class=\"subtext\">\\n        <span class=\"score\" id=\"score_20979428\">168 points</span> by <a href=\"user?id=kawera\" class=\"hnuser\">kawera</a> <span class=\"age\"><a href=\"item?id=20979428\">11 hours ago</a></span> <span id=\"unv_20979428\"></span> | <a href=\"hide?id=20979428&amp;goto=news\">hide</a> | <a href=\"item?id=20979428\">64&nbsp;comments</a>              </td></tr>\\n      <tr class=\"spacer\" style=\"height:5px\"></tr>\\n                <tr class=\\'athing\\' id=\\'20978055\\'>\\n      <td align=\"right\" valign=\"top\" class=\"title\"><span class=\"rank\">17.</span></td>      <td valign=\"top\" class=\"votelinks\"><center><a id=\\'up_20978055\\' href=\\'vote?id=20978055&amp;how=up&amp;goto=news\\'><div class=\\'votearrow\\' title=\\'upvote\\'></div></a></center></td><td class=\"title\"><a href=\"http://sniklaus.com/papers/kenburns\" class=\"storylink\">3D Ken Burns Effect from a Single Image</a><span class=\"sitebit comhead\"> (<a href=\"from?site=sniklaus.com\"><span class=\"sitestr\">sniklaus.com</span></a>)</span></td></tr><tr><td colspan=\"2\"></td><td class=\"subtext\">\\n        <span class=\"score\" id=\"score_20978055\">612 points</span> by <a href=\"user?id=sniklaus\" class=\"hnuser\">sniklaus</a> <span class=\"age\"><a href=\"item?id=20978055\">15 hours ago</a></span> <span id=\"unv_20978055\"></span> | <a href=\"hide?id=20978055&amp;goto=news\">hide</a> | <a href=\"item?id=20978055\">118&nbsp;comments</a>              </td></tr>\\n      <tr class=\"spacer\" style=\"height:5px\"></tr>\\n                <tr class=\\'athing\\' id=\\'20980295\\'>\\n      <td align=\"right\" valign=\"top\" class=\"title\"><span class=\"rank\">18.</span></td>      <td valign=\"top\" class=\"votelinks\"><center><a id=\\'up_20980295\\' href=\\'vote?id=20980295&amp;how=up&amp;goto=news\\'><div class=\\'votearrow\\' title=\\'upvote\\'></div></a></center></td><td class=\"title\"><a href=\"http://www.bbc.com/travel/story/20190915-the-discovery-of-the-ancient-greek-city-of-tenea\" class=\"storylink\">The discovery of the ancient Greek city of Tenea</a><span class=\"sitebit comhead\"> (<a href=\"from?site=bbc.com\"><span class=\"sitestr\">bbc.com</span></a>)</span></td></tr><tr><td colspan=\"2\"></td><td class=\"subtext\">\\n        <span class=\"score\" id=\"score_20980295\">38 points</span> by <a href=\"user?id=clouddrover\" class=\"hnuser\">clouddrover</a> <span class=\"age\"><a href=\"item?id=20980295\">7 hours ago</a></span> <span id=\"unv_20980295\"></span> | <a href=\"hide?id=20980295&amp;goto=news\">hide</a> | <a href=\"item?id=20980295\">9&nbsp;comments</a>              </td></tr>\\n      <tr class=\"spacer\" style=\"height:5px\"></tr>\\n                <tr class=\\'athing\\' id=\\'20965779\\'>\\n      <td align=\"right\" valign=\"top\" class=\"title\"><span class=\"rank\">19.</span></td>      <td valign=\"top\" class=\"votelinks\"><center><a id=\\'up_20965779\\' href=\\'vote?id=20965779&amp;how=up&amp;goto=news\\'><div class=\\'votearrow\\' title=\\'upvote\\'></div></a></center></td><td class=\"title\"><a href=\"https://www.theatlantic.com/science/archive/2019/09/why-you-cant-display-your-relatives-skull/597307/\" class=\"storylink\" rel=\"nofollow\">You Can\\'t Keep Your Relatives\\' Skulls</a><span class=\"sitebit comhead\"> (<a href=\"from?site=theatlantic.com\"><span class=\"sitestr\">theatlantic.com</span></a>)</span></td></tr><tr><td colspan=\"2\"></td><td class=\"subtext\">\\n        <span class=\"score\" id=\"score_20965779\">9 points</span> by <a href=\"user?id=pshaw\" class=\"hnuser\">pshaw</a> <span class=\"age\"><a href=\"item?id=20965779\">2 hours ago</a></span> <span id=\"unv_20965779\"></span> | <a href=\"hide?id=20965779&amp;goto=news\">hide</a> | <a href=\"item?id=20965779\">5&nbsp;comments</a>              </td></tr>\\n      <tr class=\"spacer\" style=\"height:5px\"></tr>\\n                <tr class=\\'athing\\' id=\\'20980558\\'>\\n      <td align=\"right\" valign=\"top\" class=\"title\"><span class=\"rank\">20.</span></td>      <td valign=\"top\" class=\"votelinks\"><center><a id=\\'up_20980558\\' href=\\'vote?id=20980558&amp;how=up&amp;goto=news\\'><div class=\\'votearrow\\' title=\\'upvote\\'></div></a></center></td><td class=\"title\"><a href=\"https://www.reuters.com/article/idUSKBN1W00VF\" class=\"storylink\">Australia concluded China was behind hack on parliament, political parties</a><span class=\"sitebit comhead\"> (<a href=\"from?site=reuters.com\"><span class=\"sitestr\">reuters.com</span></a>)</span></td></tr><tr><td colspan=\"2\"></td><td class=\"subtext\">\\n        <span class=\"score\" id=\"score_20980558\">126 points</span> by <a href=\"user?id=baylearn\" class=\"hnuser\">baylearn</a> <span class=\"age\"><a href=\"item?id=20980558\">6 hours ago</a></span> <span id=\"unv_20980558\"></span> | <a href=\"hide?id=20980558&amp;goto=news\">hide</a> | <a href=\"item?id=20980558\">61&nbsp;comments</a>              </td></tr>\\n      <tr class=\"spacer\" style=\"height:5px\"></tr>\\n                <tr class=\\'athing\\' id=\\'20965756\\'>\\n      <td align=\"right\" valign=\"top\" class=\"title\"><span class=\"rank\">21.</span></td>      <td valign=\"top\" class=\"votelinks\"><center><a id=\\'up_20965756\\' href=\\'vote?id=20965756&amp;how=up&amp;goto=news\\'><div class=\\'votearrow\\' title=\\'upvote\\'></div></a></center></td><td class=\"title\"><a href=\"https://en.wikipedia.org/wiki/StarTram\" class=\"storylink\">StarTram</a><span class=\"sitebit comhead\"> (<a href=\"from?site=wikipedia.org\"><span class=\"sitestr\">wikipedia.org</span></a>)</span></td></tr><tr><td colspan=\"2\"></td><td class=\"subtext\">\\n        <span class=\"score\" id=\"score_20965756\">24 points</span> by <a href=\"user?id=archgoon\" class=\"hnuser\">archgoon</a> <span class=\"age\"><a href=\"item?id=20965756\">6 hours ago</a></span> <span id=\"unv_20965756\"></span> | <a href=\"hide?id=20965756&amp;goto=news\">hide</a> | <a href=\"item?id=20965756\">11&nbsp;comments</a>              </td></tr>\\n      <tr class=\"spacer\" style=\"height:5px\"></tr>\\n                <tr class=\\'athing\\' id=\\'20979380\\'>\\n      <td align=\"right\" valign=\"top\" class=\"title\"><span class=\"rank\">22.</span></td>      <td valign=\"top\" class=\"votelinks\"><center><a id=\\'up_20979380\\' href=\\'vote?id=20979380&amp;how=up&amp;goto=news\\'><div class=\\'votearrow\\' title=\\'upvote\\'></div></a></center></td><td class=\"title\"><a href=\"https://robertheaton.com/2019/09/15/hp-printers-send-data-on-what-you-print-back-to-hp/\" class=\"storylink\">HP printers try to send data back to HP about your devices and what you print</a><span class=\"sitebit comhead\"> (<a href=\"from?site=robertheaton.com\"><span class=\"sitestr\">robertheaton.com</span></a>)</span></td></tr><tr><td colspan=\"2\"></td><td class=\"subtext\">\\n        <span class=\"score\" id=\"score_20979380\">374 points</span> by <a href=\"user?id=darekkay\" class=\"hnuser\">darekkay</a> <span class=\"age\"><a href=\"item?id=20979380\">11 hours ago</a></span> <span id=\"unv_20979380\"></span> | <a href=\"hide?id=20979380&amp;goto=news\">hide</a> | <a href=\"item?id=20979380\">173&nbsp;comments</a>              </td></tr>\\n      <tr class=\"spacer\" style=\"height:5px\"></tr>\\n                <tr class=\\'athing\\' id=\\'20980416\\'>\\n      <td align=\"right\" valign=\"top\" class=\"title\"><span class=\"rank\">23.</span></td>      <td valign=\"top\" class=\"votelinks\"><center><a id=\\'up_20980416\\' href=\\'vote?id=20980416&amp;how=up&amp;goto=news\\'><div class=\\'votearrow\\' title=\\'upvote\\'></div></a></center></td><td class=\"title\"><a href=\"https://www.hanselman.com/blog/EmulatingAPlayStation1PSXEntirelyWithCAndNET.aspx\" class=\"storylink\">Emulating a PlayStation 1 (PSX) Entirely with C# and .NET</a><span class=\"sitebit comhead\"> (<a href=\"from?site=hanselman.com\"><span class=\"sitestr\">hanselman.com</span></a>)</span></td></tr><tr><td colspan=\"2\"></td><td class=\"subtext\">\\n        <span class=\"score\" id=\"score_20980416\">34 points</span> by <a href=\"user?id=LyalinDotCom\" class=\"hnuser\">LyalinDotCom</a> <span class=\"age\"><a href=\"item?id=20980416\">7 hours ago</a></span> <span id=\"unv_20980416\"></span> | <a href=\"hide?id=20980416&amp;goto=news\">hide</a> | <a href=\"item?id=20980416\">20&nbsp;comments</a>              </td></tr>\\n      <tr class=\"spacer\" style=\"height:5px\"></tr>\\n                <tr class=\\'athing\\' id=\\'20980372\\'>\\n      <td align=\"right\" valign=\"top\" class=\"title\"><span class=\"rank\">24.</span></td>      <td valign=\"top\" class=\"votelinks\"><center><a id=\\'up_20980372\\' href=\\'vote?id=20980372&amp;how=up&amp;goto=news\\'><div class=\\'votearrow\\' title=\\'upvote\\'></div></a></center></td><td class=\"title\"><a href=\"https://www.armscontrolwonk.com/archive/1208062/meet-the-quds-1/\" class=\"storylink\">Quds 1 missile</a><span class=\"sitebit comhead\"> (<a href=\"from?site=armscontrolwonk.com\"><span class=\"sitestr\">armscontrolwonk.com</span></a>)</span></td></tr><tr><td colspan=\"2\"></td><td class=\"subtext\">\\n        <span class=\"score\" id=\"score_20980372\">95 points</span> by <a href=\"user?id=pinewurst\" class=\"hnuser\">pinewurst</a> <span class=\"age\"><a href=\"item?id=20980372\">7 hours ago</a></span> <span id=\"unv_20980372\"></span> | <a href=\"hide?id=20980372&amp;goto=news\">hide</a> | <a href=\"item?id=20980372\">29&nbsp;comments</a>              </td></tr>\\n      <tr class=\"spacer\" style=\"height:5px\"></tr>\\n                <tr class=\\'athing\\' id=\\'20981197\\'>\\n      <td align=\"right\" valign=\"top\" class=\"title\"><span class=\"rank\">25.</span></td>      <td></td><td class=\"title\"><a href=\"https://www.themuse.com/jobs/themuse/vp-engineering\" class=\"storylink\" rel=\"nofollow\">The Muse Is Hiring a VP Engineering in NYC</a><span class=\"sitebit comhead\"> (<a href=\"from?site=themuse.com\"><span class=\"sitestr\">themuse.com</span></a>)</span></td></tr><tr><td colspan=\"2\"></td><td class=\"subtext\">\\n        <span class=\"age\"><a href=\"item?id=20981197\">3 hours ago</a></span> | <a href=\"hide?id=20981197&amp;goto=news\">hide</a>      </td></tr>\\n      <tr class=\"spacer\" style=\"height:5px\"></tr>\\n                <tr class=\\'athing\\' id=\\'20965474\\'>\\n      <td align=\"right\" valign=\"top\" class=\"title\"><span class=\"rank\">26.</span></td>      <td valign=\"top\" class=\"votelinks\"><center><a id=\\'up_20965474\\' href=\\'vote?id=20965474&amp;how=up&amp;goto=news\\'><div class=\\'votearrow\\' title=\\'upvote\\'></div></a></center></td><td class=\"title\"><a href=\"https://www.aviationtoday.com/2019/09/10/flirtey-wants-ten-minute-point-point-drone-delivery-businesses-across-america/\" class=\"storylink\">Flirtey Wants to Enable Ten Minute Commercial Drone Deliveries</a><span class=\"sitebit comhead\"> (<a href=\"from?site=aviationtoday.com\"><span class=\"sitestr\">aviationtoday.com</span></a>)</span></td></tr><tr><td colspan=\"2\"></td><td class=\"subtext\">\\n        <span class=\"score\" id=\"score_20965474\">22 points</span> by <a href=\"user?id=prostoalex\" class=\"hnuser\">prostoalex</a> <span class=\"age\"><a href=\"item?id=20965474\">7 hours ago</a></span> <span id=\"unv_20965474\"></span> | <a href=\"hide?id=20965474&amp;goto=news\">hide</a> | <a href=\"item?id=20965474\">16&nbsp;comments</a>              </td></tr>\\n      <tr class=\"spacer\" style=\"height:5px\"></tr>\\n                <tr class=\\'athing\\' id=\\'20979291\\'>\\n      <td align=\"right\" valign=\"top\" class=\"title\"><span class=\"rank\">27.</span></td>      <td valign=\"top\" class=\"votelinks\"><center><a id=\\'up_20979291\\' href=\\'vote?id=20979291&amp;how=up&amp;goto=news\\'><div class=\\'votearrow\\' title=\\'upvote\\'></div></a></center></td><td class=\"title\"><a href=\"https://www.chemistryworld.com/opinion/machine-learning-mendeleevs-have-rediscovered-the-periodic-table/3010720.article\" class=\"storylink\">The elements of algorithms</a><span class=\"sitebit comhead\"> (<a href=\"from?site=chemistryworld.com\"><span class=\"sitestr\">chemistryworld.com</span></a>)</span></td></tr><tr><td colspan=\"2\"></td><td class=\"subtext\">\\n        <span class=\"score\" id=\"score_20979291\">59 points</span> by <a href=\"user?id=october_sky\" class=\"hnuser\">october_sky</a> <span class=\"age\"><a href=\"item?id=20979291\">12 hours ago</a></span> <span id=\"unv_20979291\"></span> | <a href=\"hide?id=20979291&amp;goto=news\">hide</a> | <a href=\"item?id=20979291\">6&nbsp;comments</a>              </td></tr>\\n      <tr class=\"spacer\" style=\"height:5px\"></tr>\\n                <tr class=\\'athing\\' id=\\'20965556\\'>\\n      <td align=\"right\" valign=\"top\" class=\"title\"><span class=\"rank\">28.</span></td>      <td valign=\"top\" class=\"votelinks\"><center><a id=\\'up_20965556\\' href=\\'vote?id=20965556&amp;how=up&amp;goto=news\\'><div class=\\'votearrow\\' title=\\'upvote\\'></div></a></center></td><td class=\"title\"><a href=\"https://engineering.linkedin.com/distributed-systems/log-what-every-software-engineer-should-know-about-real-time-datas-unifying\" class=\"storylink\">The Log: Real-time data\\'s unifying abstraction (2013)</a><span class=\"sitebit comhead\"> (<a href=\"from?site=linkedin.com\"><span class=\"sitestr\">linkedin.com</span></a>)</span></td></tr><tr><td colspan=\"2\"></td><td class=\"subtext\">\\n        <span class=\"score\" id=\"score_20965556\">67 points</span> by <a href=\"user?id=the-enemy\" class=\"hnuser\">the-enemy</a> <span class=\"age\"><a href=\"item?id=20965556\">15 hours ago</a></span> <span id=\"unv_20965556\"></span> | <a href=\"hide?id=20965556&amp;goto=news\">hide</a> | <a href=\"item?id=20965556\">1&nbsp;comment</a>              </td></tr>\\n      <tr class=\"spacer\" style=\"height:5px\"></tr>\\n                <tr class=\\'athing\\' id=\\'20977788\\'>\\n      <td align=\"right\" valign=\"top\" class=\"title\"><span class=\"rank\">29.</span></td>      <td valign=\"top\" class=\"votelinks\"><center><a id=\\'up_20977788\\' href=\\'vote?id=20977788&amp;how=up&amp;goto=news\\'><div class=\\'votearrow\\' title=\\'upvote\\'></div></a></center></td><td class=\"title\"><a href=\"https://www.cnx-software.com/2019/09/15/pinetime-smartwatch-companion-pinephone/\" class=\"storylink\">PineTime Is a $25 Smartwatch / Companion for PinePhone Linux Phone</a><span class=\"sitebit comhead\"> (<a href=\"from?site=cnx-software.com\"><span class=\"sitestr\">cnx-software.com</span></a>)</span></td></tr><tr><td colspan=\"2\"></td><td class=\"subtext\">\\n        <span class=\"score\" id=\"score_20977788\">240 points</span> by <a href=\"user?id=Zenst\" class=\"hnuser\">Zenst</a> <span class=\"age\"><a href=\"item?id=20977788\">16 hours ago</a></span> <span id=\"unv_20977788\"></span> | <a href=\"hide?id=20977788&amp;goto=news\">hide</a> | <a href=\"item?id=20977788\">108&nbsp;comments</a>              </td></tr>\\n      <tr class=\"spacer\" style=\"height:5px\"></tr>\\n                <tr class=\\'athing\\' id=\\'20979909\\'>\\n      <td align=\"right\" valign=\"top\" class=\"title\"><span class=\"rank\">30.</span></td>      <td valign=\"top\" class=\"votelinks\"><center><a id=\\'up_20979909\\' href=\\'vote?id=20979909&amp;how=up&amp;goto=news\\'><div class=\\'votearrow\\' title=\\'upvote\\'></div></a></center></td><td class=\"title\"><a href=\"https://chooseaword.com/\" class=\"storylink\">Show HN: Choose a Word</a><span class=\"sitebit comhead\"> (<a href=\"from?site=chooseaword.com\"><span class=\"sitestr\">chooseaword.com</span></a>)</span></td></tr><tr><td colspan=\"2\"></td><td class=\"subtext\">\\n        <span class=\"score\" id=\"score_20979909\">35 points</span> by <a href=\"user?id=romes\" class=\"hnuser\">romes</a> <span class=\"age\"><a href=\"item?id=20979909\">9 hours ago</a></span> <span id=\"unv_20979909\"></span> | <a href=\"hide?id=20979909&amp;goto=news\">hide</a> | <a href=\"item?id=20979909\">20&nbsp;comments</a>              </td></tr>\\n      <tr class=\"spacer\" style=\"height:5px\"></tr>\\n            <tr class=\"morespace\" style=\"height:10px\"></tr><tr><td colspan=\"2\"></td><td class=\"title\"><a href=\"news?p=2\" class=\"morelink\" rel=\"next\">More</a></td></tr>\\n  </table>\\n</td></tr>\\n<tr><td><img src=\"s.gif\" height=\"10\" width=\"0\"><table width=\"100%\" cellspacing=\"0\" cellpadding=\"1\"><tr><td bgcolor=\"#ff6600\"></td></tr></table><br><center><a href=\"https://www.ycombinator.com/apply/\">\\n        Applications are open for YC Winter 2020\\n      </a></center><br><center><span class=\"yclinks\"><a href=\"newsguidelines.html\">Guidelines</a>\\n        | <a href=\"newsfaq.html\">FAQ</a>\\n        | <a href=\"mailto:hn@ycombinator.com\">Support</a>\\n        | <a href=\"https://github.com/HackerNews/API\">API</a>\\n        | <a href=\"security.html\">Security</a>\\n        | <a href=\"lists\">Lists</a>\\n        | <a href=\"bookmarklet.html\" rel=\"nofollow\">Bookmarklet</a>\\n        | <a href=\"http://www.ycombinator.com/legal/\">Legal</a>\\n        | <a href=\"http://www.ycombinator.com/apply/\">Apply to YC</a>\\n        | <a href=\"mailto:hn@ycombinator.com\">Contact</a></span><br><br><form method=\"get\" action=\"//hn.algolia.com/\">Search:\\n          <input type=\"text\" name=\"q\" value=\"\" size=\"17\" autocorrect=\"off\" spellcheck=\"false\" autocapitalize=\"off\" autocomplete=\"false\"></form>\\n            </center></td></tr>\\n      </table></center></body><script type=\\'text/javascript\\' src=\\'hn.js?6neKpwiXb7IFTFH0HGEC\\'></script>\\n  </html>\\n'"
      ]
     },
     "execution_count": 9,
     "metadata": {},
     "output_type": "execute_result"
    }
   ],
   "source": [
    "# This is the main part that comes back as get response\n",
    "# Its a gaint HTML code\n",
    "# Our terminal does not know how to use this html, its for browser to decode\n",
    "\n",
    "response.text"
   ]
  },
  {
   "cell_type": "code",
   "execution_count": 11,
   "metadata": {},
   "outputs": [
    {
     "name": "stdout",
     "output_type": "stream",
     "text": [
      "Your request to url came back with status code 200\n"
     ]
    }
   ],
   "source": [
    "# another eg.\n",
    "\n",
    "import requests\n",
    "\n",
    "response = requests.get('http://www.google.com')\n",
    "print(f'Your request to url came back with status code {response.status_code}')"
   ]
  },
  {
   "cell_type": "code",
   "execution_count": 22,
   "metadata": {},
   "outputs": [
    {
     "name": "stdout",
     "output_type": "stream",
     "text": [
      "Your request to http://www.google.com came back with status code 200\n",
      "Your request to http://www.google.com/asasajkaj came back with status code 404\n"
     ]
    }
   ],
   "source": [
    "# Note:\n",
    "# Always save the hard coded values to a variable\n",
    "# And use that variable in future references\n",
    "\n",
    "import requests\n",
    "\n",
    "url = 'http://www.google.com'\n",
    "url2 = 'http://www.google.com/asasajkaj'\n",
    "# url3 = 'www.google.com'\n",
    "\n",
    "response = requests.get(url)\n",
    "response2 = requests.get(url2)\n",
    "#response3 = requests.get(url3)\n",
    "\n",
    "print(f'Your request to {url} came back with status code {response.status_code}')\n",
    "print(f'Your request to {url2} came back with status code {response2.status_code}')\n",
    "#print(f'Your request to {url3} came back with status code {response3.status_code}')\n",
    "\n",
    "# Here for the second url, its conisdered as page not foung and we get error 404\n",
    "\n",
    "# For the 3rd url we get error as it not a valid url to initiate get response\n",
    "# We do need to specify which protocol its using http or https, so it throws error\n"
   ]
  },
  {
   "cell_type": "code",
   "execution_count": 23,
   "metadata": {},
   "outputs": [
    {
     "name": "stdout",
     "output_type": "stream",
     "text": [
      "Your request to https://gadc-siebel119.na.pg.com:8071/ came back with status code 200\n"
     ]
    }
   ],
   "source": [
    "import requests\n",
    "\n",
    "url = 'https://gadc-siebel119.na.pg.com:8071/'\n",
    "\n",
    "response = requests.get(url)\n",
    "\n",
    "print(f'Your request to {url} came back with status code {response.status_code}')"
   ]
  },
  {
   "cell_type": "code",
   "execution_count": 25,
   "metadata": {},
   "outputs": [
    {
     "data": {
      "text/plain": [
       "{'Cache-Control': 'private', 'Content-Type': 'text/html; charset=utf-8', 'Server': 'Microsoft-IIS/10.0', 'Set-Cookie': 'ASP.NET_SessionId=zlj5a1tq4uz4yys1hqynnhab; path=/; HttpOnly', 'X-AspNet-Version': '4.0.30319', 'X-Powered-By': 'ASP.NET', 'Date': 'Mon, 16 Sep 2019 08:48:08 GMT', 'Content-Length': '40782'}"
      ]
     },
     "execution_count": 25,
     "metadata": {},
     "output_type": "execute_result"
    }
   ],
   "source": [
    "response.headers"
   ]
  },
  {
   "cell_type": "code",
   "execution_count": 26,
   "metadata": {},
   "outputs": [
    {
     "data": {
      "text/plain": [
       "'\\r\\n\\r\\n<!DOCTYPE html>\\r\\n\\r\\n<html xmlns=\"http://www.w3.org/1999/xhtml\">\\r\\n<head><title>\\r\\n\\tAll In One Monitoring\\r\\n</title><meta http-equiv=\"Refresh\" content=\"55\" />\\r\\n    <script type=\"text/javascript\">\\r\\n        function openWin() {\\r\\n            \\r\\n            window.open(\"/TrendAnalysis.aspx\")\\r\\n\\r\\n        }\\r\\n    </script>\\r\\n    <style type=\"text/css\">\\r\\n        body\\r\\n        {\\r\\n            background-image:url(\"Images/1234.jpg\");\\r\\n            background-size:cover;\\r\\n            /*width:100%;\\r\\n            height:100%;*/\\r\\n        }\\r\\n\\r\\n        h1\\r\\n        {\\r\\n            /*font-size: 1.6em;\\r\\n            padding-bottom: 0px;\\r\\n            margin-bottom: 0px;*/\\r\\n\\r\\n            /*color: #b48608; font-family: \\'Droid serif\\', serif; font-size: 36px; font-weight: 400; font-style: italic; line-height: 44px; margin: 0 0 12px;*/\\r\\n\\r\\n            margin: 1em 0 0.5em 0;\\r\\n\\t        font-weight: 600;\\r\\n\\t        font-family: \\'Baskerville Old Face\\', sans-serif;\\r\\n\\t        position: relative;  \\r\\n\\t        font-size: 32px;\\r\\n\\t        line-height: 30px;\\r\\n\\t        padding: 15px 15px 15px 15%;\\r\\n\\t        color: black;\\r\\n\\t        /*box-shadow: \\r\\n\\t\\t        inset 0 0 0 1px rgba(53,86,129, 0.4), \\r\\n\\t\\t        inset 0 0 5px rgba(53,86,129, 0.5),\\r\\n\\t\\t        inset -285px 0 35px #A8E3E9;*/\\r\\n\\t        /*border-radius: 0 10px 0 10px;*/\\r\\n\\t        /*background: url(../images/Logo.png) no-repeat center left;*/\\r\\n        }\\r\\n\\r\\n        .auto-style1 {\\r\\n            text-decoration: underline;\\r\\n        }\\r\\n\\r\\n          .label_topped {\\r\\n  vertical-align:top;\\r\\n  float:right;\\r\\n     \\r\\n  \\r\\n\\r\\n  \\r\\n }\\r\\n        \\r\\n}\\r\\n        </style>\\r\\n</head>\\r\\n<body>\\r\\n    <form method=\"post\" action=\"./\" id=\"form1\">\\r\\n<input type=\"hidden\" name=\"__VIEWSTATE\" id=\"__VIEWSTATE\" value=\"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\" />\\r\\n\\r\\n<input type=\"hidden\" name=\"__VIEWSTATEGENERATOR\" id=\"__VIEWSTATEGENERATOR\" value=\"8D0E13E6\" />\\r\\n<input type=\"hidden\" name=\"__EVENTVALIDATION\" id=\"__EVENTVALIDATION\" value=\"dnwWBdDSIy2AP7WGVlpkO9NzcPkuY3gZlsUmKE6XgPsERvmU7qYNLUWMhIQjbEUXlGcNS1/3mb3N3O+akpkxyK93Q7eLiWEQrw7jxHJ6FZvKItGN1dj57ETO56af/EdA\" />\\r\\n\\r\\n\\r\\n        \\r\\n    \\r\\n\\r\\n        <div  class=\"label_topped\" >\\r\\n\\r\\n            \\r\\n            <table >\\r\\n\\r\\n                <tr>\\r\\n                    <td>\\r\\n                        <span class=\"auto-style1\" style=\"font:bold\"><strong style=\"font-family: \\'Arial Black\\'; background-color: #FFCC66;\">Health Check:</strong></span>\\r\\n                    </td>\\r\\n                    </tr>\\r\\n                <tr >\\r\\n               <td> <span id=\"Label1\"><b> Last UI Refreshed(in EST):</b></span></td>\\r\\n              <td ><span id=\"lblRefreshtime\">9/16/2019 4:48:07 AM</span></td>\\r\\n                    </tr>\\r\\n                 <tr>\\r\\n              <td>\\r\\n                  <span id=\"lblmbottitle\"><b>M-Bot : </b></span>\\r\\n              \\r\\n                  <span id=\"lblmbottext\">EXECUTING</span>\\r\\n              \\r\\n                  <span id=\"lblmbottimestamp\"><b>Started @: </b></span>\\r\\n              </td>\\r\\n              <td>\\r\\n                  <span id=\"lblmbottimestamptext\">9/16/2019 4:15:51 AM</span>\\r\\n              </td>\\r\\n          </tr>\\r\\n\\r\\n           <tr>\\r\\n              <td>\\r\\n                  <span id=\"lbltxtitle\"><b>CTM Tx Last Refreshed: </b></span>\\r\\n              </td>\\r\\n              <td>\\r\\n                  <span id=\"lbltxtext\">9/16/2019 4:47:03 AM</span>\\r\\n              </td>\\r\\n          </tr>\\r\\n\\r\\n           <tr>\\r\\n              <td>\\r\\n                  <span id=\"lblaxtitle\"><b>CTM Ax Last Refreshed: </b></span>\\r\\n              </td>\\r\\n              <td>\\r\\n                  <span id=\"lblaxtext\">9/16/2019 4:36:42 AM</span>\\r\\n              </td>\\r\\n         </tr>\\r\\n                <tr>\\r\\n               <td>\\r\\n                  <span id=\"lblMIR3\"><b>MIR3 Status: </b></span>\\r\\n              </td>\\r\\n              <td>\\r\\n                  <span id=\"lblMIR3result\">Active</span>\\r\\n              </td>\\r\\n                   \\r\\n                </tr>\\r\\n                <tr>\\r\\n                    <td></td>\\r\\n                    <td>\\r\\n                                               \\r\\n\\r\\n                        <a onclick=\"openWin();\" id=\"lnkTrendanalysis\" href=\"javascript:__doPostBack(&#39;lnkTrendanalysis&#39;,&#39;&#39;)\">Trend Analysis >></a>\\r\\n                        \\r\\n                        </td>\\r\\n                   \\r\\n                </tr>\\r\\n             </table>\\r\\n\\r\\n        </div>\\r\\n        <div style=\"margin:0;padding:0\"\">\\r\\n            &nbsp;&nbsp;&nbsp;&nbsp;&nbsp;&nbsp;&nbsp;&nbsp;&nbsp;&nbsp;&nbsp;&nbsp;&nbsp;&nbsp;&nbsp;&nbsp;&nbsp;&nbsp;&nbsp;&nbsp;&nbsp;&nbsp;&nbsp;&nbsp;&nbsp;&nbsp;&nbsp;&nbsp;&nbsp;&nbsp;&nbsp;&nbsp;&nbsp;&nbsp;&nbsp;&nbsp;&nbsp;&nbsp;&nbsp;&nbsp;&nbsp;&nbsp;&nbsp;&nbsp;&nbsp;&nbsp;&nbsp;&nbsp;&nbsp;&nbsp;&nbsp;&nbsp;&nbsp;&nbsp;&nbsp;&nbsp;&nbsp;&nbsp;&nbsp;&nbsp;&nbsp;&nbsp;&nbsp;&nbsp;&nbsp;&nbsp;&nbsp;&nbsp;&nbsp;&nbsp;&nbsp;&nbsp;&nbsp;&nbsp;&nbsp;&nbsp;&nbsp;&nbsp;&nbsp;&nbsp;&nbsp;&nbsp;&nbsp;&nbsp;&nbsp;&nbsp;&nbsp;&nbsp;&nbsp;&nbsp;&nbsp;&nbsp;&nbsp;&nbsp;&nbsp;&nbsp;&nbsp;&nbsp;&nbsp;&nbsp;&nbsp;&nbsp;&nbsp;&nbsp;&nbsp;&nbsp;&nbsp;&nbsp;&nbsp;&nbsp;&nbsp;&nbsp;&nbsp;&nbsp;&nbsp;&nbsp;&nbsp;&nbsp;&nbsp;&nbsp;&nbsp;&nbsp;&nbsp;&nbsp;&nbsp;&nbsp;&nbsp;&nbsp;&nbsp;\\r\\n            <br />\\r\\n            <br />\\r\\n            <br />\\r\\n&nbsp;&nbsp;&nbsp;&nbsp;&nbsp;&nbsp;&nbsp;&nbsp;&nbsp;&nbsp;&nbsp;&nbsp;&nbsp;&nbsp;&nbsp;&nbsp;&nbsp;&nbsp;&nbsp;&nbsp;&nbsp;&nbsp;&nbsp;&nbsp;&nbsp;&nbsp;&nbsp;&nbsp;&nbsp;&nbsp;&nbsp;&nbsp;&nbsp;&nbsp;&nbsp;&nbsp;&nbsp;&nbsp;&nbsp;&nbsp;&nbsp;&nbsp;&nbsp;&nbsp;&nbsp;&nbsp;&nbsp;&nbsp;&nbsp;&nbsp;&nbsp;&nbsp;&nbsp;&nbsp;&nbsp;&nbsp;&nbsp;&nbsp;&nbsp;&nbsp;&nbsp;&nbsp;&nbsp;&nbsp;&nbsp;&nbsp;&nbsp;&nbsp;&nbsp;&nbsp;&nbsp;&nbsp;&nbsp;&nbsp;&nbsp;&nbsp;&nbsp;&nbsp;&nbsp;&nbsp;&nbsp;&nbsp;&nbsp;&nbsp;&nbsp;&nbsp;&nbsp;&nbsp;&nbsp;&nbsp;&nbsp;&nbsp;&nbsp;&nbsp;&nbsp;&nbsp;&nbsp;&nbsp;&nbsp;&nbsp;&nbsp;&nbsp;&nbsp;&nbsp;&nbsp;&nbsp;&nbsp;&nbsp;&nbsp;&nbsp;&nbsp;&nbsp;&nbsp;&nbsp;&nbsp;&nbsp;&nbsp;&nbsp;&nbsp;&nbsp;&nbsp;&nbsp;&nbsp;&nbsp;\\r\\n\\r\\n            <span id=\"Label2\"><b><font size=\"7\">M-Bot (TO-BE-PROD)</font></b></span><br />\\r\\n            &nbsp;&nbsp;&nbsp;&nbsp;&nbsp;&nbsp;&nbsp;&nbsp;&nbsp;&nbsp;&nbsp;&nbsp;&nbsp;&nbsp;&nbsp;&nbsp;&nbsp;&nbsp;&nbsp;&nbsp;&nbsp;&nbsp;&nbsp;&nbsp;&nbsp;&nbsp;&nbsp;&nbsp;&nbsp;&nbsp;&nbsp;&nbsp;&nbsp;&nbsp;&nbsp;&nbsp;&nbsp;&nbsp;&nbsp;&nbsp;&nbsp;&nbsp;&nbsp;&nbsp;&nbsp;&nbsp;&nbsp;&nbsp;&nbsp;&nbsp;&nbsp;&nbsp;&nbsp;&nbsp;&nbsp;&nbsp;&nbsp;&nbsp;&nbsp;&nbsp;&nbsp;&nbsp;&nbsp;&nbsp;&nbsp;&nbsp;&nbsp;&nbsp;&nbsp;&nbsp;&nbsp;&nbsp;&nbsp;&nbsp;&nbsp;&nbsp;&nbsp;&nbsp;&nbsp;&nbsp;&nbsp;&nbsp;&nbsp;&nbsp;&nbsp;&nbsp;&nbsp;&nbsp;&nbsp;&nbsp;&nbsp;&nbsp;&nbsp;&nbsp;&nbsp;&nbsp;&nbsp;&nbsp;&nbsp;&nbsp;&nbsp;&nbsp;&nbsp;&nbsp;&nbsp;&nbsp;&nbsp;&nbsp;&nbsp;&nbsp;&nbsp;&nbsp;&nbsp;&nbsp;&nbsp;&nbsp;&nbsp;&nbsp;&nbsp;&nbsp;&nbsp;\\r\\n            <span id=\"Label3\"><b><font size=\"6\">TFM All in One Job Monitoring</font></b></span>\\r\\n\\r\\n        </div>\\r\\n        <br /><br />\\r\\n        <br /><br />\\r\\n        <div>\\r\\n            <br />\\r\\n            <table>\\r\\n                <tr>\\r\\n                    <td align=\"center\">\\r\\n                        <span class=\"auto-style1\"><strong>ASIA TX</strong></span>\\r\\n                    </td>\\r\\n                    <td align=\"center\">\\r\\n                        <span class=\"auto-style1\"><strong>ASIA AX</strong></span>\\r\\n                    </td>\\r\\n                </tr>\\r\\n                <tr>\\r\\n                    <td>                                               \\r\\n                        <div>\\r\\n\\t<table cellspacing=\"2\" cellpadding=\"4\" rules=\"all\" bordercolor=\"#999999\" id=\"GridViewASIA\" bgcolor=\"#CCCCCC\">\\r\\n\\t\\t<tr bgcolor=\"Black\">\\r\\n\\t\\t\\t<th scope=\"col\" bgcolor=\"#BFBFBF\"><font color=\"Black\"><b>TABLE_NAME</b></font></th><th scope=\"col\" bgcolor=\"#BFBFBF\"><font color=\"Black\"><b>SERVER</b></font></th><th scope=\"col\" bgcolor=\"#BFBFBF\"><font color=\"Black\"><b>TABLE_DATE</b></font></th><th scope=\"col\" bgcolor=\"#F4B084\"><font color=\"Black\"><b>FAILED</b></font></th><th scope=\"col\" bgcolor=\"#F4B084\"><font color=\"Black\"><b>LONG_RUN</b></font></th><th scope=\"col\" bgcolor=\"#F4B084\"><font color=\"Black\"><b>NOT_STRTD</b></font></th><th scope=\"col\" bgcolor=\"#C6E0B4\"><font color=\"Black\"><b>LATE_STRTD</b></font></th><th scope=\"col\" bgcolor=\"#C6E0B4\"><font color=\"Black\"><b>HELD</b></font></th><th scope=\"col\" bgcolor=\"#FFE699\"><font color=\"Black\"><b>COMPLTD</b></font></th><th scope=\"col\" bgcolor=\"#FFE699\"><font color=\"Black\"><b>RUNNING</b></font></th><th scope=\"col\" bgcolor=\"#FFE699\"><font color=\"Black\"><b>SCHEDULED</b></font></th><th scope=\"col\" bgcolor=\"#FFE699\"><font color=\"Black\"><b>TOTAL</b></font></th>\\r\\n\\t\\t</tr><tr bgcolor=\"White\">\\r\\n\\t\\t\\t<td><font color=\"Black\">SEBLG407@ADLN5755</font></td><td><font color=\"Black\">LINUX</font></td><td><font color=\"Black\">9/16/2019</font></td><td><font color=\"Black\">0</font></td><td><font color=\"Black\">0</font></td><td><font color=\"Black\">0</font></td><td><font color=\"Black\">0</font></td><td><font color=\"Black\">0</font></td><td><font color=\"Black\"><a href=\"Failed.aspx?servername=_ASIA_LINUX&amp;detailType=COMPLETED\" target=\"_blank\">2</a></font></td><td><font color=\"Black\"><a href=\"Failed.aspx?servername=_ASIA_LINUX&amp;detailType=IN_PROGRESS\" target=\"_blank\">4</a></font></td><td><font color=\"Black\"><a href=\"Failed.aspx?servername=_ASIA_LINUX&amp;detailType=SCHEDULED\" target=\"_blank\">114</a></font></td><td><font color=\"Black\"><a href=\"Failed.aspx?servername=_ASIA_LINUX&amp;detailType=TOTALJOBS\" target=\"_blank\">120</a></font></td>\\r\\n\\t\\t</tr><tr bgcolor=\"White\">\\r\\n\\t\\t\\t<td><font color=\"Black\">SEBLG407@SIEBEL116</font></td><td><font color=\"Black\">NT</font></td><td><font color=\"Black\">9/16/2019</font></td><td><font color=\"Black\">0</font></td><td><font color=\"Black\">0</font></td><td><font color=\"Black\">0</font></td><td><font color=\"Black\">0</font></td><td><font color=\"Black\">0</font></td><td><font color=\"Black\">0</font></td><td><font color=\"Black\">0</font></td><td><font color=\"Black\"><a href=\"Failed.aspx?servername=_ASIA_NT&amp;detailType=SCHEDULED\" target=\"_blank\">68</a></font></td><td><font color=\"Black\"><a href=\"Failed.aspx?servername=_ASIA_NT&amp;detailType=TOTALJOBS\" target=\"_blank\">68</a></font></td>\\r\\n\\t\\t</tr>\\r\\n\\t</table>\\r\\n</div>\\r\\n                    </td>\\r\\n                    <td valign=\"top\">                      \\r\\n                        <div>\\r\\n\\t<table cellspacing=\"2\" cellpadding=\"4\" rules=\"all\" bordercolor=\"#999999\" id=\"GridViewASIA_AX\" bgcolor=\"#CCCCCC\">\\r\\n\\t\\t<tr bgcolor=\"Black\">\\r\\n\\t\\t\\t<th scope=\"col\" bgcolor=\"#BFBFBF\"><font color=\"Black\"><b>TABLE_DATE</b></font></th><th scope=\"col\" bgcolor=\"#F4B084\"><font color=\"Black\"><b>FAILED</b></font></th><th scope=\"col\" bgcolor=\"#F4B084\"><font color=\"Black\"><b>LONG_RUN</b></font></th><th scope=\"col\" bgcolor=\"#F4B084\"><font color=\"Black\"><b>NOT_STRTD</b></font></th><th scope=\"col\" bgcolor=\"#C6E0B4\"><font color=\"Black\"><b>LATE_STRTD</b></font></th><th scope=\"col\" bgcolor=\"#C6E0B4\"><font color=\"Black\"><b>HELD</b></font></th><th scope=\"col\" bgcolor=\"#FFE699\"><font color=\"Black\"><b>COMPLTD</b></font></th><th scope=\"col\" bgcolor=\"#FFE699\"><font color=\"Black\"><b>RUNNING</b></font></th><th scope=\"col\" bgcolor=\"#FFE699\"><font color=\"Black\"><b>SCHEDULED</b></font></th><th scope=\"col\" bgcolor=\"#FFE699\"><font color=\"Black\"><b>TOTAL</b></font></th>\\r\\n\\t\\t</tr><tr bgcolor=\"White\">\\r\\n\\t\\t\\t<td><font color=\"Black\">9/16/2019 12:00:00 AM</font></td><td><font color=\"Black\">0</font></td><td><font color=\"Black\">0</font></td><td><font color=\"Black\">0</font></td><td><font color=\"Black\">0</font></td><td><font color=\"Black\">0</font></td><td><font color=\"Black\">0</font></td><td><font color=\"Black\">0</font></td><td><font color=\"Black\"><a href=\"Failed.aspx?servername=_ASIA_AX&amp;detailType=SCHEDULED\" target=\"_blank\">801</a></font></td><td><font color=\"Black\"><a href=\"Failed.aspx?servername=_ASIA_AX&amp;detailType=TOTALJOBS\" target=\"_blank\">801</a></font></td>\\r\\n\\t\\t</tr>\\r\\n\\t</table>\\r\\n</div>\\r\\n                    </td>\\r\\n                </tr>\\r\\n                <tr>\\r\\n                    <td align=\"center\">\\r\\n                        <span class=\"auto-style1\"><strong>CEEMEA TX</strong></span>\\r\\n                    </td>\\r\\n                    <td align=\"center\">\\r\\n                        <span class=\"auto-style1\"><strong>CEEMEA AX</strong></span>\\r\\n                    </td>\\r\\n                </tr>\\r\\n                <tr>\\r\\n                    <td>\\r\\n                        <div>\\r\\n\\t<table cellspacing=\"2\" cellpadding=\"4\" rules=\"all\" bordercolor=\"#999999\" id=\"GridViewCE_TX\" bgcolor=\"#CCCCCC\">\\r\\n\\t\\t<tr bgcolor=\"Black\">\\r\\n\\t\\t\\t<th scope=\"col\" bgcolor=\"#BFBFBF\"><font color=\"Black\"><b>TABLE_NAME</b></font></th><th scope=\"col\" bgcolor=\"#BFBFBF\"><font color=\"Black\"><b>SERVER</b></font></th><th scope=\"col\" bgcolor=\"#BFBFBF\"><font color=\"Black\"><b>TABLE_DATE</b></font></th><th scope=\"col\" bgcolor=\"#F4B084\"><font color=\"Black\"><b>FAILED</b></font></th><th scope=\"col\" bgcolor=\"#F4B084\"><font color=\"Black\"><b>LONG_RUN</b></font></th><th scope=\"col\" bgcolor=\"#F4B084\"><font color=\"Black\"><b>NOT_STRTD</b></font></th><th scope=\"col\" bgcolor=\"#C6E0B4\"><font color=\"Black\"><b>LATE_STRTD</b></font></th><th scope=\"col\" bgcolor=\"#C6E0B4\"><font color=\"Black\"><b>HELD</b></font></th><th scope=\"col\" bgcolor=\"#FFE699\"><font color=\"Black\"><b>COMPLTD</b></font></th><th scope=\"col\" bgcolor=\"#FFE699\"><font color=\"Black\"><b>RUNNING</b></font></th><th scope=\"col\" bgcolor=\"#FFE699\"><font color=\"Black\"><b>SCHEDULED</b></font></th><th scope=\"col\" bgcolor=\"#FFE699\"><font color=\"Black\"><b>TOTAL</b></font></th>\\r\\n\\t\\t</tr><tr bgcolor=\"White\">\\r\\n\\t\\t\\t<td><font color=\"Black\">SEBLG408@-SIEBEL114</font></td><td><font color=\"Black\">NT</font></td><td><font color=\"Black\">9/16/2019</font></td><td><font color=\"Black\">0</font></td><td><font color=\"Black\">0</font></td><td><font color=\"Black\">0</font></td><td><font color=\"Black\">0</font></td><td><font color=\"Black\">0</font></td><td><font color=\"Black\">0</font></td><td><font color=\"Black\">0</font></td><td><font color=\"Black\"><a href=\"Failed.aspx?servername=_CE_TX_NT&amp;detailType=SCHEDULED\" target=\"_blank\">57</a></font></td><td><font color=\"Black\"><a href=\"Failed.aspx?servername=_CE_TX_NT&amp;detailType=TOTALJOBS\" target=\"_blank\">57</a></font></td>\\r\\n\\t\\t</tr><tr bgcolor=\"White\">\\r\\n\\t\\t\\t<td><font color=\"Black\">SEBLG408@ADLN5755</font></td><td><font color=\"Black\">LINUX</font></td><td><font color=\"Black\">9/16/2019</font></td><td><font color=\"Black\">0</font></td><td><font color=\"Black\">0</font></td><td><font color=\"Black\">0</font></td><td><font color=\"Black\">0</font></td><td><font color=\"Black\">0</font></td><td><font color=\"Black\">0</font></td><td><font color=\"Black\"><a href=\"Failed.aspx?servername=_CE_TX_LINUX&amp;detailType=IN_PROGRESS\" target=\"_blank\">1</a></font></td><td><font color=\"Black\"><a href=\"Failed.aspx?servername=_CE_TX_LINUX&amp;detailType=SCHEDULED\" target=\"_blank\">90</a></font></td><td><font color=\"Black\"><a href=\"Failed.aspx?servername=_CE_TX_LINUX&amp;detailType=TOTALJOBS\" target=\"_blank\">91</a></font></td>\\r\\n\\t\\t</tr>\\r\\n\\t</table>\\r\\n</div>\\r\\n                    </td>\\r\\n                    <td valign=\"top\">\\r\\n                        <div>\\r\\n\\t<table cellspacing=\"2\" cellpadding=\"4\" rules=\"all\" bordercolor=\"#999999\" id=\"GridViewCE_AX\" bgcolor=\"#CCCCCC\">\\r\\n\\t\\t<tr bgcolor=\"Black\">\\r\\n\\t\\t\\t<th scope=\"col\" bgcolor=\"#BFBFBF\"><font color=\"Black\"><b>TABLE_DATE</b></font></th><th scope=\"col\" bgcolor=\"#F4B084\"><font color=\"Black\"><b>FAILED</b></font></th><th scope=\"col\" bgcolor=\"#F4B084\"><font color=\"Black\"><b>LONG_RUN</b></font></th><th scope=\"col\" bgcolor=\"#F4B084\"><font color=\"Black\"><b>NOT_STRTD</b></font></th><th scope=\"col\" bgcolor=\"#C6E0B4\"><font color=\"Black\"><b>LATE_STRTD</b></font></th><th scope=\"col\" bgcolor=\"#C6E0B4\"><font color=\"Black\"><b>HELD</b></font></th><th scope=\"col\" bgcolor=\"#FFE699\"><font color=\"Black\"><b>COMPLTD</b></font></th><th scope=\"col\" bgcolor=\"#FFE699\"><font color=\"Black\"><b>RUNNING</b></font></th><th scope=\"col\" bgcolor=\"#FFE699\"><font color=\"Black\"><b>SCHEDULED</b></font></th><th scope=\"col\" bgcolor=\"#FFE699\"><font color=\"Black\"><b>TOTAL</b></font></th>\\r\\n\\t\\t</tr><tr bgcolor=\"White\">\\r\\n\\t\\t\\t<td><font color=\"Black\">9/16/2019 12:00:00 AM</font></td><td><font color=\"Black\">0</font></td><td><font color=\"Black\">0</font></td><td><font color=\"Black\">0</font></td><td><font color=\"Black\">0</font></td><td><font color=\"Black\">0</font></td><td><font color=\"Black\">0</font></td><td><font color=\"Black\">0</font></td><td><font color=\"Black\"><a href=\"Failed.aspx?servername=_CE_AX&amp;detailType=SCHEDULED\" target=\"_blank\">803</a></font></td><td><font color=\"Black\"><a href=\"Failed.aspx?servername=_CE_AX&amp;detailType=TOTALJOBS\" target=\"_blank\">803</a></font></td>\\r\\n\\t\\t</tr>\\r\\n\\t</table>\\r\\n</div>\\r\\n                    </td>\\r\\n                </tr>\\r\\n                <tr>\\r\\n                    <td align=\"center\">\\r\\n                        <span class=\"auto-style1\"><strong>WE TX</strong></span>\\r\\n                    </td>\\r\\n                    <td align=\"center\">\\r\\n                        <span class=\"auto-style1\"><strong>WE AX</strong></span>\\r\\n                    </td>\\r\\n                </tr>\\r\\n                <tr>\\r\\n                    <td>\\r\\n                        <div>\\r\\n\\t<table cellspacing=\"2\" cellpadding=\"4\" rules=\"all\" bordercolor=\"#999999\" id=\"GridViewWE_TX\" bgcolor=\"#CCCCCC\">\\r\\n\\t\\t<tr bgcolor=\"Black\">\\r\\n\\t\\t\\t<th scope=\"col\" bgcolor=\"#BFBFBF\"><font color=\"Black\"><b>TABLE_NAME</b></font></th><th scope=\"col\" bgcolor=\"#BFBFBF\"><font color=\"Black\"><b>SERVER</b></font></th><th scope=\"col\" bgcolor=\"#BFBFBF\"><font color=\"Black\"><b>TABLE_DATE</b></font></th><th scope=\"col\" bgcolor=\"#F4B084\"><font color=\"Black\"><b>FAILED</b></font></th><th scope=\"col\" bgcolor=\"#F4B084\"><font color=\"Black\"><b>LONG_RUN</b></font></th><th scope=\"col\" bgcolor=\"#F4B084\"><font color=\"Black\"><b>NOT_STRTD</b></font></th><th scope=\"col\" bgcolor=\"#C6E0B4\"><font color=\"Black\"><b>LATE_STRTD</b></font></th><th scope=\"col\" bgcolor=\"#C6E0B4\"><font color=\"Black\"><b>HELD</b></font></th><th scope=\"col\" bgcolor=\"#FFE699\"><font color=\"Black\"><b>COMPLTD</b></font></th><th scope=\"col\" bgcolor=\"#FFE699\"><font color=\"Black\"><b>RUNNING</b></font></th><th scope=\"col\" bgcolor=\"#FFE699\"><font color=\"Black\"><b>SCHEDULED</b></font></th><th scope=\"col\" bgcolor=\"#FFE699\"><font color=\"Black\"><b>TOTAL</b></font></th>\\r\\n\\t\\t</tr><tr bgcolor=\"White\">\\r\\n\\t\\t\\t<td><font color=\"Black\">SEBLG409@ADLN5755</font></td><td><font color=\"Black\">LINUX</font></td><td><font color=\"Black\">9/16/2019</font></td><td><font color=\"Black\">0</font></td><td><font color=\"Black\">0</font></td><td><font color=\"Black\">0</font></td><td><font color=\"Black\">0</font></td><td><font color=\"Black\">0</font></td><td><font color=\"Black\">0</font></td><td><font color=\"Black\"><a href=\"Failed.aspx?servername=_WE_TX_LINUX&amp;detailType=IN_PROGRESS\" target=\"_blank\">1</a></font></td><td><font color=\"Black\"><a href=\"Failed.aspx?servername=_WE_TX_LINUX&amp;detailType=SCHEDULED\" target=\"_blank\">89</a></font></td><td><font color=\"Black\"><a href=\"Failed.aspx?servername=_WE_TX_LINUX&amp;detailType=TOTALJOBS\" target=\"_blank\">90</a></font></td>\\r\\n\\t\\t</tr><tr bgcolor=\"White\">\\r\\n\\t\\t\\t<td><font color=\"Black\">SEBLG409@SIEBEL118</font></td><td><font color=\"Black\">NT</font></td><td><font color=\"Black\">9/16/2019</font></td><td><font color=\"Black\">0</font></td><td><font color=\"Black\">0</font></td><td><font color=\"Black\">0</font></td><td><font color=\"Black\">0</font></td><td><font color=\"Black\">0</font></td><td><font color=\"Black\">0</font></td><td><font color=\"Black\">0</font></td><td><font color=\"Black\"><a href=\"Failed.aspx?servername=_WE_TX_NT&amp;detailType=SCHEDULED\" target=\"_blank\">59</a></font></td><td><font color=\"Black\"><a href=\"Failed.aspx?servername=_WE_TX_NT&amp;detailType=TOTALJOBS\" target=\"_blank\">59</a></font></td>\\r\\n\\t\\t</tr>\\r\\n\\t</table>\\r\\n</div>\\r\\n                    </td>\\r\\n                    <td valign=\"top\">\\r\\n                        <div>\\r\\n\\t<table cellspacing=\"2\" cellpadding=\"4\" rules=\"all\" bordercolor=\"#999999\" id=\"GridViewWE_AX\" bgcolor=\"#CCCCCC\">\\r\\n\\t\\t<tr bgcolor=\"Black\">\\r\\n\\t\\t\\t<th scope=\"col\" bgcolor=\"#BFBFBF\"><font color=\"Black\"><b>TABLE_DATE</b></font></th><th scope=\"col\" bgcolor=\"#F4B084\"><font color=\"Black\"><b>FAILED</b></font></th><th scope=\"col\" bgcolor=\"#F4B084\"><font color=\"Black\"><b>LONG_RUN</b></font></th><th scope=\"col\" bgcolor=\"#F4B084\"><font color=\"Black\"><b>NOT_STRTD</b></font></th><th scope=\"col\" bgcolor=\"#C6E0B4\"><font color=\"Black\"><b>LATE_STRTD</b></font></th><th scope=\"col\" bgcolor=\"#C6E0B4\"><font color=\"Black\"><b>HELD</b></font></th><th scope=\"col\" bgcolor=\"#FFE699\"><font color=\"Black\"><b>COMPLTD</b></font></th><th scope=\"col\" bgcolor=\"#FFE699\"><font color=\"Black\"><b>RUNNING</b></font></th><th scope=\"col\" bgcolor=\"#FFE699\"><font color=\"Black\"><b>SCHEDULED</b></font></th><th scope=\"col\" bgcolor=\"#FFE699\"><font color=\"Black\"><b>TOTAL</b></font></th>\\r\\n\\t\\t</tr><tr bgcolor=\"White\">\\r\\n\\t\\t\\t<td><font color=\"Black\">9/16/2019 12:00:00 AM</font></td><td><font color=\"Black\">0</font></td><td><font color=\"Black\">0</font></td><td><font color=\"Black\">0</font></td><td><font color=\"Black\">0</font></td><td><font color=\"Black\">0</font></td><td><font color=\"Black\">0</font></td><td><font color=\"Black\">0</font></td><td><font color=\"Black\"><a href=\"Failed.aspx?servername=_WE_AX&amp;detailType=SCHEDULED\" target=\"_blank\">801</a></font></td><td><font color=\"Black\"><a href=\"Failed.aspx?servername=_WE_AX&amp;detailType=TOTALJOBS\" target=\"_blank\">801</a></font></td>\\r\\n\\t\\t</tr>\\r\\n\\t</table>\\r\\n</div>\\r\\n                    </td>\\r\\n                </tr>\\r\\n                <tr>\\r\\n                    <td align=\"center\" class=\"auto-style1\">\\r\\n                        <strong>LA TX\\r\\n                    </strong>\\r\\n                    </td>\\r\\n                    <td align=\"center\" class=\"auto-style1\">\\r\\n                        <strong>LA AX\\r\\n                    </strong>\\r\\n                    </td>\\r\\n                </tr>\\r\\n                <tr>\\r\\n                    <td>\\r\\n                        <div>\\r\\n\\t<table cellspacing=\"2\" cellpadding=\"4\" rules=\"all\" bordercolor=\"#999999\" id=\"GridViewLA_TX\" bgcolor=\"#CCCCCC\">\\r\\n\\t\\t<tr bgcolor=\"Black\">\\r\\n\\t\\t\\t<th scope=\"col\" bgcolor=\"#BFBFBF\"><font color=\"Black\"><b>TABLE_NAME</b></font></th><th scope=\"col\" bgcolor=\"#BFBFBF\"><font color=\"Black\"><b>SERVER</b></font></th><th scope=\"col\" bgcolor=\"#BFBFBF\"><font color=\"Black\"><b>TABLE_DATE</b></font></th><th scope=\"col\" bgcolor=\"#F4B084\"><font color=\"Black\"><b>FAILED</b></font></th><th scope=\"col\" bgcolor=\"#F4B084\"><font color=\"Black\"><b>LONG_RUN</b></font></th><th scope=\"col\" bgcolor=\"#F4B084\"><font color=\"Black\"><b>NOT_STRTD</b></font></th><th scope=\"col\" bgcolor=\"#C6E0B4\"><font color=\"Black\"><b>LATE_STRTD</b></font></th><th scope=\"col\" bgcolor=\"#C6E0B4\"><font color=\"Black\"><b>HELD</b></font></th><th scope=\"col\" bgcolor=\"#FFE699\"><font color=\"Black\"><b>COMPLTD</b></font></th><th scope=\"col\" bgcolor=\"#FFE699\"><font color=\"Black\"><b>RUNNING</b></font></th><th scope=\"col\" bgcolor=\"#FFE699\"><font color=\"Black\"><b>SCHEDULED</b></font></th><th scope=\"col\" bgcolor=\"#FFE699\"><font color=\"Black\"><b>TOTAL</b></font></th>\\r\\n\\t\\t</tr><tr bgcolor=\"White\">\\r\\n\\t\\t\\t<td><font color=\"Black\">SEBLG410@-SIEBEL112</font></td><td><font color=\"Black\">NT</font></td><td><font color=\"Black\">9/16/2019</font></td><td><font color=\"Black\">0</font></td><td><font color=\"Black\">0</font></td><td><font color=\"Black\">0</font></td><td><font color=\"Black\">0</font></td><td><font color=\"Black\">0</font></td><td><font color=\"Black\"><a href=\"Failed.aspx?servername=_LA_TX_NT&amp;detailType=COMPLETED\" target=\"_blank\">2</a></font></td><td><font color=\"Black\">0</font></td><td><font color=\"Black\"><a href=\"Failed.aspx?servername=_LA_TX_NT&amp;detailType=SCHEDULED\" target=\"_blank\">56</a></font></td><td><font color=\"Black\"><a href=\"Failed.aspx?servername=_LA_TX_NT&amp;detailType=TOTALJOBS\" target=\"_blank\">58</a></font></td>\\r\\n\\t\\t</tr><tr bgcolor=\"White\">\\r\\n\\t\\t\\t<td><font color=\"Black\">SEBLG410@ADLN5755</font></td><td><font color=\"Black\">LINUX</font></td><td><font color=\"Black\">9/16/2019</font></td><td><font color=\"Black\">0</font></td><td><font color=\"Black\">0</font></td><td><font color=\"Black\">0</font></td><td><font color=\"Black\">0</font></td><td><font color=\"Black\">0</font></td><td><font color=\"Black\"><a href=\"Failed.aspx?servername=_LA_TX_LINUX&amp;detailType=COMPLETED\" target=\"_blank\">6</a></font></td><td><font color=\"Black\"><a href=\"Failed.aspx?servername=_LA_TX_LINUX&amp;detailType=IN_PROGRESS\" target=\"_blank\">2</a></font></td><td><font color=\"Black\"><a href=\"Failed.aspx?servername=_LA_TX_LINUX&amp;detailType=SCHEDULED\" target=\"_blank\">87</a></font></td><td><font color=\"Black\"><a href=\"Failed.aspx?servername=_LA_TX_LINUX&amp;detailType=TOTALJOBS\" target=\"_blank\">95</a></font></td>\\r\\n\\t\\t</tr>\\r\\n\\t</table>\\r\\n</div>\\r\\n                    </td>\\r\\n                    <td valign=\"top\">\\r\\n                        <div>\\r\\n\\t<table cellspacing=\"2\" cellpadding=\"4\" rules=\"all\" bordercolor=\"#999999\" id=\"GridViewLA_AX\" bgcolor=\"#CCCCCC\">\\r\\n\\t\\t<tr bgcolor=\"Black\">\\r\\n\\t\\t\\t<th scope=\"col\" bgcolor=\"#BFBFBF\"><font color=\"Black\"><b>TABLE_DATE</b></font></th><th scope=\"col\" bgcolor=\"#F4B084\"><font color=\"Black\"><b>FAILED</b></font></th><th scope=\"col\" bgcolor=\"#F4B084\"><font color=\"Black\"><b>LONG_RUN</b></font></th><th scope=\"col\" bgcolor=\"#F4B084\"><font color=\"Black\"><b>NOT_STRTD</b></font></th><th scope=\"col\" bgcolor=\"#C6E0B4\"><font color=\"Black\"><b>LATE_STRTD</b></font></th><th scope=\"col\" bgcolor=\"#C6E0B4\"><font color=\"Black\"><b>HELD</b></font></th><th scope=\"col\" bgcolor=\"#FFE699\"><font color=\"Black\"><b>COMPLTD</b></font></th><th scope=\"col\" bgcolor=\"#FFE699\"><font color=\"Black\"><b>RUNNING</b></font></th><th scope=\"col\" bgcolor=\"#FFE699\"><font color=\"Black\"><b>SCHEDULED</b></font></th><th scope=\"col\" bgcolor=\"#FFE699\"><font color=\"Black\"><b>TOTAL</b></font></th>\\r\\n\\t\\t</tr><tr bgcolor=\"White\">\\r\\n\\t\\t\\t<td><font color=\"Black\">9/16/2019 12:00:00 AM</font></td><td><font color=\"Black\">0</font></td><td><font color=\"Black\">0</font></td><td><font color=\"Black\">0</font></td><td><font color=\"Black\">0</font></td><td><font color=\"Black\">0</font></td><td><font color=\"Black\">0</font></td><td><font color=\"Black\">0</font></td><td><font color=\"Black\"><a href=\"Failed.aspx?servername=_LA_AX&amp;detailType=SCHEDULED\" target=\"_blank\">799</a></font></td><td><font color=\"Black\"><a href=\"Failed.aspx?servername=_LA_AX&amp;detailType=TOTALJOBS\" target=\"_blank\">799</a></font></td>\\r\\n\\t\\t</tr>\\r\\n\\t</table>\\r\\n</div>\\r\\n                    </td>\\r\\n                </tr>    \\r\\n               \\r\\n                \\r\\n                  \\r\\n                <tr>\\r\\n                    <td align=\"center\"  colspan=\"2\"  ><br />\\r\\n                       <strong >Anaplan</strong> </td>\\r\\n                </tr>    \\r\\n               \\r\\n                \\r\\n                  \\r\\n                <tr>\\r\\n                   \\r\\n                    <td align=\"center\" valign=\"top\" colspan=\"2\">\\r\\n                        <div>\\r\\n\\t<table cellspacing=\"2\" cellpadding=\"4\" rules=\"all\" GridView_ANP_RowDataBound=\"GridView_ANP_SelectedIndexChanged\" bordercolor=\"#999999\" id=\"GridView_ANP\" bgcolor=\"#CCCCCC\">\\r\\n\\t\\t<tr bgcolor=\"Black\">\\r\\n\\t\\t\\t<th scope=\"col\" bgcolor=\"#BFBFBF\"><font color=\"Black\"><b>TABLE_NAME</b></font></th><th scope=\"col\" bgcolor=\"#BFBFBF\"><font color=\"Black\"><b>SERVER</b></font></th><th scope=\"col\" bgcolor=\"#BFBFBF\"><font color=\"Black\"><b>TABLE_DATE</b></font></th><th scope=\"col\" bgcolor=\"#F4B084\"><font color=\"Black\"><b>FAILED</b></font></th><th scope=\"col\" bgcolor=\"#F4B084\"><font color=\"Black\"><b>LONG_RUN</b></font></th><th scope=\"col\" bgcolor=\"#F4B084\"><font color=\"Black\"><b>NOT_STRTD</b></font></th><th scope=\"col\" bgcolor=\"#C6E0B4\"><font color=\"Black\"><b>LATE_STRTD</b></font></th><th scope=\"col\" bgcolor=\"#C6E0B4\"><font color=\"Black\"><b>HELD</b></font></th><th scope=\"col\" bgcolor=\"#FFE699\"><font color=\"Black\"><b>COMPLTD</b></font></th><th scope=\"col\" bgcolor=\"#FFE699\"><font color=\"Black\"><b>RUNNING</b></font></th><th scope=\"col\" bgcolor=\"#FFE699\"><font color=\"Black\"><b>SCHEDULED</b></font></th><th scope=\"col\" bgcolor=\"#FFE699\"><font color=\"Black\"><b>TOTAL</b></font></th>\\r\\n\\t\\t</tr><tr bgcolor=\"White\">\\r\\n\\t\\t\\t<td><font color=\"Black\">SEBLG411@SIEBEL119</font></td><td><font color=\"Black\">NT</font></td><td><font color=\"Black\">9/16/2019</font></td><td><font color=\"Black\">0</font></td><td><font color=\"Black\">0</font></td><td><font color=\"Black\">0</font></td><td><font color=\"Black\">0</font></td><td><font color=\"Black\">0</font></td><td><font color=\"Black\">0</font></td><td><font color=\"Black\">0</font></td><td><font color=\"Black\"><a href=\"Failed.aspx?servername=_ANP_NT&amp;detailType=SCHEDULED\" target=\"_blank\">97</a></font></td><td><font color=\"Black\"><a href=\"Failed.aspx?servername=_ANP_NT&amp;detailType=TOTALJOBS\" target=\"_blank\">97</a></font></td>\\r\\n\\t\\t</tr>\\r\\n\\t</table>\\r\\n</div>\\r\\n                    </td>\\r\\n                </tr>    \\r\\n               \\r\\n                \\r\\n                  \\r\\n            </table>        \\r\\n     \\r\\n\\r\\n    </form>\\r\\n</body>\\r\\n</html>\\r\\n'"
      ]
     },
     "execution_count": 26,
     "metadata": {},
     "output_type": "execute_result"
    }
   ],
   "source": [
    "response.text"
   ]
  },
  {
   "cell_type": "code",
   "execution_count": null,
   "metadata": {},
   "outputs": [],
   "source": [
    "# Note: Lets try web scraping/crawling, grabbing data from other API's etc\n",
    "\n",
    "# General from of requests\n",
    "\n",
    "import requests\n",
    "\n",
    "response = requests.get{\n",
    "    'http://www.google.com',\n",
    "    headers = {\n",
    "        'header1' = 'value1',\n",
    "        'header2' = 'value2'\n",
    "    }\n",
    "}\n",
    "\n",
    "# We will just specify what header we need the value from, in the form of dict"
   ]
  },
  {
   "cell_type": "code",
   "execution_count": 28,
   "metadata": {},
   "outputs": [
    {
     "name": "stdout",
     "output_type": "stream",
     "text": [
      "<!DOCTYPE html>\n",
      "<html lang=\"en\">\n",
      "<head>\n",
      "<meta charset=\"utf-8\">\n",
      "<meta http-equiv=\"X-UA-Compatible\" content=\"IE=edge\">\n",
      "<meta name=\"viewport\" content=\"width=device-width, initial-scale=1, minimum-scale=1\">\n",
      "<meta name=\"description\" content=\"The largest collection of dad jokes on the internet\" />\n",
      "<meta name=\"author\" content=\"C653 Labs\" />\n",
      "<meta name=\"keywords\" content=\"dad,joke,funny,slack,alexa\" />\n",
      "<meta property=\"og:site_name\" content=\"icanhazdadjoke\" />\n",
      "<meta property=\"og:title\" content=\"icanhazdadjoke\" />\n",
      "<meta property=\"og:type\" content=\"website\" />\n",
      "<meta property=\"og:url\" content=\"https://icanhazdadjoke.com/j/pWn31TCQ7pb\" />\n",
      "<meta property=\"og:description\" content=\"What do you call a duck that gets all A's? A wise quacker.\" />\n",
      "<meta property=\"og:image:url\" content=\"https://icanhazdadjoke.com/j/pWn31TCQ7pb.png\" />\n",
      "<meta property=\"og:image:secure_url\" content=\"https://icanhazdadjoke.com/j/pWn31TCQ7pb.png\" />\n",
      "<meta property=\"og:image:secure_url\" content=\"https://icanhazdadjoke.com/static/smile.png\" />\n",
      "<meta property=\"og:image:type\" content=\"image/png\" />\n",
      "<meta name=\"twitter:card\" content=\"summary\">\n",
      "<meta name=\"twitter:site\" content=\"@icanhazdadjoke\">\n",
      "<meta name=\"twitter:title\" content=\"icanhzdadjoke\">\n",
      "<meta name=\"twitter:description\" content=\"What do you call a duck that gets all A's? A wise quacker.\">\n",
      "<meta name=\"twitter:image\" content=\"https://icanhazdadjoke.com/static/smile.png\">\n",
      "<meta name=\"twitter:url\" content=\"https://icanhazdadjoke.com/j/pWn31TCQ7pb\" />\n",
      "<link rel=\"canonical\" href=\"https://icanhazdadjoke.com/j/pWn31TCQ7pb\">\n",
      "<link rel=\"amphtml\" href=\"https://icanhazdadjoke.com/j/pWn31TCQ7pb/amp\">\n",
      "<title>icanhazdadjoke</title>\n",
      "<link rel=\"apple-touch-icon\" sizes=\"180x180\" href=\"/static/apple-touch-icon.png\">\n",
      "<link rel=\"icon\" type=\"image/png\" href=\"/static/favicon-32x32.png\" sizes=\"32x32\">\n",
      "<link rel=\"icon\" type=\"image/png\" href=\"/static/favicon-16x16.png\" sizes=\"16x16\">\n",
      "<link rel=\"manifest\" href=\"/static/manifest.json\">\n",
      "<link rel=\"mask-icon\" href=\"/static/safari-pinned-tab.svg\" color=\"#1fc8db\">\n",
      "<link rel=\"shortcut icon\" href=\"/static/favicon.ico\">\n",
      "<meta name=\"msapplication-config\" content=\"/static/browserconfig.xml\">\n",
      "<meta name=\"theme-color\" content=\"#ffffff\">\n",
      "<link rel=\"stylesheet\" href=\"/static/dist/style.css?55f4ea12\">\n",
      "<script type=\"application/ld+json\">\n",
      "      {\n",
      "        \"@context\": \"http://schema.org\",\n",
      "        \"@type\": \"WebSite\",\n",
      "        \"url\": \"https://icanhazdadjoke.com/\",\n",
      "        \"name\": \"icanhazdadjoke\",\n",
      "        \"description\": \"The largest collection of dad jokes on the internet\",\n",
      "        \"potentialAction\": {\n",
      "          \"@type\": \"SearchAction\",\n",
      "          \"target\": \"https://icanhazdadjoke.com/search?term={search_term_string}\",\n",
      "          \"query-input\": \"required name=search_term_string\"\n",
      "        }\n",
      "      }\n",
      "    </script>\n",
      "<script type=\"application/ld+json\">\n",
      "      {\n",
      "        \"@context\": \"http://schema.org\",\n",
      "        \"@type\": \"Organization\",\n",
      "        \"url\": \"https://icanhazdadjoke.com/\",\n",
      "        \"logo\": \"https://icanhazdadjoke.com/static/smile.png\",\n",
      "        \"name\": \"icanhazdadjoke\",\n",
      "        \"description\": \"The largest collection of dad jokes on the internet\",\n",
      "        \"email\": \"support@icanhazdadjoke.com\"\n",
      "      }\n",
      "    </script>\n",
      "<script async src=\"//pagead2.googlesyndication.com/pagead/js/adsbygoogle.js\"></script>\n",
      "<script>\n",
      "      (adsbygoogle = window.adsbygoogle || []).push({google_ad_client: \"ca-pub-3200991035275362\", enable_page_level_ads: true});\n",
      "    </script>\n",
      "</head>\n",
      "<body>\n",
      "<nav class=\"nav has-shadow\">\n",
      "<div class=\"container\">\n",
      "<div class=\"nav-left\">\n",
      "<a class=\"nav-item is-brand\" href=\"/\">\n",
      "<img src=\"/static/smile.svg\" alt=\"icanhazdadjoke logo\" />\n",
      "<span class=\"subtitle pushhalf--left\">\n",
      "icanhazdadjoke\n",
      "</span>\n",
      "</a>\n",
      "</div>\n",
      "<span id=\"nav-toggle\" class=\"nav-toggle\">\n",
      "<span></span>\n",
      "<span></span>\n",
      "<span></span>\n",
      "</span>\n",
      "<div id=\"nav-menu\" class=\"nav-right nav-menu\">\n",
      "<a class=\"nav-item is-tab\" href=\"/\">\n",
      "<span class=\"icon is-small\">\n",
      "<i class=\"fa fa-random\"></i>\n",
      "</span>\n",
      "<span class=\"pushquarter--left\">\n",
      "Random joke\n",
      "</span>\n",
      "</a>\n",
      "<a class=\"nav-item is-tab\" href=\"/search\">\n",
      "<span class=\"icon is-small\">\n",
      "<i class=\"fa fa-search\"></i>\n",
      "</span>\n",
      "<span class=\"pushquarter--left\">\n",
      "Search jokes\n",
      "</span>\n",
      "</a>\n",
      "<a class=\"nav-item is-tab\" href=\"/submit\">\n",
      "<span class=\"icon is-small\">\n",
      "<i class=\"fa fa-pencil-square-o\"></i>\n",
      "</span>\n",
      "<span class=\"pushquarter--left\">\n",
      "Submit new joke\n",
      "</span>\n",
      "</a>\n",
      "<div class=\"nav-item\">\n",
      "<a href=\"/slack-add\" style=\"height:40px; max-width:139px\">\n",
      "<img alt=\"Add to Slack\" height=\"40\" width=\"139\" src=\"https://platform.slack-edge.com/img/add_to_slack.png\" style=\"width:139px; height:40px; max-height: 40px\" srcset=\"https://platform.slack-edge.com/img/add_to_slack.png 1x, https://platform.slack-edge.com/img/add_to_slack@2x.png 2x\" />\n",
      "</a>\n",
      "</div>\n",
      "<div class=\"nav-item\">\n",
      "<a class=\"button\" target=\"_blank\" href=\"https://www.amazon.com/Brett-Langdon-icanhazdadjoke/dp/B01N6CQ3NZ/\" style=\"background-color: #ffffff; color: #5ebfe4; border-radius: 6px; font-weight: 500; height:40px; width:139px; max-width:139px\">\n",
      "<img src=\"/static/alexa-logo.png\" style=\"margin-left: -0.5em;\">\n",
      "Add to <strong style=\"margin-left: 0.25em\">Alexa</strong>\n",
      "</a>\n",
      "</div>\n",
      "</div>\n",
      "</div>\n",
      "</nav>\n",
      "<section class=\"section\">\n",
      "<div class=\"container\">\n",
      "<div class=\"level\">\n",
      "<div class=\"level-left\">\n",
      "<div class=\"content level-item\">\n",
      "<h1>Random dad joke:</h1>\n",
      "</div>\n",
      "</div>\n",
      "<div class=\"level-right\">\n",
      "<a class=\"button is-primary level-item\" href=\"/\">\n",
      "<span class=\"icon is-small\">\n",
      "<i class=\"fa fa-random\"></i>\n",
      "</span>\n",
      "<span>\n",
      "New joke\n",
      "</span>\n",
      "</a>\n",
      "</div>\n",
      "</div>\n",
      "<div class=\"content\">\n",
      "<div class=\"card\">\n",
      "<div class=\"card-content\">\n",
      "<p class=\"subtitle\">What do you call a duck that gets all A's? A wise quacker.</p>\n",
      "</div>\n",
      "<footer class=\"card-footer\">\n",
      "<a class=\"card-footer-item\" href=\"/j/pWn31TCQ7pb\">\n",
      "<span class=\"icon is-small\">\n",
      "<i class=\"fa fa-chain\"></i>\n",
      "</span>\n",
      "<span class=\"pushquarter--left\">\n",
      "Permalink\n",
      "</span>\n",
      "</a>\n",
      "<a class=\"card-footer-item\" target=\"_blank\" href=\"https://twitter.com/intent/tweet?url=https://icanhazdadjoke.com%2Fj%2FpWn31TCQ7pb%2Famp&text=Check+out+this+%23dadjoke&via=icanhazdadjoke\">\n",
      "<span class=\"icon is-small\">\n",
      "<i class=\"fa fa-twitter\"></i>\n",
      "</span>\n",
      "<span class=\"pushquarter--left\">\n",
      "Share on Twitter\n",
      "</span>\n",
      "</a>\n",
      "</footer>\n",
      "</div>\n",
      "</div>\n",
      "<div class=\"content pushwhole--top\">\n",
      "<ins class=\"adsbygoogle\" style=\"display:block\" data-ad-client=\"ca-pub-3200991035275362\" data-ad-slot=\"5324903139\" data-ad-format=\"auto\"></ins>\n",
      "</div>\n",
      "<script>\n",
      "          (adsbygoogle = window.adsbygoogle || []).push({});\n",
      "        </script>\n",
      "</div>\n",
      "</section>\n",
      "<footer class=\"footer\">\n",
      "<div class=\"container\">\n",
      "<div class=\"columns\">\n",
      "<div class=\"column is-5\">\n",
      "<div class=\"content\">\n",
      "<p>\n",
      "<strong>icanhazdadjoke.com</strong> by <a href=\"https://c653labs.com/\">C653 Labs</a>.\n",
      "</p>\n",
      "<p>\n",
      "<i>icanhazdadjoke.com</i> is the largest selection of dad jokes on the internet.\n",
      "Now supporting many different integrations to ensure you can access the dad jokes that you need wherever you are.\n",
      "</p>\n",
      "</div>\n",
      "</div>\n",
      "<div class=\"column is-3\"></div>\n",
      "<div class=\"column is-2\">\n",
      "<aside class=\"menu\">\n",
      "<ul class=\"menu-list\">\n",
      "<li><a href=\"/cdn-cgi/l/email-protection#2c5f595c5c435e586c454f4d42444d56484d4846434749024f4341\" target=\"_blank\">Contact</a></li>\n",
      "<li><a href=\"https://twitter.com/icanhazdadjoke\" target=\"_blank\">Twitter</a></li>\n",
      "<li><a href=\"https://slack.com/apps/A214NCJF2-icanhazdadjoke\" target=\"_blank\">Slack app</a></li>\n",
      "<li><a href=\"https://www.amazon.com/Brett-Langdon-icanhazdadjoke/dp/B01N6CQ3NZ/\" target=\"_blank\">Alexa skill</a></li>\n",
      "<li><a href=\"https://discordapp.com/api/oauth2/authorize?client_id=467365247921946626&permissions=0&scope=bot\" target=\"_blank\">Discord bot</a></li>\n",
      "<li><a href=\"https://marketplace.atlassian.com/plugins/com.icanhazdadjoke/cloud/overview\" target=\"_blank\">HipChat plugin</a></li>\n",
      "<li><a href=\"https://twistapp.com/integrations/install/20_901fa9d3df5b8784d3ddc56e\" target=\"_blank\">Twist integration</a></li>\n",
      "</ul>\n",
      "</aside>\n",
      "</div>\n",
      "<div class=\"column is-2\">\n",
      "<aside class=\"menu\">\n",
      "<ul class=\"menu-list\">\n",
      "<li><a href=\"/about\">About</a></li>\n",
      "<li><a href=\"/api\">API</a></li>\n",
      "<li><a href=\"/\">Random joke</a></li>\n",
      "<li><a href=\"/search\">Search jokes</a></li>\n",
      "<li><a href=\"/submit\">Submit new joke</a></li>\n",
      "</ul>\n",
      "</aside>\n",
      "</div>\n",
      "</div>\n",
      "</div>\n",
      "</footer>\n",
      "<script data-cfasync=\"false\" src=\"/cdn-cgi/scripts/5c5dd728/cloudflare-static/email-decode.min.js\"></script><script>\n",
      "        (function(i,s,o,g,r,a,m){i['GoogleAnalyticsObject']=r;i[r]=i[r]||function(){\n",
      "        (i[r].q=i[r].q||[]).push(arguments)},i[r].l=1*new Date();a=s.createElement(o),\n",
      "        m=s.getElementsByTagName(o)[0];a.async=1;a.src=g;m.parentNode.insertBefore(a,m)\n",
      "        })(window,document,'script','https://www.google-analytics.com/analytics.js','ga');\n",
      "\n",
      "        ga('create', 'UA-82372853-1', 'auto');\n",
      "        ga('send', 'pageview');\n",
      "        </script>\n",
      "\n",
      "<script>\n",
      "      document.addEventListener('click', function (evt) {\n",
      "        if (evt.target.id === 'nav-toggle' || evt.target.parent.id === 'nav-toggle') {\n",
      "          document.getElementById('nav-menu').classList.toggle('is-active');\n",
      "        }\n",
      "      });\n",
      "    </script>\n",
      "\n",
      "<script type=\"text/javascript\">\n",
      "      /* <![CDATA[ */\n",
      "      var google_conversion_id = 855658655;\n",
      "      var google_conversion_language = \"en\";\n",
      "      var google_conversion_format = \"3\";\n",
      "      var google_conversion_color = \"ffffff\";\n",
      "      var google_conversion_label = \"gdOKCMjzmHAQn6GBmAM\";\n",
      "      var google_remarketing_only = false;\n",
      "      /* ]]> */\n",
      "    </script>\n",
      "<script type=\"text/javascript\" src=\"//www.googleadservices.com/pagead/conversion.js\"></script>\n",
      "<noscript>\n",
      "      <div style=\"display:inline;\">\n",
      "        <img height=\"1\" width=\"1\" style=\"border-style:none;\" alt=\"\" src=\"//www.googleadservices.com/pagead/conversion/855658655/?label=gdOKCMjzmHAQn6GBmAM&amp;guid=ON&amp;script=0\"/>\n",
      "      </div>\n",
      "    </noscript>\n",
      "</body>\n",
      "</html>\n"
     ]
    }
   ],
   "source": [
    "import requests\n",
    "\n",
    "url = 'https://icanhazdadjoke.com/'\n",
    "response = requests.get(url)  # Here are not requesting any headers\n",
    "\n",
    "print(response.text)"
   ]
  },
  {
   "cell_type": "code",
   "execution_count": 29,
   "metadata": {},
   "outputs": [
    {
     "name": "stdout",
     "output_type": "stream",
     "text": [
      "Iâm reading a book on the history of glue â canât put it down.\n"
     ]
    }
   ],
   "source": [
    "# So now buried in this html somewhere we have the actual joke\n",
    "\n",
    "# Note: So lets extract only the json data, now we need to specify header\n",
    "\n",
    "import requests\n",
    "\n",
    "url = 'https://icanhazdadjoke.com/'\n",
    "response = requests.get(url, headers = {'Accept': 'text/plain'})  # Here are specifying headers\n",
    "\n",
    "print(response.text)"
   ]
  },
  {
   "cell_type": "code",
   "execution_count": 30,
   "metadata": {},
   "outputs": [
    {
     "name": "stdout",
     "output_type": "stream",
     "text": [
      "{\"id\":\"9Mus4wkqzd\",\"joke\":\"What do you get if you put a duck in a cement mixer? Quacks in the pavement.\",\"status\":200}\n",
      "\n"
     ]
    }
   ],
   "source": [
    "# Now look at that, we are getting only the joke. \n",
    "# Lets extract in the form of dict so that python can read it easily\n",
    "\n",
    "import requests\n",
    "\n",
    "url = 'https://icanhazdadjoke.com/'\n",
    "response = requests.get(url, headers = {'Accept': 'application/json'})  # json\n",
    "\n",
    "print(response.text)"
   ]
  },
  {
   "cell_type": "code",
   "execution_count": 32,
   "metadata": {},
   "outputs": [
    {
     "name": "stdout",
     "output_type": "stream",
     "text": [
      "{\"id\":\"MZoOCQ7wcpb\",\"joke\":\"What do birds give out on Halloween? Tweets.\",\"status\":200}\n",
      "\n",
      "{'id': 'MZoOCQ7wcpb', 'joke': 'What do birds give out on Halloween? Tweets.', 'status': 200}\n"
     ]
    }
   ],
   "source": [
    "# Now lets print it as json, using json() method\n",
    "\n",
    "import requests\n",
    "\n",
    "url = 'https://icanhazdadjoke.com/'\n",
    "response = requests.get(url, headers = {'Accept': 'application/json'})  # json\n",
    "\n",
    "print(response.text)\n",
    "print(response.json())  # Note: This will take the json and turn it into Python"
   ]
  },
  {
   "cell_type": "code",
   "execution_count": 33,
   "metadata": {},
   "outputs": [
    {
     "name": "stdout",
     "output_type": "stream",
     "text": [
      "<class 'str'>\n",
      "<class 'dict'>\n"
     ]
    }
   ],
   "source": [
    "# To confirm both are different\n",
    "# Lets check their types\n",
    "\n",
    "print(type(response.text))  # This is a single big string containing all data\n",
    "print(type(response.json())) # This is a dict, we can access data using keys\n"
   ]
  },
  {
   "cell_type": "code",
   "execution_count": 35,
   "metadata": {},
   "outputs": [
    {
     "name": "stdout",
     "output_type": "stream",
     "text": [
      "{'id': 'MZoOCQ7wcpb', 'joke': 'What do birds give out on Halloween? Tweets.', 'status': 200}\n",
      "What do birds give out on Halloween? Tweets.\n"
     ]
    }
   ],
   "source": [
    "data = response.json()\n",
    "print(data)\n",
    "print(data['joke'])"
   ]
  },
  {
   "cell_type": "code",
   "execution_count": 36,
   "metadata": {},
   "outputs": [
    {
     "name": "stdout",
     "output_type": "stream",
     "text": [
      "Me: If humans lose the ability to hear high frequency volumes as they get older, can my 4 week old son hear a dog whistle?\r\n",
      "\r\n",
      "Doctor: No, humans can never hear that high of a frequency no matter what age they are.\r\n",
      "\r\n",
      "Me: Trick question... dogs can't whistle.\n"
     ]
    }
   ],
   "source": [
    "import requests\n",
    "\n",
    "url = 'https://icanhazdadjoke.com/'\n",
    "response = requests.get(url, headers = {'Accept': 'application/json'})  # json\n",
    "\n",
    "data = response.json()\n",
    "print(data['joke'])"
   ]
  },
  {
   "cell_type": "code",
   "execution_count": 37,
   "metadata": {},
   "outputs": [
    {
     "name": "stdout",
     "output_type": "stream",
     "text": [
      "So, I heard this pun about cows, but it’s kinda offensive so I won’t say it. I don’t want there to be any beef between us. \n"
     ]
    }
   ],
   "source": [
    "import requests\n",
    "\n",
    "url = 'https://icanhazdadjoke.com/'\n",
    "response = requests.get(url, headers = {'Accept': 'application/json'})  # json\n",
    "\n",
    "data = response.json()\n",
    "print(data['joke'])"
   ]
  },
  {
   "cell_type": "code",
   "execution_count": null,
   "metadata": {},
   "outputs": [],
   "source": [
    "# Each time we get different joke"
   ]
  },
  {
   "cell_type": "code",
   "execution_count": null,
   "metadata": {},
   "outputs": [],
   "source": [
    "# Note: Lets learn how to send requests with parameters\n",
    "# Query Strings\n",
    "\n",
    "# Its a way to send data to the server as part of GET request (Note: not POST request)\n",
    "# eg. http://www.example.com/?key1=value1&key2=value2\n",
    "\n",
    "\n",
    "# In the below url when searched for salmon in google\n",
    "https://www.google.com/search?q=salmon&rlz=1C1GCEU_enIN833IN833&oq=salmon&aqs=chrome.0.69i59l2j0l4.1101j0j7&sourceid=chrome&ie=UTF-8\n",
    "\n",
    "# After the ?, we can seperate the values based on equal statements\n",
    "https://www.google.com/search?\n",
    "    q=salmon\n",
    "    rlz=1C1GCEU_enIN833IN833\n",
    "    oq=salmon\n",
    "    aqs=chrome.0.69i59l2j0l4.1101j0j7\n",
    "    sourceid=chrome\n",
    "    ie=UTF-8\n",
    "\n",
    "# Note:\n",
    "# In he above eg. q stands for query and oq = original query\n",
    "# What we need to understand is that q and oq are additonal statements sent as parameters to server\n",
    "# Therefore query string is used to send additional information\n"
   ]
  },
  {
   "cell_type": "code",
   "execution_count": null,
   "metadata": {},
   "outputs": [],
   "source": [
    "# We can send the requests as Query String\n",
    "\n",
    "# Option 1\n",
    "import requests\n",
    "\n",
    "response = requests.get('http://www.google.com?key1=value1&key2=value2')\n",
    "\n",
    "# Here we are hard coding the values in the url, its not a good practice"
   ]
  },
  {
   "cell_type": "code",
   "execution_count": null,
   "metadata": {},
   "outputs": [],
   "source": [
    "# Option 2\n",
    "import requests\n",
    "\n",
    "response = requests.get('http://www.google.com',\n",
    "                        params = { 'key1': 'value1',\n",
    "                                   'key2': 'value2'\n",
    "                                 }\n",
    "                       )                       \n"
   ]
  },
  {
   "cell_type": "code",
   "execution_count": 42,
   "metadata": {},
   "outputs": [
    {
     "name": "stdout",
     "output_type": "stream",
     "text": [
      "{'current_page': 1, 'limit': 20, 'next_page': 1, 'previous_page': 1, 'results': [{'id': 'iGJeVKmWDlb', 'joke': 'My cat was just sick on the carpet, I don’t think it’s feline well.'}, {'id': '8UnrHe2T0g', 'joke': '‘Put the cat out’ … ‘I didn’t realize it was on fire'}, {'id': 'daaUfibh', 'joke': 'Why was the big cat disqualified from the race? Because it was a cheetah.'}, {'id': 'O7haxA5Tfxc', 'joke': 'Where do cats write notes?\\r\\nScratch Paper!'}, {'id': '1wkqrcNCljb', 'joke': \"Did you know that protons have mass? I didn't even know they were catholic.\"}, {'id': 'AQn3wPKeqrc', 'joke': 'It was raining cats and dogs the other day. I almost stepped in a poodle.'}, {'id': 'BQfaxsHBsrc', 'joke': 'What do you call a pile of cats?  A Meowtain.'}, {'id': 'TS0gFlqr4ob', 'joke': 'What do you call a group of disorganized cats? A cat-tastrophe.'}, {'id': '39Etc2orc', 'joke': 'Why did the man run around his bed? Because he was trying to catch up on his sleep!'}, {'id': '0wcFBQfiGBd', 'joke': 'Did you hear the joke about the wandering nun? She was a roman catholic.'}], 'search_term': 'cat', 'status': 200, 'total_jokes': 10, 'total_pages': 1}\n"
     ]
    }
   ],
   "source": [
    "# eg.\n",
    "\n",
    "import requests\n",
    "\n",
    "url = 'https://icanhazdadjoke.com/search'\n",
    "\n",
    "# To know the key pairs (or query string) in what to request in params field\n",
    "# Refer api document for that website https://icanhazdadjoke.com/api\n",
    "# So 'term' is what is used in this site to search a joke by string\n",
    "\n",
    "# eg. On how to pass parameters\n",
    "# https://icanhazdadjoke.com/search?term=cat\n",
    "# https://icanhazdadjoke.com/search?term=cat&limit=1\n",
    "\n",
    "\n",
    "response = requests.get(url, \n",
    "                        headers={'Accept': 'application/json'},\n",
    "                        params={'term': 'cat' }  # Hard coded cat value\n",
    "                       )\n",
    "\n",
    "data = response.json()\n",
    "\n",
    "print(data)"
   ]
  },
  {
   "cell_type": "code",
   "execution_count": 44,
   "metadata": {},
   "outputs": [
    {
     "name": "stdout",
     "output_type": "stream",
     "text": [
      "[{'id': 'iGJeVKmWDlb', 'joke': 'My cat was just sick on the carpet, I don’t think it’s feline well.'}]\n"
     ]
    }
   ],
   "source": [
    "# By seeing the output we can now select required data\n",
    "# Lets select results\n",
    "\n",
    "import requests\n",
    "\n",
    "url = 'https://icanhazdadjoke.com/search'\n",
    "response = requests.get(url, \n",
    "                        headers={'Accept': 'application/json'},\n",
    "                        params={'term': 'cat',\n",
    "                                'limit': 1}  # Hard coded limit value\n",
    "                       )\n",
    "\n",
    "data = response.json()\n",
    "\n",
    "print(data['results'])  #Seeing values of results"
   ]
  },
  {
   "cell_type": "code",
   "execution_count": 2,
   "metadata": {},
   "outputs": [
    {
     "name": "stdout",
     "output_type": "stream",
     "text": [
      "\u001b[35m ____    _    ____        _  ___  _  _______   _____  ___   ___   ___  \n",
      "|  _ \\  / \\  |  _ \\      | |/ _ \\| |/ / ____| |___ / / _ \\ / _ \\ / _ \\ \n",
      "| | | |/ _ \\ | | | |  _  | | | | | ' /|  _|     |_ \\| | | | | | | | | |\n",
      "| |_| / ___ \\| |_| | | |_| | |_| | . \\| |___   ___) | |_| | |_| | |_| |\n",
      "|____/_/   \\_\\____/   \\___/ \\___/|_|\\_\\_____| |____/ \\___/ \\___/ \\___/ \n",
      "                                                                       \n",
      "\u001b[0m\n",
      "Let me tell you a joke! Give me a topic: wife\n",
      "I've got 9 jokes. Here's one: \n",
      "For Valentine's day, I decided to get my wife some beads for an abacus.  It's the little things that count.\n"
     ]
    }
   ],
   "source": [
    "# Note: Note:\n",
    "# API Project\n",
    "\n",
    "import requests\n",
    "from random import choice\n",
    "import pyfiglet\n",
    "from termcolor import colored\n",
    "\n",
    "\n",
    "header = pyfiglet.figlet_format('DAD JOKE 3000')\n",
    "header = colored(header, color='magenta')\n",
    "print(header)\n",
    "\n",
    "url = 'https://icanhazdadjoke.com/search'\n",
    "\n",
    "user_input = input('Let me tell you a joke! Give me a topic: ')\n",
    "response = requests.get(url,\n",
    "                        headers={'Accept':'application/json'},\n",
    "                        params={'term': user_input}\n",
    "                       )\n",
    "data = response.json()\n",
    "joke = data['results']\n",
    "joke_count = data['total_jokes']\n",
    "                        \n",
    "if joke_count == 1:\n",
    "    print(f\"I've got one joke. Here it is: \")\n",
    "    print(data['results'][0]['joke'])\n",
    "elif joke_count > 1:\n",
    "    print(f\"I've got {joke_count} jokes. Here's one: \")\n",
    "    print(choice(data['results'])['joke'])\n",
    "else:\n",
    "    print(f\"Sorry didnt have any jokes about {user_input}! Please try again\")\n",
    "    \n"
   ]
  }
 ],
 "metadata": {
  "kernelspec": {
   "display_name": "Python 3",
   "language": "python",
   "name": "python3"
  },
  "language_info": {
   "codemirror_mode": {
    "name": "ipython",
    "version": 3
   },
   "file_extension": ".py",
   "mimetype": "text/x-python",
   "name": "python",
   "nbconvert_exporter": "python",
   "pygments_lexer": "ipython3",
   "version": "3.7.3"
  }
 },
 "nbformat": 4,
 "nbformat_minor": 2
}
