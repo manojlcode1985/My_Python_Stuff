{
 "cells": [
  {
   "cell_type": "code",
   "execution_count": null,
   "metadata": {},
   "outputs": [],
   "source": [
    "# Topics\n",
    "# Lambda functions\n",
    "# Built-in functions - any and all\n",
    "# Generator expressions\n",
    "# Sorted, Reversed\n",
    "# Min, Max\n",
    "# Build custom len using oop technique\n",
    "# Abs(), Sum(), Round()\n",
    "# Zip\n",
    "\n",
    "# Note:\n",
    "# DRY - Dont Repeat Yourself\n",
    "# WET - Write Everything Twice\n",
    "# If we overwrite/define a same function twice, the latest one will be considered (similar to variables)"
   ]
  },
  {
   "cell_type": "code",
   "execution_count": null,
   "metadata": {},
   "outputs": [],
   "source": [
    "# This how a normal function is written\n",
    "\n",
    "def square(num):\n",
    "    return num * num\n",
    "\n",
    "# We can write the same in one line too\n",
    "\n",
    "def square(num): return num * num\n",
    "\n",
    "\n",
    "# This one line/one expression functions is similar to lambda\n",
    "\n",
    "lambda num: num * num\n",
    "\n",
    "# Here left of colon represents parameters and right side is the expression using those parameters\n",
    "# We can have no parameters or more than one parameters\n",
    "\n",
    "lambda : num * num\n",
    "lambda num: num * num\n",
    "lambda num1, num2: num1 * num2\n",
    "\n",
    "\n",
    "# Note: The lambda expression automatically returns the value\n",
    "# No need to explicitly write a return statement\n",
    "# So the above statement should be assigned a variable\n",
    "\n",
    "result = lambda : num * num\n",
    "result = lambda num: num * num\n",
    "result = lambda num1, num2: num1 * num2\n",
    "\n",
    "# To call a lamda function, its usually the lambda statement will invoke the function\n",
    "# Note: we can also call by using the variable name thats been assigned\n",
    "\n",
    "result()\n",
    "result(5)\n",
    "result(5,6)\n"
   ]
  },
  {
   "cell_type": "code",
   "execution_count": 1,
   "metadata": {},
   "outputs": [
    {
     "name": "stdout",
     "output_type": "stream",
     "text": [
      "35\n",
      "25\n",
      "30\n"
     ]
    }
   ],
   "source": [
    "# Lets see examples for above cases\n",
    "\n",
    "result1 = lambda : 5 * 7\n",
    "result2 = lambda num: num * num\n",
    "result3 = lambda num1, num2: num1 * num2\n",
    "\n",
    "print(result1())\n",
    "print(result2(5))\n",
    "print(result3(5,6))"
   ]
  },
  {
   "cell_type": "code",
   "execution_count": 3,
   "metadata": {},
   "outputs": [
    {
     "name": "stdout",
     "output_type": "stream",
     "text": [
      "square\n",
      "<lambda>\n",
      "<lambda>\n",
      "<lambda>\n"
     ]
    }
   ],
   "source": [
    "# Note: lambda functions have no names\n",
    "# we can see this by displaying the names of a function using func.__name__\n",
    "\n",
    "def square(num):\n",
    "    return num * num\n",
    "\n",
    "result1 = lambda : 5 * 7\n",
    "result2 = lambda num: num * num\n",
    "result3 = lambda num1, num2: num1 * num2\n",
    "\n",
    "print(square.__name__)\n",
    "print(result1.__name__)\n",
    "print(result2.__name__)\n",
    "print(result3.__name__)\n",
    "\n",
    "# Note: Here even though we can trigger a lambda func by calling result1(7,8)\n",
    "# result1 is not the name of the lambda function."
   ]
  },
  {
   "cell_type": "code",
   "execution_count": null,
   "metadata": {},
   "outputs": [],
   "source": [
    "# Note: The common use-case for lambda\n",
    "# Its to pass a function into another function as a parameter\n",
    "# So that the function will never be used as a function again :)\n"
   ]
  },
  {
   "cell_type": "code",
   "execution_count": 11,
   "metadata": {},
   "outputs": [
    {
     "data": {
      "text/plain": [
       "<map at 0x26c8d62f978>"
      ]
     },
     "execution_count": 11,
     "metadata": {},
     "output_type": "execute_result"
    }
   ],
   "source": [
    "# Passing lambda into another function\n",
    "# Note: map\n",
    "# It accepts 2 parameters - a function and a iterable(list, dict, strings, sets, tuples etc)\n",
    "\n",
    "# How it works\n",
    "# It runs lambda for each iterable \n",
    "# Returns a map object\n",
    "# This map object is later converted to another data structure\n",
    "\n",
    "# eg.\n",
    "\n",
    "nums = [1,2,3,4,5,6,7,8,9]\n",
    "\n",
    "doubles = map(lambda x: x+x, nums)\n",
    "doubles"
   ]
  },
  {
   "cell_type": "code",
   "execution_count": 8,
   "metadata": {},
   "outputs": [
    {
     "name": "stdout",
     "output_type": "stream",
     "text": [
      "[2, 4, 6, 8, 10, 12, 14, 16, 18]\n"
     ]
    }
   ],
   "source": [
    "# Convet map object to list\n",
    "\n",
    "print(list(doubles))"
   ]
  },
  {
   "cell_type": "code",
   "execution_count": 12,
   "metadata": {},
   "outputs": [
    {
     "name": "stdout",
     "output_type": "stream",
     "text": [
      "2\n",
      "4\n",
      "6\n",
      "8\n",
      "10\n",
      "12\n",
      "14\n",
      "16\n",
      "18\n"
     ]
    }
   ],
   "source": [
    "# Note: These map are iterable without conversion\n",
    "# But its iterable only once\n",
    "\n",
    "for n in doubles:\n",
    "    print(n)\n",
    "    \n",
    "# Here it runs fine"
   ]
  },
  {
   "cell_type": "code",
   "execution_count": 13,
   "metadata": {},
   "outputs": [],
   "source": [
    "for n in doubles:\n",
    "    print(n)\n",
    "    \n",
    "# Here its not doing anything\n",
    "# The output of map() can be used only once\n",
    "# After the usage it will be garbage collected"
   ]
  },
  {
   "cell_type": "code",
   "execution_count": 16,
   "metadata": {},
   "outputs": [
    {
     "data": {
      "text/plain": [
       "[2, 4, 6, 8, 10, 12, 14, 16, 18]"
      ]
     },
     "execution_count": 16,
     "metadata": {},
     "output_type": "execute_result"
    }
   ],
   "source": [
    "# Note: Usually map function is always type casted to list\n",
    "\n",
    "doubles = list(map(lambda x: x+x, nums))\n",
    "doubles"
   ]
  },
  {
   "cell_type": "code",
   "execution_count": 22,
   "metadata": {},
   "outputs": [
    {
     "data": {
      "text/plain": [
       "['TOM', 'HARRY', 'DICK']"
      ]
     },
     "execution_count": 22,
     "metadata": {},
     "output_type": "execute_result"
    }
   ],
   "source": [
    "# Upper case using lambda\n",
    "\n",
    "people = ['tom','harry','dick']\n",
    "people = list(map(lambda x: x.upper(), people))\n",
    "people"
   ]
  },
  {
   "cell_type": "code",
   "execution_count": 23,
   "metadata": {},
   "outputs": [
    {
     "data": {
      "text/plain": [
       "['Manoj', 'Neeraj', 'Kushaal']"
      ]
     },
     "execution_count": 23,
     "metadata": {},
     "output_type": "execute_result"
    }
   ],
   "source": [
    "# Get First names\n",
    "\n",
    "names = [\n",
    "    {'first': 'Manoj', 'last': 'Lingaiah'},\n",
    "    {'first': 'Neeraj', 'last': 'Lingaiah'},\n",
    "    {'first': 'Kushaal', 'last': 'Manoj'},\n",
    "]\n",
    "\n",
    "fn = list(map(lambda x:x['first'], names))\n",
    "fn"
   ]
  },
  {
   "cell_type": "code",
   "execution_count": 33,
   "metadata": {},
   "outputs": [
    {
     "data": {
      "text/plain": [
       "[0, 1, 2, 3, 4]"
      ]
     },
     "execution_count": 33,
     "metadata": {},
     "output_type": "execute_result"
    }
   ],
   "source": [
    "# Decrement every item in a list\n",
    "\n",
    "decrement_list = list(map(lambda x: x-1, [1,2,3,4,5]))\n",
    "decrement_list"
   ]
  },
  {
   "cell_type": "code",
   "execution_count": 34,
   "metadata": {},
   "outputs": [
    {
     "ename": "TypeError",
     "evalue": "'list' object is not callable",
     "output_type": "error",
     "traceback": [
      "\u001b[1;31m---------------------------------------------------------------------------\u001b[0m",
      "\u001b[1;31mTypeError\u001b[0m                                 Traceback (most recent call last)",
      "\u001b[1;32m<ipython-input-34-fd05f9e42a63>\u001b[0m in \u001b[0;36m<module>\u001b[1;34m\u001b[0m\n\u001b[0;32m      1\u001b[0m \u001b[1;31m# The above function is working but we cannot call decrement_list([0, 1, 2, 3, 4])\u001b[0m\u001b[1;33m\u001b[0m\u001b[1;33m\u001b[0m\u001b[1;33m\u001b[0m\u001b[0m\n\u001b[1;32m----> 2\u001b[1;33m \u001b[0mdecrement_list\u001b[0m\u001b[1;33m(\u001b[0m\u001b[1;33m[\u001b[0m\u001b[1;36m0\u001b[0m\u001b[1;33m,\u001b[0m \u001b[1;36m1\u001b[0m\u001b[1;33m,\u001b[0m \u001b[1;36m2\u001b[0m\u001b[1;33m,\u001b[0m \u001b[1;36m3\u001b[0m\u001b[1;33m,\u001b[0m \u001b[1;36m4\u001b[0m\u001b[1;33m]\u001b[0m\u001b[1;33m)\u001b[0m\u001b[1;33m\u001b[0m\u001b[1;33m\u001b[0m\u001b[0m\n\u001b[0m",
      "\u001b[1;31mTypeError\u001b[0m: 'list' object is not callable"
     ]
    }
   ],
   "source": [
    "# The above function is working but we cannot call decrement_list([0, 1, 2, 3, 4])\n",
    "\n",
    "decrement_list([0, 1, 2, 3, 4])"
   ]
  },
  {
   "cell_type": "code",
   "execution_count": 35,
   "metadata": {},
   "outputs": [
    {
     "data": {
      "text/plain": [
       "[-1, 0, 1, 2, 3]"
      ]
     },
     "execution_count": 35,
     "metadata": {},
     "output_type": "execute_result"
    }
   ],
   "source": [
    "# To achieve the above fucntionality\n",
    "\n",
    "def decrement_list(l):\n",
    "    return list(map(lambda x: x-1, l))\n",
    "\n",
    "decrement_list([0, 1, 2, 3, 4])"
   ]
  },
  {
   "cell_type": "code",
   "execution_count": 36,
   "metadata": {},
   "outputs": [
    {
     "data": {
      "text/plain": [
       "<filter at 0x26c8d6c3c18>"
      ]
     },
     "execution_count": 36,
     "metadata": {},
     "output_type": "execute_result"
    }
   ],
   "source": [
    "# Note: filter\n",
    "# Its similar to map, but it returns a filter object\n",
    "# It contains only the values that return true to lambda\n",
    "\n",
    "l = [1,2,3,4,5,6,7,8]\n",
    "\n",
    "evens = filter(lambda x: x%2 == 0, l)\n",
    "evens"
   ]
  },
  {
   "cell_type": "code",
   "execution_count": 37,
   "metadata": {},
   "outputs": [
    {
     "data": {
      "text/plain": [
       "[2, 4, 6, 8]"
      ]
     },
     "execution_count": 37,
     "metadata": {},
     "output_type": "execute_result"
    }
   ],
   "source": [
    "evens = list(filter(lambda x: x%2 ==0, l))\n",
    "evens"
   ]
  },
  {
   "cell_type": "code",
   "execution_count": 47,
   "metadata": {},
   "outputs": [
    {
     "data": {
      "text/plain": [
       "['Your instructor is Colt', 'Your instructor is Bolt']"
      ]
     },
     "execution_count": 47,
     "metadata": {},
     "output_type": "execute_result"
    }
   ],
   "source": [
    "# Note: Combining map and filter\n",
    "# return a list where each value of the instructor is < 5 chars\n",
    "# and print 'Your Instructor is ____'\n",
    "\n",
    "names = ['Lassie','Colt','Rusty','Bolt']\n",
    "list(map(lambda x: f'Your instructor is {x}',filter(lambda n: len(n) < 5,names) ))\n"
   ]
  },
  {
   "cell_type": "code",
   "execution_count": 49,
   "metadata": {},
   "outputs": [
    {
     "data": {
      "text/plain": [
       "['Your instructor is Colt', 'Your instructor is Bolt']"
      ]
     },
     "execution_count": 49,
     "metadata": {},
     "output_type": "execute_result"
    }
   ],
   "source": [
    "# The above eg. can be easily converted to list comprehension\n",
    "\n",
    "[f'Your instructor is {n}' for n in names if  len(n) < 5]\n",
    "\n",
    "# But its better to remember, that in many cases map and filters are combined"
   ]
  },
  {
   "cell_type": "code",
   "execution_count": 52,
   "metadata": {},
   "outputs": [
    {
     "name": "stdout",
     "output_type": "stream",
     "text": [
      "True\n",
      "False\n",
      "False\n",
      "True\n",
      "False\n",
      "False\n"
     ]
    }
   ],
   "source": [
    "# Note: Built-in Functions\n",
    "# all - this returns True when all elements of the iterable are truthy\n",
    "# if the iterable is empty it returns True\n",
    "\n",
    "a = [1,2,3,4,5,6]\n",
    "b = [1,2,[],4,5,6]\n",
    "c = [0,0,0]  # This returns False\n",
    "d = []   # This returns True\n",
    "e = [1,2,'',4,5,6]\n",
    "f = [1,2,None,4,5,6]\n",
    "\n",
    "print(all(a))\n",
    "print(all(b))\n",
    "print(all(c))\n",
    "print(all(d))\n",
    "print(all(e))\n",
    "print(all(f))"
   ]
  },
  {
   "cell_type": "code",
   "execution_count": 54,
   "metadata": {},
   "outputs": [
    {
     "name": "stdout",
     "output_type": "stream",
     "text": [
      "True\n",
      "True\n",
      "False\n",
      "False\n",
      "True\n",
      "True\n"
     ]
    }
   ],
   "source": [
    "# any - its similar to all\n",
    "# returns True if any element  of the iterable is truthy\n",
    "# if the iterable is empty it returns False\n",
    "\n",
    "a = [1,2,3,4,5,6]\n",
    "b = [1,2,[],4,5,6]\n",
    "c = [0,0,0]  # This returns False\n",
    "d = []   # This returns True\n",
    "e = [1,2,'',4,5,6]\n",
    "f = [1,2,None,4,5,6]\n",
    "\n",
    "print(any(a))\n",
    "print(any(b))\n",
    "print(any(c))\n",
    "print(any(d))\n",
    "print(any(e))\n",
    "print(any(f))"
   ]
  },
  {
   "cell_type": "code",
   "execution_count": 55,
   "metadata": {},
   "outputs": [
    {
     "data": {
      "text/plain": [
       "<generator object <genexpr> at 0x0000026C8D6DD1B0>"
      ]
     },
     "execution_count": 55,
     "metadata": {},
     "output_type": "execute_result"
    }
   ],
   "source": [
    "# Note: Generator expressions - Lighter weight version of lists\n",
    "# Its like a lighter version of list\n",
    "# we cannot to .append, .insert etc\n",
    "\n",
    "(i for i in [1,2,3,4,5])"
   ]
  },
  {
   "cell_type": "code",
   "execution_count": 58,
   "metadata": {},
   "outputs": [
    {
     "data": {
      "text/plain": [
       "[False, False, False, False, False, True]"
      ]
     },
     "execution_count": 58,
     "metadata": {},
     "output_type": "execute_result"
    }
   ],
   "source": [
    "# Usually its used a intermediate step\n",
    "# In the below example, we just need to whether there is odd number or not\n",
    "# We dont need a list, we just need to know True or False\n",
    "# So we can use generator ()\n",
    "\n",
    "[n%2 != 0 for n in [2,4,6,8,10,11]]\n",
    "\n",
    "# We dont need the below list"
   ]
  },
  {
   "cell_type": "code",
   "execution_count": 60,
   "metadata": {},
   "outputs": [
    {
     "data": {
      "text/plain": [
       "<generator object <genexpr> at 0x0000026C8D6DD390>"
      ]
     },
     "execution_count": 60,
     "metadata": {},
     "output_type": "execute_result"
    }
   ],
   "source": [
    "# so we can use generator and any method\n",
    "\n",
    "(n%2 != 0 for n in [2,4,6,8,10,11])"
   ]
  },
  {
   "cell_type": "code",
   "execution_count": 61,
   "metadata": {},
   "outputs": [
    {
     "data": {
      "text/plain": [
       "True"
      ]
     },
     "execution_count": 61,
     "metadata": {},
     "output_type": "execute_result"
    }
   ],
   "source": [
    "any(n%2 != 0 for n in [2,4,6,8,10,11])"
   ]
  },
  {
   "cell_type": "code",
   "execution_count": 62,
   "metadata": {},
   "outputs": [
    {
     "name": "stdout",
     "output_type": "stream",
     "text": [
      "List Comprehension = 824464 bytes\n",
      "Generator Expression = 120 bytes\n"
     ]
    }
   ],
   "source": [
    "# Note: Lets use getsizeof() to see the difference b/w List and Generators\n",
    "\n",
    "import sys\n",
    "\n",
    "list_comp = sys.getsizeof([n*10 for n in range(1,100000)])\n",
    "gen_comp = sys.getsizeof(n*10 for n in range(1,100000))\n",
    "\n",
    "print(f'List Comprehension = {list_comp} bytes')\n",
    "print(f'Generator Expression = {gen_comp} bytes')\n",
    "\n",
    "# Now we can see the order of magnitude size difference b/w them"
   ]
  },
  {
   "cell_type": "code",
   "execution_count": 73,
   "metadata": {},
   "outputs": [
    {
     "name": "stdout",
     "output_type": "stream",
     "text": [
      "[0, 1, 2, 3, 4, 6, 7, 8]\n"
     ]
    },
    {
     "ename": "AttributeError",
     "evalue": "'tuple' object has no attribute 'sort'",
     "output_type": "error",
     "traceback": [
      "\u001b[1;31m---------------------------------------------------------------------------\u001b[0m",
      "\u001b[1;31mAttributeError\u001b[0m                            Traceback (most recent call last)",
      "\u001b[1;32m<ipython-input-73-c9823bbc0b95>\u001b[0m in \u001b[0;36m<module>\u001b[1;34m\u001b[0m\n\u001b[0;32m     12\u001b[0m \u001b[0mprint\u001b[0m\u001b[1;33m(\u001b[0m\u001b[0ma\u001b[0m\u001b[1;33m)\u001b[0m\u001b[1;33m\u001b[0m\u001b[1;33m\u001b[0m\u001b[0m\n\u001b[0;32m     13\u001b[0m \u001b[1;33m\u001b[0m\u001b[0m\n\u001b[1;32m---> 14\u001b[1;33m \u001b[0mb\u001b[0m\u001b[1;33m.\u001b[0m\u001b[0msort\u001b[0m\u001b[1;33m(\u001b[0m\u001b[1;33m)\u001b[0m\u001b[1;33m\u001b[0m\u001b[1;33m\u001b[0m\u001b[0m\n\u001b[0m\u001b[0;32m     15\u001b[0m \u001b[0mprint\u001b[0m\u001b[1;33m(\u001b[0m\u001b[0mb\u001b[0m\u001b[1;33m)\u001b[0m\u001b[1;33m\u001b[0m\u001b[1;33m\u001b[0m\u001b[0m\n",
      "\u001b[1;31mAttributeError\u001b[0m: 'tuple' object has no attribute 'sort'"
     ]
    }
   ],
   "source": [
    "# Note: Sort and Sorted\n",
    "# sort is exclusive to lists\n",
    "# sorted can work on any iterable\n",
    "\n",
    "# sort is inplace\n",
    "# sorted will not affect the original iterable\n",
    "\n",
    "a = [3,2,4,6,1,8,7,0]\n",
    "b = (3,2,4,6,1,8,7,0)\n",
    "\n",
    "a.sort()   # using List method\n",
    "print(a)\n",
    "\n",
    "b.sort()\n",
    "print(b)"
   ]
  },
  {
   "cell_type": "code",
   "execution_count": 74,
   "metadata": {},
   "outputs": [
    {
     "name": "stdout",
     "output_type": "stream",
     "text": [
      "[0, 1, 2, 3, 4, 6, 7, 8]\n",
      "[3, 2, 4, 6, 1, 8, 7, 0]\n",
      "[0, 1, 2, 3, 4, 6, 7, 8]\n",
      "(3, 2, 4, 6, 1, 8, 7, 0)\n"
     ]
    }
   ],
   "source": [
    "# Using sorted\n",
    "\n",
    "a = [3,2,4,6,1,8,7,0]\n",
    "b = (3,2,4,6,1,8,7,0)\n",
    "\n",
    "print(sorted(a))  \n",
    "print(a)    # original is not affected\n",
    "\n",
    "print(sorted(b))  # can be applied on other iterables\n",
    "print(b)\n",
    "\n"
   ]
  },
  {
   "cell_type": "code",
   "execution_count": 79,
   "metadata": {},
   "outputs": [
    {
     "name": "stdout",
     "output_type": "stream",
     "text": [
      "[8, 7, 6, 4, 3, 2, 1, 0]\n",
      "[0, 1, 2, 3, 4, 6, 7, 8]\n"
     ]
    }
   ],
   "source": [
    "print(sorted(a, reverse=True))  # Descending order\n",
    "print(sorted(a, reverse=False)) # Default Ascending order"
   ]
  },
  {
   "cell_type": "code",
   "execution_count": 85,
   "metadata": {},
   "outputs": [
    {
     "name": "stdout",
     "output_type": "stream",
     "text": [
      "[{'title': 'happy birthday', 'playcount': 1, 'artist': ['tom', 'dick', 'harry']}, {'title': 'toxic', 'playcount': 31, 'artist': ['britney', 'masha']}, {'title': 'survive', 'playcount': 6, 'artist': ['MJ']}, {'title': 'yMCA', 'playcount': 99, 'artist': []}]\n",
      "[{'title': 'happy birthday', 'playcount': 1, 'artist': ['tom', 'dick', 'harry']}, {'title': 'survive', 'playcount': 6, 'artist': ['MJ']}, {'title': 'toxic', 'playcount': 31, 'artist': ['britney', 'masha']}, {'title': 'yMCA', 'playcount': 99, 'artist': []}]\n",
      "[{'title': 'happy birthday', 'playcount': 1, 'artist': ['tom', 'dick', 'harry']}, {'title': 'survive', 'playcount': 6, 'artist': ['MJ']}, {'title': 'toxic', 'playcount': 31, 'artist': ['britney', 'masha']}, {'title': 'yMCA', 'playcount': 99, 'artist': []}]\n"
     ]
    }
   ],
   "source": [
    "# Note: Sort a dictionary\n",
    "# For this we need specify keys\n",
    "\n",
    "songs = [\n",
    "    {'title': 'happy birthday', 'playcount': 1, 'artist': ['tom','dick','harry']},\n",
    "    {'title': 'survive', 'playcount': 6, 'artist': ['MJ']},\n",
    "    {'title': 'yMCA', 'playcount': 99, 'artist': []},\n",
    "    {'title': 'toxic', 'playcount': 31, 'artist': ['britney','masha']},\n",
    "]\n",
    "\n",
    "# sort by number of artists\n",
    "print(sorted(songs, key = lambda x: len(x['artist']), reverse=True))\n",
    "\n",
    "# sort by title\n",
    "print(sorted(songs, key = lambda x: x['title']))\n",
    "\n",
    "# sort by playcount\n",
    "print(sorted(songs, key = lambda x: x['playcount']))\n",
    "\n",
    "\n",
    "# Note: using lambda to sort a dictonary is really helpful"
   ]
  },
  {
   "cell_type": "code",
   "execution_count": 87,
   "metadata": {},
   "outputs": [
    {
     "name": "stdout",
     "output_type": "stream",
     "text": [
      "0\n",
      "5\n"
     ]
    }
   ],
   "source": [
    "# Min and Max\n",
    "# Note: even we can use 'key' and use lambda to do cool tricks\n",
    "\n",
    "print(min(1,3,4,5,0))\n",
    "print(max(1,3,4,5,0))"
   ]
  },
  {
   "cell_type": "code",
   "execution_count": 88,
   "metadata": {},
   "outputs": [
    {
     "data": {
      "text/plain": [
       "'Arya'"
      ]
     },
     "execution_count": 88,
     "metadata": {},
     "output_type": "execute_result"
    }
   ],
   "source": [
    "names = ['Arya', 'Samson', 'Dora', 'Tim', 'Ollivander']\n",
    "\n",
    "# find name with shortest length\n",
    "\n",
    "min(names)  # this returns 'Arya' instead of 'Tim'"
   ]
  },
  {
   "cell_type": "code",
   "execution_count": 89,
   "metadata": {},
   "outputs": [
    {
     "data": {
      "text/plain": [
       "'Tim'"
      ]
     },
     "execution_count": 89,
     "metadata": {},
     "output_type": "execute_result"
    }
   ],
   "source": [
    "# Lets use lambda\n",
    "\n",
    "names = ['Arya', 'Samson', 'Dora', 'Tim', 'Ollivander']\n",
    "\n",
    "min(names, key=lambda x: len(x))  # bingo"
   ]
  },
  {
   "cell_type": "code",
   "execution_count": 90,
   "metadata": {},
   "outputs": [
    {
     "name": "stdout",
     "output_type": "stream",
     "text": [
      "{'title': 'happy birthday', 'playcount': 1, 'artist': ['tom', 'dick', 'harry']}\n"
     ]
    }
   ],
   "source": [
    "print(min(songs, key = lambda x: x['playcount']))"
   ]
  },
  {
   "cell_type": "code",
   "execution_count": 92,
   "metadata": {},
   "outputs": [
    {
     "data": {
      "text/plain": [
       "'happy birthday'"
      ]
     },
     "execution_count": 92,
     "metadata": {},
     "output_type": "execute_result"
    }
   ],
   "source": [
    "# Note: Now I only want Title of the min playcount\n",
    "\n",
    "min(songs, key = lambda x: x['playcount'])['title']   # just like pandas"
   ]
  },
  {
   "cell_type": "code",
   "execution_count": 93,
   "metadata": {},
   "outputs": [
    {
     "data": {
      "text/plain": [
       "'yMCA'"
      ]
     },
     "execution_count": 93,
     "metadata": {},
     "output_type": "execute_result"
    }
   ],
   "source": [
    "max(songs, key = lambda x: x['playcount'])['title']   # just like pandas"
   ]
  },
  {
   "cell_type": "code",
   "execution_count": null,
   "metadata": {},
   "outputs": [],
   "source": [
    "# Note: revese and reversed() is similar to sort and sorted"
   ]
  },
  {
   "cell_type": "code",
   "execution_count": 94,
   "metadata": {},
   "outputs": [
    {
     "data": {
      "text/plain": [
       "10"
      ]
     },
     "execution_count": 94,
     "metadata": {},
     "output_type": "execute_result"
    }
   ],
   "source": [
    "# Note: Preview of OOP\n",
    "# This shows to custom create our own len function\n",
    "\n",
    "a = [1,2,3,4,5,6,7,8,9,0]\n",
    "len(a)   # This gives length of object\n"
   ]
  },
  {
   "cell_type": "code",
   "execution_count": 97,
   "metadata": {},
   "outputs": [
    {
     "data": {
      "text/plain": [
       "<method-wrapper '__len__' of list object at 0x0000026C8D62ED88>"
      ]
     },
     "execution_count": 97,
     "metadata": {},
     "output_type": "execute_result"
    }
   ],
   "source": [
    "# What if I want len fucntion to give always half of the original length\n",
    "# To understand this, we need to know how python converts len(a) to dunder statement\n",
    "\n",
    "# len(a) --> a.__len__\n",
    "\n",
    "a = [1,2,3,4,5,6,7,8,9,0]\n",
    "a.__len__"
   ]
  },
  {
   "cell_type": "code",
   "execution_count": 96,
   "metadata": {},
   "outputs": [
    {
     "name": "stdout",
     "output_type": "stream",
     "text": [
      "<method-wrapper '__len__' of list object at 0x0000026C8D6BF508>\n"
     ]
    }
   ],
   "source": [
    "print(a.__len__)   # This is giving some wrapper, its new I dont know anything about it"
   ]
  },
  {
   "cell_type": "code",
   "execution_count": 98,
   "metadata": {},
   "outputs": [
    {
     "data": {
      "text/plain": [
       "10"
      ]
     },
     "execution_count": 98,
     "metadata": {},
     "output_type": "execute_result"
    }
   ],
   "source": [
    "a.__len__()   # This is what I wanted to show, so we need to give ()"
   ]
  },
  {
   "cell_type": "code",
   "execution_count": 101,
   "metadata": {},
   "outputs": [
    {
     "name": "stdout",
     "output_type": "stream",
     "text": [
      "2\n",
      "2\n"
     ]
    }
   ],
   "source": [
    "b = {'a':1, 'c':2}\n",
    "\n",
    "print(len(b))\n",
    "print(b.__len__())"
   ]
  },
  {
   "cell_type": "code",
   "execution_count": 106,
   "metadata": {},
   "outputs": [
    {
     "name": "stdout",
     "output_type": "stream",
     "text": [
      "[1, 2, 3, 4, 5, 6, 7, 8]\n",
      "[1, 5, 6, 7, 8]\n",
      "4\n",
      "2\n"
     ]
    }
   ],
   "source": [
    "# Lets create a class and custom build len function\n",
    "\n",
    "class SpecialList:\n",
    "    \n",
    "    def __init__(self, data):\n",
    "        self.__data = data\n",
    "        print(data)\n",
    "        \n",
    "    def __len__(self):\n",
    "        return self.__data.__len__() // 2   # integer division\n",
    "    \n",
    "obj1 = SpecialList([1,2,3,4,5,6,7,8])\n",
    "obj2 = SpecialList([1,5,6,7,8])\n",
    "\n",
    "print(len(obj1))\n",
    "print(len(obj2))"
   ]
  },
  {
   "cell_type": "code",
   "execution_count": 107,
   "metadata": {},
   "outputs": [
    {
     "data": {
      "text/plain": [
       "5"
      ]
     },
     "execution_count": 107,
     "metadata": {},
     "output_type": "execute_result"
    }
   ],
   "source": [
    "# abs - gives absolute value of a number\n",
    "\n",
    "abs(5)"
   ]
  },
  {
   "cell_type": "code",
   "execution_count": 108,
   "metadata": {},
   "outputs": [
    {
     "data": {
      "text/plain": [
       "10"
      ]
     },
     "execution_count": 108,
     "metadata": {},
     "output_type": "execute_result"
    }
   ],
   "source": [
    "abs(-10)   # always return +positive"
   ]
  },
  {
   "cell_type": "code",
   "execution_count": 109,
   "metadata": {},
   "outputs": [
    {
     "data": {
      "text/plain": [
       "15"
      ]
     },
     "execution_count": 109,
     "metadata": {},
     "output_type": "execute_result"
    }
   ],
   "source": [
    "# Note: sum() has a start parameter\n",
    "\n",
    "sum([1,2,3,4,5])"
   ]
  },
  {
   "cell_type": "code",
   "execution_count": 113,
   "metadata": {},
   "outputs": [
    {
     "data": {
      "text/plain": [
       "25"
      ]
     },
     "execution_count": 113,
     "metadata": {},
     "output_type": "execute_result"
    }
   ],
   "source": [
    "sum([1,2,3,4,5], 10)   # This additional parameter start, tells to start additon using 10"
   ]
  },
  {
   "cell_type": "code",
   "execution_count": 114,
   "metadata": {},
   "outputs": [
    {
     "data": {
      "text/plain": [
       "12"
      ]
     },
     "execution_count": 114,
     "metadata": {},
     "output_type": "execute_result"
    }
   ],
   "source": [
    "sum([1,2,3,4,5], -3)  # -3+1+2+3+4+5\n",
    "\n",
    "# default is 0"
   ]
  },
  {
   "cell_type": "code",
   "execution_count": 119,
   "metadata": {},
   "outputs": [
    {
     "data": {
      "text/plain": [
       "3"
      ]
     },
     "execution_count": 119,
     "metadata": {},
     "output_type": "execute_result"
    }
   ],
   "source": [
    "# Note: round()  - We can specify precision after decimal point\n",
    "\n",
    "round(3.141414)"
   ]
  },
  {
   "cell_type": "code",
   "execution_count": 121,
   "metadata": {},
   "outputs": [
    {
     "data": {
      "text/plain": [
       "4"
      ]
     },
     "execution_count": 121,
     "metadata": {},
     "output_type": "execute_result"
    }
   ],
   "source": [
    "round(3.541414)  # >= .5 rounds to next number"
   ]
  },
  {
   "cell_type": "code",
   "execution_count": 120,
   "metadata": {},
   "outputs": [
    {
     "data": {
      "text/plain": [
       "4"
      ]
     },
     "execution_count": 120,
     "metadata": {},
     "output_type": "execute_result"
    }
   ],
   "source": [
    "round(3.641414)"
   ]
  },
  {
   "cell_type": "code",
   "execution_count": 122,
   "metadata": {},
   "outputs": [
    {
     "data": {
      "text/plain": [
       "3.641"
      ]
     },
     "execution_count": 122,
     "metadata": {},
     "output_type": "execute_result"
    }
   ],
   "source": [
    "round(3.641414,3)   # Note: If the precision is less then it doesnt round it to next number"
   ]
  },
  {
   "cell_type": "code",
   "execution_count": 123,
   "metadata": {},
   "outputs": [
    {
     "data": {
      "text/plain": [
       "3.141"
      ]
     },
     "execution_count": 123,
     "metadata": {},
     "output_type": "execute_result"
    }
   ],
   "source": [
    "round(3.141414,3)  "
   ]
  },
  {
   "cell_type": "code",
   "execution_count": 125,
   "metadata": {},
   "outputs": [
    {
     "data": {
      "text/plain": [
       "3.641414444444445"
      ]
     },
     "execution_count": 125,
     "metadata": {},
     "output_type": "execute_result"
    }
   ],
   "source": [
    "round(3.64141444444444444444444444444444444444444,15)   \n",
    "\n",
    "# If precision is more, then at some point it slips to next number"
   ]
  },
  {
   "cell_type": "code",
   "execution_count": 126,
   "metadata": {},
   "outputs": [
    {
     "data": {
      "text/plain": [
       "<zip at 0x26c8d6c7b48>"
      ]
     },
     "execution_count": 126,
     "metadata": {},
     "output_type": "execute_result"
    }
   ],
   "source": [
    "# Note: zip\n",
    "# It can combine 2 or more lists by comibing the pairs of items in that list\n",
    "# The iterator stops when the shortest input iterable is exhausted\n",
    "# zip returns tuples, which can be converted to list or dict later\n",
    "\n",
    "# Note: we can combine into a list\n",
    "# Or we can combine into a dict\n",
    "\n",
    "zip([1,2,3,4,5,6], ['a','b','c','d'])\n",
    "\n",
    "# This returns a zip object"
   ]
  },
  {
   "cell_type": "code",
   "execution_count": 127,
   "metadata": {},
   "outputs": [
    {
     "data": {
      "text/plain": [
       "[(1, 'a'), (2, 'b'), (3, 'c'), (4, 'd')]"
      ]
     },
     "execution_count": 127,
     "metadata": {},
     "output_type": "execute_result"
    }
   ],
   "source": [
    "list(zip([1,2,3,4,5,6], ['a','b','c','d']))  # Converts to list"
   ]
  },
  {
   "cell_type": "code",
   "execution_count": 128,
   "metadata": {},
   "outputs": [
    {
     "data": {
      "text/plain": [
       "{1: 'a', 2: 'b', 3: 'c', 4: 'd'}"
      ]
     },
     "execution_count": 128,
     "metadata": {},
     "output_type": "execute_result"
    }
   ],
   "source": [
    "dict(zip([1,2,3,4,5,6], ['a','b','c','d']))  # Converts to dict\n",
    "\n",
    "# Notice how in both cases it stopped at 'd' the shortest input\n",
    "# so if we have uneven length, iterator stops as soon as the shortest iterable is exhuasted"
   ]
  },
  {
   "cell_type": "code",
   "execution_count": 129,
   "metadata": {},
   "outputs": [
    {
     "data": {
      "text/plain": [
       "[('a', 1), ('b', 2), ('c', 3), ('d', 4)]"
      ]
     },
     "execution_count": 129,
     "metadata": {},
     "output_type": "execute_result"
    }
   ],
   "source": [
    "# In zip the order matters\n",
    "\n",
    "list(zip(['a','b','c','d'], [1,2,3,4,5,6]))"
   ]
  },
  {
   "cell_type": "code",
   "execution_count": 130,
   "metadata": {},
   "outputs": [
    {
     "data": {
      "text/plain": [
       "[(1, 'Hi', 'a'),\n",
       " (2, 'hello', 'b'),\n",
       " (3, 'bye', 'c'),\n",
       " (4, ':)', 'd'),\n",
       " (5, 'lol', 'e')]"
      ]
     },
     "execution_count": 130,
     "metadata": {},
     "output_type": "execute_result"
    }
   ],
   "source": [
    "nums = [1,2,3,4,5,6,7]\n",
    "letters = ['a','b','c','d','e']\n",
    "words = ['Hi', 'hello', 'bye', ':)', 'lol']\n",
    "\n",
    "list(zip(nums, words, letters))"
   ]
  },
  {
   "cell_type": "code",
   "execution_count": 131,
   "metadata": {},
   "outputs": [
    {
     "data": {
      "text/plain": [
       "[('Hi', 'a', 1),\n",
       " ('hello', 'b', 2),\n",
       " ('bye', 'c', 3),\n",
       " (':)', 'd', 4),\n",
       " ('lol', 'e', 5)]"
      ]
     },
     "execution_count": 131,
     "metadata": {},
     "output_type": "execute_result"
    }
   ],
   "source": [
    "list(zip(words, letters, nums))  # Now the order is changed"
   ]
  },
  {
   "cell_type": "code",
   "execution_count": 132,
   "metadata": {},
   "outputs": [
    {
     "data": {
      "text/plain": [
       "[(1, 'Hi', 'a'),\n",
       " (2, 'hello', 'b'),\n",
       " (3, 'bye', 'c'),\n",
       " (4, ':)', 'd'),\n",
       " (5, 'lol', 'e')]"
      ]
     },
     "execution_count": 132,
     "metadata": {},
     "output_type": "execute_result"
    }
   ],
   "source": [
    "# Note: We can use * operator to unpack into seperate lists\n",
    "\n",
    "result = list(zip(nums, words, letters))\n",
    "result"
   ]
  },
  {
   "cell_type": "code",
   "execution_count": 134,
   "metadata": {},
   "outputs": [
    {
     "data": {
      "text/plain": [
       "<zip at 0x26c8da34f88>"
      ]
     },
     "execution_count": 134,
     "metadata": {},
     "output_type": "execute_result"
    }
   ],
   "source": [
    "# Lets unpack result into 3 lists\n",
    "\n",
    "unpacked = zip(*result)\n",
    "unpacked"
   ]
  },
  {
   "cell_type": "code",
   "execution_count": 135,
   "metadata": {},
   "outputs": [
    {
     "data": {
      "text/plain": [
       "[(1, 2, 3, 4, 5),\n",
       " ('Hi', 'hello', 'bye', ':)', 'lol'),\n",
       " ('a', 'b', 'c', 'd', 'e')]"
      ]
     },
     "execution_count": 135,
     "metadata": {},
     "output_type": "execute_result"
    }
   ],
   "source": [
    "list(unpacked)"
   ]
  },
  {
   "cell_type": "code",
   "execution_count": 142,
   "metadata": {},
   "outputs": [
    {
     "data": {
      "text/plain": [
       "[(80, 98), (91, 89), (78, 53)]"
      ]
     },
     "execution_count": 142,
     "metadata": {},
     "output_type": "execute_result"
    }
   ],
   "source": [
    "# Note: Note: Find item wise max/min from 2 lists\n",
    "\n",
    "midterms = [80,91,78]\n",
    "finals = [98,89,53]\n",
    "students = ['dan','ang','lis']\n",
    "\n",
    "list(zip(midterms, finals))"
   ]
  },
  {
   "cell_type": "code",
   "execution_count": 146,
   "metadata": {},
   "outputs": [
    {
     "data": {
      "text/plain": [
       "[98, 91, 78]"
      ]
     },
     "execution_count": 146,
     "metadata": {},
     "output_type": "execute_result"
    }
   ],
   "source": [
    "list(map(lambda x: max(x), list(zip(midterms, finals))))"
   ]
  },
  {
   "cell_type": "code",
   "execution_count": 147,
   "metadata": {},
   "outputs": [
    {
     "data": {
      "text/plain": [
       "{'dan': 98, 'ang': 91, 'lis': 78}"
      ]
     },
     "execution_count": 147,
     "metadata": {},
     "output_type": "execute_result"
    }
   ],
   "source": [
    "# lets zip this to student names and create a dict\n",
    "\n",
    "dict(zip(students, list(map(lambda x: max(x), list(zip(midterms, finals))))))"
   ]
  },
  {
   "cell_type": "code",
   "execution_count": 148,
   "metadata": {},
   "outputs": [
    {
     "data": {
      "text/plain": [
       "{'dan': 98, 'ang': 91, 'lis': 78}"
      ]
     },
     "execution_count": 148,
     "metadata": {},
     "output_type": "execute_result"
    }
   ],
   "source": [
    "# Note: We can clean this by removing unwanted typecast (list)\n",
    "# Also indent into multiple lines\n",
    "\n",
    "dict(zip(students, map(lambda x: max(x), zip(midterms, finals))))  # removed list and unwanted braces"
   ]
  },
  {
   "cell_type": "code",
   "execution_count": 150,
   "metadata": {},
   "outputs": [
    {
     "data": {
      "text/plain": [
       "{'dan': 98, 'ang': 91, 'lis': 78}"
      ]
     },
     "execution_count": 150,
     "metadata": {},
     "output_type": "execute_result"
    }
   ],
   "source": [
    "# Indentation\n",
    "\n",
    "grades = zip(students,\n",
    "             map(lambda x: max(x),\n",
    "                 zip(midterms,finals)\n",
    "                )\n",
    "            )\n",
    "dict(grades)\n",
    "\n",
    "# The above example combines map, lambda, zip, dict, list, meaningful names"
   ]
  },
  {
   "cell_type": "code",
   "execution_count": 155,
   "metadata": {},
   "outputs": [
    {
     "data": {
      "text/plain": [
       "{'dan': 89.0, 'ang': 90.0, 'lis': 65.5}"
      ]
     },
     "execution_count": 155,
     "metadata": {},
     "output_type": "execute_result"
    }
   ],
   "source": [
    "# To get avg grades\n",
    "\n",
    "grades = zip(students,\n",
    "             map(lambda x: (x[0] + x[1]) / 2,\n",
    "                 zip(midterms,finals)\n",
    "                )\n",
    "            )\n",
    "dict(grades)\n",
    "\n",
    "# it works but 'x' in lambda is not meaningful"
   ]
  },
  {
   "cell_type": "code",
   "execution_count": 156,
   "metadata": {},
   "outputs": [
    {
     "data": {
      "text/plain": [
       "{'dan': 89.0, 'ang': 90.0, 'lis': 65.5}"
      ]
     },
     "execution_count": 156,
     "metadata": {},
     "output_type": "execute_result"
    }
   ],
   "source": [
    "# Now after using meaningful names in lambda, code is clean\n",
    "\n",
    "grades = zip(students,\n",
    "             map(lambda pair: (pair[0] + pair[1]) / 2,\n",
    "                 zip(midterms,finals)\n",
    "                )\n",
    "            )\n",
    "dict(grades)"
   ]
  },
  {
   "cell_type": "code",
   "execution_count": 163,
   "metadata": {},
   "outputs": [
    {
     "name": "stdout",
     "output_type": "stream",
     "text": [
      "hhia\n",
      "azazaz\n",
      "lizard\n"
     ]
    }
   ],
   "source": [
    "# Note: Interleave\n",
    "\n",
    "# interleave('hi', 'ha')  -  'hhia'\n",
    "# interleave('aaa', 'zzz')  -  'azazaz'\n",
    "# interleave('lzr', 'iad')  -  'Lizard'\n",
    "\n",
    "def interleave(l1, l2):\n",
    "    return ''.join([''.join(item) for item in list(zip(l1, l2))])\n",
    "    \n",
    "print(interleave('hi', 'ha'))\n",
    "print(interleave('aaa', 'zzz'))\n",
    "print(interleave('lzr', 'iad'))\n",
    "    "
   ]
  },
  {
   "cell_type": "code",
   "execution_count": 158,
   "metadata": {},
   "outputs": [
    {
     "data": {
      "text/plain": [
       "[('a', 'z'), ('a', 'z'), ('a', 'z')]"
      ]
     },
     "execution_count": 158,
     "metadata": {},
     "output_type": "execute_result"
    }
   ],
   "source": [
    "# Breakdown of above steps\n",
    "# Zip takes first char from each list and combines into a tuple\n",
    "\n",
    "list(zip('aaa', 'zzz'))"
   ]
  },
  {
   "cell_type": "code",
   "execution_count": 159,
   "metadata": {},
   "outputs": [
    {
     "data": {
      "text/plain": [
       "['az', 'az', 'az']"
      ]
     },
     "execution_count": 159,
     "metadata": {},
     "output_type": "execute_result"
    }
   ],
   "source": [
    "# this is joined to get desired string in each tuple\n",
    "\n",
    "[''.join(item) for item in list(zip('aaa', 'zzz'))]"
   ]
  },
  {
   "cell_type": "code",
   "execution_count": 160,
   "metadata": {},
   "outputs": [
    {
     "data": {
      "text/plain": [
       "'azazaz'"
      ]
     },
     "execution_count": 160,
     "metadata": {},
     "output_type": "execute_result"
    }
   ],
   "source": [
    "# finally its joined to again to get desired output\n",
    "\n",
    "''.join([''.join(item) for item in list(zip('aaa', 'zzz'))])"
   ]
  },
  {
   "cell_type": "code",
   "execution_count": 164,
   "metadata": {},
   "outputs": [
    {
     "data": {
      "text/plain": [
       "'azazaz'"
      ]
     },
     "execution_count": 164,
     "metadata": {},
     "output_type": "execute_result"
    }
   ],
   "source": [
    "# again here no need to convert to list\n",
    "\n",
    "''.join([''.join(item) for item in zip('aaa', 'zzz')])"
   ]
  },
  {
   "cell_type": "code",
   "execution_count": 167,
   "metadata": {},
   "outputs": [
    {
     "name": "stdout",
     "output_type": "stream",
     "text": [
      "[12]\n",
      "[24, 36]\n"
     ]
    }
   ],
   "source": [
    "# Note: \n",
    "# triple_and_filter([1,2,3,4]) # [12]\n",
    "# triple_and_filter([6,8,10,12]) # [24,36]\n",
    "\n",
    "def triple_and_filter(collection):\n",
    "    return [n*3 for n in collection if n%4 == 0]\n",
    "\n",
    "print(triple_and_filter([1,2,3,4]))\n",
    "print(triple_and_filter([6,8,10,12]))"
   ]
  },
  {
   "cell_type": "code",
   "execution_count": 1,
   "metadata": {},
   "outputs": [
    {
     "name": "stdout",
     "output_type": "stream",
     "text": [
      "[12]\n",
      "[24, 36]\n"
     ]
    }
   ],
   "source": [
    "# Note: Now to code the same using map and filter\n",
    "def triple_and_filter(lst):\n",
    "    return list(filter(lambda x: x % 4 == 0, map(lambda x: x*3, lst)))\n",
    "    \n",
    "print(triple_and_filter([1,2,3,4]))\n",
    "print(triple_and_filter([6,8,10,12]))"
   ]
  },
  {
   "cell_type": "code",
   "execution_count": 3,
   "metadata": {},
   "outputs": [
    {
     "data": {
      "text/plain": [
       "[3, 6, 9, 12]"
      ]
     },
     "execution_count": 3,
     "metadata": {},
     "output_type": "execute_result"
    }
   ],
   "source": [
    "lst = [1,2,3,4]\n",
    "list(map(lambda x: x*3, lst))"
   ]
  },
  {
   "cell_type": "code",
   "execution_count": 7,
   "metadata": {},
   "outputs": [
    {
     "data": {
      "text/plain": [
       "[False, False, False, True]"
      ]
     },
     "execution_count": 7,
     "metadata": {},
     "output_type": "execute_result"
    }
   ],
   "source": [
    "list(map(lambda x: x % 4 == 0, [3, 6, 9, 12]))"
   ]
  },
  {
   "cell_type": "code",
   "execution_count": 8,
   "metadata": {},
   "outputs": [
    {
     "data": {
      "text/plain": [
       "[12]"
      ]
     },
     "execution_count": 8,
     "metadata": {},
     "output_type": "execute_result"
    }
   ],
   "source": [
    "list(filter(lambda x: x % 4 == 0, [3, 6, 9, 12]))"
   ]
  },
  {
   "cell_type": "code",
   "execution_count": null,
   "metadata": {},
   "outputs": [],
   "source": [
    "# Note: Extract Full Name\n",
    "# names = [{'first': 'Elie', 'last': 'Schoppik'}, {'first': 'Colt', 'last': 'Steele'}]\n",
    "# extract_full_name(names) # ['Elie Schoppik', 'Colt Steele']\n",
    "\n",
    "def extract_full_name(names):\n",
    "    return [' '.join(name) for name in [(n['first'],n['last']) for n in names]]   \n",
    "\n",
    "# This is done using list comprehension and join"
   ]
  },
  {
   "cell_type": "code",
   "execution_count": 176,
   "metadata": {},
   "outputs": [
    {
     "data": {
      "text/plain": [
       "[('Elie', 'Schoppik'), ('Colt', 'Steele')]"
      ]
     },
     "execution_count": 176,
     "metadata": {},
     "output_type": "execute_result"
    }
   ],
   "source": [
    "# Breakdown of above comprehension\n",
    "\n",
    "names = [{'first': 'Elie', 'last': 'Schoppik'}, {'first': 'Colt', 'last': 'Steele'}]\n",
    "[(n['first'],n['last']) for n in names]"
   ]
  },
  {
   "cell_type": "code",
   "execution_count": 177,
   "metadata": {},
   "outputs": [
    {
     "data": {
      "text/plain": [
       "['Elie Schoppik', 'Colt Steele']"
      ]
     },
     "execution_count": 177,
     "metadata": {},
     "output_type": "execute_result"
    }
   ],
   "source": [
    "[' '.join(name) for name in [(n['first'],n['last']) for n in names]]"
   ]
  },
  {
   "cell_type": "code",
   "execution_count": 179,
   "metadata": {},
   "outputs": [
    {
     "data": {
      "text/plain": [
       "['Elie Schoppik', 'Colt Steele']"
      ]
     },
     "execution_count": 179,
     "metadata": {},
     "output_type": "execute_result"
    }
   ],
   "source": [
    "# Using map and lambda\n",
    "\n",
    "list(map(lambda x: x['first'] +' '+ x['last'], names))"
   ]
  }
 ],
 "metadata": {
  "kernelspec": {
   "display_name": "Python 3",
   "language": "python",
   "name": "python3"
  },
  "language_info": {
   "codemirror_mode": {
    "name": "ipython",
    "version": 3
   },
   "file_extension": ".py",
   "mimetype": "text/x-python",
   "name": "python",
   "nbconvert_exporter": "python",
   "pygments_lexer": "ipython3",
   "version": "3.7.3"
  }
 },
 "nbformat": 4,
 "nbformat_minor": 2
}
